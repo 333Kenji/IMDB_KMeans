{
 "cells": [
  {
   "cell_type": "code",
   "execution_count": 1,
   "id": "continent-collaboration",
   "metadata": {},
   "outputs": [],
   "source": [
    "import numpy as np\n",
    "import pandas as pd\n",
    "from to_img import to_img\n",
    "\n",
    "from scipy.stats import pearsonr\n",
    "\n",
    "from sklearn.cluster import KMeans\n",
    "from sklearn.preprocessing import OneHotEncoder, OrdinalEncoder, StandardScaler\n",
    "from sklearn.compose import ColumnTransformer\n",
    "from sklearn.decomposition import PCA\n",
    "\n",
    "import matplotlib.pyplot as plt\n",
    "import seaborn as sns\n",
    "\n",
    "%matplotlib inline\n",
    "\n",
    "\n",
    "\n",
    "colors = ['navy', 'turquoise', 'brown', 'red', 'black','green', 'orange', 'pink']"
   ]
  },
  {
   "cell_type": "markdown",
   "id": "86e96b23",
   "metadata": {},
   "source": [
    "## 1. Data\n",
    "The data for this project comes from https://www.imdb.com/interfaces/ as extremely large .tsv (tab-seperated) files, the biggest being over 2GB. In order to conduct train the KMeans++ model I will need to combine all of this data. But first, in order to load it without overloading my system I need to apply some data wranging and engineering. The need for each of these files is briefly explained below.\n",
    "\n",
    "- akas: I need region data so I can narrow the data to 'US' based films.\n",
    "- basics: contains movie specific info\n",
    "- name: contains names of cast and crew along with their reference code (nconst)\n",
    "- principals: contains order of precedence if more than one nconst (person) is referenced to the same role (i.e. lead vs co-directors)\n",
    "- ratings: holds IMDB user rating and vote counts\n",
    "\n",
    "I'm handling this huge memory load by using pandas to read load the data in chunk, and filtering out specific columns and values that are irrelevant to the project. The data is then saved to a .csv file to ensure stability (of my machine) that I load back in.\n",
    "\n",
    "As of right now, there's a bit of SQL at the bottom of this file that I'm tinkering with.\n",
    "Also, the data dictionary on imdb.com is incorrect. I'll provide one once the data has been trimmed down and consolidated.\n",
    "\n",
    "### 1.1 Load .tsv Files\n",
    "'usecols' is a useful parameter for speeding up the reading in of large files because I can specify just the columns I need pandas to parse.\n",
    "\n",
    "In .read_csv iterator and chunksize let me specify how much data from each .tsv file will be preprocessed before being recomiled into a dataframe."
   ]
  },
  {
   "cell_type": "code",
   "execution_count": null,
   "id": "8f027a69",
   "metadata": {},
   "outputs": [],
   "source": [
    "def chunks(path,cols):\n",
    "    \"\"\"\n",
    "    Summary: loads .tsv files in chunks, selecting specific features and filtering unnecessary values.\n",
    "        _\n",
    "    Args:\n",
    "        path (string): local address\n",
    "        cols (list): features to keep\n",
    "    Returns:\n",
    "       df_result (pd.DataFrame): preprocessed dataframe\n",
    "    \"\"\"\n",
    "    PATH = path\n",
    "    my_chunk = 100000\n",
    "    # sets up the size and parameters of the file reader\n",
    "    iter_csv = pd.read_csv(\n",
    "        PATH,\n",
    "        na_values=['\\\\N','nan'],\n",
    "        delimiter='\\t',\n",
    "        iterator=True,\n",
    "        dtype='object',\n",
    "        chunksize=my_chunk,\n",
    "        usecols=cols)\n",
    "    \n",
    "    # the following logic follows that when the function is called, if the string arguement passed through as the path parameter matches the case string, a speciic data engineering process is executed for that specific data.\n",
    "    if 'rating' in PATH:\n",
    "        df_result = pd.concat([chunk for chunk in iter_csv])\n",
    "        #df_result = pd.concat([chunk[chunk.averageRating.astype('float') > 5] for chunk in iter_csv])\n",
    "    elif 'name' in PATH:\n",
    "        df_result = pd.concat([chunk for chunk in iter_csv])\n",
    "    elif 'principals' in PATH:\n",
    "        # there's a number of roles that barely appear in the data.\n",
    "        #TODO roll these into an 'other'\n",
    "        principal_roles = ['actor', 'actress','director','writer','producer','composer']\n",
    "        df_result = pd.concat(\n",
    "            [chunk[(chunk['ordering'].astype('int') <= 3) & (chunk['category'].isin(principal_roles))]\n",
    "            for chunk in iter_csv])\n",
    "        \n",
    "    elif 'akas' in PATH:\n",
    "        df_result = pd.concat([chunk[chunk.region == 'US'] for chunk in iter_csv])\n",
    "        df_result.rename({'titleId': 'tconst'}, axis=1, inplace=True)\n",
    "    elif 'basics' in PATH:\n",
    "        # Many films have a list of genres which explodes in dimensionality when one hot encoding. So instead, I'm sticking with the films that're 'quisessentially' a specific genre.\n",
    "        principle_genres = ['Drama','Comedy','Adventure','Action', 'Horror', 'Thriller', 'Fantasy', 'Crime', 'Family', 'Sci-Fi', 'Mystery',\n",
    "            'Romance']\n",
    "        # I also observed a high skew to startYear values so I'm also limiting the scope of the data to just the past 2+ decades.\n",
    "        df_result = pd.concat([chunk[\n",
    "            (chunk.titleType == 'movie')\n",
    "            & (chunk.startYear.between('2000', '2022'))\n",
    "            & (chunk['genres'].isin(principle_genres))] for chunk in iter_csv])\n",
    "        \n",
    "        df_result.startYear = pd.to_numeric(df_result.startYear)\n",
    "        df_result.runtimeMinutes = pd.to_numeric(df_result.runtimeMinutes)\n",
    "        df_result = df_result[df_result.runtimeMinutes >= 70]\n",
    "        df_result.runtimeMinutes = pd.to_numeric(df_result.runtimeMinutes)\n",
    "        df_result = df_result.drop('titleType', axis=1)\n",
    "        \n",
    "    df_result.columns = map(str.lower, df_result.columns)\n",
    "\n",
    "    return pd.DataFrame(df_result)"
   ]
  },
  {
   "cell_type": "code",
   "execution_count": null,
   "id": "bd4d3c41",
   "metadata": {},
   "outputs": [],
   "source": [
    "\n",
    "# Each .tsv file is loaded by calling the chunks function using a list of its columns and the local directory.\n",
    "\n",
    "col_list = ['tconst','titleType','primaryTitle','startYear','genres','runtimeMinutes']\n",
    "basics_tsv = '../Data/tsv/basics.tsv'\n",
    "basics = pd.DataFrame(chunks(basics_tsv,col_list))\n",
    "\n",
    "\n",
    "col_list = ['titleId','region']\n",
    "akas_tsv = '../Data/tsv/akas.tsv'\n",
    "akas = pd.DataFrame(chunks(akas_tsv,col_list))\n",
    "\n",
    "\n",
    "col_list = ['tconst','ordering','nconst','category'\t]\n",
    "principals_tsv = '../Data/tsv/principals.tsv'\n",
    "principals = pd.DataFrame(chunks(principals_tsv,col_list))\n",
    "\n",
    "\n",
    "col_list = ['nconst', 'primaryName']\n",
    "names_tsv = '../Data/tsv/name.tsv'\n",
    "names = pd.DataFrame(chunks(names_tsv,col_list))\n",
    "\n",
    "\n",
    "col_list = ['tconst','averageRating','numVotes']\n",
    "ratings_tsv = '../Data/tsv/ratings.tsv'\n",
    "ratings = pd.DataFrame(chunks(ratings_tsv,col_list))\n",
    "\n",
    "\n",
    "col_list = ['tconst','averageRating','numVotes']\n",
    "ratings_tsv = '../Data/tsv/ratings.tsv'\n",
    "ratings = pd.DataFrame(chunks(ratings_tsv,col_list))"
   ]
  },
  {
   "cell_type": "code",
   "execution_count": null,
   "id": "9d4950d2",
   "metadata": {},
   "outputs": [],
   "source": [
    "# Taking a quick look at each table.\n",
    "basics.info(memory_usage='deep')\n",
    "basics.head(3)"
   ]
  },
  {
   "cell_type": "code",
   "execution_count": null,
   "id": "846d93c1",
   "metadata": {},
   "outputs": [],
   "source": [
    "akas.info(memory_usage='deep')\n",
    "akas.head(3)"
   ]
  },
  {
   "cell_type": "code",
   "execution_count": null,
   "id": "e29ff91b",
   "metadata": {},
   "outputs": [],
   "source": [
    "#note the foreign key, 'nconst'.\n",
    "principals.info(memory_usage='deep')\n",
    "principals.head(3)"
   ]
  },
  {
   "cell_type": "code",
   "execution_count": null,
   "id": "19c55543",
   "metadata": {},
   "outputs": [],
   "source": [
    "names.info(memory_usage='deep')\n",
    "names.head(3)"
   ]
  },
  {
   "cell_type": "code",
   "execution_count": null,
   "id": "a08a8e99",
   "metadata": {},
   "outputs": [],
   "source": [
    "ratings.info(memory_usage='deep')\n",
    "ratings.head(3)"
   ]
  },
  {
   "cell_type": "markdown",
   "id": "01898a21",
   "metadata": {},
   "source": [
    "### 1.2 Merging Tables\n",
    "First, the basics table is filtered by a list of tconst (film specific) values for films that were identified in the akas table as being from the 'US' region.\n",
    "Then the tconst and nconst (person specific) keys are used to merge each table.\n"
   ]
  },
  {
   "cell_type": "code",
   "execution_count": null,
   "id": "4dfb3c60",
   "metadata": {},
   "outputs": [],
   "source": [
    "# filtering basics down to only movies from the 'US' region. This'll greatly reduced everything being add from the other tables.\n",
    "tconst = list(set(akas.tconst.values))\n",
    "basics = basics[basics['tconst'].isin(tconst)]\n",
    "\n",
    "data = basics.merge(principals, how='left',on='tconst')\n",
    "data = data.merge(ratings, how='left',on='tconst')\n",
    "data = data.merge(names, how='left',on='nconst')\n",
    "\n",
    "data.drop(['nconst'],axis=1,inplace=True)\n",
    "data.dropna(inplace=True)\n",
    "data.to_csv('../Data/data.csv', index=False)\n",
    "print(len(data))\n",
    "print(data.info(memory_usage='deep'))\n",
    "data.head()"
   ]
  },
  {
   "cell_type": "markdown",
   "id": "f8f5e96d",
   "metadata": {},
   "source": [
    "### 1.3 Reload and Inspect Data"
   ]
  },
  {
   "cell_type": "code",
   "execution_count": 2,
   "id": "7cbee8e6",
   "metadata": {},
   "outputs": [
    {
     "name": "stdout",
     "output_type": "stream",
     "text": [
      "69195\n",
      "<class 'pandas.core.frame.DataFrame'>\n",
      "RangeIndex: 69195 entries, 0 to 69194\n",
      "Data columns (total 10 columns):\n",
      " #   Column          Non-Null Count  Dtype  \n",
      "---  ------          --------------  -----  \n",
      " 0   tconst          69195 non-null  object \n",
      " 1   primarytitle    69195 non-null  object \n",
      " 2   startyear       69195 non-null  int64  \n",
      " 3   runtimeminutes  69195 non-null  float64\n",
      " 4   genres          69195 non-null  object \n",
      " 5   ordering        69195 non-null  int64  \n",
      " 6   category        69195 non-null  object \n",
      " 7   averagerating   69195 non-null  float64\n",
      " 8   numvotes        69195 non-null  int64  \n",
      " 9   primaryname     69195 non-null  object \n",
      "dtypes: float64(2), int64(3), object(5)\n",
      "memory usage: 24.8 MB\n"
     ]
    },
    {
     "data": {
      "text/html": [
       "<div>\n",
       "<style scoped>\n",
       "    .dataframe tbody tr th:only-of-type {\n",
       "        vertical-align: middle;\n",
       "    }\n",
       "\n",
       "    .dataframe tbody tr th {\n",
       "        vertical-align: top;\n",
       "    }\n",
       "\n",
       "    .dataframe thead th {\n",
       "        text-align: right;\n",
       "    }\n",
       "</style>\n",
       "<table border=\"1\" class=\"dataframe\">\n",
       "  <thead>\n",
       "    <tr style=\"text-align: right;\">\n",
       "      <th></th>\n",
       "      <th>tconst</th>\n",
       "      <th>primarytitle</th>\n",
       "      <th>startyear</th>\n",
       "      <th>runtimeminutes</th>\n",
       "      <th>genres</th>\n",
       "      <th>ordering</th>\n",
       "      <th>category</th>\n",
       "      <th>averagerating</th>\n",
       "      <th>numvotes</th>\n",
       "      <th>primaryname</th>\n",
       "    </tr>\n",
       "  </thead>\n",
       "  <tbody>\n",
       "    <tr>\n",
       "      <th>0</th>\n",
       "      <td>tt0062336</td>\n",
       "      <td>The Tango of the Widower and Its Distorting Mi...</td>\n",
       "      <td>2020</td>\n",
       "      <td>70.0</td>\n",
       "      <td>Drama</td>\n",
       "      <td>1</td>\n",
       "      <td>actor</td>\n",
       "      <td>6.4</td>\n",
       "      <td>161</td>\n",
       "      <td>Rubén Sotoconil</td>\n",
       "    </tr>\n",
       "    <tr>\n",
       "      <th>1</th>\n",
       "      <td>tt0062336</td>\n",
       "      <td>The Tango of the Widower and Its Distorting Mi...</td>\n",
       "      <td>2020</td>\n",
       "      <td>70.0</td>\n",
       "      <td>Drama</td>\n",
       "      <td>2</td>\n",
       "      <td>actress</td>\n",
       "      <td>6.4</td>\n",
       "      <td>161</td>\n",
       "      <td>Claudia Paz</td>\n",
       "    </tr>\n",
       "    <tr>\n",
       "      <th>2</th>\n",
       "      <td>tt0062336</td>\n",
       "      <td>The Tango of the Widower and Its Distorting Mi...</td>\n",
       "      <td>2020</td>\n",
       "      <td>70.0</td>\n",
       "      <td>Drama</td>\n",
       "      <td>3</td>\n",
       "      <td>actor</td>\n",
       "      <td>6.4</td>\n",
       "      <td>161</td>\n",
       "      <td>Luis Alarcón</td>\n",
       "    </tr>\n",
       "    <tr>\n",
       "      <th>3</th>\n",
       "      <td>tt0069049</td>\n",
       "      <td>The Other Side of the Wind</td>\n",
       "      <td>2018</td>\n",
       "      <td>122.0</td>\n",
       "      <td>Drama</td>\n",
       "      <td>1</td>\n",
       "      <td>actor</td>\n",
       "      <td>6.7</td>\n",
       "      <td>7160</td>\n",
       "      <td>John Huston</td>\n",
       "    </tr>\n",
       "    <tr>\n",
       "      <th>4</th>\n",
       "      <td>tt0069049</td>\n",
       "      <td>The Other Side of the Wind</td>\n",
       "      <td>2018</td>\n",
       "      <td>122.0</td>\n",
       "      <td>Drama</td>\n",
       "      <td>2</td>\n",
       "      <td>actress</td>\n",
       "      <td>6.7</td>\n",
       "      <td>7160</td>\n",
       "      <td>Oja Kodar</td>\n",
       "    </tr>\n",
       "  </tbody>\n",
       "</table>\n",
       "</div>"
      ],
      "text/plain": [
       "      tconst                                       primarytitle  startyear  \\\n",
       "0  tt0062336  The Tango of the Widower and Its Distorting Mi...       2020   \n",
       "1  tt0062336  The Tango of the Widower and Its Distorting Mi...       2020   \n",
       "2  tt0062336  The Tango of the Widower and Its Distorting Mi...       2020   \n",
       "3  tt0069049                         The Other Side of the Wind       2018   \n",
       "4  tt0069049                         The Other Side of the Wind       2018   \n",
       "\n",
       "   runtimeminutes genres  ordering category  averagerating  numvotes  \\\n",
       "0            70.0  Drama         1    actor            6.4       161   \n",
       "1            70.0  Drama         2  actress            6.4       161   \n",
       "2            70.0  Drama         3    actor            6.4       161   \n",
       "3           122.0  Drama         1    actor            6.7      7160   \n",
       "4           122.0  Drama         2  actress            6.7      7160   \n",
       "\n",
       "       primaryname  \n",
       "0  Rubén Sotoconil  \n",
       "1      Claudia Paz  \n",
       "2     Luis Alarcón  \n",
       "3      John Huston  \n",
       "4        Oja Kodar  "
      ]
     },
     "execution_count": 2,
     "metadata": {},
     "output_type": "execute_result"
    }
   ],
   "source": [
    "# note the change in memory usage.\n",
    "data = pd.read_csv('../Data/data.csv')\n",
    "print(len(data))\n",
    "to_img(data.head(),name='1.3_loaded_data')\n",
    "data.info(memory_usage='deep')\n",
    "data.head()"
   ]
  },
  {
   "cell_type": "markdown",
   "id": "important-bermuda",
   "metadata": {},
   "source": [
    "data dictionary\n",
    "\n",
    "- tconst  =   title id of the movie\n",
    "- primarytitle    =   primary title the movie goes by\n",
    "- startyear   =   year realease\n",
    "- runtimeminutes  =   film duration\n",
    "- genres  =   list of each genre the film represents\n",
    "- ordering    =   order of precedence if co-directors/writers/producers\n",
    "- nconst  =   name id or director, writer\n",
    "- category    =   job category\n",
    "- primaryname =   director/writer name gone by\n",
    "- averagerating   =   films average rating\n",
    "- numvotes    =   number of votes film has received"
   ]
  },
  {
   "cell_type": "code",
   "execution_count": 3,
   "id": "intensive-printing",
   "metadata": {},
   "outputs": [
    {
     "name": "stdout",
     "output_type": "stream",
     "text": [
      "Number of dupes: 0\n"
     ]
    },
    {
     "data": {
      "text/html": [
       "<div>\n",
       "<style scoped>\n",
       "    .dataframe tbody tr th:only-of-type {\n",
       "        vertical-align: middle;\n",
       "    }\n",
       "\n",
       "    .dataframe tbody tr th {\n",
       "        vertical-align: top;\n",
       "    }\n",
       "\n",
       "    .dataframe thead th {\n",
       "        text-align: right;\n",
       "    }\n",
       "</style>\n",
       "<table border=\"1\" class=\"dataframe\">\n",
       "  <thead>\n",
       "    <tr style=\"text-align: right;\">\n",
       "      <th></th>\n",
       "      <th>tconst</th>\n",
       "      <th>primarytitle</th>\n",
       "      <th>startyear</th>\n",
       "      <th>runtimeminutes</th>\n",
       "      <th>genres</th>\n",
       "      <th>ordering</th>\n",
       "      <th>category</th>\n",
       "      <th>averagerating</th>\n",
       "      <th>numvotes</th>\n",
       "      <th>primaryname</th>\n",
       "    </tr>\n",
       "  </thead>\n",
       "  <tbody>\n",
       "  </tbody>\n",
       "</table>\n",
       "</div>"
      ],
      "text/plain": [
       "Empty DataFrame\n",
       "Columns: [tconst, primarytitle, startyear, runtimeminutes, genres, ordering, category, averagerating, numvotes, primaryname]\n",
       "Index: []"
      ]
     },
     "execution_count": 3,
     "metadata": {},
     "output_type": "execute_result"
    }
   ],
   "source": [
    "# check for duplcates.\n",
    "print(f'Number of dupes: {sum(data.duplicated())}')\n",
    "data[data.duplicated() == True]\n",
    "\n",
    "#data.drop_duplicates(inplace=True)\n",
    "#data[data.duplicated() == True]"
   ]
  },
  {
   "cell_type": "code",
   "execution_count": 4,
   "id": "criminal-cloud",
   "metadata": {},
   "outputs": [
    {
     "data": {
      "text/html": [
       "<div>\n",
       "<style scoped>\n",
       "    .dataframe tbody tr th:only-of-type {\n",
       "        vertical-align: middle;\n",
       "    }\n",
       "\n",
       "    .dataframe tbody tr th {\n",
       "        vertical-align: top;\n",
       "    }\n",
       "\n",
       "    .dataframe thead th {\n",
       "        text-align: right;\n",
       "    }\n",
       "</style>\n",
       "<table border=\"1\" class=\"dataframe\">\n",
       "  <thead>\n",
       "    <tr style=\"text-align: right;\">\n",
       "      <th></th>\n",
       "      <th>tconst</th>\n",
       "      <th>primarytitle</th>\n",
       "      <th>startyear</th>\n",
       "      <th>runtimeminutes</th>\n",
       "      <th>genres</th>\n",
       "      <th>ordering</th>\n",
       "      <th>category</th>\n",
       "      <th>averagerating</th>\n",
       "      <th>numvotes</th>\n",
       "      <th>primaryname</th>\n",
       "    </tr>\n",
       "  </thead>\n",
       "  <tbody>\n",
       "  </tbody>\n",
       "</table>\n",
       "</div>"
      ],
      "text/plain": [
       "Empty DataFrame\n",
       "Columns: [tconst, primarytitle, startyear, runtimeminutes, genres, ordering, category, averagerating, numvotes, primaryname]\n",
       "Index: []"
      ]
     },
     "execution_count": 4,
     "metadata": {},
     "output_type": "execute_result"
    }
   ],
   "source": [
    "# check for null values\n",
    "data[data.isnull().any(axis=1)]"
   ]
  },
  {
   "cell_type": "code",
   "execution_count": 5,
   "id": "unlike-symposium",
   "metadata": {},
   "outputs": [
    {
     "data": {
      "text/plain": [
       "tconst            0\n",
       "primarytitle      0\n",
       "startyear         0\n",
       "runtimeminutes    0\n",
       "genres            0\n",
       "ordering          0\n",
       "category          0\n",
       "averagerating     0\n",
       "numvotes          0\n",
       "primaryname       0\n",
       "dtype: int64"
      ]
     },
     "execution_count": 5,
     "metadata": {},
     "output_type": "execute_result"
    }
   ],
   "source": [
    "# just doublechecking.\n",
    "data.isna().sum()"
   ]
  },
  {
   "cell_type": "markdown",
   "id": "a7d817ef",
   "metadata": {},
   "source": [
    "## 2. Initial EDA: Features\n",
    "### 2.1 Data Diagnosis"
   ]
  },
  {
   "cell_type": "code",
   "execution_count": 6,
   "id": "8d8939df",
   "metadata": {},
   "outputs": [
    {
     "data": {
      "text/html": [
       "<div>\n",
       "<style scoped>\n",
       "    .dataframe tbody tr th:only-of-type {\n",
       "        vertical-align: middle;\n",
       "    }\n",
       "\n",
       "    .dataframe tbody tr th {\n",
       "        vertical-align: top;\n",
       "    }\n",
       "\n",
       "    .dataframe thead th {\n",
       "        text-align: right;\n",
       "    }\n",
       "</style>\n",
       "<table border=\"1\" class=\"dataframe\">\n",
       "  <thead>\n",
       "    <tr style=\"text-align: right;\">\n",
       "      <th></th>\n",
       "      <th>tconst</th>\n",
       "      <th>primarytitle</th>\n",
       "      <th>startyear</th>\n",
       "      <th>runtimeminutes</th>\n",
       "      <th>genres</th>\n",
       "      <th>ordering</th>\n",
       "      <th>category</th>\n",
       "      <th>averagerating</th>\n",
       "      <th>numvotes</th>\n",
       "      <th>primaryname</th>\n",
       "    </tr>\n",
       "  </thead>\n",
       "  <tbody>\n",
       "    <tr>\n",
       "      <th>count</th>\n",
       "      <td>69195</td>\n",
       "      <td>69195</td>\n",
       "      <td>69195.000000</td>\n",
       "      <td>69195.000000</td>\n",
       "      <td>69195</td>\n",
       "      <td>69195.000000</td>\n",
       "      <td>69195</td>\n",
       "      <td>69195.000000</td>\n",
       "      <td>69195.000000</td>\n",
       "      <td>69195</td>\n",
       "    </tr>\n",
       "    <tr>\n",
       "      <th>unique</th>\n",
       "      <td>23208</td>\n",
       "      <td>22151</td>\n",
       "      <td>NaN</td>\n",
       "      <td>NaN</td>\n",
       "      <td>12</td>\n",
       "      <td>NaN</td>\n",
       "      <td>6</td>\n",
       "      <td>NaN</td>\n",
       "      <td>NaN</td>\n",
       "      <td>52110</td>\n",
       "    </tr>\n",
       "    <tr>\n",
       "      <th>top</th>\n",
       "      <td>tt3257092</td>\n",
       "      <td>Home</td>\n",
       "      <td>NaN</td>\n",
       "      <td>NaN</td>\n",
       "      <td>Drama</td>\n",
       "      <td>NaN</td>\n",
       "      <td>actor</td>\n",
       "      <td>NaN</td>\n",
       "      <td>NaN</td>\n",
       "      <td>Eric Roberts</td>\n",
       "    </tr>\n",
       "    <tr>\n",
       "      <th>freq</th>\n",
       "      <td>3</td>\n",
       "      <td>21</td>\n",
       "      <td>NaN</td>\n",
       "      <td>NaN</td>\n",
       "      <td>35033</td>\n",
       "      <td>NaN</td>\n",
       "      <td>40552</td>\n",
       "      <td>NaN</td>\n",
       "      <td>NaN</td>\n",
       "      <td>44</td>\n",
       "    </tr>\n",
       "    <tr>\n",
       "      <th>mean</th>\n",
       "      <td>NaN</td>\n",
       "      <td>NaN</td>\n",
       "      <td>2013.141195</td>\n",
       "      <td>96.186618</td>\n",
       "      <td>NaN</td>\n",
       "      <td>1.998208</td>\n",
       "      <td>NaN</td>\n",
       "      <td>5.857932</td>\n",
       "      <td>1867.412053</td>\n",
       "      <td>NaN</td>\n",
       "    </tr>\n",
       "    <tr>\n",
       "      <th>std</th>\n",
       "      <td>NaN</td>\n",
       "      <td>NaN</td>\n",
       "      <td>5.729073</td>\n",
       "      <td>19.257263</td>\n",
       "      <td>NaN</td>\n",
       "      <td>0.816447</td>\n",
       "      <td>NaN</td>\n",
       "      <td>1.424476</td>\n",
       "      <td>17752.278672</td>\n",
       "      <td>NaN</td>\n",
       "    </tr>\n",
       "    <tr>\n",
       "      <th>min</th>\n",
       "      <td>NaN</td>\n",
       "      <td>NaN</td>\n",
       "      <td>2000.000000</td>\n",
       "      <td>70.000000</td>\n",
       "      <td>NaN</td>\n",
       "      <td>1.000000</td>\n",
       "      <td>NaN</td>\n",
       "      <td>1.000000</td>\n",
       "      <td>5.000000</td>\n",
       "      <td>NaN</td>\n",
       "    </tr>\n",
       "    <tr>\n",
       "      <th>25%</th>\n",
       "      <td>NaN</td>\n",
       "      <td>NaN</td>\n",
       "      <td>2009.000000</td>\n",
       "      <td>85.000000</td>\n",
       "      <td>NaN</td>\n",
       "      <td>1.000000</td>\n",
       "      <td>NaN</td>\n",
       "      <td>5.000000</td>\n",
       "      <td>32.000000</td>\n",
       "      <td>NaN</td>\n",
       "    </tr>\n",
       "    <tr>\n",
       "      <th>50%</th>\n",
       "      <td>NaN</td>\n",
       "      <td>NaN</td>\n",
       "      <td>2014.000000</td>\n",
       "      <td>93.000000</td>\n",
       "      <td>NaN</td>\n",
       "      <td>2.000000</td>\n",
       "      <td>NaN</td>\n",
       "      <td>6.000000</td>\n",
       "      <td>115.000000</td>\n",
       "      <td>NaN</td>\n",
       "    </tr>\n",
       "    <tr>\n",
       "      <th>75%</th>\n",
       "      <td>NaN</td>\n",
       "      <td>NaN</td>\n",
       "      <td>2018.000000</td>\n",
       "      <td>103.000000</td>\n",
       "      <td>NaN</td>\n",
       "      <td>3.000000</td>\n",
       "      <td>NaN</td>\n",
       "      <td>6.800000</td>\n",
       "      <td>421.000000</td>\n",
       "      <td>NaN</td>\n",
       "    </tr>\n",
       "    <tr>\n",
       "      <th>max</th>\n",
       "      <td>NaN</td>\n",
       "      <td>NaN</td>\n",
       "      <td>2022.000000</td>\n",
       "      <td>1260.000000</td>\n",
       "      <td>NaN</td>\n",
       "      <td>3.000000</td>\n",
       "      <td>NaN</td>\n",
       "      <td>10.000000</td>\n",
       "      <td>816849.000000</td>\n",
       "      <td>NaN</td>\n",
       "    </tr>\n",
       "  </tbody>\n",
       "</table>\n",
       "</div>"
      ],
      "text/plain": [
       "           tconst primarytitle     startyear  runtimeminutes genres  \\\n",
       "count       69195        69195  69195.000000    69195.000000  69195   \n",
       "unique      23208        22151           NaN             NaN     12   \n",
       "top     tt3257092         Home           NaN             NaN  Drama   \n",
       "freq            3           21           NaN             NaN  35033   \n",
       "mean          NaN          NaN   2013.141195       96.186618    NaN   \n",
       "std           NaN          NaN      5.729073       19.257263    NaN   \n",
       "min           NaN          NaN   2000.000000       70.000000    NaN   \n",
       "25%           NaN          NaN   2009.000000       85.000000    NaN   \n",
       "50%           NaN          NaN   2014.000000       93.000000    NaN   \n",
       "75%           NaN          NaN   2018.000000      103.000000    NaN   \n",
       "max           NaN          NaN   2022.000000     1260.000000    NaN   \n",
       "\n",
       "            ordering category  averagerating       numvotes   primaryname  \n",
       "count   69195.000000    69195   69195.000000   69195.000000         69195  \n",
       "unique           NaN        6            NaN            NaN         52110  \n",
       "top              NaN    actor            NaN            NaN  Eric Roberts  \n",
       "freq             NaN    40552            NaN            NaN            44  \n",
       "mean        1.998208      NaN       5.857932    1867.412053           NaN  \n",
       "std         0.816447      NaN       1.424476   17752.278672           NaN  \n",
       "min         1.000000      NaN       1.000000       5.000000           NaN  \n",
       "25%         1.000000      NaN       5.000000      32.000000           NaN  \n",
       "50%         2.000000      NaN       6.000000     115.000000           NaN  \n",
       "75%         3.000000      NaN       6.800000     421.000000           NaN  \n",
       "max         3.000000      NaN      10.000000  816849.000000           NaN  "
      ]
     },
     "execution_count": 6,
     "metadata": {},
     "output_type": "execute_result"
    }
   ],
   "source": [
    "data.describe(include='all')"
   ]
  },
  {
   "cell_type": "markdown",
   "id": "5f9ad815",
   "metadata": {},
   "source": [
    "### 2.2 Categorical Features\n",
    "I have to pay special attention here. Note that 'primarytitle' and 'primaryname' would dramatically insrease the dimensionality of the data. Something that I noticed in an earlier iteration is that 'primary' titles are sometimes duplicated, which makes sense because some movies share their title with another, such as in the case of remakes. Therefore, I don't think primary title is a feature I should use."
   ]
  },
  {
   "cell_type": "code",
   "execution_count": 7,
   "id": "0f2353b5",
   "metadata": {},
   "outputs": [
    {
     "data": {
      "text/plain": [
       "tconst          23208\n",
       "primarytitle    22151\n",
       "genres             12\n",
       "category            6\n",
       "primaryname     52110\n",
       "dtype: int64"
      ]
     },
     "execution_count": 7,
     "metadata": {},
     "output_type": "execute_result"
    }
   ],
   "source": [
    "data.select_dtypes('object').nunique()"
   ]
  },
  {
   "cell_type": "code",
   "execution_count": 8,
   "id": "814da602",
   "metadata": {},
   "outputs": [
    {
     "data": {
      "text/html": [
       "<div>\n",
       "<style scoped>\n",
       "    .dataframe tbody tr th:only-of-type {\n",
       "        vertical-align: middle;\n",
       "    }\n",
       "\n",
       "    .dataframe tbody tr th {\n",
       "        vertical-align: top;\n",
       "    }\n",
       "\n",
       "    .dataframe thead th {\n",
       "        text-align: right;\n",
       "    }\n",
       "</style>\n",
       "<table border=\"1\" class=\"dataframe\">\n",
       "  <thead>\n",
       "    <tr style=\"text-align: right;\">\n",
       "      <th></th>\n",
       "      <th>tconst</th>\n",
       "      <th>primarytitle</th>\n",
       "      <th>genres</th>\n",
       "      <th>category</th>\n",
       "      <th>primaryname</th>\n",
       "    </tr>\n",
       "  </thead>\n",
       "  <tbody>\n",
       "    <tr>\n",
       "      <th>0</th>\n",
       "      <td>tt0062336</td>\n",
       "      <td>The Tango of the Widower and Its Distorting Mi...</td>\n",
       "      <td>Drama</td>\n",
       "      <td>actor</td>\n",
       "      <td>Rubén Sotoconil</td>\n",
       "    </tr>\n",
       "    <tr>\n",
       "      <th>1</th>\n",
       "      <td>tt0062336</td>\n",
       "      <td>The Tango of the Widower and Its Distorting Mi...</td>\n",
       "      <td>Drama</td>\n",
       "      <td>actress</td>\n",
       "      <td>Claudia Paz</td>\n",
       "    </tr>\n",
       "    <tr>\n",
       "      <th>2</th>\n",
       "      <td>tt0062336</td>\n",
       "      <td>The Tango of the Widower and Its Distorting Mi...</td>\n",
       "      <td>Drama</td>\n",
       "      <td>actor</td>\n",
       "      <td>Luis Alarcón</td>\n",
       "    </tr>\n",
       "    <tr>\n",
       "      <th>3</th>\n",
       "      <td>tt0069049</td>\n",
       "      <td>The Other Side of the Wind</td>\n",
       "      <td>Drama</td>\n",
       "      <td>actor</td>\n",
       "      <td>John Huston</td>\n",
       "    </tr>\n",
       "    <tr>\n",
       "      <th>4</th>\n",
       "      <td>tt0069049</td>\n",
       "      <td>The Other Side of the Wind</td>\n",
       "      <td>Drama</td>\n",
       "      <td>actress</td>\n",
       "      <td>Oja Kodar</td>\n",
       "    </tr>\n",
       "    <tr>\n",
       "      <th>...</th>\n",
       "      <td>...</td>\n",
       "      <td>...</td>\n",
       "      <td>...</td>\n",
       "      <td>...</td>\n",
       "      <td>...</td>\n",
       "    </tr>\n",
       "    <tr>\n",
       "      <th>69190</th>\n",
       "      <td>tt9913660</td>\n",
       "      <td>No Apology</td>\n",
       "      <td>Drama</td>\n",
       "      <td>actor</td>\n",
       "      <td>Owen Bishop</td>\n",
       "    </tr>\n",
       "    <tr>\n",
       "      <th>69191</th>\n",
       "      <td>tt9913660</td>\n",
       "      <td>No Apology</td>\n",
       "      <td>Drama</td>\n",
       "      <td>actor</td>\n",
       "      <td>Pierce Briggs</td>\n",
       "    </tr>\n",
       "    <tr>\n",
       "      <th>69192</th>\n",
       "      <td>tt9914942</td>\n",
       "      <td>Life Without Sara Amat</td>\n",
       "      <td>Drama</td>\n",
       "      <td>actress</td>\n",
       "      <td>Maria Morera</td>\n",
       "    </tr>\n",
       "    <tr>\n",
       "      <th>69193</th>\n",
       "      <td>tt9914942</td>\n",
       "      <td>Life Without Sara Amat</td>\n",
       "      <td>Drama</td>\n",
       "      <td>actor</td>\n",
       "      <td>Biel Rossell Pelfort</td>\n",
       "    </tr>\n",
       "    <tr>\n",
       "      <th>69194</th>\n",
       "      <td>tt9914942</td>\n",
       "      <td>Life Without Sara Amat</td>\n",
       "      <td>Drama</td>\n",
       "      <td>actor</td>\n",
       "      <td>Isaac Alcayde</td>\n",
       "    </tr>\n",
       "  </tbody>\n",
       "</table>\n",
       "<p>69195 rows × 5 columns</p>\n",
       "</div>"
      ],
      "text/plain": [
       "          tconst                                       primarytitle genres  \\\n",
       "0      tt0062336  The Tango of the Widower and Its Distorting Mi...  Drama   \n",
       "1      tt0062336  The Tango of the Widower and Its Distorting Mi...  Drama   \n",
       "2      tt0062336  The Tango of the Widower and Its Distorting Mi...  Drama   \n",
       "3      tt0069049                         The Other Side of the Wind  Drama   \n",
       "4      tt0069049                         The Other Side of the Wind  Drama   \n",
       "...          ...                                                ...    ...   \n",
       "69190  tt9913660                                         No Apology  Drama   \n",
       "69191  tt9913660                                         No Apology  Drama   \n",
       "69192  tt9914942                             Life Without Sara Amat  Drama   \n",
       "69193  tt9914942                             Life Without Sara Amat  Drama   \n",
       "69194  tt9914942                             Life Without Sara Amat  Drama   \n",
       "\n",
       "      category           primaryname  \n",
       "0        actor       Rubén Sotoconil  \n",
       "1      actress           Claudia Paz  \n",
       "2        actor          Luis Alarcón  \n",
       "3        actor           John Huston  \n",
       "4      actress             Oja Kodar  \n",
       "...        ...                   ...  \n",
       "69190    actor           Owen Bishop  \n",
       "69191    actor         Pierce Briggs  \n",
       "69192  actress          Maria Morera  \n",
       "69193    actor  Biel Rossell Pelfort  \n",
       "69194    actor         Isaac Alcayde  \n",
       "\n",
       "[69195 rows x 5 columns]"
      ]
     },
     "execution_count": 8,
     "metadata": {},
     "output_type": "execute_result"
    }
   ],
   "source": [
    "to_img(data.select_dtypes('object').head(), name='2.2_categorical_features')\n",
    "data.select_dtypes('object')"
   ]
  },
  {
   "cell_type": "markdown",
   "id": "c83efac8",
   "metadata": {},
   "source": [
    "##### 2.2.a - tsconst\n",
    "This feature plays a huge factor in my analysis because it's the marker for distinct movies. Sometimes a 'tconst' value will appear multiple times, this happens because some movies have mutiple people associated with it; so a film with a director, actor, and actress will have three seperate entries."
   ]
  },
  {
   "cell_type": "code",
   "execution_count": 9,
   "id": "13070b89",
   "metadata": {},
   "outputs": [
    {
     "data": {
      "text/plain": [
       "count         69195\n",
       "unique        23208\n",
       "top       tt3257092\n",
       "freq              3\n",
       "Name: tconst, dtype: object"
      ]
     },
     "execution_count": 9,
     "metadata": {},
     "output_type": "execute_result"
    }
   ],
   "source": [
    "data.tconst.describe()"
   ]
  },
  {
   "cell_type": "markdown",
   "id": "de4d221c",
   "metadata": {},
   "source": [
    "##### 2.2.b - primarytitle"
   ]
  },
  {
   "cell_type": "code",
   "execution_count": 10,
   "id": "7a136208",
   "metadata": {},
   "outputs": [
    {
     "data": {
      "text/plain": [
       "Home                                   21\n",
       "Blackbird                              18\n",
       "Alice                                  15\n",
       "Hunting Season                         15\n",
       "Still Life                             15\n",
       "                                       ..\n",
       "Hollywood Babble-on Live 5/22/2011      1\n",
       "Surge of Power: The Stuff of Heroes     1\n",
       "A Silent Way                            1\n",
       "Sean Lock: Keep It Light - Live         1\n",
       "The Gulf of Silence                     1\n",
       "Name: primarytitle, Length: 22151, dtype: int64"
      ]
     },
     "execution_count": 10,
     "metadata": {},
     "output_type": "execute_result"
    }
   ],
   "source": [
    "data.primarytitle.value_counts()"
   ]
  },
  {
   "cell_type": "markdown",
   "id": "e2b9e55d",
   "metadata": {},
   "source": [
    "##### 2.2.c - genres"
   ]
  },
  {
   "cell_type": "code",
   "execution_count": 11,
   "id": "2b049fb4",
   "metadata": {},
   "outputs": [
    {
     "data": {
      "text/plain": [
       "Drama        35033\n",
       "Comedy       14004\n",
       "Horror        8165\n",
       "Thriller      5011\n",
       "Action        1984\n",
       "Romance       1481\n",
       "Family         991\n",
       "Sci-Fi         785\n",
       "Crime          616\n",
       "Mystery        420\n",
       "Adventure      391\n",
       "Fantasy        314\n",
       "Name: genres, dtype: int64"
      ]
     },
     "execution_count": 11,
     "metadata": {},
     "output_type": "execute_result"
    }
   ],
   "source": [
    "data.genres.value_counts()\n"
   ]
  },
  {
   "cell_type": "markdown",
   "id": "609941a5",
   "metadata": {},
   "source": [
    "##### 2.2.d - category"
   ]
  },
  {
   "cell_type": "code",
   "execution_count": 12,
   "id": "e88e7a1d",
   "metadata": {},
   "outputs": [
    {
     "data": {
      "text/plain": [
       "actor       40552\n",
       "actress     28096\n",
       "director      414\n",
       "producer       58\n",
       "writer         42\n",
       "composer       33\n",
       "Name: category, dtype: int64"
      ]
     },
     "execution_count": 12,
     "metadata": {},
     "output_type": "execute_result"
    }
   ],
   "source": [
    "data.category.value_counts()"
   ]
  },
  {
   "cell_type": "code",
   "execution_count": 13,
   "id": "17f279d6",
   "metadata": {},
   "outputs": [],
   "source": [
    "# further reducing the number of possible categorical values.\n",
    "keeps = ['actor', 'actress', 'director']\n",
    "data = data[data.category.isin(keeps)]"
   ]
  },
  {
   "cell_type": "markdown",
   "id": "3439ee41",
   "metadata": {},
   "source": [
    "##### 2.2.e - primaryname\n",
    "This is a huge source of dimensionality. For now I'm simply going to drop anyone who appears only once. This is hand during the .tsv file conversion process further up but I may fine tune here in the the future."
   ]
  },
  {
   "cell_type": "code",
   "execution_count": 14,
   "id": "9f978713",
   "metadata": {},
   "outputs": [
    {
     "name": "stdout",
     "output_type": "stream",
     "text": [
      "Eric Roberts        44\n",
      "Michael Madsen      29\n",
      "Tom Sizemore        26\n",
      "Kevin Sorbo         20\n",
      "Isabelle Huppert    20\n",
      "                    ..\n",
      "Otis P. Otis         1\n",
      "Maxim Vengerov       1\n",
      "Sang-hee Lee         1\n",
      "Cheryl Allison       1\n",
      "Facundo Cardosi      1\n",
      "Name: primaryname, Length: 51981, dtype: int64\n"
     ]
    },
    {
     "data": {
      "text/html": [
       "<div>\n",
       "<style scoped>\n",
       "    .dataframe tbody tr th:only-of-type {\n",
       "        vertical-align: middle;\n",
       "    }\n",
       "\n",
       "    .dataframe tbody tr th {\n",
       "        vertical-align: top;\n",
       "    }\n",
       "\n",
       "    .dataframe thead th {\n",
       "        text-align: right;\n",
       "    }\n",
       "</style>\n",
       "<table border=\"1\" class=\"dataframe\">\n",
       "  <thead>\n",
       "    <tr style=\"text-align: right;\">\n",
       "      <th></th>\n",
       "      <th>tconst</th>\n",
       "      <th>primarytitle</th>\n",
       "      <th>startyear</th>\n",
       "      <th>runtimeminutes</th>\n",
       "      <th>genres</th>\n",
       "      <th>ordering</th>\n",
       "      <th>category</th>\n",
       "      <th>averagerating</th>\n",
       "      <th>numvotes</th>\n",
       "      <th>primaryname</th>\n",
       "    </tr>\n",
       "  </thead>\n",
       "  <tbody>\n",
       "    <tr>\n",
       "      <th>5</th>\n",
       "      <td>tt0069049</td>\n",
       "      <td>The Other Side of the Wind</td>\n",
       "      <td>2018</td>\n",
       "      <td>122.0</td>\n",
       "      <td>Drama</td>\n",
       "      <td>3</td>\n",
       "      <td>actor</td>\n",
       "      <td>6.7</td>\n",
       "      <td>7160</td>\n",
       "      <td>Peter Bogdanovich</td>\n",
       "    </tr>\n",
       "    <tr>\n",
       "      <th>9</th>\n",
       "      <td>tt0096056</td>\n",
       "      <td>Crime and Punishment</td>\n",
       "      <td>2002</td>\n",
       "      <td>126.0</td>\n",
       "      <td>Drama</td>\n",
       "      <td>1</td>\n",
       "      <td>actor</td>\n",
       "      <td>5.7</td>\n",
       "      <td>810</td>\n",
       "      <td>Crispin Glover</td>\n",
       "    </tr>\n",
       "    <tr>\n",
       "      <th>10</th>\n",
       "      <td>tt0096056</td>\n",
       "      <td>Crime and Punishment</td>\n",
       "      <td>2002</td>\n",
       "      <td>126.0</td>\n",
       "      <td>Drama</td>\n",
       "      <td>2</td>\n",
       "      <td>actress</td>\n",
       "      <td>5.7</td>\n",
       "      <td>810</td>\n",
       "      <td>Vanessa Redgrave</td>\n",
       "    </tr>\n",
       "    <tr>\n",
       "      <th>11</th>\n",
       "      <td>tt0096056</td>\n",
       "      <td>Crime and Punishment</td>\n",
       "      <td>2002</td>\n",
       "      <td>126.0</td>\n",
       "      <td>Drama</td>\n",
       "      <td>3</td>\n",
       "      <td>actor</td>\n",
       "      <td>5.7</td>\n",
       "      <td>810</td>\n",
       "      <td>John Hurt</td>\n",
       "    </tr>\n",
       "    <tr>\n",
       "      <th>27</th>\n",
       "      <td>tt0118852</td>\n",
       "      <td>Chinese Coffee</td>\n",
       "      <td>2000</td>\n",
       "      <td>99.0</td>\n",
       "      <td>Drama</td>\n",
       "      <td>1</td>\n",
       "      <td>actor</td>\n",
       "      <td>7.1</td>\n",
       "      <td>4254</td>\n",
       "      <td>Al Pacino</td>\n",
       "    </tr>\n",
       "    <tr>\n",
       "      <th>...</th>\n",
       "      <td>...</td>\n",
       "      <td>...</td>\n",
       "      <td>...</td>\n",
       "      <td>...</td>\n",
       "      <td>...</td>\n",
       "      <td>...</td>\n",
       "      <td>...</td>\n",
       "      <td>...</td>\n",
       "      <td>...</td>\n",
       "      <td>...</td>\n",
       "    </tr>\n",
       "    <tr>\n",
       "      <th>69170</th>\n",
       "      <td>tt9900688</td>\n",
       "      <td>Big Three Dragons</td>\n",
       "      <td>2019</td>\n",
       "      <td>111.0</td>\n",
       "      <td>Comedy</td>\n",
       "      <td>3</td>\n",
       "      <td>actor</td>\n",
       "      <td>4.5</td>\n",
       "      <td>29</td>\n",
       "      <td>Chia-Chia Peng</td>\n",
       "    </tr>\n",
       "    <tr>\n",
       "      <th>69171</th>\n",
       "      <td>tt9902160</td>\n",
       "      <td>Herself</td>\n",
       "      <td>2020</td>\n",
       "      <td>97.0</td>\n",
       "      <td>Drama</td>\n",
       "      <td>1</td>\n",
       "      <td>actress</td>\n",
       "      <td>7.0</td>\n",
       "      <td>3273</td>\n",
       "      <td>Molly McCann</td>\n",
       "    </tr>\n",
       "    <tr>\n",
       "      <th>69182</th>\n",
       "      <td>tt9904552</td>\n",
       "      <td>All for the Money</td>\n",
       "      <td>2019</td>\n",
       "      <td>107.0</td>\n",
       "      <td>Comedy</td>\n",
       "      <td>3</td>\n",
       "      <td>actor</td>\n",
       "      <td>7.6</td>\n",
       "      <td>6</td>\n",
       "      <td>Simeon Henderson</td>\n",
       "    </tr>\n",
       "    <tr>\n",
       "      <th>69183</th>\n",
       "      <td>tt9904648</td>\n",
       "      <td>The Contrast</td>\n",
       "      <td>2022</td>\n",
       "      <td>82.0</td>\n",
       "      <td>Comedy</td>\n",
       "      <td>1</td>\n",
       "      <td>actor</td>\n",
       "      <td>4.2</td>\n",
       "      <td>18</td>\n",
       "      <td>Lance E. Nichols</td>\n",
       "    </tr>\n",
       "    <tr>\n",
       "      <th>69187</th>\n",
       "      <td>tt9904820</td>\n",
       "      <td>American Terror Story</td>\n",
       "      <td>2019</td>\n",
       "      <td>76.0</td>\n",
       "      <td>Horror</td>\n",
       "      <td>2</td>\n",
       "      <td>actress</td>\n",
       "      <td>3.4</td>\n",
       "      <td>60</td>\n",
       "      <td>Laurie Cummings</td>\n",
       "    </tr>\n",
       "  </tbody>\n",
       "</table>\n",
       "<p>26502 rows × 10 columns</p>\n",
       "</div>"
      ],
      "text/plain": [
       "          tconst                primarytitle  startyear  runtimeminutes  \\\n",
       "5      tt0069049  The Other Side of the Wind       2018           122.0   \n",
       "9      tt0096056        Crime and Punishment       2002           126.0   \n",
       "10     tt0096056        Crime and Punishment       2002           126.0   \n",
       "11     tt0096056        Crime and Punishment       2002           126.0   \n",
       "27     tt0118852              Chinese Coffee       2000            99.0   \n",
       "...          ...                         ...        ...             ...   \n",
       "69170  tt9900688           Big Three Dragons       2019           111.0   \n",
       "69171  tt9902160                     Herself       2020            97.0   \n",
       "69182  tt9904552           All for the Money       2019           107.0   \n",
       "69183  tt9904648                The Contrast       2022            82.0   \n",
       "69187  tt9904820       American Terror Story       2019            76.0   \n",
       "\n",
       "       genres  ordering category  averagerating  numvotes        primaryname  \n",
       "5       Drama         3    actor            6.7      7160  Peter Bogdanovich  \n",
       "9       Drama         1    actor            5.7       810     Crispin Glover  \n",
       "10      Drama         2  actress            5.7       810   Vanessa Redgrave  \n",
       "11      Drama         3    actor            5.7       810          John Hurt  \n",
       "27      Drama         1    actor            7.1      4254          Al Pacino  \n",
       "...       ...       ...      ...            ...       ...                ...  \n",
       "69170  Comedy         3    actor            4.5        29     Chia-Chia Peng  \n",
       "69171   Drama         1  actress            7.0      3273       Molly McCann  \n",
       "69182  Comedy         3    actor            7.6         6   Simeon Henderson  \n",
       "69183  Comedy         1    actor            4.2        18   Lance E. Nichols  \n",
       "69187  Horror         2  actress            3.4        60    Laurie Cummings  \n",
       "\n",
       "[26502 rows x 10 columns]"
      ]
     },
     "execution_count": 14,
     "metadata": {},
     "output_type": "execute_result"
    }
   ],
   "source": [
    "#data = data[data.groupby(\"primaryname\")['primaryname'].transform('size') > 5]\n",
    "print(data.primaryname.value_counts())\n",
    "data = data[data.groupby(\"primaryname\")['primaryname'].transform('size') > 1]\n",
    "data"
   ]
  },
  {
   "cell_type": "code",
   "execution_count": 15,
   "id": "d8a60aa1",
   "metadata": {},
   "outputs": [
    {
     "name": "stdout",
     "output_type": "stream",
     "text": [
      "Eric Roberts        44\n",
      "Michael Madsen      29\n",
      "Tom Sizemore        26\n",
      "Kevin Sorbo         20\n",
      "Isabelle Huppert    20\n",
      "                    ..\n",
      "Ecem Uzun            2\n",
      "Rani Mukerji         2\n",
      "Darya Astafieva      2\n",
      "Tsahi Halevi         2\n",
      "Joey Fatone          2\n",
      "Name: primaryname, Length: 9421, dtype: int64\n"
     ]
    }
   ],
   "source": [
    "print(data.primaryname.value_counts())"
   ]
  },
  {
   "cell_type": "code",
   "execution_count": 16,
   "id": "ed3d1375",
   "metadata": {},
   "outputs": [],
   "source": [
    "data.select_dtypes('object')\n",
    "to_img(data.select_dtypes('object').head(), name='2.2_categorical_features_post')"
   ]
  },
  {
   "cell_type": "code",
   "execution_count": 17,
   "id": "73158427",
   "metadata": {},
   "outputs": [
    {
     "data": {
      "image/png": "[encoded data removed]",
      "text/plain": [
       "<Figure size 432x288 with 1 Axes>"
      ]
     },
     "metadata": {
      "needs_background": "light"
     },
     "output_type": "display_data"
    },
    {
     "data": {
      "image/png": "[encoded data removed]",
      "text/plain": [
       "<Figure size 432x288 with 1 Axes>"
      ]
     },
     "metadata": {
      "needs_background": "light"
     },
     "output_type": "display_data"
    }
   ],
   "source": [
    "# so much drama...\n",
    "for f in data[['genres','category']]:\n",
    "    sns.countplot(x = f, data = data, palette = 'Set3') # hue = '')\n",
    "    plt.xticks(rotation=30)\n",
    "    plt.savefig(f'../Images/cat_countplot_{f}.jpg')\n",
    "    plt.show()\n",
    "    "
   ]
  },
  {
   "cell_type": "markdown",
   "id": "ac73d51a",
   "metadata": {},
   "source": [
    "### 2.3 Numeric Features"
   ]
  },
  {
   "cell_type": "code",
   "execution_count": 18,
   "id": "9fea7985",
   "metadata": {},
   "outputs": [
    {
     "data": {
      "text/plain": [
       "startyear           23\n",
       "runtimeminutes     142\n",
       "ordering             3\n",
       "averagerating       89\n",
       "numvotes          3047\n",
       "dtype: int64"
      ]
     },
     "execution_count": 18,
     "metadata": {},
     "output_type": "execute_result"
    }
   ],
   "source": [
    "old = data.describe()\n",
    "data.select_dtypes('number').nunique()"
   ]
  },
  {
   "cell_type": "code",
   "execution_count": 19,
   "id": "242cf02c",
   "metadata": {},
   "outputs": [
    {
     "data": {
      "text/html": [
       "<div>\n",
       "<style scoped>\n",
       "    .dataframe tbody tr th:only-of-type {\n",
       "        vertical-align: middle;\n",
       "    }\n",
       "\n",
       "    .dataframe tbody tr th {\n",
       "        vertical-align: top;\n",
       "    }\n",
       "\n",
       "    .dataframe thead th {\n",
       "        text-align: right;\n",
       "    }\n",
       "</style>\n",
       "<table border=\"1\" class=\"dataframe\">\n",
       "  <thead>\n",
       "    <tr style=\"text-align: right;\">\n",
       "      <th></th>\n",
       "      <th>startyear</th>\n",
       "      <th>runtimeminutes</th>\n",
       "      <th>ordering</th>\n",
       "      <th>averagerating</th>\n",
       "      <th>numvotes</th>\n",
       "    </tr>\n",
       "  </thead>\n",
       "  <tbody>\n",
       "    <tr>\n",
       "      <th>5</th>\n",
       "      <td>2018</td>\n",
       "      <td>122.0</td>\n",
       "      <td>3</td>\n",
       "      <td>6.7</td>\n",
       "      <td>7160</td>\n",
       "    </tr>\n",
       "    <tr>\n",
       "      <th>9</th>\n",
       "      <td>2002</td>\n",
       "      <td>126.0</td>\n",
       "      <td>1</td>\n",
       "      <td>5.7</td>\n",
       "      <td>810</td>\n",
       "    </tr>\n",
       "    <tr>\n",
       "      <th>10</th>\n",
       "      <td>2002</td>\n",
       "      <td>126.0</td>\n",
       "      <td>2</td>\n",
       "      <td>5.7</td>\n",
       "      <td>810</td>\n",
       "    </tr>\n",
       "    <tr>\n",
       "      <th>11</th>\n",
       "      <td>2002</td>\n",
       "      <td>126.0</td>\n",
       "      <td>3</td>\n",
       "      <td>5.7</td>\n",
       "      <td>810</td>\n",
       "    </tr>\n",
       "    <tr>\n",
       "      <th>27</th>\n",
       "      <td>2000</td>\n",
       "      <td>99.0</td>\n",
       "      <td>1</td>\n",
       "      <td>7.1</td>\n",
       "      <td>4254</td>\n",
       "    </tr>\n",
       "    <tr>\n",
       "      <th>...</th>\n",
       "      <td>...</td>\n",
       "      <td>...</td>\n",
       "      <td>...</td>\n",
       "      <td>...</td>\n",
       "      <td>...</td>\n",
       "    </tr>\n",
       "    <tr>\n",
       "      <th>69170</th>\n",
       "      <td>2019</td>\n",
       "      <td>111.0</td>\n",
       "      <td>3</td>\n",
       "      <td>4.5</td>\n",
       "      <td>29</td>\n",
       "    </tr>\n",
       "    <tr>\n",
       "      <th>69171</th>\n",
       "      <td>2020</td>\n",
       "      <td>97.0</td>\n",
       "      <td>1</td>\n",
       "      <td>7.0</td>\n",
       "      <td>3273</td>\n",
       "    </tr>\n",
       "    <tr>\n",
       "      <th>69182</th>\n",
       "      <td>2019</td>\n",
       "      <td>107.0</td>\n",
       "      <td>3</td>\n",
       "      <td>7.6</td>\n",
       "      <td>6</td>\n",
       "    </tr>\n",
       "    <tr>\n",
       "      <th>69183</th>\n",
       "      <td>2022</td>\n",
       "      <td>82.0</td>\n",
       "      <td>1</td>\n",
       "      <td>4.2</td>\n",
       "      <td>18</td>\n",
       "    </tr>\n",
       "    <tr>\n",
       "      <th>69187</th>\n",
       "      <td>2019</td>\n",
       "      <td>76.0</td>\n",
       "      <td>2</td>\n",
       "      <td>3.4</td>\n",
       "      <td>60</td>\n",
       "    </tr>\n",
       "  </tbody>\n",
       "</table>\n",
       "<p>26502 rows × 5 columns</p>\n",
       "</div>"
      ],
      "text/plain": [
       "       startyear  runtimeminutes  ordering  averagerating  numvotes\n",
       "5           2018           122.0         3            6.7      7160\n",
       "9           2002           126.0         1            5.7       810\n",
       "10          2002           126.0         2            5.7       810\n",
       "11          2002           126.0         3            5.7       810\n",
       "27          2000            99.0         1            7.1      4254\n",
       "...          ...             ...       ...            ...       ...\n",
       "69170       2019           111.0         3            4.5        29\n",
       "69171       2020            97.0         1            7.0      3273\n",
       "69182       2019           107.0         3            7.6         6\n",
       "69183       2022            82.0         1            4.2        18\n",
       "69187       2019            76.0         2            3.4        60\n",
       "\n",
       "[26502 rows x 5 columns]"
      ]
     },
     "execution_count": 19,
     "metadata": {},
     "output_type": "execute_result"
    }
   ],
   "source": [
    "to_img(data.select_dtypes('number').head(), name='2.3_numeric_features')\n",
    "data.select_dtypes('number')"
   ]
  },
  {
   "cell_type": "markdown",
   "id": "63e3c6a8",
   "metadata": {},
   "source": [
    "##### 2.3.a - startyear\n",
    "- The average start year for the films in this selection is 2009.\n",
    "- This distribution should be plotted with lines indicating centers."
   ]
  },
  {
   "cell_type": "code",
   "execution_count": 20,
   "id": "15081921",
   "metadata": {},
   "outputs": [
    {
     "data": {
      "image/png": "[encoded data removed]",
      "text/plain": [
       "<Figure size 432x288 with 1 Axes>"
      ]
     },
     "metadata": {
      "needs_background": "light"
     },
     "output_type": "display_data"
    },
    {
     "data": {
      "image/png": "[encoded data removed]",
      "text/plain": [
       "<Figure size 432x288 with 1 Axes>"
      ]
     },
     "metadata": {
      "needs_background": "light"
     },
     "output_type": "display_data"
    }
   ],
   "source": [
    "sns.histplot(data.startyear)\n",
    "plt.savefig(f'../Images/2.3.a_startyear_hist.jpg')\n",
    "plt.show()\n",
    "\n",
    "\n",
    "sns.kdeplot(data.startyear, shade=True, label='data')\n",
    "plt.savefig(f'../Images/2.3.a_num_startyear_kde.jpg')\n",
    "plt.show()"
   ]
  },
  {
   "cell_type": "markdown",
   "id": "c18df307",
   "metadata": {},
   "source": [
    "##### 2.3.b - averagerating\n",
    "- This is likely to be some sort of target in the future, linear regression would be great to take this project a step further."
   ]
  },
  {
   "cell_type": "code",
   "execution_count": 21,
   "id": "c2a1d86e",
   "metadata": {},
   "outputs": [
    {
     "data": {
      "image/png": "[encoded data removed]",
      "text/plain": [
       "<Figure size 432x288 with 1 Axes>"
      ]
     },
     "metadata": {
      "needs_background": "light"
     },
     "output_type": "display_data"
    },
    {
     "data": {
      "image/png": "[encoded data removed]",
      "text/plain": [
       "<Figure size 432x288 with 1 Axes>"
      ]
     },
     "metadata": {
      "needs_background": "light"
     },
     "output_type": "display_data"
    }
   ],
   "source": [
    "sns.histplot(data.averagerating)\n",
    "plt.savefig(f'../Images/2.3.b_num_averagerating_hist.jpg')\n",
    "plt.show()\n",
    "\n",
    "sns.kdeplot(data.averagerating, shade=True, label='data')\n",
    "plt.savefig(f'../Images/2.3.b_num_averagerating_kde.jpg')\n",
    "plt.show()\n"
   ]
  },
  {
   "cell_type": "code",
   "execution_count": 22,
   "id": "amino-conversation",
   "metadata": {},
   "outputs": [
    {
     "data": {
      "image/png": "[encoded data removed]",
      "text/plain": [
       "<Figure size 360x360 with 1 Axes>"
      ]
     },
     "metadata": {
      "needs_background": "light"
     },
     "output_type": "display_data"
    }
   ],
   "source": [
    "# Using Numpy I'll first calculate the IQR, then use it to identify and remove outliers found in the averagerating feature.\n",
    "q1 = np.quantile(data.averagerating, 0.25)\n",
    "q2 = np.quantile(data.averagerating, 0.5)\n",
    "q3 = np.quantile(data.averagerating, 0.75)\n",
    "\n",
    "# calc iqr\n",
    "iqr = (q3 - q1)\n",
    "# expand iqr to discern outliers\n",
    "iqr_x = iqr*1.5\n",
    "\n",
    "# setting the lower and upper limits\n",
    "iqr_lower = q1-iqr_x\n",
    "iqr_upper = q3+iqr_x\n",
    "\n",
    "\n",
    "sns.displot(data.averagerating)\n",
    "plt.axvline(x=q1, label=\"Q1\", c = 'g')\n",
    "plt.axvline(x=q2, label=\"Q2\", c = '#fd4d3f')\n",
    "plt.axvline(x=q3, label=\"Q3\", c = 'r')\n",
    "\n",
    "plt.axvline(x=iqr_lower, label = 'IQR Lower', c = 'black')\n",
    "plt.axvline(x=iqr_upper, label = 'IQR Upper', c = 'black')\n",
    "plt.legend()\n",
    "plt.savefig(f'../Images/2.3.b_outliers_check_averagerating.jpg')\n",
    "plt.show()\n",
    "#TODO come back and trim this"
   ]
  },
  {
   "cell_type": "code",
   "execution_count": 23,
   "id": "computational-therapy",
   "metadata": {},
   "outputs": [],
   "source": [
    "# trimming off everything above and below the threshold.\n",
    "# Intuition on this dictates that we want data that extreme outliers can lead to groupings - ansd their centroids, being dragged out due to these skewed data.\n",
    "data = data[data.averagerating >= iqr_lower]\n",
    "data = data[data.averagerating <= iqr_upper]"
   ]
  },
  {
   "cell_type": "code",
   "execution_count": 24,
   "id": "brutal-factor",
   "metadata": {},
   "outputs": [
    {
     "data": {
      "text/plain": [
       "(26198, 10)"
      ]
     },
     "execution_count": 24,
     "metadata": {},
     "output_type": "execute_result"
    }
   ],
   "source": [
    "data.shape\n",
    "# we've lost only a small number of rows.\n",
    "#TODO get the original number and show difference."
   ]
  },
  {
   "cell_type": "code",
   "execution_count": 25,
   "id": "f0866173",
   "metadata": {},
   "outputs": [
    {
     "data": {
      "image/png": "[encoded data removed]",
      "text/plain": [
       "<Figure size 360x360 with 1 Axes>"
      ]
     },
     "metadata": {
      "needs_background": "light"
     },
     "output_type": "display_data"
    }
   ],
   "source": [
    "\n",
    "# checking out the new distribution using the new IQR.\n",
    "q1 = np.quantile(data.averagerating, 0.25)\n",
    "q2 = np.quantile(data.averagerating, 0.5)\n",
    "q3 = np.quantile(data.averagerating, 0.75)\n",
    "\n",
    "# calc iqr\n",
    "iqr = (q3 - q1)\n",
    "# expand iqr to discern outliers\n",
    "iqr_x = iqr*1.5\n",
    "\n",
    "# setting the lower and upper limits\n",
    "iqr_lower = q1-iqr_x\n",
    "iqr_upper = q3+iqr_x\n",
    "\n",
    "\n",
    "sns.displot(data.averagerating)\n",
    "plt.axvline(x=q1, label=\"Q1\", c = 'g')\n",
    "plt.axvline(x=q2, label=\"Q2\", c = '#fd4d3f')\n",
    "plt.axvline(x=q3, label=\"Q3\", c = 'r')\n",
    "\n",
    "plt.axvline(x=iqr_lower, label = 'IQR Lower', c = 'black')\n",
    "plt.axvline(x=iqr_upper, label = 'IQR Upper', c = 'black')\n",
    "\n",
    "plt.legend()\n",
    "plt.savefig(f'../Images/2.3.b_num_outliers_recheck_averagerating.jpg')\n",
    "plt.show()\n",
    "\n"
   ]
  },
  {
   "cell_type": "code",
   "execution_count": 26,
   "id": "3df1ca46",
   "metadata": {},
   "outputs": [
    {
     "data": {
      "text/plain": [
       "(26198, 10)"
      ]
     },
     "execution_count": 26,
     "metadata": {},
     "output_type": "execute_result"
    }
   ],
   "source": [
    "data = data[data.averagerating > iqr_lower]\n",
    "data = data[data.averagerating < iqr_upper]\n",
    "data.shape"
   ]
  },
  {
   "cell_type": "code",
   "execution_count": 27,
   "id": "statutory-company",
   "metadata": {},
   "outputs": [
    {
     "data": {
      "image/png": "[encoded data removed]",
      "text/plain": [
       "<Figure size 432x288 with 1 Axes>"
      ]
     },
     "metadata": {
      "needs_background": "light"
     },
     "output_type": "display_data"
    }
   ],
   "source": [
    "sns.kdeplot(data.averagerating, shade=True, label='data')\n",
    "plt.savefig(f'../Images/2.3.b_num_averagerating_cleaned_kde.jpg')\n",
    "plt.show()"
   ]
  },
  {
   "cell_type": "code",
   "execution_count": 28,
   "id": "gorgeous-actress",
   "metadata": {},
   "outputs": [
    {
     "data": {
      "text/plain": [
       "count    26198.000000\n",
       "mean         5.806088\n",
       "std          1.260121\n",
       "min          2.500000\n",
       "25%          5.000000\n",
       "50%          6.000000\n",
       "75%          6.700000\n",
       "max          9.200000\n",
       "Name: averagerating, dtype: float64"
      ]
     },
     "execution_count": 28,
     "metadata": {},
     "output_type": "execute_result"
    }
   ],
   "source": [
    "# checking out these new summary stats\n",
    "# the max is a more realistic two hours or so while the mean remains about the same. The standard deviation has also been halved.\n",
    "data.averagerating.describe(include = 'all')"
   ]
  },
  {
   "cell_type": "code",
   "execution_count": 29,
   "id": "f84f69e8",
   "metadata": {},
   "outputs": [
    {
     "data": {
      "text/html": [
       "<div>\n",
       "<style scoped>\n",
       "    .dataframe tbody tr th:only-of-type {\n",
       "        vertical-align: middle;\n",
       "    }\n",
       "\n",
       "    .dataframe tbody tr th {\n",
       "        vertical-align: top;\n",
       "    }\n",
       "\n",
       "    .dataframe thead th {\n",
       "        text-align: right;\n",
       "    }\n",
       "</style>\n",
       "<table border=\"1\" class=\"dataframe\">\n",
       "  <thead>\n",
       "    <tr style=\"text-align: right;\">\n",
       "      <th></th>\n",
       "      <th>startyear</th>\n",
       "      <th>runtimeminutes</th>\n",
       "      <th>ordering</th>\n",
       "      <th>averagerating</th>\n",
       "      <th>numvotes</th>\n",
       "    </tr>\n",
       "  </thead>\n",
       "  <tbody>\n",
       "    <tr>\n",
       "      <th>5</th>\n",
       "      <td>2018</td>\n",
       "      <td>122.0</td>\n",
       "      <td>3</td>\n",
       "      <td>6.7</td>\n",
       "      <td>7160</td>\n",
       "    </tr>\n",
       "    <tr>\n",
       "      <th>9</th>\n",
       "      <td>2002</td>\n",
       "      <td>126.0</td>\n",
       "      <td>1</td>\n",
       "      <td>5.7</td>\n",
       "      <td>810</td>\n",
       "    </tr>\n",
       "    <tr>\n",
       "      <th>10</th>\n",
       "      <td>2002</td>\n",
       "      <td>126.0</td>\n",
       "      <td>2</td>\n",
       "      <td>5.7</td>\n",
       "      <td>810</td>\n",
       "    </tr>\n",
       "    <tr>\n",
       "      <th>11</th>\n",
       "      <td>2002</td>\n",
       "      <td>126.0</td>\n",
       "      <td>3</td>\n",
       "      <td>5.7</td>\n",
       "      <td>810</td>\n",
       "    </tr>\n",
       "    <tr>\n",
       "      <th>27</th>\n",
       "      <td>2000</td>\n",
       "      <td>99.0</td>\n",
       "      <td>1</td>\n",
       "      <td>7.1</td>\n",
       "      <td>4254</td>\n",
       "    </tr>\n",
       "    <tr>\n",
       "      <th>...</th>\n",
       "      <td>...</td>\n",
       "      <td>...</td>\n",
       "      <td>...</td>\n",
       "      <td>...</td>\n",
       "      <td>...</td>\n",
       "    </tr>\n",
       "    <tr>\n",
       "      <th>69170</th>\n",
       "      <td>2019</td>\n",
       "      <td>111.0</td>\n",
       "      <td>3</td>\n",
       "      <td>4.5</td>\n",
       "      <td>29</td>\n",
       "    </tr>\n",
       "    <tr>\n",
       "      <th>69171</th>\n",
       "      <td>2020</td>\n",
       "      <td>97.0</td>\n",
       "      <td>1</td>\n",
       "      <td>7.0</td>\n",
       "      <td>3273</td>\n",
       "    </tr>\n",
       "    <tr>\n",
       "      <th>69182</th>\n",
       "      <td>2019</td>\n",
       "      <td>107.0</td>\n",
       "      <td>3</td>\n",
       "      <td>7.6</td>\n",
       "      <td>6</td>\n",
       "    </tr>\n",
       "    <tr>\n",
       "      <th>69183</th>\n",
       "      <td>2022</td>\n",
       "      <td>82.0</td>\n",
       "      <td>1</td>\n",
       "      <td>4.2</td>\n",
       "      <td>18</td>\n",
       "    </tr>\n",
       "    <tr>\n",
       "      <th>69187</th>\n",
       "      <td>2019</td>\n",
       "      <td>76.0</td>\n",
       "      <td>2</td>\n",
       "      <td>3.4</td>\n",
       "      <td>60</td>\n",
       "    </tr>\n",
       "  </tbody>\n",
       "</table>\n",
       "<p>26198 rows × 5 columns</p>\n",
       "</div>"
      ],
      "text/plain": [
       "       startyear  runtimeminutes  ordering  averagerating  numvotes\n",
       "5           2018           122.0         3            6.7      7160\n",
       "9           2002           126.0         1            5.7       810\n",
       "10          2002           126.0         2            5.7       810\n",
       "11          2002           126.0         3            5.7       810\n",
       "27          2000            99.0         1            7.1      4254\n",
       "...          ...             ...       ...            ...       ...\n",
       "69170       2019           111.0         3            4.5        29\n",
       "69171       2020            97.0         1            7.0      3273\n",
       "69182       2019           107.0         3            7.6         6\n",
       "69183       2022            82.0         1            4.2        18\n",
       "69187       2019            76.0         2            3.4        60\n",
       "\n",
       "[26198 rows x 5 columns]"
      ]
     },
     "execution_count": 29,
     "metadata": {},
     "output_type": "execute_result"
    }
   ],
   "source": [
    "to_img(data.select_dtypes('number').head(), name='2.3_numeric_features_post')\n",
    "data.select_dtypes('number')"
   ]
  },
  {
   "cell_type": "markdown",
   "id": "southeast-sunrise",
   "metadata": {},
   "source": [
    "### 2.4 Feature Associations"
   ]
  },
  {
   "cell_type": "code",
   "execution_count": 30,
   "id": "vulnerable-gazette",
   "metadata": {},
   "outputs": [
    {
     "data": {
      "image/png": "[encoded data removed]",
      "text/plain": [
       "<Figure size 432x288 with 1 Axes>"
      ]
     },
     "metadata": {
      "needs_background": "light"
     },
     "output_type": "display_data"
    }
   ],
   "source": [
    "ax = sns.barplot(data=data,x=data.category,y=data.averagerating)\n",
    "ax.set_xticklabels(ax.get_xticklabels(),rotation = 30)\n",
    "plt.show()"
   ]
  },
  {
   "cell_type": "code",
   "execution_count": 31,
   "id": "coupled-boston",
   "metadata": {},
   "outputs": [
    {
     "data": {
      "image/png": "[encoded data removed]",
      "text/plain": [
       "<Figure size 432x288 with 1 Axes>"
      ]
     },
     "metadata": {
      "needs_background": "light"
     },
     "output_type": "display_data"
    }
   ],
   "source": [
    "ax = sns.barplot(data=data,x=data.genres,y=data.averagerating)\n",
    "ax.set_xticklabels(ax.get_xticklabels(),rotation = 30)\n",
    "plt.show()\n",
    "#TODO sort this and amke wider for x labels"
   ]
  },
  {
   "cell_type": "code",
   "execution_count": 32,
   "id": "488cfd6a",
   "metadata": {},
   "outputs": [
    {
     "data": {
      "text/plain": [
       "actor       15595\n",
       "actress     10558\n",
       "director       45\n",
       "Name: category, dtype: int64"
      ]
     },
     "execution_count": 32,
     "metadata": {},
     "output_type": "execute_result"
    }
   ],
   "source": [
    "data.category.value_counts()"
   ]
  },
  {
   "cell_type": "code",
   "execution_count": 33,
   "metadata": {},
   "outputs": [
    {
     "data": {
      "text/plain": [
       "Home                           11\n",
       "Last Call                      10\n",
       "Alive                           8\n",
       "100                             8\n",
       "Forgiveness                     8\n",
       "                               ..\n",
       "Found Betty                     1\n",
       "Angels on Tap                   1\n",
       "Lucky Girl                      1\n",
       "The Dying Light                 1\n",
       "All the Cities of the North     1\n",
       "Name: primarytitle, Length: 14672, dtype: int64"
      ]
     },
     "execution_count": 33,
     "metadata": {},
     "output_type": "execute_result"
    }
   ],
   "source": [
    "data.primarytitle.value_counts()"
   ]
  },
  {
   "cell_type": "markdown",
   "id": "biological-links",
   "metadata": {},
   "source": [
    "## 3. Feature Selection & Hyperparameter Tuning\n",
    "After checking a range of cluster quantities I'm going to use principal component analysis from Sklearn to to reduce the dimensionality of the data. To deal with the categorical variables I'm going to encode them ordinally so can feed the information to the KNN++ model without having to draatically increase me feature space."
   ]
  },
  {
   "cell_type": "markdown",
   "id": "275ed8e9",
   "metadata": {},
   "source": [
    "\n",
    "#### 3.1 Feature Selection\n",
    "\n",
    "A key concept with PCA is that the first features considered matter the most - I'd originally struggled to get good metrics because of how I was feeding data in via the pipeline.\n",
    "primaryname explodes when one hot encoded, primarytitle follows. Since I reduced genres down to a list of quintessential genres (i.e. not a list of genres. \"Drama\" vs \"['Drama', 'Horror']\").\n",
    "In the cell below I'm setting up to run summary analysis on numeric features. Noting the difference in quantity between the appearance of unique values, I'm arranging the pipeline of their unique value."
   ]
  },
  {
   "cell_type": "code",
   "execution_count": 34,
   "id": "087ccbad",
   "metadata": {},
   "outputs": [
    {
     "name": "stdout",
     "output_type": "stream",
     "text": [
      "category 3\n",
      "genres 12\n",
      "tconst 15187\n",
      "primaryname 9414\n"
     ]
    }
   ],
   "source": [
    "ohe = ['category','genres','tconst','primaryname']\n",
    "for i in ohe:\n",
    "    print(f'{i} {data[i].nunique()}')"
   ]
  },
  {
   "cell_type": "code",
   "execution_count": 35,
   "id": "0c83181b",
   "metadata": {},
   "outputs": [
    {
     "data": {
      "text/html": [
       "<div>\n",
       "<style scoped>\n",
       "    .dataframe tbody tr th:only-of-type {\n",
       "        vertical-align: middle;\n",
       "    }\n",
       "\n",
       "    .dataframe tbody tr th {\n",
       "        vertical-align: top;\n",
       "    }\n",
       "\n",
       "    .dataframe thead th {\n",
       "        text-align: right;\n",
       "    }\n",
       "</style>\n",
       "<table border=\"1\" class=\"dataframe\">\n",
       "  <thead>\n",
       "    <tr style=\"text-align: right;\">\n",
       "      <th></th>\n",
       "      <th>tconst</th>\n",
       "      <th>primarytitle</th>\n",
       "      <th>startyear</th>\n",
       "      <th>runtimeminutes</th>\n",
       "      <th>genres</th>\n",
       "      <th>ordering</th>\n",
       "      <th>category</th>\n",
       "      <th>averagerating</th>\n",
       "      <th>numvotes</th>\n",
       "      <th>primaryname</th>\n",
       "      <th>name</th>\n",
       "      <th>const</th>\n",
       "    </tr>\n",
       "  </thead>\n",
       "  <tbody>\n",
       "    <tr>\n",
       "      <th>5</th>\n",
       "      <td>tt0069049</td>\n",
       "      <td>The Other Side of the Wind</td>\n",
       "      <td>2018</td>\n",
       "      <td>122.0</td>\n",
       "      <td>Drama</td>\n",
       "      <td>3</td>\n",
       "      <td>actor</td>\n",
       "      <td>6.7</td>\n",
       "      <td>7160</td>\n",
       "      <td>Peter Bogdanovich</td>\n",
       "      <td>6912.0</td>\n",
       "      <td>0.0</td>\n",
       "    </tr>\n",
       "    <tr>\n",
       "      <th>9</th>\n",
       "      <td>tt0096056</td>\n",
       "      <td>Crime and Punishment</td>\n",
       "      <td>2002</td>\n",
       "      <td>126.0</td>\n",
       "      <td>Drama</td>\n",
       "      <td>1</td>\n",
       "      <td>actor</td>\n",
       "      <td>5.7</td>\n",
       "      <td>810</td>\n",
       "      <td>Crispin Glover</td>\n",
       "      <td>1815.0</td>\n",
       "      <td>1.0</td>\n",
       "    </tr>\n",
       "    <tr>\n",
       "      <th>10</th>\n",
       "      <td>tt0096056</td>\n",
       "      <td>Crime and Punishment</td>\n",
       "      <td>2002</td>\n",
       "      <td>126.0</td>\n",
       "      <td>Drama</td>\n",
       "      <td>2</td>\n",
       "      <td>actress</td>\n",
       "      <td>5.7</td>\n",
       "      <td>810</td>\n",
       "      <td>Vanessa Redgrave</td>\n",
       "      <td>8917.0</td>\n",
       "      <td>1.0</td>\n",
       "    </tr>\n",
       "    <tr>\n",
       "      <th>11</th>\n",
       "      <td>tt0096056</td>\n",
       "      <td>Crime and Punishment</td>\n",
       "      <td>2002</td>\n",
       "      <td>126.0</td>\n",
       "      <td>Drama</td>\n",
       "      <td>3</td>\n",
       "      <td>actor</td>\n",
       "      <td>5.7</td>\n",
       "      <td>810</td>\n",
       "      <td>John Hurt</td>\n",
       "      <td>4121.0</td>\n",
       "      <td>1.0</td>\n",
       "    </tr>\n",
       "    <tr>\n",
       "      <th>27</th>\n",
       "      <td>tt0118852</td>\n",
       "      <td>Chinese Coffee</td>\n",
       "      <td>2000</td>\n",
       "      <td>99.0</td>\n",
       "      <td>Drama</td>\n",
       "      <td>1</td>\n",
       "      <td>actor</td>\n",
       "      <td>7.1</td>\n",
       "      <td>4254</td>\n",
       "      <td>Al Pacino</td>\n",
       "      <td>176.0</td>\n",
       "      <td>2.0</td>\n",
       "    </tr>\n",
       "    <tr>\n",
       "      <th>...</th>\n",
       "      <td>...</td>\n",
       "      <td>...</td>\n",
       "      <td>...</td>\n",
       "      <td>...</td>\n",
       "      <td>...</td>\n",
       "      <td>...</td>\n",
       "      <td>...</td>\n",
       "      <td>...</td>\n",
       "      <td>...</td>\n",
       "      <td>...</td>\n",
       "      <td>...</td>\n",
       "      <td>...</td>\n",
       "    </tr>\n",
       "    <tr>\n",
       "      <th>69170</th>\n",
       "      <td>tt9900688</td>\n",
       "      <td>Big Three Dragons</td>\n",
       "      <td>2019</td>\n",
       "      <td>111.0</td>\n",
       "      <td>Comedy</td>\n",
       "      <td>3</td>\n",
       "      <td>actor</td>\n",
       "      <td>4.5</td>\n",
       "      <td>29</td>\n",
       "      <td>Chia-Chia Peng</td>\n",
       "      <td>1534.0</td>\n",
       "      <td>15182.0</td>\n",
       "    </tr>\n",
       "    <tr>\n",
       "      <th>69171</th>\n",
       "      <td>tt9902160</td>\n",
       "      <td>Herself</td>\n",
       "      <td>2020</td>\n",
       "      <td>97.0</td>\n",
       "      <td>Drama</td>\n",
       "      <td>1</td>\n",
       "      <td>actress</td>\n",
       "      <td>7.0</td>\n",
       "      <td>3273</td>\n",
       "      <td>Molly McCann</td>\n",
       "      <td>6277.0</td>\n",
       "      <td>15183.0</td>\n",
       "    </tr>\n",
       "    <tr>\n",
       "      <th>69182</th>\n",
       "      <td>tt9904552</td>\n",
       "      <td>All for the Money</td>\n",
       "      <td>2019</td>\n",
       "      <td>107.0</td>\n",
       "      <td>Comedy</td>\n",
       "      <td>3</td>\n",
       "      <td>actor</td>\n",
       "      <td>7.6</td>\n",
       "      <td>6</td>\n",
       "      <td>Simeon Henderson</td>\n",
       "      <td>8108.0</td>\n",
       "      <td>15184.0</td>\n",
       "    </tr>\n",
       "    <tr>\n",
       "      <th>69183</th>\n",
       "      <td>tt9904648</td>\n",
       "      <td>The Contrast</td>\n",
       "      <td>2022</td>\n",
       "      <td>82.0</td>\n",
       "      <td>Comedy</td>\n",
       "      <td>1</td>\n",
       "      <td>actor</td>\n",
       "      <td>4.2</td>\n",
       "      <td>18</td>\n",
       "      <td>Lance E. Nichols</td>\n",
       "      <td>4949.0</td>\n",
       "      <td>15185.0</td>\n",
       "    </tr>\n",
       "    <tr>\n",
       "      <th>69187</th>\n",
       "      <td>tt9904820</td>\n",
       "      <td>American Terror Story</td>\n",
       "      <td>2019</td>\n",
       "      <td>76.0</td>\n",
       "      <td>Horror</td>\n",
       "      <td>2</td>\n",
       "      <td>actress</td>\n",
       "      <td>3.4</td>\n",
       "      <td>60</td>\n",
       "      <td>Laurie Cummings</td>\n",
       "      <td>5024.0</td>\n",
       "      <td>15186.0</td>\n",
       "    </tr>\n",
       "  </tbody>\n",
       "</table>\n",
       "<p>26198 rows × 12 columns</p>\n",
       "</div>"
      ],
      "text/plain": [
       "          tconst                primarytitle  startyear  runtimeminutes  \\\n",
       "5      tt0069049  The Other Side of the Wind       2018           122.0   \n",
       "9      tt0096056        Crime and Punishment       2002           126.0   \n",
       "10     tt0096056        Crime and Punishment       2002           126.0   \n",
       "11     tt0096056        Crime and Punishment       2002           126.0   \n",
       "27     tt0118852              Chinese Coffee       2000            99.0   \n",
       "...          ...                         ...        ...             ...   \n",
       "69170  tt9900688           Big Three Dragons       2019           111.0   \n",
       "69171  tt9902160                     Herself       2020            97.0   \n",
       "69182  tt9904552           All for the Money       2019           107.0   \n",
       "69183  tt9904648                The Contrast       2022            82.0   \n",
       "69187  tt9904820       American Terror Story       2019            76.0   \n",
       "\n",
       "       genres  ordering category  averagerating  numvotes        primaryname  \\\n",
       "5       Drama         3    actor            6.7      7160  Peter Bogdanovich   \n",
       "9       Drama         1    actor            5.7       810     Crispin Glover   \n",
       "10      Drama         2  actress            5.7       810   Vanessa Redgrave   \n",
       "11      Drama         3    actor            5.7       810          John Hurt   \n",
       "27      Drama         1    actor            7.1      4254          Al Pacino   \n",
       "...       ...       ...      ...            ...       ...                ...   \n",
       "69170  Comedy         3    actor            4.5        29     Chia-Chia Peng   \n",
       "69171   Drama         1  actress            7.0      3273       Molly McCann   \n",
       "69182  Comedy         3    actor            7.6         6   Simeon Henderson   \n",
       "69183  Comedy         1    actor            4.2        18   Lance E. Nichols   \n",
       "69187  Horror         2  actress            3.4        60    Laurie Cummings   \n",
       "\n",
       "         name    const  \n",
       "5      6912.0      0.0  \n",
       "9      1815.0      1.0  \n",
       "10     8917.0      1.0  \n",
       "11     4121.0      1.0  \n",
       "27      176.0      2.0  \n",
       "...       ...      ...  \n",
       "69170  1534.0  15182.0  \n",
       "69171  6277.0  15183.0  \n",
       "69182  8108.0  15184.0  \n",
       "69183  4949.0  15185.0  \n",
       "69187  5024.0  15186.0  \n",
       "\n",
       "[26198 rows x 12 columns]"
      ]
     },
     "execution_count": 35,
     "metadata": {},
     "output_type": "execute_result"
    }
   ],
   "source": [
    "# preserving data so I can add clusters identified by KMeans++ as a new column later. \n",
    "X = data\n",
    "ordi = OrdinalEncoder()\n",
    "X['name'] = ordi.fit_transform(pd.DataFrame(X.primaryname))\n",
    "X['const'] = ordi.fit_transform(pd.DataFrame(X.tconst))\n",
    "\n",
    "to_img(X.head(10), name='3.1_X')\n",
    "# feature encoding\n",
    "ohe = ['category','genres']\n",
    "scal_cols = ['startyear','averagerating','numvotes','runtimeminutes','name','const']\n",
    "\n",
    "X\n"
   ]
  },
  {
   "cell_type": "markdown",
   "id": "cd21ab7d",
   "metadata": {},
   "source": [
    "### 3.2 Feature Encoding\n",
    "I'm using a column transformer to encode the X, which is the same as data but with a selection of categorical features ordinally encoded. It will return x_train which I'll then use for finding the optimal number of centroids (k) and components (PCA)."
   ]
  },
  {
   "cell_type": "code",
   "execution_count": 36,
   "id": "81d0c74a",
   "metadata": {},
   "outputs": [],
   "source": [
    "\n",
    "preprocessor = ColumnTransformer(\n",
    "    transformers=[\n",
    "        #('ordi', OrdinalEncoder(), ordi),\n",
    "        ('scaler', StandardScaler(), scal_cols),\n",
    "        ('ohe', OneHotEncoder(handle_unknown ='ignore'), ohe)\n",
    "        \n",
    "        ],remainder='drop')\n",
    "\n",
    "\n",
    "x_train = preprocessor.fit_transform(X)\n"
   ]
  },
  {
   "cell_type": "code",
   "execution_count": 37,
   "id": "a1806c32",
   "metadata": {},
   "outputs": [
    {
     "data": {
      "text/html": [
       "<div>\n",
       "<style scoped>\n",
       "    .dataframe tbody tr th:only-of-type {\n",
       "        vertical-align: middle;\n",
       "    }\n",
       "\n",
       "    .dataframe tbody tr th {\n",
       "        vertical-align: top;\n",
       "    }\n",
       "\n",
       "    .dataframe thead th {\n",
       "        text-align: right;\n",
       "    }\n",
       "</style>\n",
       "<table border=\"1\" class=\"dataframe\">\n",
       "  <thead>\n",
       "    <tr style=\"text-align: right;\">\n",
       "      <th></th>\n",
       "      <th>0</th>\n",
       "      <th>1</th>\n",
       "      <th>2</th>\n",
       "      <th>3</th>\n",
       "      <th>4</th>\n",
       "      <th>5</th>\n",
       "      <th>6</th>\n",
       "      <th>7</th>\n",
       "      <th>8</th>\n",
       "      <th>9</th>\n",
       "      <th>...</th>\n",
       "      <th>11</th>\n",
       "      <th>12</th>\n",
       "      <th>13</th>\n",
       "      <th>14</th>\n",
       "      <th>15</th>\n",
       "      <th>16</th>\n",
       "      <th>17</th>\n",
       "      <th>18</th>\n",
       "      <th>19</th>\n",
       "      <th>20</th>\n",
       "    </tr>\n",
       "  </thead>\n",
       "  <tbody>\n",
       "    <tr>\n",
       "      <th>0</th>\n",
       "      <td>0.863170</td>\n",
       "      <td>0.709399</td>\n",
       "      <td>0.143314</td>\n",
       "      <td>1.298453</td>\n",
       "      <td>0.811551</td>\n",
       "      <td>-1.735808</td>\n",
       "      <td>1.0</td>\n",
       "      <td>0.0</td>\n",
       "      <td>0.0</td>\n",
       "      <td>0.0</td>\n",
       "      <td>...</td>\n",
       "      <td>0.0</td>\n",
       "      <td>0.0</td>\n",
       "      <td>1.0</td>\n",
       "      <td>0.0</td>\n",
       "      <td>0.0</td>\n",
       "      <td>0.0</td>\n",
       "      <td>0.0</td>\n",
       "      <td>0.0</td>\n",
       "      <td>0.0</td>\n",
       "      <td>0.0</td>\n",
       "    </tr>\n",
       "    <tr>\n",
       "      <th>1</th>\n",
       "      <td>-1.969493</td>\n",
       "      <td>-0.084191</td>\n",
       "      <td>-0.104092</td>\n",
       "      <td>1.516738</td>\n",
       "      <td>-1.066404</td>\n",
       "      <td>-1.735579</td>\n",
       "      <td>1.0</td>\n",
       "      <td>0.0</td>\n",
       "      <td>0.0</td>\n",
       "      <td>0.0</td>\n",
       "      <td>...</td>\n",
       "      <td>0.0</td>\n",
       "      <td>0.0</td>\n",
       "      <td>1.0</td>\n",
       "      <td>0.0</td>\n",
       "      <td>0.0</td>\n",
       "      <td>0.0</td>\n",
       "      <td>0.0</td>\n",
       "      <td>0.0</td>\n",
       "      <td>0.0</td>\n",
       "      <td>0.0</td>\n",
       "    </tr>\n",
       "    <tr>\n",
       "      <th>2</th>\n",
       "      <td>-1.969493</td>\n",
       "      <td>-0.084191</td>\n",
       "      <td>-0.104092</td>\n",
       "      <td>1.516738</td>\n",
       "      <td>1.550279</td>\n",
       "      <td>-1.735579</td>\n",
       "      <td>0.0</td>\n",
       "      <td>1.0</td>\n",
       "      <td>0.0</td>\n",
       "      <td>0.0</td>\n",
       "      <td>...</td>\n",
       "      <td>0.0</td>\n",
       "      <td>0.0</td>\n",
       "      <td>1.0</td>\n",
       "      <td>0.0</td>\n",
       "      <td>0.0</td>\n",
       "      <td>0.0</td>\n",
       "      <td>0.0</td>\n",
       "      <td>0.0</td>\n",
       "      <td>0.0</td>\n",
       "      <td>0.0</td>\n",
       "    </tr>\n",
       "    <tr>\n",
       "      <th>3</th>\n",
       "      <td>-1.969493</td>\n",
       "      <td>-0.084191</td>\n",
       "      <td>-0.104092</td>\n",
       "      <td>1.516738</td>\n",
       "      <td>-0.216774</td>\n",
       "      <td>-1.735579</td>\n",
       "      <td>1.0</td>\n",
       "      <td>0.0</td>\n",
       "      <td>0.0</td>\n",
       "      <td>0.0</td>\n",
       "      <td>...</td>\n",
       "      <td>0.0</td>\n",
       "      <td>0.0</td>\n",
       "      <td>1.0</td>\n",
       "      <td>0.0</td>\n",
       "      <td>0.0</td>\n",
       "      <td>0.0</td>\n",
       "      <td>0.0</td>\n",
       "      <td>0.0</td>\n",
       "      <td>0.0</td>\n",
       "      <td>0.0</td>\n",
       "    </tr>\n",
       "    <tr>\n",
       "      <th>4</th>\n",
       "      <td>-2.323575</td>\n",
       "      <td>1.026835</td>\n",
       "      <td>0.030092</td>\n",
       "      <td>0.043315</td>\n",
       "      <td>-1.670283</td>\n",
       "      <td>-1.735351</td>\n",
       "      <td>1.0</td>\n",
       "      <td>0.0</td>\n",
       "      <td>0.0</td>\n",
       "      <td>0.0</td>\n",
       "      <td>...</td>\n",
       "      <td>0.0</td>\n",
       "      <td>0.0</td>\n",
       "      <td>1.0</td>\n",
       "      <td>0.0</td>\n",
       "      <td>0.0</td>\n",
       "      <td>0.0</td>\n",
       "      <td>0.0</td>\n",
       "      <td>0.0</td>\n",
       "      <td>0.0</td>\n",
       "      <td>0.0</td>\n",
       "    </tr>\n",
       "    <tr>\n",
       "      <th>...</th>\n",
       "      <td>...</td>\n",
       "      <td>...</td>\n",
       "      <td>...</td>\n",
       "      <td>...</td>\n",
       "      <td>...</td>\n",
       "      <td>...</td>\n",
       "      <td>...</td>\n",
       "      <td>...</td>\n",
       "      <td>...</td>\n",
       "      <td>...</td>\n",
       "      <td>...</td>\n",
       "      <td>...</td>\n",
       "      <td>...</td>\n",
       "      <td>...</td>\n",
       "      <td>...</td>\n",
       "      <td>...</td>\n",
       "      <td>...</td>\n",
       "      <td>...</td>\n",
       "      <td>...</td>\n",
       "      <td>...</td>\n",
       "      <td>...</td>\n",
       "    </tr>\n",
       "    <tr>\n",
       "      <th>26193</th>\n",
       "      <td>1.040211</td>\n",
       "      <td>-1.036498</td>\n",
       "      <td>-0.134521</td>\n",
       "      <td>0.698170</td>\n",
       "      <td>-1.169937</td>\n",
       "      <td>1.731893</td>\n",
       "      <td>1.0</td>\n",
       "      <td>0.0</td>\n",
       "      <td>0.0</td>\n",
       "      <td>0.0</td>\n",
       "      <td>...</td>\n",
       "      <td>1.0</td>\n",
       "      <td>0.0</td>\n",
       "      <td>0.0</td>\n",
       "      <td>0.0</td>\n",
       "      <td>0.0</td>\n",
       "      <td>0.0</td>\n",
       "      <td>0.0</td>\n",
       "      <td>0.0</td>\n",
       "      <td>0.0</td>\n",
       "      <td>0.0</td>\n",
       "    </tr>\n",
       "    <tr>\n",
       "      <th>26194</th>\n",
       "      <td>1.217252</td>\n",
       "      <td>0.947476</td>\n",
       "      <td>-0.008130</td>\n",
       "      <td>-0.065828</td>\n",
       "      <td>0.577589</td>\n",
       "      <td>1.732121</td>\n",
       "      <td>0.0</td>\n",
       "      <td>1.0</td>\n",
       "      <td>0.0</td>\n",
       "      <td>0.0</td>\n",
       "      <td>...</td>\n",
       "      <td>0.0</td>\n",
       "      <td>0.0</td>\n",
       "      <td>1.0</td>\n",
       "      <td>0.0</td>\n",
       "      <td>0.0</td>\n",
       "      <td>0.0</td>\n",
       "      <td>0.0</td>\n",
       "      <td>0.0</td>\n",
       "      <td>0.0</td>\n",
       "      <td>0.0</td>\n",
       "    </tr>\n",
       "    <tr>\n",
       "      <th>26195</th>\n",
       "      <td>1.040211</td>\n",
       "      <td>1.423630</td>\n",
       "      <td>-0.135417</td>\n",
       "      <td>0.479885</td>\n",
       "      <td>1.252209</td>\n",
       "      <td>1.732350</td>\n",
       "      <td>1.0</td>\n",
       "      <td>0.0</td>\n",
       "      <td>0.0</td>\n",
       "      <td>0.0</td>\n",
       "      <td>...</td>\n",
       "      <td>1.0</td>\n",
       "      <td>0.0</td>\n",
       "      <td>0.0</td>\n",
       "      <td>0.0</td>\n",
       "      <td>0.0</td>\n",
       "      <td>0.0</td>\n",
       "      <td>0.0</td>\n",
       "      <td>0.0</td>\n",
       "      <td>0.0</td>\n",
       "      <td>0.0</td>\n",
       "    </tr>\n",
       "    <tr>\n",
       "      <th>26196</th>\n",
       "      <td>1.571335</td>\n",
       "      <td>-1.274575</td>\n",
       "      <td>-0.134949</td>\n",
       "      <td>-0.884397</td>\n",
       "      <td>0.088297</td>\n",
       "      <td>1.732578</td>\n",
       "      <td>1.0</td>\n",
       "      <td>0.0</td>\n",
       "      <td>0.0</td>\n",
       "      <td>0.0</td>\n",
       "      <td>...</td>\n",
       "      <td>1.0</td>\n",
       "      <td>0.0</td>\n",
       "      <td>0.0</td>\n",
       "      <td>0.0</td>\n",
       "      <td>0.0</td>\n",
       "      <td>0.0</td>\n",
       "      <td>0.0</td>\n",
       "      <td>0.0</td>\n",
       "      <td>0.0</td>\n",
       "      <td>0.0</td>\n",
       "    </tr>\n",
       "    <tr>\n",
       "      <th>26197</th>\n",
       "      <td>1.040211</td>\n",
       "      <td>-1.909447</td>\n",
       "      <td>-0.133313</td>\n",
       "      <td>-1.211824</td>\n",
       "      <td>0.115930</td>\n",
       "      <td>1.732807</td>\n",
       "      <td>0.0</td>\n",
       "      <td>1.0</td>\n",
       "      <td>0.0</td>\n",
       "      <td>0.0</td>\n",
       "      <td>...</td>\n",
       "      <td>0.0</td>\n",
       "      <td>0.0</td>\n",
       "      <td>0.0</td>\n",
       "      <td>0.0</td>\n",
       "      <td>0.0</td>\n",
       "      <td>1.0</td>\n",
       "      <td>0.0</td>\n",
       "      <td>0.0</td>\n",
       "      <td>0.0</td>\n",
       "      <td>0.0</td>\n",
       "    </tr>\n",
       "  </tbody>\n",
       "</table>\n",
       "<p>26198 rows × 21 columns</p>\n",
       "</div>"
      ],
      "text/plain": [
       "             0         1         2         3         4         5    6    7   \\\n",
       "0      0.863170  0.709399  0.143314  1.298453  0.811551 -1.735808  1.0  0.0   \n",
       "1     -1.969493 -0.084191 -0.104092  1.516738 -1.066404 -1.735579  1.0  0.0   \n",
       "2     -1.969493 -0.084191 -0.104092  1.516738  1.550279 -1.735579  0.0  1.0   \n",
       "3     -1.969493 -0.084191 -0.104092  1.516738 -0.216774 -1.735579  1.0  0.0   \n",
       "4     -2.323575  1.026835  0.030092  0.043315 -1.670283 -1.735351  1.0  0.0   \n",
       "...         ...       ...       ...       ...       ...       ...  ...  ...   \n",
       "26193  1.040211 -1.036498 -0.134521  0.698170 -1.169937  1.731893  1.0  0.0   \n",
       "26194  1.217252  0.947476 -0.008130 -0.065828  0.577589  1.732121  0.0  1.0   \n",
       "26195  1.040211  1.423630 -0.135417  0.479885  1.252209  1.732350  1.0  0.0   \n",
       "26196  1.571335 -1.274575 -0.134949 -0.884397  0.088297  1.732578  1.0  0.0   \n",
       "26197  1.040211 -1.909447 -0.133313 -1.211824  0.115930  1.732807  0.0  1.0   \n",
       "\n",
       "        8    9   ...   11   12   13   14   15   16   17   18   19   20  \n",
       "0      0.0  0.0  ...  0.0  0.0  1.0  0.0  0.0  0.0  0.0  0.0  0.0  0.0  \n",
       "1      0.0  0.0  ...  0.0  0.0  1.0  0.0  0.0  0.0  0.0  0.0  0.0  0.0  \n",
       "2      0.0  0.0  ...  0.0  0.0  1.0  0.0  0.0  0.0  0.0  0.0  0.0  0.0  \n",
       "3      0.0  0.0  ...  0.0  0.0  1.0  0.0  0.0  0.0  0.0  0.0  0.0  0.0  \n",
       "4      0.0  0.0  ...  0.0  0.0  1.0  0.0  0.0  0.0  0.0  0.0  0.0  0.0  \n",
       "...    ...  ...  ...  ...  ...  ...  ...  ...  ...  ...  ...  ...  ...  \n",
       "26193  0.0  0.0  ...  1.0  0.0  0.0  0.0  0.0  0.0  0.0  0.0  0.0  0.0  \n",
       "26194  0.0  0.0  ...  0.0  0.0  1.0  0.0  0.0  0.0  0.0  0.0  0.0  0.0  \n",
       "26195  0.0  0.0  ...  1.0  0.0  0.0  0.0  0.0  0.0  0.0  0.0  0.0  0.0  \n",
       "26196  0.0  0.0  ...  1.0  0.0  0.0  0.0  0.0  0.0  0.0  0.0  0.0  0.0  \n",
       "26197  0.0  0.0  ...  0.0  0.0  0.0  0.0  0.0  1.0  0.0  0.0  0.0  0.0  \n",
       "\n",
       "[26198 rows x 21 columns]"
      ]
     },
     "execution_count": 37,
     "metadata": {},
     "output_type": "execute_result"
    }
   ],
   "source": [
    "# just looking to see what the training data looks like.\n",
    "to_img(pd.DataFrame(x_train).head(10), name='3.2_x_train')\n",
    "pd.DataFrame(x_train)"
   ]
  },
  {
   "cell_type": "markdown",
   "id": "55e7ffa8",
   "metadata": {},
   "source": [
    "### 3.3 Optimal K: Elbow Method"
   ]
  },
  {
   "cell_type": "code",
   "execution_count": 38,
   "id": "7edc98e3",
   "metadata": {},
   "outputs": [
    {
     "name": "stdout",
     "output_type": "stream",
     "text": [
      "The inertia for : 1 Clusters is: 187431.84594243806\n",
      "The inertia for : 2 Clusters is: 155264.33900609845\n",
      "The inertia for : 3 Clusters is: 139632.1341222499\n",
      "The inertia for : 4 Clusters is: 122266.34860405367\n",
      "The inertia for : 5 Clusters is: 112178.32837553967\n",
      "The inertia for : 6 Clusters is: 104021.47752096658\n",
      "The inertia for : 7 Clusters is: 99160.42104581016\n",
      "The inertia for : 8 Clusters is: 95490.67956697872\n",
      "The inertia for : 9 Clusters is: 91030.76948923797\n",
      "The inertia for : 10 Clusters is: 87709.14055637826\n",
      "The inertia for : 11 Clusters is: 84742.12501478956\n",
      "The inertia for : 12 Clusters is: 81890.27923849803\n",
      "The inertia for : 13 Clusters is: 79392.8133277704\n",
      "The inertia for : 14 Clusters is: 78442.89342700143\n"
     ]
    },
    {
     "data": {
      "image/png": "[encoded data removed]",
      "text/plain": [
       "<Figure size 432x288 with 1 Axes>"
      ]
     },
     "metadata": {
      "needs_background": "light"
     },
     "output_type": "display_data"
    }
   ],
   "source": [
    "cs = []\n",
    "c_dict = {}\n",
    "n_clusters = [range(1, 15)]\n",
    "for k in range(1, 15):\n",
    "    kmeans = KMeans(n_clusters = k, init = 'k-means++', max_iter = 30, n_init = 4, random_state = 42)\n",
    "    kmeans.fit(x_train)\n",
    "    cs.append(kmeans.inertia_)\n",
    "    if k not in c_dict.keys():\n",
    "        c_dict[k] = kmeans.inertia_\n",
    "\n",
    "    print(\"The inertia for :\", k, \"Clusters is:\", kmeans.inertia_)\n",
    "plt.plot(range(1, 15), cs)\n",
    "plt.title('The Elbow Method')\n",
    "plt.xlabel('Number of clusters')\n",
    "plt.ylabel('Sum of squared distance (Inertia)')\n",
    "plt.title(\"Inertia Plot for k\")\n",
    "plt.savefig('../Images/3.3_hypertuning_kmeans_elbow_1.jpg')\n",
    "plt.show()\n"
   ]
  },
  {
   "cell_type": "code",
   "execution_count": 39,
   "id": "96408d8e",
   "metadata": {},
   "outputs": [
    {
     "name": "stdout",
     "output_type": "stream",
     "text": [
      "Model Inertia: 104029.28685771256\n",
      "Model Label: {0, 1, 2, 3, 4, 5}\n"
     ]
    }
   ],
   "source": [
    "# Using the best k shown by the elbow method to train a new model.\n",
    "kmeans = KMeans(n_clusters = 6, init = 'k-means++', max_iter = 20, n_init = 8, random_state = 42)\n",
    "kmeans.fit(x_train)\n",
    "\n",
    "# saving for PCA\n",
    "labels = set(kmeans.labels_)\n",
    "# saving for PCA\n",
    "y_pred = kmeans.predict(x_train)\n",
    "# saving this to compare with final model\n",
    "old_inertia = kmeans.inertia_\n",
    "# labels for plot legend\n",
    "target_labels = [f'Cluster {1+x}' for x in labels]\n",
    "print(f'Model Inertia: {kmeans.inertia_}')\n",
    "print(f'Model Label: {labels}')"
   ]
  },
  {
   "cell_type": "markdown",
   "id": "dcbe4bce",
   "metadata": {},
   "source": [
    "### 3.4 Principal Component Analysis\n"
   ]
  },
  {
   "cell_type": "code",
   "execution_count": 40,
   "id": "24d98415",
   "metadata": {},
   "outputs": [
    {
     "data": {
      "text/html": [
       "<div>\n",
       "<style scoped>\n",
       "    .dataframe tbody tr th:only-of-type {\n",
       "        vertical-align: middle;\n",
       "    }\n",
       "\n",
       "    .dataframe tbody tr th {\n",
       "        vertical-align: top;\n",
       "    }\n",
       "\n",
       "    .dataframe thead th {\n",
       "        text-align: right;\n",
       "    }\n",
       "</style>\n",
       "<table border=\"1\" class=\"dataframe\">\n",
       "  <thead>\n",
       "    <tr style=\"text-align: right;\">\n",
       "      <th></th>\n",
       "      <th>0</th>\n",
       "      <th>1</th>\n",
       "    </tr>\n",
       "  </thead>\n",
       "  <tbody>\n",
       "    <tr>\n",
       "      <th>0</th>\n",
       "      <td>0.682770</td>\n",
       "      <td>1.533443</td>\n",
       "    </tr>\n",
       "    <tr>\n",
       "      <th>1</th>\n",
       "      <td>2.510402</td>\n",
       "      <td>0.559275</td>\n",
       "    </tr>\n",
       "    <tr>\n",
       "      <th>2</th>\n",
       "      <td>2.450999</td>\n",
       "      <td>0.928781</td>\n",
       "    </tr>\n",
       "    <tr>\n",
       "      <th>3</th>\n",
       "      <td>2.503776</td>\n",
       "      <td>0.687059</td>\n",
       "    </tr>\n",
       "    <tr>\n",
       "      <th>4</th>\n",
       "      <td>2.972440</td>\n",
       "      <td>0.268337</td>\n",
       "    </tr>\n",
       "    <tr>\n",
       "      <th>...</th>\n",
       "      <td>...</td>\n",
       "      <td>...</td>\n",
       "    </tr>\n",
       "    <tr>\n",
       "      <th>26193</th>\n",
       "      <td>-2.058861</td>\n",
       "      <td>-0.346960</td>\n",
       "    </tr>\n",
       "    <tr>\n",
       "      <th>26194</th>\n",
       "      <td>-1.936467</td>\n",
       "      <td>0.982529</td>\n",
       "    </tr>\n",
       "    <tr>\n",
       "      <th>26195</th>\n",
       "      <td>-1.772854</td>\n",
       "      <td>1.514973</td>\n",
       "    </tr>\n",
       "    <tr>\n",
       "      <th>26196</th>\n",
       "      <td>-2.404425</td>\n",
       "      <td>-1.287333</td>\n",
       "    </tr>\n",
       "    <tr>\n",
       "      <th>26197</th>\n",
       "      <td>-2.180994</td>\n",
       "      <td>-2.032025</td>\n",
       "    </tr>\n",
       "  </tbody>\n",
       "</table>\n",
       "<p>26198 rows × 2 columns</p>\n",
       "</div>"
      ],
      "text/plain": [
       "              0         1\n",
       "0      0.682770  1.533443\n",
       "1      2.510402  0.559275\n",
       "2      2.450999  0.928781\n",
       "3      2.503776  0.687059\n",
       "4      2.972440  0.268337\n",
       "...         ...       ...\n",
       "26193 -2.058861 -0.346960\n",
       "26194 -1.936467  0.982529\n",
       "26195 -1.772854  1.514973\n",
       "26196 -2.404425 -1.287333\n",
       "26197 -2.180994 -2.032025\n",
       "\n",
       "[26198 rows x 2 columns]"
      ]
     },
     "execution_count": 40,
     "metadata": {},
     "output_type": "execute_result"
    }
   ],
   "source": [
    "n_components = 2\n",
    "pca = PCA(n_components=n_components, random_state = 42)\n",
    "X_r = pca.fit_transform(x_train)\n",
    "to_img(pd.DataFrame(X_r).head(10), name='3.4_X_r_2_comp')\n",
    "pd.DataFrame(X_r)"
   ]
  },
  {
   "cell_type": "code",
   "execution_count": 41,
   "id": "c013e95c",
   "metadata": {},
   "outputs": [
    {
     "data": {
      "image/png": "[encoded data removed]",
      "text/plain": [
       "<Figure size 1008x576 with 1 Axes>"
      ]
     },
     "metadata": {
      "needs_background": "light"
     },
     "output_type": "display_data"
    }
   ],
   "source": [
    "plt.figure(1, figsize=(14, 8))\n",
    "for color, i, target_name in zip(colors[:len(target_labels)], list(range(len(target_labels))), target_labels):\n",
    "    plt.scatter(X_r[y_pred == i, 0], X_r[y_pred == i, 1], color=color, alpha=.8, lw=2,label=target_name)\n",
    "\n",
    "plt.legend(loc='best', shadow=False, scatterpoints=1)\n",
    "plt.legend(bbox_to_anchor=(1.05, 1), loc=2, borderaxespad=0.6)   \n",
    "plt.title(f'PCA of {n_components} Items')\n",
    "plt.savefig('../Images/3.4_hypertuning_PCA_2_comp.jpg')\n",
    "plt.show()"
   ]
  },
  {
   "cell_type": "code",
   "execution_count": 42,
   "id": "7e2c397a",
   "metadata": {},
   "outputs": [
    {
     "name": "stdout",
     "output_type": "stream",
     "text": [
      "Explained variance ratio (first two components): [0.24042741 0.18497356]\n"
     ]
    }
   ],
   "source": [
    "print('Explained variance ratio (first two components): %s' % str(pca.explained_variance_ratio_))\n"
   ]
  },
  {
   "cell_type": "markdown",
   "id": "3d335465",
   "metadata": {},
   "source": [
    "#### 3.4.1 Finding Optimal N-Components Using Optimal K\n",
    "In order to find the optimal number of components to abstract the feature set into I need to analyze the entire table to find both the total variance and its 95% percentile. The number of components that can reduce variance by 5% is what we'll go with."
   ]
  },
  {
   "cell_type": "code",
   "execution_count": 43,
   "id": "3f4ccb49",
   "metadata": {},
   "outputs": [
    {
     "data": {
      "text/plain": [
       "21"
      ]
     },
     "execution_count": 43,
     "metadata": {},
     "output_type": "execute_result"
    }
   ],
   "source": [
    "# setting the number of components to being the total number of features as given by the .shape() tuple.\n",
    "x_train.shape[1]"
   ]
  },
  {
   "cell_type": "code",
   "execution_count": 44,
   "id": "6fcfba99",
   "metadata": {},
   "outputs": [
    {
     "data": {
      "text/html": [
       "<div>\n",
       "<style scoped>\n",
       "    .dataframe tbody tr th:only-of-type {\n",
       "        vertical-align: middle;\n",
       "    }\n",
       "\n",
       "    .dataframe tbody tr th {\n",
       "        vertical-align: top;\n",
       "    }\n",
       "\n",
       "    .dataframe thead th {\n",
       "        text-align: right;\n",
       "    }\n",
       "</style>\n",
       "<table border=\"1\" class=\"dataframe\">\n",
       "  <thead>\n",
       "    <tr style=\"text-align: right;\">\n",
       "      <th></th>\n",
       "      <th>0</th>\n",
       "      <th>1</th>\n",
       "      <th>2</th>\n",
       "      <th>3</th>\n",
       "      <th>4</th>\n",
       "      <th>5</th>\n",
       "      <th>6</th>\n",
       "      <th>7</th>\n",
       "      <th>8</th>\n",
       "      <th>9</th>\n",
       "      <th>...</th>\n",
       "      <th>11</th>\n",
       "      <th>12</th>\n",
       "      <th>13</th>\n",
       "      <th>14</th>\n",
       "      <th>15</th>\n",
       "      <th>16</th>\n",
       "      <th>17</th>\n",
       "      <th>18</th>\n",
       "      <th>19</th>\n",
       "      <th>20</th>\n",
       "    </tr>\n",
       "  </thead>\n",
       "  <tbody>\n",
       "    <tr>\n",
       "      <th>0</th>\n",
       "      <td>0.682770</td>\n",
       "      <td>1.533443</td>\n",
       "      <td>-0.713611</td>\n",
       "      <td>-0.228901</td>\n",
       "      <td>0.537446</td>\n",
       "      <td>-0.428473</td>\n",
       "      <td>1.741145</td>\n",
       "      <td>0.588275</td>\n",
       "      <td>-0.125004</td>\n",
       "      <td>-0.071764</td>\n",
       "      <td>...</td>\n",
       "      <td>-0.015855</td>\n",
       "      <td>0.006161</td>\n",
       "      <td>-0.004102</td>\n",
       "      <td>-0.000052</td>\n",
       "      <td>-0.004645</td>\n",
       "      <td>-0.006052</td>\n",
       "      <td>0.001838</td>\n",
       "      <td>0.000065</td>\n",
       "      <td>1.288983e-15</td>\n",
       "      <td>-1.076835e-15</td>\n",
       "    </tr>\n",
       "    <tr>\n",
       "      <th>1</th>\n",
       "      <td>2.510402</td>\n",
       "      <td>0.559275</td>\n",
       "      <td>0.824731</td>\n",
       "      <td>-0.941791</td>\n",
       "      <td>1.516151</td>\n",
       "      <td>-0.375755</td>\n",
       "      <td>-0.295649</td>\n",
       "      <td>0.506757</td>\n",
       "      <td>-0.070915</td>\n",
       "      <td>0.001549</td>\n",
       "      <td>...</td>\n",
       "      <td>0.016436</td>\n",
       "      <td>0.012265</td>\n",
       "      <td>-0.004400</td>\n",
       "      <td>-0.001059</td>\n",
       "      <td>0.000503</td>\n",
       "      <td>-0.001628</td>\n",
       "      <td>0.000105</td>\n",
       "      <td>-0.000079</td>\n",
       "      <td>-3.359250e-16</td>\n",
       "      <td>4.413158e-18</td>\n",
       "    </tr>\n",
       "    <tr>\n",
       "      <th>2</th>\n",
       "      <td>2.450999</td>\n",
       "      <td>0.928781</td>\n",
       "      <td>-1.664073</td>\n",
       "      <td>-0.399446</td>\n",
       "      <td>1.227648</td>\n",
       "      <td>1.069931</td>\n",
       "      <td>-0.275584</td>\n",
       "      <td>0.296600</td>\n",
       "      <td>-0.089254</td>\n",
       "      <td>0.015489</td>\n",
       "      <td>...</td>\n",
       "      <td>0.001743</td>\n",
       "      <td>0.010864</td>\n",
       "      <td>-0.004326</td>\n",
       "      <td>-0.002564</td>\n",
       "      <td>-0.003427</td>\n",
       "      <td>-0.000561</td>\n",
       "      <td>-0.000698</td>\n",
       "      <td>-0.001379</td>\n",
       "      <td>1.591909e-16</td>\n",
       "      <td>3.933291e-17</td>\n",
       "    </tr>\n",
       "    <tr>\n",
       "      <th>3</th>\n",
       "      <td>2.503776</td>\n",
       "      <td>0.687059</td>\n",
       "      <td>0.006958</td>\n",
       "      <td>-0.764908</td>\n",
       "      <td>1.444822</td>\n",
       "      <td>-0.360902</td>\n",
       "      <td>-0.292492</td>\n",
       "      <td>0.495922</td>\n",
       "      <td>-0.073858</td>\n",
       "      <td>0.000061</td>\n",
       "      <td>...</td>\n",
       "      <td>0.016902</td>\n",
       "      <td>0.012031</td>\n",
       "      <td>-0.006406</td>\n",
       "      <td>-0.001003</td>\n",
       "      <td>-0.000194</td>\n",
       "      <td>-0.001963</td>\n",
       "      <td>-0.000043</td>\n",
       "      <td>-0.000285</td>\n",
       "      <td>-2.093266e-16</td>\n",
       "      <td>5.171806e-16</td>\n",
       "    </tr>\n",
       "    <tr>\n",
       "      <th>4</th>\n",
       "      <td>2.972440</td>\n",
       "      <td>0.268337</td>\n",
       "      <td>1.538637</td>\n",
       "      <td>-1.009959</td>\n",
       "      <td>-0.215827</td>\n",
       "      <td>-0.491506</td>\n",
       "      <td>-0.445114</td>\n",
       "      <td>0.306987</td>\n",
       "      <td>0.084922</td>\n",
       "      <td>-0.022634</td>\n",
       "      <td>...</td>\n",
       "      <td>0.002416</td>\n",
       "      <td>0.000908</td>\n",
       "      <td>-0.000497</td>\n",
       "      <td>0.006354</td>\n",
       "      <td>-0.000622</td>\n",
       "      <td>-0.000991</td>\n",
       "      <td>-0.000906</td>\n",
       "      <td>-0.001265</td>\n",
       "      <td>-3.973054e-16</td>\n",
       "      <td>3.593998e-17</td>\n",
       "    </tr>\n",
       "    <tr>\n",
       "      <th>...</th>\n",
       "      <td>...</td>\n",
       "      <td>...</td>\n",
       "      <td>...</td>\n",
       "      <td>...</td>\n",
       "      <td>...</td>\n",
       "      <td>...</td>\n",
       "      <td>...</td>\n",
       "      <td>...</td>\n",
       "      <td>...</td>\n",
       "      <td>...</td>\n",
       "      <td>...</td>\n",
       "      <td>...</td>\n",
       "      <td>...</td>\n",
       "      <td>...</td>\n",
       "      <td>...</td>\n",
       "      <td>...</td>\n",
       "      <td>...</td>\n",
       "      <td>...</td>\n",
       "      <td>...</td>\n",
       "      <td>...</td>\n",
       "      <td>...</td>\n",
       "    </tr>\n",
       "    <tr>\n",
       "      <th>26193</th>\n",
       "      <td>-2.058861</td>\n",
       "      <td>-0.346960</td>\n",
       "      <td>1.101156</td>\n",
       "      <td>0.125969</td>\n",
       "      <td>1.149344</td>\n",
       "      <td>-0.686928</td>\n",
       "      <td>-0.473983</td>\n",
       "      <td>-0.644251</td>\n",
       "      <td>-0.476638</td>\n",
       "      <td>-0.006568</td>\n",
       "      <td>...</td>\n",
       "      <td>0.009642</td>\n",
       "      <td>-0.008177</td>\n",
       "      <td>-0.006838</td>\n",
       "      <td>-0.007541</td>\n",
       "      <td>0.001904</td>\n",
       "      <td>0.000341</td>\n",
       "      <td>0.000283</td>\n",
       "      <td>-0.001424</td>\n",
       "      <td>2.942901e-17</td>\n",
       "      <td>3.119726e-17</td>\n",
       "    </tr>\n",
       "    <tr>\n",
       "      <th>26194</th>\n",
       "      <td>-1.936467</td>\n",
       "      <td>0.982529</td>\n",
       "      <td>-0.308387</td>\n",
       "      <td>0.083157</td>\n",
       "      <td>-1.065623</td>\n",
       "      <td>0.786775</td>\n",
       "      <td>-0.368415</td>\n",
       "      <td>0.122424</td>\n",
       "      <td>-0.064955</td>\n",
       "      <td>-0.013913</td>\n",
       "      <td>...</td>\n",
       "      <td>-0.023646</td>\n",
       "      <td>-0.012575</td>\n",
       "      <td>0.001425</td>\n",
       "      <td>0.000887</td>\n",
       "      <td>-0.003170</td>\n",
       "      <td>0.002114</td>\n",
       "      <td>-0.000227</td>\n",
       "      <td>-0.004231</td>\n",
       "      <td>1.799020e-17</td>\n",
       "      <td>4.677398e-17</td>\n",
       "    </tr>\n",
       "    <tr>\n",
       "      <th>26195</th>\n",
       "      <td>-1.772854</td>\n",
       "      <td>1.514973</td>\n",
       "      <td>-0.965297</td>\n",
       "      <td>0.074539</td>\n",
       "      <td>-0.765137</td>\n",
       "      <td>-0.765729</td>\n",
       "      <td>-0.330220</td>\n",
       "      <td>-1.206166</td>\n",
       "      <td>-0.124399</td>\n",
       "      <td>-0.107983</td>\n",
       "      <td>...</td>\n",
       "      <td>-0.033352</td>\n",
       "      <td>-0.015162</td>\n",
       "      <td>-0.007788</td>\n",
       "      <td>0.008051</td>\n",
       "      <td>-0.007357</td>\n",
       "      <td>-0.000597</td>\n",
       "      <td>0.000298</td>\n",
       "      <td>-0.004002</td>\n",
       "      <td>7.149624e-17</td>\n",
       "      <td>3.192767e-17</td>\n",
       "    </tr>\n",
       "    <tr>\n",
       "      <th>26196</th>\n",
       "      <td>-2.404425</td>\n",
       "      <td>-1.287333</td>\n",
       "      <td>-0.116365</td>\n",
       "      <td>0.741036</td>\n",
       "      <td>-0.016001</td>\n",
       "      <td>-0.728855</td>\n",
       "      <td>-0.062543</td>\n",
       "      <td>-0.498883</td>\n",
       "      <td>-0.581068</td>\n",
       "      <td>0.006683</td>\n",
       "      <td>...</td>\n",
       "      <td>0.014858</td>\n",
       "      <td>-0.019082</td>\n",
       "      <td>-0.008954</td>\n",
       "      <td>-0.009639</td>\n",
       "      <td>0.002885</td>\n",
       "      <td>-0.000978</td>\n",
       "      <td>-0.000844</td>\n",
       "      <td>-0.001676</td>\n",
       "      <td>5.699198e-17</td>\n",
       "      <td>4.399253e-18</td>\n",
       "    </tr>\n",
       "    <tr>\n",
       "      <th>26197</th>\n",
       "      <td>-2.180994</td>\n",
       "      <td>-2.032025</td>\n",
       "      <td>-0.228711</td>\n",
       "      <td>0.879199</td>\n",
       "      <td>0.115633</td>\n",
       "      <td>0.790533</td>\n",
       "      <td>-0.477209</td>\n",
       "      <td>0.059717</td>\n",
       "      <td>0.444445</td>\n",
       "      <td>-0.528928</td>\n",
       "      <td>...</td>\n",
       "      <td>-0.016793</td>\n",
       "      <td>-0.033006</td>\n",
       "      <td>-0.010116</td>\n",
       "      <td>-0.009883</td>\n",
       "      <td>-0.002322</td>\n",
       "      <td>-0.000042</td>\n",
       "      <td>-0.002440</td>\n",
       "      <td>-0.006004</td>\n",
       "      <td>1.415803e-17</td>\n",
       "      <td>-2.392824e-17</td>\n",
       "    </tr>\n",
       "  </tbody>\n",
       "</table>\n",
       "<p>26198 rows × 21 columns</p>\n",
       "</div>"
      ],
      "text/plain": [
       "             0         1         2         3         4         5         6   \\\n",
       "0      0.682770  1.533443 -0.713611 -0.228901  0.537446 -0.428473  1.741145   \n",
       "1      2.510402  0.559275  0.824731 -0.941791  1.516151 -0.375755 -0.295649   \n",
       "2      2.450999  0.928781 -1.664073 -0.399446  1.227648  1.069931 -0.275584   \n",
       "3      2.503776  0.687059  0.006958 -0.764908  1.444822 -0.360902 -0.292492   \n",
       "4      2.972440  0.268337  1.538637 -1.009959 -0.215827 -0.491506 -0.445114   \n",
       "...         ...       ...       ...       ...       ...       ...       ...   \n",
       "26193 -2.058861 -0.346960  1.101156  0.125969  1.149344 -0.686928 -0.473983   \n",
       "26194 -1.936467  0.982529 -0.308387  0.083157 -1.065623  0.786775 -0.368415   \n",
       "26195 -1.772854  1.514973 -0.965297  0.074539 -0.765137 -0.765729 -0.330220   \n",
       "26196 -2.404425 -1.287333 -0.116365  0.741036 -0.016001 -0.728855 -0.062543   \n",
       "26197 -2.180994 -2.032025 -0.228711  0.879199  0.115633  0.790533 -0.477209   \n",
       "\n",
       "             7         8         9   ...        11        12        13  \\\n",
       "0      0.588275 -0.125004 -0.071764  ... -0.015855  0.006161 -0.004102   \n",
       "1      0.506757 -0.070915  0.001549  ...  0.016436  0.012265 -0.004400   \n",
       "2      0.296600 -0.089254  0.015489  ...  0.001743  0.010864 -0.004326   \n",
       "3      0.495922 -0.073858  0.000061  ...  0.016902  0.012031 -0.006406   \n",
       "4      0.306987  0.084922 -0.022634  ...  0.002416  0.000908 -0.000497   \n",
       "...         ...       ...       ...  ...       ...       ...       ...   \n",
       "26193 -0.644251 -0.476638 -0.006568  ...  0.009642 -0.008177 -0.006838   \n",
       "26194  0.122424 -0.064955 -0.013913  ... -0.023646 -0.012575  0.001425   \n",
       "26195 -1.206166 -0.124399 -0.107983  ... -0.033352 -0.015162 -0.007788   \n",
       "26196 -0.498883 -0.581068  0.006683  ...  0.014858 -0.019082 -0.008954   \n",
       "26197  0.059717  0.444445 -0.528928  ... -0.016793 -0.033006 -0.010116   \n",
       "\n",
       "             14        15        16        17        18            19  \\\n",
       "0     -0.000052 -0.004645 -0.006052  0.001838  0.000065  1.288983e-15   \n",
       "1     -0.001059  0.000503 -0.001628  0.000105 -0.000079 -3.359250e-16   \n",
       "2     -0.002564 -0.003427 -0.000561 -0.000698 -0.001379  1.591909e-16   \n",
       "3     -0.001003 -0.000194 -0.001963 -0.000043 -0.000285 -2.093266e-16   \n",
       "4      0.006354 -0.000622 -0.000991 -0.000906 -0.001265 -3.973054e-16   \n",
       "...         ...       ...       ...       ...       ...           ...   \n",
       "26193 -0.007541  0.001904  0.000341  0.000283 -0.001424  2.942901e-17   \n",
       "26194  0.000887 -0.003170  0.002114 -0.000227 -0.004231  1.799020e-17   \n",
       "26195  0.008051 -0.007357 -0.000597  0.000298 -0.004002  7.149624e-17   \n",
       "26196 -0.009639  0.002885 -0.000978 -0.000844 -0.001676  5.699198e-17   \n",
       "26197 -0.009883 -0.002322 -0.000042 -0.002440 -0.006004  1.415803e-17   \n",
       "\n",
       "                 20  \n",
       "0     -1.076835e-15  \n",
       "1      4.413158e-18  \n",
       "2      3.933291e-17  \n",
       "3      5.171806e-16  \n",
       "4      3.593998e-17  \n",
       "...             ...  \n",
       "26193  3.119726e-17  \n",
       "26194  4.677398e-17  \n",
       "26195  3.192767e-17  \n",
       "26196  4.399253e-18  \n",
       "26197 -2.392824e-17  \n",
       "\n",
       "[26198 rows x 21 columns]"
      ]
     },
     "execution_count": 44,
     "metadata": {},
     "output_type": "execute_result"
    }
   ],
   "source": [
    "n_components = x_train.shape[1]\n",
    "pca = PCA(n_components=n_components, random_state = 42)\n",
    "X_r = pca.fit_transform(x_train)\n",
    "\n",
    "to_img(pd.DataFrame(X_r).head(10), name='3.4.1_X_r_all_comp')\n",
    "pd.DataFrame(X_r)"
   ]
  },
  {
   "cell_type": "code",
   "execution_count": 45,
   "id": "aa86d26c",
   "metadata": {},
   "outputs": [
    {
     "name": "stdout",
     "output_type": "stream",
     "text": [
      "Total Variance in our dataset is:  7.15470649091264\n",
      "The 95% variance we want to have is:  6.796971166367008\n",
      "\n",
      "Variance explained with 5 compononets:  5.762343913989157\n",
      "Variance explained with 10 compononets:  7.041863028391861\n",
      "Variance explained with 15 compononets:  7.138550560211219\n"
     ]
    },
    {
     "data": {
      "image/png": "[encoded data removed]",
      "text/plain": [
       "<Figure size 1008x576 with 1 Axes>"
      ]
     },
     "metadata": {
      "needs_background": "light"
     },
     "output_type": "display_data"
    },
    {
     "name": "stdout",
     "output_type": "stream",
     "text": [
      "The best is 10 components which yields 7.041863028391861\n"
     ]
    }
   ],
   "source": [
    "\n",
    "total_variance = sum(pca.explained_variance_)\n",
    "print('Total Variance in our dataset is: ', total_variance)\n",
    "var_95 = total_variance * 0.95\n",
    "print('The 95% variance we want to have is: ', var_95)\n",
    "print('')\n",
    "# Creating a df with the components and explained variance\n",
    "a = zip(range(0,n_components), pca.explained_variance_)\n",
    "a = pd.DataFrame(a, columns=['PCA Comp', 'Explained Variance'])\n",
    "\n",
    "# Trying to hit 95%\n",
    "\n",
    "d = 1\n",
    "v = []\n",
    "best = []\n",
    "\n",
    "for i in range(len(a)):\n",
    "    if len(v) > a.shape[0]*.9:\n",
    "        if sum(v[-5:])/5 == v[:-1]:\n",
    "            break\n",
    "    else:\n",
    "        v.append(sum(a['Explained Variance'][0:d]))\n",
    "        if d%5 == 0:\n",
    "            print(f'Variance explained with {d} compononets: ', sum(a['Explained Variance'][0:d]))\n",
    "            if sum(a['Explained Variance'][0:d]) >= var_95:\n",
    "                best.append((d,sum(a['Explained Variance'][0:d])))\n",
    "        d += 1\n",
    "\n",
    "\n",
    "best_c = best[0][0]\n",
    "best_v = best[0][1]\n",
    "\n",
    "\n",
    "# Plotting the Data\n",
    "plt.figure(1, figsize=(14, 8))\n",
    "plt.plot(pca.explained_variance_ratio_, linewidth=2, c='r')\n",
    "plt.xlabel('n_components')\n",
    "plt.ylabel('explained_ratio_')\n",
    "\n",
    "# Plotting line with 95% e.v.\n",
    "plt.axvline(best_c,linestyle=':', label='n_components - 95% explained', c ='blue')\n",
    "plt.legend(prop=dict(size=12))\n",
    "\n",
    "# adding arrow\n",
    "plt.annotate(f'{best_c} eigenvectors used to explain 95% variance', xy=(best_c, pca.explained_variance_ratio_[best_c]), \n",
    "             xytext=(best_c+10, pca.explained_variance_ratio_[5]),\n",
    "            arrowprops=dict(facecolor='blue', shrink=0.05))\n",
    "plt.savefig('../Images/hypertuning_PCA_explanatory_components.jpg')\n",
    "plt.show()\n",
    "\n",
    "print(f'The best is {best_c} components which yields {best_v}')"
   ]
  },
  {
   "cell_type": "markdown",
   "id": "12b464e6",
   "metadata": {},
   "source": [
    "#### 3.4.2 Rechecking For Optimal K-Means Using Optimal N-Components\n",
    "Using PCA with this optimal number of components to add a preprocessing layer to the data before applying KMeans."
   ]
  },
  {
   "cell_type": "code",
   "execution_count": 46,
   "id": "23ff6aea",
   "metadata": {},
   "outputs": [
    {
     "data": {
      "text/html": [
       "<div>\n",
       "<style scoped>\n",
       "    .dataframe tbody tr th:only-of-type {\n",
       "        vertical-align: middle;\n",
       "    }\n",
       "\n",
       "    .dataframe tbody tr th {\n",
       "        vertical-align: top;\n",
       "    }\n",
       "\n",
       "    .dataframe thead th {\n",
       "        text-align: right;\n",
       "    }\n",
       "</style>\n",
       "<table border=\"1\" class=\"dataframe\">\n",
       "  <thead>\n",
       "    <tr style=\"text-align: right;\">\n",
       "      <th></th>\n",
       "      <th>0</th>\n",
       "      <th>1</th>\n",
       "      <th>2</th>\n",
       "      <th>3</th>\n",
       "      <th>4</th>\n",
       "      <th>5</th>\n",
       "      <th>6</th>\n",
       "      <th>7</th>\n",
       "      <th>8</th>\n",
       "      <th>9</th>\n",
       "    </tr>\n",
       "  </thead>\n",
       "  <tbody>\n",
       "    <tr>\n",
       "      <th>0</th>\n",
       "      <td>0.682770</td>\n",
       "      <td>1.533443</td>\n",
       "      <td>-0.713611</td>\n",
       "      <td>-0.228901</td>\n",
       "      <td>0.537446</td>\n",
       "      <td>-0.428473</td>\n",
       "      <td>1.741145</td>\n",
       "      <td>0.588275</td>\n",
       "      <td>-0.125004</td>\n",
       "      <td>-0.071764</td>\n",
       "    </tr>\n",
       "    <tr>\n",
       "      <th>1</th>\n",
       "      <td>2.510402</td>\n",
       "      <td>0.559275</td>\n",
       "      <td>0.824731</td>\n",
       "      <td>-0.941791</td>\n",
       "      <td>1.516151</td>\n",
       "      <td>-0.375755</td>\n",
       "      <td>-0.295649</td>\n",
       "      <td>0.506757</td>\n",
       "      <td>-0.070915</td>\n",
       "      <td>0.001549</td>\n",
       "    </tr>\n",
       "    <tr>\n",
       "      <th>2</th>\n",
       "      <td>2.450999</td>\n",
       "      <td>0.928781</td>\n",
       "      <td>-1.664073</td>\n",
       "      <td>-0.399446</td>\n",
       "      <td>1.227648</td>\n",
       "      <td>1.069931</td>\n",
       "      <td>-0.275584</td>\n",
       "      <td>0.296600</td>\n",
       "      <td>-0.089254</td>\n",
       "      <td>0.015489</td>\n",
       "    </tr>\n",
       "    <tr>\n",
       "      <th>3</th>\n",
       "      <td>2.503776</td>\n",
       "      <td>0.687059</td>\n",
       "      <td>0.006958</td>\n",
       "      <td>-0.764908</td>\n",
       "      <td>1.444822</td>\n",
       "      <td>-0.360902</td>\n",
       "      <td>-0.292492</td>\n",
       "      <td>0.495922</td>\n",
       "      <td>-0.073858</td>\n",
       "      <td>0.000061</td>\n",
       "    </tr>\n",
       "    <tr>\n",
       "      <th>4</th>\n",
       "      <td>2.972440</td>\n",
       "      <td>0.268337</td>\n",
       "      <td>1.538637</td>\n",
       "      <td>-1.009959</td>\n",
       "      <td>-0.215827</td>\n",
       "      <td>-0.491506</td>\n",
       "      <td>-0.445114</td>\n",
       "      <td>0.306987</td>\n",
       "      <td>0.084922</td>\n",
       "      <td>-0.022634</td>\n",
       "    </tr>\n",
       "    <tr>\n",
       "      <th>...</th>\n",
       "      <td>...</td>\n",
       "      <td>...</td>\n",
       "      <td>...</td>\n",
       "      <td>...</td>\n",
       "      <td>...</td>\n",
       "      <td>...</td>\n",
       "      <td>...</td>\n",
       "      <td>...</td>\n",
       "      <td>...</td>\n",
       "      <td>...</td>\n",
       "    </tr>\n",
       "    <tr>\n",
       "      <th>26193</th>\n",
       "      <td>-2.058861</td>\n",
       "      <td>-0.346960</td>\n",
       "      <td>1.101156</td>\n",
       "      <td>0.125969</td>\n",
       "      <td>1.149344</td>\n",
       "      <td>-0.686928</td>\n",
       "      <td>-0.473983</td>\n",
       "      <td>-0.644251</td>\n",
       "      <td>-0.476638</td>\n",
       "      <td>-0.006568</td>\n",
       "    </tr>\n",
       "    <tr>\n",
       "      <th>26194</th>\n",
       "      <td>-1.936467</td>\n",
       "      <td>0.982529</td>\n",
       "      <td>-0.308387</td>\n",
       "      <td>0.083157</td>\n",
       "      <td>-1.065623</td>\n",
       "      <td>0.786775</td>\n",
       "      <td>-0.368415</td>\n",
       "      <td>0.122424</td>\n",
       "      <td>-0.064955</td>\n",
       "      <td>-0.013913</td>\n",
       "    </tr>\n",
       "    <tr>\n",
       "      <th>26195</th>\n",
       "      <td>-1.772854</td>\n",
       "      <td>1.514973</td>\n",
       "      <td>-0.965297</td>\n",
       "      <td>0.074539</td>\n",
       "      <td>-0.765137</td>\n",
       "      <td>-0.765729</td>\n",
       "      <td>-0.330220</td>\n",
       "      <td>-1.206166</td>\n",
       "      <td>-0.124399</td>\n",
       "      <td>-0.107983</td>\n",
       "    </tr>\n",
       "    <tr>\n",
       "      <th>26196</th>\n",
       "      <td>-2.404425</td>\n",
       "      <td>-1.287333</td>\n",
       "      <td>-0.116365</td>\n",
       "      <td>0.741036</td>\n",
       "      <td>-0.016001</td>\n",
       "      <td>-0.728855</td>\n",
       "      <td>-0.062543</td>\n",
       "      <td>-0.498883</td>\n",
       "      <td>-0.581068</td>\n",
       "      <td>0.006683</td>\n",
       "    </tr>\n",
       "    <tr>\n",
       "      <th>26197</th>\n",
       "      <td>-2.180994</td>\n",
       "      <td>-2.032025</td>\n",
       "      <td>-0.228711</td>\n",
       "      <td>0.879199</td>\n",
       "      <td>0.115633</td>\n",
       "      <td>0.790533</td>\n",
       "      <td>-0.477209</td>\n",
       "      <td>0.059717</td>\n",
       "      <td>0.444445</td>\n",
       "      <td>-0.528928</td>\n",
       "    </tr>\n",
       "  </tbody>\n",
       "</table>\n",
       "<p>26198 rows × 10 columns</p>\n",
       "</div>"
      ],
      "text/plain": [
       "              0         1         2         3         4         5         6  \\\n",
       "0      0.682770  1.533443 -0.713611 -0.228901  0.537446 -0.428473  1.741145   \n",
       "1      2.510402  0.559275  0.824731 -0.941791  1.516151 -0.375755 -0.295649   \n",
       "2      2.450999  0.928781 -1.664073 -0.399446  1.227648  1.069931 -0.275584   \n",
       "3      2.503776  0.687059  0.006958 -0.764908  1.444822 -0.360902 -0.292492   \n",
       "4      2.972440  0.268337  1.538637 -1.009959 -0.215827 -0.491506 -0.445114   \n",
       "...         ...       ...       ...       ...       ...       ...       ...   \n",
       "26193 -2.058861 -0.346960  1.101156  0.125969  1.149344 -0.686928 -0.473983   \n",
       "26194 -1.936467  0.982529 -0.308387  0.083157 -1.065623  0.786775 -0.368415   \n",
       "26195 -1.772854  1.514973 -0.965297  0.074539 -0.765137 -0.765729 -0.330220   \n",
       "26196 -2.404425 -1.287333 -0.116365  0.741036 -0.016001 -0.728855 -0.062543   \n",
       "26197 -2.180994 -2.032025 -0.228711  0.879199  0.115633  0.790533 -0.477209   \n",
       "\n",
       "              7         8         9  \n",
       "0      0.588275 -0.125004 -0.071764  \n",
       "1      0.506757 -0.070915  0.001549  \n",
       "2      0.296600 -0.089254  0.015489  \n",
       "3      0.495922 -0.073858  0.000061  \n",
       "4      0.306987  0.084922 -0.022634  \n",
       "...         ...       ...       ...  \n",
       "26193 -0.644251 -0.476638 -0.006568  \n",
       "26194  0.122424 -0.064955 -0.013913  \n",
       "26195 -1.206166 -0.124399 -0.107983  \n",
       "26196 -0.498883 -0.581068  0.006683  \n",
       "26197  0.059717  0.444445 -0.528928  \n",
       "\n",
       "[26198 rows x 10 columns]"
      ]
     },
     "execution_count": 46,
     "metadata": {},
     "output_type": "execute_result"
    }
   ],
   "source": [
    "pca = PCA(n_components=best_c)\n",
    "X_r = pca.fit_transform(x_train)\n",
    "\n",
    "to_img(pd.DataFrame(X_r).head(10), name='3.4.2_X_r_best_comp')\n",
    "pd.DataFrame(X_r)"
   ]
  },
  {
   "cell_type": "code",
   "execution_count": 47,
   "id": "47db8fca",
   "metadata": {},
   "outputs": [
    {
     "name": "stdout",
     "output_type": "stream",
     "text": [
      "The inertia for : 1 Clusters is: 184475.68575478188\n",
      "The inertia for : 2 Clusters is: 152308.48948669183\n",
      "The inertia for : 3 Clusters is: 136677.25710721847\n",
      "The inertia for : 4 Clusters is: 119317.54220639763\n",
      "The inertia for : 5 Clusters is: 109224.15736035655\n",
      "The inertia for : 6 Clusters is: 101071.28690883309\n",
      "The inertia for : 7 Clusters is: 96456.73902086643\n",
      "The inertia for : 8 Clusters is: 91866.8176064301\n",
      "The inertia for : 9 Clusters is: 87960.10817663271\n",
      "The inertia for : 10 Clusters is: 84989.40727175874\n"
     ]
    },
    {
     "data": {
      "image/png": "[encoded data removed]",
      "text/plain": [
       "<Figure size 432x288 with 1 Axes>"
      ]
     },
     "metadata": {
      "needs_background": "light"
     },
     "output_type": "display_data"
    }
   ],
   "source": [
    "inertia = []\n",
    "cs = []\n",
    "n_clusters = [range(1, 11)]\n",
    "for k in range(1, 11):\n",
    "    kmeans = KMeans(n_clusters = k, init = 'k-means++', max_iter = 20, n_init = 4, random_state = 42)\n",
    "    kmeans.fit(X_r)\n",
    "    cs.append(kmeans.inertia_)\n",
    "    if k not in c_dict.keys():\n",
    "        c_dict[k] = kmeans.inertia_\n",
    "\n",
    "    print(\"The inertia for :\", k, \"Clusters is:\", kmeans.inertia_)\n",
    "plt.plot(range(1, 11), cs)\n",
    "plt.title('The Elbow Method')\n",
    "plt.xlabel('Number of clusters')\n",
    "plt.ylabel('Sum of squared distance (Inertia)')\n",
    "plt.title(\"Inertia Plot for k\")\n",
    "plt.savefig('../Images/3.4.2_hypertuning_kmeans_elbow_2.jpg')\n",
    "plt.show()"
   ]
  },
  {
   "cell_type": "markdown",
   "id": "e009d70a",
   "metadata": {},
   "source": [
    "### 4. Training KMeans ++ with PCA"
   ]
  },
  {
   "cell_type": "code",
   "execution_count": 48,
   "id": "426c3d7a",
   "metadata": {},
   "outputs": [
    {
     "data": {
      "text/plain": [
       "KMeans(max_iter=20, n_clusters=6, n_init=4, random_state=42)"
      ]
     },
     "execution_count": 48,
     "metadata": {},
     "output_type": "execute_result"
    }
   ],
   "source": [
    "kmeans = KMeans(n_clusters = 6, init = 'k-means++', max_iter = 20, n_init = 4, random_state = 42)\n",
    "kmeans.fit(X_r)"
   ]
  },
  {
   "cell_type": "code",
   "execution_count": 49,
   "metadata": {},
   "outputs": [
    {
     "data": {
      "text/plain": [
       "array([2, 5, 5, ..., 3, 0, 0], dtype=int32)"
      ]
     },
     "execution_count": 49,
     "metadata": {},
     "output_type": "execute_result"
    }
   ],
   "source": [
    "y_pred = kmeans.predict(X_r)\n",
    "y_pred\n"
   ]
  },
  {
   "cell_type": "code",
   "execution_count": 50,
   "id": "88ac03ab",
   "metadata": {},
   "outputs": [
    {
     "data": {
      "text/html": [
       "<div>\n",
       "<style scoped>\n",
       "    .dataframe tbody tr th:only-of-type {\n",
       "        vertical-align: middle;\n",
       "    }\n",
       "\n",
       "    .dataframe tbody tr th {\n",
       "        vertical-align: top;\n",
       "    }\n",
       "\n",
       "    .dataframe thead th {\n",
       "        text-align: right;\n",
       "    }\n",
       "</style>\n",
       "<table border=\"1\" class=\"dataframe\">\n",
       "  <thead>\n",
       "    <tr style=\"text-align: right;\">\n",
       "      <th></th>\n",
       "      <th>tconst</th>\n",
       "      <th>primarytitle</th>\n",
       "      <th>startyear</th>\n",
       "      <th>runtimeminutes</th>\n",
       "      <th>genres</th>\n",
       "      <th>ordering</th>\n",
       "      <th>category</th>\n",
       "      <th>averagerating</th>\n",
       "      <th>numvotes</th>\n",
       "      <th>primaryname</th>\n",
       "      <th>name</th>\n",
       "      <th>const</th>\n",
       "      <th>cluster</th>\n",
       "    </tr>\n",
       "  </thead>\n",
       "  <tbody>\n",
       "    <tr>\n",
       "      <th>5</th>\n",
       "      <td>tt0069049</td>\n",
       "      <td>The Other Side of the Wind</td>\n",
       "      <td>2018</td>\n",
       "      <td>122.0</td>\n",
       "      <td>Drama</td>\n",
       "      <td>3</td>\n",
       "      <td>actor</td>\n",
       "      <td>6.7</td>\n",
       "      <td>7160</td>\n",
       "      <td>Peter Bogdanovich</td>\n",
       "      <td>6912.0</td>\n",
       "      <td>0.0</td>\n",
       "      <td>2</td>\n",
       "    </tr>\n",
       "    <tr>\n",
       "      <th>9</th>\n",
       "      <td>tt0096056</td>\n",
       "      <td>Crime and Punishment</td>\n",
       "      <td>2002</td>\n",
       "      <td>126.0</td>\n",
       "      <td>Drama</td>\n",
       "      <td>1</td>\n",
       "      <td>actor</td>\n",
       "      <td>5.7</td>\n",
       "      <td>810</td>\n",
       "      <td>Crispin Glover</td>\n",
       "      <td>1815.0</td>\n",
       "      <td>1.0</td>\n",
       "      <td>5</td>\n",
       "    </tr>\n",
       "    <tr>\n",
       "      <th>10</th>\n",
       "      <td>tt0096056</td>\n",
       "      <td>Crime and Punishment</td>\n",
       "      <td>2002</td>\n",
       "      <td>126.0</td>\n",
       "      <td>Drama</td>\n",
       "      <td>2</td>\n",
       "      <td>actress</td>\n",
       "      <td>5.7</td>\n",
       "      <td>810</td>\n",
       "      <td>Vanessa Redgrave</td>\n",
       "      <td>8917.0</td>\n",
       "      <td>1.0</td>\n",
       "      <td>5</td>\n",
       "    </tr>\n",
       "    <tr>\n",
       "      <th>11</th>\n",
       "      <td>tt0096056</td>\n",
       "      <td>Crime and Punishment</td>\n",
       "      <td>2002</td>\n",
       "      <td>126.0</td>\n",
       "      <td>Drama</td>\n",
       "      <td>3</td>\n",
       "      <td>actor</td>\n",
       "      <td>5.7</td>\n",
       "      <td>810</td>\n",
       "      <td>John Hurt</td>\n",
       "      <td>4121.0</td>\n",
       "      <td>1.0</td>\n",
       "      <td>5</td>\n",
       "    </tr>\n",
       "    <tr>\n",
       "      <th>27</th>\n",
       "      <td>tt0118852</td>\n",
       "      <td>Chinese Coffee</td>\n",
       "      <td>2000</td>\n",
       "      <td>99.0</td>\n",
       "      <td>Drama</td>\n",
       "      <td>1</td>\n",
       "      <td>actor</td>\n",
       "      <td>7.1</td>\n",
       "      <td>4254</td>\n",
       "      <td>Al Pacino</td>\n",
       "      <td>176.0</td>\n",
       "      <td>2.0</td>\n",
       "      <td>5</td>\n",
       "    </tr>\n",
       "    <tr>\n",
       "      <th>...</th>\n",
       "      <td>...</td>\n",
       "      <td>...</td>\n",
       "      <td>...</td>\n",
       "      <td>...</td>\n",
       "      <td>...</td>\n",
       "      <td>...</td>\n",
       "      <td>...</td>\n",
       "      <td>...</td>\n",
       "      <td>...</td>\n",
       "      <td>...</td>\n",
       "      <td>...</td>\n",
       "      <td>...</td>\n",
       "      <td>...</td>\n",
       "    </tr>\n",
       "    <tr>\n",
       "      <th>69170</th>\n",
       "      <td>tt9900688</td>\n",
       "      <td>Big Three Dragons</td>\n",
       "      <td>2019</td>\n",
       "      <td>111.0</td>\n",
       "      <td>Comedy</td>\n",
       "      <td>3</td>\n",
       "      <td>actor</td>\n",
       "      <td>4.5</td>\n",
       "      <td>29</td>\n",
       "      <td>Chia-Chia Peng</td>\n",
       "      <td>1534.0</td>\n",
       "      <td>15182.0</td>\n",
       "      <td>1</td>\n",
       "    </tr>\n",
       "    <tr>\n",
       "      <th>69171</th>\n",
       "      <td>tt9902160</td>\n",
       "      <td>Herself</td>\n",
       "      <td>2020</td>\n",
       "      <td>97.0</td>\n",
       "      <td>Drama</td>\n",
       "      <td>1</td>\n",
       "      <td>actress</td>\n",
       "      <td>7.0</td>\n",
       "      <td>3273</td>\n",
       "      <td>Molly McCann</td>\n",
       "      <td>6277.0</td>\n",
       "      <td>15183.0</td>\n",
       "      <td>3</td>\n",
       "    </tr>\n",
       "    <tr>\n",
       "      <th>69182</th>\n",
       "      <td>tt9904552</td>\n",
       "      <td>All for the Money</td>\n",
       "      <td>2019</td>\n",
       "      <td>107.0</td>\n",
       "      <td>Comedy</td>\n",
       "      <td>3</td>\n",
       "      <td>actor</td>\n",
       "      <td>7.6</td>\n",
       "      <td>6</td>\n",
       "      <td>Simeon Henderson</td>\n",
       "      <td>8108.0</td>\n",
       "      <td>15184.0</td>\n",
       "      <td>3</td>\n",
       "    </tr>\n",
       "    <tr>\n",
       "      <th>69183</th>\n",
       "      <td>tt9904648</td>\n",
       "      <td>The Contrast</td>\n",
       "      <td>2022</td>\n",
       "      <td>82.0</td>\n",
       "      <td>Comedy</td>\n",
       "      <td>1</td>\n",
       "      <td>actor</td>\n",
       "      <td>4.2</td>\n",
       "      <td>18</td>\n",
       "      <td>Lance E. Nichols</td>\n",
       "      <td>4949.0</td>\n",
       "      <td>15185.0</td>\n",
       "      <td>0</td>\n",
       "    </tr>\n",
       "    <tr>\n",
       "      <th>69187</th>\n",
       "      <td>tt9904820</td>\n",
       "      <td>American Terror Story</td>\n",
       "      <td>2019</td>\n",
       "      <td>76.0</td>\n",
       "      <td>Horror</td>\n",
       "      <td>2</td>\n",
       "      <td>actress</td>\n",
       "      <td>3.4</td>\n",
       "      <td>60</td>\n",
       "      <td>Laurie Cummings</td>\n",
       "      <td>5024.0</td>\n",
       "      <td>15186.0</td>\n",
       "      <td>0</td>\n",
       "    </tr>\n",
       "  </tbody>\n",
       "</table>\n",
       "<p>26198 rows × 13 columns</p>\n",
       "</div>"
      ],
      "text/plain": [
       "          tconst                primarytitle  startyear  runtimeminutes  \\\n",
       "5      tt0069049  The Other Side of the Wind       2018           122.0   \n",
       "9      tt0096056        Crime and Punishment       2002           126.0   \n",
       "10     tt0096056        Crime and Punishment       2002           126.0   \n",
       "11     tt0096056        Crime and Punishment       2002           126.0   \n",
       "27     tt0118852              Chinese Coffee       2000            99.0   \n",
       "...          ...                         ...        ...             ...   \n",
       "69170  tt9900688           Big Three Dragons       2019           111.0   \n",
       "69171  tt9902160                     Herself       2020            97.0   \n",
       "69182  tt9904552           All for the Money       2019           107.0   \n",
       "69183  tt9904648                The Contrast       2022            82.0   \n",
       "69187  tt9904820       American Terror Story       2019            76.0   \n",
       "\n",
       "       genres  ordering category  averagerating  numvotes        primaryname  \\\n",
       "5       Drama         3    actor            6.7      7160  Peter Bogdanovich   \n",
       "9       Drama         1    actor            5.7       810     Crispin Glover   \n",
       "10      Drama         2  actress            5.7       810   Vanessa Redgrave   \n",
       "11      Drama         3    actor            5.7       810          John Hurt   \n",
       "27      Drama         1    actor            7.1      4254          Al Pacino   \n",
       "...       ...       ...      ...            ...       ...                ...   \n",
       "69170  Comedy         3    actor            4.5        29     Chia-Chia Peng   \n",
       "69171   Drama         1  actress            7.0      3273       Molly McCann   \n",
       "69182  Comedy         3    actor            7.6         6   Simeon Henderson   \n",
       "69183  Comedy         1    actor            4.2        18   Lance E. Nichols   \n",
       "69187  Horror         2  actress            3.4        60    Laurie Cummings   \n",
       "\n",
       "         name    const  cluster  \n",
       "5      6912.0      0.0        2  \n",
       "9      1815.0      1.0        5  \n",
       "10     8917.0      1.0        5  \n",
       "11     4121.0      1.0        5  \n",
       "27      176.0      2.0        5  \n",
       "...       ...      ...      ...  \n",
       "69170  1534.0  15182.0        1  \n",
       "69171  6277.0  15183.0        3  \n",
       "69182  8108.0  15184.0        3  \n",
       "69183  4949.0  15185.0        0  \n",
       "69187  5024.0  15186.0        0  \n",
       "\n",
       "[26198 rows x 13 columns]"
      ]
     },
     "execution_count": 50,
     "metadata": {},
     "output_type": "execute_result"
    }
   ],
   "source": [
    "data['cluster'] = y_pred\n",
    "to_img(pd.DataFrame(data).head(10), name='4_data_with_KMeans_pred_col')\n",
    "data\n",
    "\n"
   ]
  },
  {
   "cell_type": "markdown",
   "id": "2ddd227e",
   "metadata": {},
   "source": [
    "### 5. KMeans++ Model and PCA Evaluation"
   ]
  },
  {
   "cell_type": "code",
   "execution_count": 51,
   "id": "ff4c270c",
   "metadata": {},
   "outputs": [
    {
     "name": "stdout",
     "output_type": "stream",
     "text": [
      "old inertia: 104029.28685771256\n",
      "new inertia: 101071.28690883309\n",
      "change:      2957.999948879471\n"
     ]
    }
   ],
   "source": [
    "print(f'old inertia: {old_inertia}')\n",
    "print(f'new inertia: {kmeans.inertia_}')\n",
    "print(f'change:      {old_inertia-kmeans.inertia_}')"
   ]
  },
  {
   "cell_type": "code",
   "execution_count": 52,
   "id": "a96b4d3e",
   "metadata": {},
   "outputs": [
    {
     "data": {
      "image/png": "[encoded data removed]",
      "text/plain": [
       "<Figure size 1008x576 with 1 Axes>"
      ]
     },
     "metadata": {
      "needs_background": "light"
     },
     "output_type": "display_data"
    }
   ],
   "source": [
    "labels = set(kmeans.labels_)\n",
    "target_labels = [f'Cluster {x}' for x in labels]\n",
    "target_labels\n",
    "\n",
    "\n",
    "plt.figure(1, figsize=(14, 8))\n",
    "\n",
    "colors = ['navy', 'turquoise', 'darkorange', 'red', 'black','green', 'orange','pink']\n",
    "for color, i, target_name in zip(colors[:len(target_labels)], list(range(len(target_labels))), target_labels):\n",
    "    plt.scatter(X_r[y_pred == i, 0], X_r[y_pred == i, 1], color=color, alpha=.8, lw=2,label=target_name)\n",
    "\n",
    "\n",
    "\n",
    "plt.legend(loc='best', shadow=False, scatterpoints=1)\n",
    "plt.legend(bbox_to_anchor=(1.05, 1), loc=2, borderaxespad=0.6)   \n",
    "plt.title(f'PCA of {best_c} Items')\n",
    "plt.savefig('../Images/5_final_clusters.jpg')\n",
    "plt.show()\n",
    "\n",
    "\n",
    "\n"
   ]
  },
  {
   "cell_type": "markdown",
   "id": "2d5943e8",
   "metadata": {},
   "source": [
    "### 6. Cluster Analysis"
   ]
  },
  {
   "cell_type": "code",
   "execution_count": 53,
   "id": "503697f6",
   "metadata": {},
   "outputs": [
    {
     "data": {
      "image/png": "[encoded data removed]",
      "text/plain": [
       "<Figure size 432x288 with 1 Axes>"
      ]
     },
     "metadata": {
      "needs_background": "light"
     },
     "output_type": "display_data"
    },
    {
     "data": {
      "image/png": "[encoded data removed]",
      "text/plain": [
       "<Figure size 432x288 with 1 Axes>"
      ]
     },
     "metadata": {
      "needs_background": "light"
     },
     "output_type": "display_data"
    },
    {
     "data": {
      "image/png": "[encoded data removed]",
      "text/plain": [
       "<Figure size 432x288 with 1 Axes>"
      ]
     },
     "metadata": {
      "needs_background": "light"
     },
     "output_type": "display_data"
    },
    {
     "data": {
      "image/png": "[encoded data removed]",
      "text/plain": [
       "<Figure size 432x288 with 1 Axes>"
      ]
     },
     "metadata": {
      "needs_background": "light"
     },
     "output_type": "display_data"
    },
    {
     "data": {
      "image/png": "[encoded data removed]",
      "text/plain": [
       "<Figure size 432x288 with 1 Axes>"
      ]
     },
     "metadata": {
      "needs_background": "light"
     },
     "output_type": "display_data"
    },
    {
     "data": {
      "image/png": "[encoded data removed]",
      "text/plain": [
       "<Figure size 432x288 with 1 Axes>"
      ]
     },
     "metadata": {
      "needs_background": "light"
     },
     "output_type": "display_data"
    }
   ],
   "source": [
    "\n",
    "val_counts = []\n",
    "for i in range(len(target_labels)):\n",
    "    ax = sns.countplot(data=data[data.cluster == i], x='genres')\n",
    "    ax.set_xticklabels(ax.get_xticklabels(),rotation = 30)\n",
    "    plt.savefig(f'../Images/cluster_analysis_{i}_genres.jpg')\n",
    "    plt.show()\n"
   ]
  },
  {
   "cell_type": "code",
   "execution_count": 54,
   "id": "59465c03",
   "metadata": {},
   "outputs": [
    {
     "data": {
      "image/png": "[encoded data removed]",
      "text/plain": [
       "<Figure size 432x288 with 1 Axes>"
      ]
     },
     "metadata": {
      "needs_background": "light"
     },
     "output_type": "display_data"
    },
    {
     "data": {
      "image/png": "[encoded data removed]",
      "text/plain": [
       "<Figure size 432x288 with 1 Axes>"
      ]
     },
     "metadata": {
      "needs_background": "light"
     },
     "output_type": "display_data"
    },
    {
     "data": {
      "image/png": "[encoded data removed]",
      "text/plain": [
       "<Figure size 432x288 with 1 Axes>"
      ]
     },
     "metadata": {
      "needs_background": "light"
     },
     "output_type": "display_data"
    },
    {
     "data": {
      "image/png": "[encoded data removed]",
      "text/plain": [
       "<Figure size 432x288 with 1 Axes>"
      ]
     },
     "metadata": {
      "needs_background": "light"
     },
     "output_type": "display_data"
    },
    {
     "data": {
      "image/png": "[encoded data removed]",
      "text/plain": [
       "<Figure size 432x288 with 1 Axes>"
      ]
     },
     "metadata": {
      "needs_background": "light"
     },
     "output_type": "display_data"
    },
    {
     "data": {
      "image/png": "[encoded data removed]",
      "text/plain": [
       "<Figure size 432x288 with 1 Axes>"
      ]
     },
     "metadata": {
      "needs_background": "light"
     },
     "output_type": "display_data"
    }
   ],
   "source": [
    "val_counts = []\n",
    "for i in range(len(target_labels)):\n",
    "    ax = sns.countplot(data=data[data.cluster == i], x='category')\n",
    "    ax.set_xticklabels(ax.get_xticklabels(),rotation = 30)\n",
    "    plt.savefig(f'../Images/cluster_analysis_{i}_categories.jpg')\n",
    "    plt.show()"
   ]
  },
  {
   "cell_type": "code",
   "execution_count": 55,
   "id": "9176e545",
   "metadata": {},
   "outputs": [
    {
     "name": "stdout",
     "output_type": "stream",
     "text": [
      "Eric Roberts      16\n",
      "Kevin Sorbo       13\n",
      "Michael Madsen    13\n",
      "Tom Sizemore      11\n",
      "Dean Cain         10\n",
      "Name: primaryname, dtype: int64\n",
      "Eric Roberts         17\n",
      "Isabelle Huppert     13\n",
      "Catherine Deneuve    11\n",
      "Alba Rohrwacher      11\n",
      "Céline Sallette      10\n",
      "Name: primaryname, dtype: int64\n",
      "Karamjit Anmol    8\n",
      "Yogi Babu         8\n",
      "Kôji Yakusho      7\n",
      "Dileep            7\n",
      "Lily Franky       7\n",
      "Name: primaryname, dtype: int64\n",
      "Valeria Golino        11\n",
      "Sôsuke Ikematsu       11\n",
      "Tom Sizemore          10\n",
      "Valerio Mastandrea    10\n",
      "Vivica A. Fox         10\n",
      "Name: primaryname, dtype: int64\n",
      "Seann William Scott    5\n",
      "Will Ferrell           4\n",
      "Jason Biggs            3\n",
      "Seth Rogen             2\n",
      "Vince Vaughn           2\n",
      "Name: primaryname, dtype: int64\n",
      "Joe Estevez         10\n",
      "Michael Madsen       8\n",
      "Gérard Depardieu     7\n",
      "Bruno Todeschini     7\n",
      "Daniel Baldwin       7\n",
      "Name: primaryname, dtype: int64\n"
     ]
    }
   ],
   "source": [
    "for i in range(len(target_labels)):\n",
    "    print(data[data.cluster == i].primaryname.value_counts()[:5])"
   ]
  },
  {
   "cell_type": "code",
   "execution_count": 56,
   "id": "02309eee",
   "metadata": {},
   "outputs": [
    {
     "name": "stdout",
     "output_type": "stream",
     "text": [
      "Last Call            6\n",
      "The Penthouse        5\n",
      "Wolf                 5\n",
      "Heavy Duty           5\n",
      "A Christmas Carol    5\n",
      "Name: primarytitle, dtype: int64\n",
      "High Society    5\n",
      "Bad Seeds       5\n",
      "Small Time      4\n",
      "The Escape      4\n",
      "Wildlife        4\n",
      "Name: primarytitle, dtype: int64\n",
      "Hamlet             6\n",
      "100                4\n",
      "Lovers             4\n",
      "Restored Me        3\n",
      "The Long Excuse    3\n",
      "Name: primarytitle, dtype: int64\n",
      "Cargo               6\n",
      "Secret              5\n",
      "Falling             4\n",
      "Blackbird           4\n",
      "A Moment of Love    3\n",
      "Name: primarytitle, dtype: int64\n",
      "There Will Be Blood    3\n",
      "American Pie 2         3\n",
      "Step Brothers          3\n",
      "Superbad               3\n",
      "Grown Ups              3\n",
      "Name: primarytitle, dtype: int64\n",
      "Home Sweet Home    6\n",
      "Water              5\n",
      "On the Edge        5\n",
      "Peaches            5\n",
      "Forgiveness        5\n",
      "Name: primarytitle, dtype: int64\n"
     ]
    }
   ],
   "source": [
    "for i in range(len(target_labels)):\n",
    "    print(data[data.cluster == i].primarytitle.value_counts()[:5])"
   ]
  },
  {
   "cell_type": "code",
   "execution_count": 57,
   "id": "0ba29f6f",
   "metadata": {},
   "outputs": [
    {
     "name": "stdout",
     "output_type": "stream",
     "text": [
      "Horror      1654\n",
      "Comedy      1117\n",
      "Thriller     825\n",
      "Drama        585\n",
      "Action       242\n",
      "Name: genres, dtype: int64\n",
      "Drama       3894\n",
      "Comedy      1273\n",
      "Thriller     364\n",
      "Horror       224\n",
      "Romance      162\n",
      "Name: genres, dtype: int64\n",
      "Drama       1461\n",
      "Comedy       319\n",
      "Romance      124\n",
      "Action       109\n",
      "Thriller      74\n",
      "Name: genres, dtype: int64\n",
      "Drama       3868\n",
      "Comedy      1183\n",
      "Thriller     363\n",
      "Horror       230\n",
      "Romance      159\n",
      "Name: genres, dtype: int64\n",
      "Comedy    79\n",
      "Drama     38\n",
      "Horror     5\n",
      "Name: genres, dtype: int64\n",
      "Drama       3635\n",
      "Comedy      1703\n",
      "Horror       399\n",
      "Thriller     391\n",
      "Action       131\n",
      "Name: genres, dtype: int64\n"
     ]
    }
   ],
   "source": [
    "for i in range(len(target_labels)):\n",
    "    print(data[data.cluster == i].genres.value_counts()[:5])"
   ]
  },
  {
   "cell_type": "code",
   "execution_count": 58,
   "id": "9ee9a4c4",
   "metadata": {},
   "outputs": [
    {
     "name": "stdout",
     "output_type": "stream",
     "text": [
      "872.3768115942029\n",
      "1702.2660067060515\n",
      "2557.320234869015\n",
      "1631.8121192689964\n",
      "310550.368852459\n",
      "3461.8537743071506\n"
     ]
    }
   ],
   "source": [
    "for i in range(len(target_labels)):\n",
    "    print(np.mean(data[data.cluster == i].numvotes))"
   ]
  },
  {
   "cell_type": "code",
   "execution_count": 59,
   "id": "1f2a85a8",
   "metadata": {},
   "outputs": [
    {
     "name": "stdout",
     "output_type": "stream",
     "text": [
      "2015.6238095238095\n",
      "2015.8127095641066\n",
      "2015.8383017163505\n",
      "2015.6696056428343\n",
      "2008.032786885246\n",
      "2005.4423518603583\n"
     ]
    }
   ],
   "source": [
    "for i in range(len(target_labels)):\n",
    "    print(np.mean(data[data.cluster == i].startyear))"
   ]
  },
  {
   "cell_type": "code",
   "execution_count": null,
   "id": "6306f5d7",
   "metadata": {},
   "outputs": [],
   "source": [
    "\n"
   ]
  },
  {
   "cell_type": "code",
   "execution_count": null,
   "id": "c20c8ca5",
   "metadata": {},
   "outputs": [],
   "source": []
  },
  {
   "cell_type": "code",
   "execution_count": null,
   "id": "3ad2c88c",
   "metadata": {},
   "outputs": [],
   "source": []
  }
 ],
 "metadata": {
  "interpreter": {
   "hash": "e2f5eeafb4738538680cc9389be83c7f54c751ee609fa97da0b7e381233777c0"
  },
  "kernelspec": {
   "display_name": "Python 3",
   "language": "python",
   "name": "python3"
  },
  "language_info": {
   "codemirror_mode": {
    "name": "ipython",
    "version": 3
   },
   "file_extension": ".py",
   "mimetype": "text/x-python",
   "name": "python",
   "nbconvert_exporter": "python",
   "pygments_lexer": "ipython3",
   "version": "3.8.5"
  }
 },
 "nbformat": 4,
 "nbformat_minor": 5
}
