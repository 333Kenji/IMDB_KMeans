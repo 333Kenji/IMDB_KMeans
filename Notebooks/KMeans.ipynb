{
 "cells": [
  {
   "cell_type": "code",
   "execution_count": 254,
   "id": "informative-annotation",
   "metadata": {},
   "outputs": [],
   "source": [
    "import numpy as np\n",
    "import pandas as pd\n",
    "from scipy.stats import pearsonr\n",
    "from sklearn.cluster import KMeans\n",
    "from sklearn import metrics\n",
    "from sklearn.preprocessing import scale, LabelEncoder, OneHotEncoder, StandardScaler\n",
    "import matplotlib.pyplot as plt\n",
    "import seaborn as sns\n",
    "%matplotlib inline"
   ]
  },
  {
   "cell_type": "code",
   "execution_count": 2,
   "id": "certain-press",
   "metadata": {},
   "outputs": [
    {
     "name": "stdout",
     "output_type": "stream",
     "text": [
      "/home/kenji/Projects/BasicProjects/KMeans_Numbers\n"
     ]
    }
   ],
   "source": [
    "%cd /home/kenji/Projects/BasicProjects/KMeans_Numbers"
   ]
  },
  {
   "cell_type": "code",
   "execution_count": 3,
   "id": "intended-shape",
   "metadata": {},
   "outputs": [],
   "source": [
    "## DATA\n",
    "# Import/Load\n",
    "#  Examine\n",
    "# Missing Values?\n",
    "#  Value Counts\n",
    "## EDA: Initial Summary Statistics\n",
    "## Visualization: Summary Statistics\n",
    "## Preprocess Data\n",
    "#  Normailze?\n",
    "## EDA: Feature Importance/Selection\n",
    "# Convariance: Strength of Linear Relationships\n",
    "## Visualization: Feature Relations\n",
    "## Data Wrangling\n",
    "## Modelling\n",
    "# #Fit/Train Model\n",
    "# Evaluate Model\n",
    "# Visualization: Communicating Findings"
   ]
  },
  {
   "cell_type": "code",
   "execution_count": null,
   "id": "removable-objective",
   "metadata": {},
   "outputs": [],
   "source": [
    "## DATA\n",
    "\n",
    "\n",
    "#https://archive-beta.ics.uci.edu/ml/datasets/clickstream+data+for+online+shopping\n",
    "# Import/Load\n",
    "\n",
    "import pickle\n",
    "import glob\n",
    "tsv_files = glob.glob(\"Data/*.tsv\")\n",
    "database = {}\n",
    "for file in tsv_files:\n",
    "    data = pd.read_table(file,low_memory=False,na_values=['\\\\N','nan'])\n",
    "    #TODO use regex or something to clean up file name/key.\n",
    "    database[file] = data\n",
    "    print(f'{file} has been added to our database.')\n",
    "    \n",
    "#keep for now, might be needed for deploymentfor possibly pickling for later storage.\n",
    "#"
   ]
  },
  {
   "cell_type": "code",
   "execution_count": null,
   "id": "exciting-korean",
   "metadata": {},
   "outputs": [],
   "source": [
    "#  Examine\n",
    "# print(data.describe(),'\\n')\n",
    "def get_multi_info(database):\n",
    "    for name,data in database.items():\n",
    "        print(name)\n",
    "        print(data.info(),'\\n')\n",
    "\n",
    "get_multi_info(database)"
   ]
  },
  {
   "cell_type": "code",
   "execution_count": null,
   "id": "identical-master",
   "metadata": {},
   "outputs": [],
   "source": [
    "keep_basics = ['tconst','titleType','primaryTitle','startYear','runtimeMinutes','genres']\n",
    "keep_principals = ['tconst','ordering','nconst','category','job','characters']\n",
    "keep_ratings = ['tconst','averageRating','numVotes']\n",
    "keep_crew = ['tconst','directors','writers']\n",
    "keep_name = ['nconst','primaryName','birthYear','primaryProfession','knownForTitles']"
   ]
  },
  {
   "cell_type": "code",
   "execution_count": null,
   "id": "presidential-richardson",
   "metadata": {},
   "outputs": [],
   "source": [
    "#TODO Get rid of all of this, just make the date_ off the bat. Expensive trial and error is done.\n",
    "data_basics = database['Data/basics.tsv'][keep_basics]\n",
    "data_principals = database['Data/principals.tsv'][keep_principals]\n",
    "data_ratings = database['Data/ratings.tsv'][keep_ratings]\n",
    "data_crew = database['Data/crew.tsv'][keep_crew]\n",
    "data_name = database['Data/name.tsv'][keep_name]"
   ]
  },
  {
   "cell_type": "code",
   "execution_count": null,
   "id": "virtual-moderator",
   "metadata": {},
   "outputs": [],
   "source": [
    "data_basics = data_basics[data_basics.startYear.between(1900, 1949)]"
   ]
  },
  {
   "cell_type": "code",
   "execution_count": null,
   "id": "yellow-belfast",
   "metadata": {},
   "outputs": [],
   "source": [
    "genres = data_basics.genres.unique().tolist()\n",
    "horrors = [genre for genre in genres if str(genre).find('Horror') !=-1 ]"
   ]
  },
  {
   "cell_type": "code",
   "execution_count": null,
   "id": "significant-change",
   "metadata": {},
   "outputs": [],
   "source": [
    "data_basics = data_basics.loc[data_basics['genres'].isin(horrors)]"
   ]
  },
  {
   "cell_type": "code",
   "execution_count": null,
   "id": "anonymous-property",
   "metadata": {},
   "outputs": [],
   "source": [
    "data_basics = data_basics[data_basics.titleType == 'movie']"
   ]
  },
  {
   "cell_type": "code",
   "execution_count": null,
   "id": "imperial-space",
   "metadata": {},
   "outputs": [],
   "source": [
    "data_basics.drop('titleType', axis=1,inplace=True)"
   ]
  },
  {
   "cell_type": "code",
   "execution_count": null,
   "id": "geographic-rotation",
   "metadata": {},
   "outputs": [],
   "source": [
    "data_basics.dropna(subset=['runtimeMinutes'],inplace=True)"
   ]
  },
  {
   "cell_type": "code",
   "execution_count": null,
   "id": "serial-murder",
   "metadata": {},
   "outputs": [],
   "source": [
    "data_principals.drop(['job','characters'], axis=1,inplace=True)\n",
    "data_principals"
   ]
  },
  {
   "cell_type": "code",
   "execution_count": null,
   "id": "prospective-novelty",
   "metadata": {},
   "outputs": [],
   "source": [
    "data = data_basics.merge(data_principals, how='left',on='tconst')"
   ]
  },
  {
   "cell_type": "code",
   "execution_count": null,
   "id": "spread-melbourne",
   "metadata": {},
   "outputs": [],
   "source": [
    "data = data.merge(data_name, how='left',on='nconst')"
   ]
  },
  {
   "cell_type": "code",
   "execution_count": null,
   "id": "oriental-month",
   "metadata": {},
   "outputs": [],
   "source": [
    "data = data.merge(data_ratings, how='left',on='tconst')"
   ]
  },
  {
   "cell_type": "code",
   "execution_count": null,
   "id": "difficult-outside",
   "metadata": {},
   "outputs": [],
   "source": [
    "data = data.merge(data_crew, how='left',on='tconst')"
   ]
  },
  {
   "cell_type": "code",
   "execution_count": null,
   "id": "found-henry",
   "metadata": {},
   "outputs": [],
   "source": [
    "data.drop('birthYear', axis=1,inplace=True)"
   ]
  },
  {
   "cell_type": "code",
   "execution_count": null,
   "id": "frank-boards",
   "metadata": {},
   "outputs": [],
   "source": [
    "# Missing Values?\n",
    "def missing_data(data):\n",
    "    total = 0\n",
    "    maxi = 0\n",
    "    for i in data.columns:\n",
    "        print(f'Checking {i}')\n",
    "        missing = data[i].isnull().sum()\n",
    "        if missing > 0:\n",
    "            total+=missing\n",
    "            if missing > maxi:\n",
    "                maxi = missing\n",
    "            print(f'Missing: {data[i].isnull().sum()}\\n')\n",
    "        else:\n",
    "            print(f'Nothing Missing in {i}\\n')\n",
    "    if total != 0:\n",
    "        print(f'Missing {total} out of {len(data)} records, {round(maxi/len(data)*100)}% to {round(total/len(data)*100)}%')\n",
    "    else:\n",
    "        print(f'Nothing Missing\\n')\n",
    "missing_data(data)"
   ]
  },
  {
   "cell_type": "code",
   "execution_count": null,
   "id": "printable-album",
   "metadata": {},
   "outputs": [],
   "source": []
  },
  {
   "cell_type": "code",
   "execution_count": null,
   "id": "laughing-volunteer",
   "metadata": {},
   "outputs": [],
   "source": [
    "def get_multi_cols_counts(data):\n",
    "    for i in data:\n",
    "        print(f\"Columns:\\n\")\n",
    "        for j in data.columns:\n",
    "            print(j)\n",
    "        #print(f'\\nChecking {name} Unique Values: \\n')\n",
    "        \n",
    "        #print(f'\\nChecking {i} Unique Values: \\n')\n",
    "        for k in data.columns:\n",
    "            if type(k) != int:\n",
    "                #print(f'\\nUnique Values:')\n",
    "                #print(data[k].unique(),'\\n')\n",
    "                print(f'\\nValue Counts for {k}:\\n')\n",
    "                print(data[k].value_counts(dropna=False),'\\n')\n",
    "\n",
    "get_multi_cols_counts(data)"
   ]
  },
  {
   "cell_type": "code",
   "execution_count": null,
   "id": "beginning-sitting",
   "metadata": {},
   "outputs": [],
   "source": [
    "data"
   ]
  },
  {
   "cell_type": "code",
   "execution_count": null,
   "id": "colored-marketplace",
   "metadata": {},
   "outputs": [],
   "source": [
    "data.dropna(axis=0, how='any', thresh=None, inplace=True)"
   ]
  },
  {
   "cell_type": "code",
   "execution_count": null,
   "id": "familiar-kinase",
   "metadata": {},
   "outputs": [],
   "source": [
    "missing_data(data)"
   ]
  },
  {
   "cell_type": "code",
   "execution_count": null,
   "id": "comprehensive-browse",
   "metadata": {},
   "outputs": [],
   "source": [
    "data"
   ]
  },
  {
   "cell_type": "code",
   "execution_count": null,
   "id": "coordinate-bracket",
   "metadata": {},
   "outputs": [],
   "source": [
    "data.to_csv(f'Data/data.csv',index=False)"
   ]
  },
  {
   "cell_type": "code",
   "execution_count": 357,
   "id": "coated-evidence",
   "metadata": {},
   "outputs": [],
   "source": [
    "data = pd.read_csv(f'Data/data.csv')"
   ]
  },
  {
   "cell_type": "code",
   "execution_count": null,
   "id": "fifth-checkout",
   "metadata": {
    "tags": []
   },
   "outputs": [],
   "source": []
  },
  {
   "cell_type": "code",
   "execution_count": 358,
   "id": "arctic-education",
   "metadata": {},
   "outputs": [],
   "source": [
    "## EDA: Initial Summary Statistics\n",
    "#data.describe()"
   ]
  },
  {
   "cell_type": "code",
   "execution_count": 359,
   "id": "reliable-injury",
   "metadata": {},
   "outputs": [],
   "source": [
    "#data.info()"
   ]
  },
  {
   "cell_type": "code",
   "execution_count": null,
   "id": "answering-jamaica",
   "metadata": {},
   "outputs": [],
   "source": []
  },
  {
   "cell_type": "code",
   "execution_count": 360,
   "id": "reliable-travel",
   "metadata": {},
   "outputs": [],
   "source": [
    "#data.isnull().sum()"
   ]
  },
  {
   "cell_type": "code",
   "execution_count": 361,
   "id": "generic-humanitarian",
   "metadata": {},
   "outputs": [
    {
     "name": "stdout",
     "output_type": "stream",
     "text": [
      "tconst 336\n",
      "primaryTitle 321\n",
      "startYear 37\n",
      "runtimeMinutes 71\n",
      "genres 56\n",
      "ordering 10\n",
      "nconst 2343\n",
      "category 10\n",
      "primaryName 2340\n",
      "primaryProfession 361\n",
      "knownForTitles 2314\n",
      "averageRating 49\n",
      "numVotes 295\n",
      "directors 228\n",
      "writers 322\n"
     ]
    }
   ],
   "source": [
    "for i in data.columns:\n",
    "    print(i,len(data[i].unique()))"
   ]
  },
  {
   "cell_type": "code",
   "execution_count": 362,
   "id": "decent-wholesale",
   "metadata": {},
   "outputs": [
    {
     "data": {
      "text/plain": [
       "Index(['tconst', 'primaryTitle', 'startYear', 'runtimeMinutes', 'genres',\n",
       "       'ordering', 'nconst', 'category', 'primaryName', 'primaryProfession',\n",
       "       'knownForTitles', 'averageRating', 'numVotes', 'directors', 'writers'],\n",
       "      dtype='object')"
      ]
     },
     "execution_count": 362,
     "metadata": {},
     "output_type": "execute_result"
    }
   ],
   "source": [
    "data.columns"
   ]
  },
  {
   "cell_type": "code",
   "execution_count": 363,
   "id": "limited-temple",
   "metadata": {},
   "outputs": [],
   "source": [
    "#data.drop(['nconst', 'knownForTitles','directors', 'writers'], axis=1, inplace=True)"
   ]
  },
  {
   "cell_type": "code",
   "execution_count": 364,
   "id": "presidential-leeds",
   "metadata": {},
   "outputs": [],
   "source": [
    "to_encode = ['tconst','nconst','primaryTitle','genres','category','primaryName','primaryProfession','knownForTitles','directors','writers']\n",
    "#to_encode = ['genres']"
   ]
  },
  {
   "cell_type": "code",
   "execution_count": 365,
   "id": "junior-hunter",
   "metadata": {},
   "outputs": [
    {
     "data": {
      "text/plain": [
       "['tconst',\n",
       " 'nconst',\n",
       " 'primaryTitle',\n",
       " 'genres',\n",
       " 'category',\n",
       " 'primaryName',\n",
       " 'primaryProfession',\n",
       " 'knownForTitles',\n",
       " 'directors',\n",
       " 'writers']"
      ]
     },
     "execution_count": 365,
     "metadata": {},
     "output_type": "execute_result"
    }
   ],
   "source": [
    "to_encode"
   ]
  },
  {
   "cell_type": "code",
   "execution_count": 366,
   "id": "norman-retail",
   "metadata": {},
   "outputs": [],
   "source": [
    "## Visualization: Summary Statistics\n",
    "## Preprocess Data\n",
    "from sklearn.compose import ColumnTransformer,make_column_transformer"
   ]
  },
  {
   "cell_type": "code",
   "execution_count": 367,
   "id": "framed-science",
   "metadata": {},
   "outputs": [
    {
     "data": {
      "text/html": [
       "<div>\n",
       "<style scoped>\n",
       "    .dataframe tbody tr th:only-of-type {\n",
       "        vertical-align: middle;\n",
       "    }\n",
       "\n",
       "    .dataframe tbody tr th {\n",
       "        vertical-align: top;\n",
       "    }\n",
       "\n",
       "    .dataframe thead th {\n",
       "        text-align: right;\n",
       "    }\n",
       "</style>\n",
       "<table border=\"1\" class=\"dataframe\">\n",
       "  <thead>\n",
       "    <tr style=\"text-align: right;\">\n",
       "      <th></th>\n",
       "      <th>tconst</th>\n",
       "      <th>primaryTitle</th>\n",
       "      <th>startYear</th>\n",
       "      <th>runtimeMinutes</th>\n",
       "      <th>genres</th>\n",
       "      <th>ordering</th>\n",
       "      <th>nconst</th>\n",
       "      <th>category</th>\n",
       "      <th>primaryName</th>\n",
       "      <th>primaryProfession</th>\n",
       "      <th>knownForTitles</th>\n",
       "      <th>averageRating</th>\n",
       "      <th>numVotes</th>\n",
       "      <th>directors</th>\n",
       "      <th>writers</th>\n",
       "    </tr>\n",
       "  </thead>\n",
       "  <tbody>\n",
       "    <tr>\n",
       "      <th>0</th>\n",
       "      <td>0</td>\n",
       "      <td>289</td>\n",
       "      <td>1913.0</td>\n",
       "      <td>85</td>\n",
       "      <td>29</td>\n",
       "      <td>10</td>\n",
       "      <td>639</td>\n",
       "      <td>8</td>\n",
       "      <td>1894</td>\n",
       "      <td>94</td>\n",
       "      <td>1841</td>\n",
       "      <td>6.4</td>\n",
       "      <td>2071.0</td>\n",
       "      <td>166</td>\n",
       "      <td>106</td>\n",
       "    </tr>\n",
       "    <tr>\n",
       "      <th>1</th>\n",
       "      <td>0</td>\n",
       "      <td>289</td>\n",
       "      <td>1913.0</td>\n",
       "      <td>85</td>\n",
       "      <td>29</td>\n",
       "      <td>1</td>\n",
       "      <td>2107</td>\n",
       "      <td>0</td>\n",
       "      <td>1766</td>\n",
       "      <td>19</td>\n",
       "      <td>13</td>\n",
       "      <td>6.4</td>\n",
       "      <td>2071.0</td>\n",
       "      <td>166</td>\n",
       "      <td>106</td>\n",
       "    </tr>\n",
       "    <tr>\n",
       "      <th>2</th>\n",
       "      <td>0</td>\n",
       "      <td>289</td>\n",
       "      <td>1913.0</td>\n",
       "      <td>85</td>\n",
       "      <td>29</td>\n",
       "      <td>2</td>\n",
       "      <td>323</td>\n",
       "      <td>1</td>\n",
       "      <td>840</td>\n",
       "      <td>57</td>\n",
       "      <td>209</td>\n",
       "      <td>6.4</td>\n",
       "      <td>2071.0</td>\n",
       "      <td>166</td>\n",
       "      <td>106</td>\n",
       "    </tr>\n",
       "    <tr>\n",
       "      <th>3</th>\n",
       "      <td>0</td>\n",
       "      <td>289</td>\n",
       "      <td>1913.0</td>\n",
       "      <td>85</td>\n",
       "      <td>29</td>\n",
       "      <td>3</td>\n",
       "      <td>1803</td>\n",
       "      <td>1</td>\n",
       "      <td>1477</td>\n",
       "      <td>57</td>\n",
       "      <td>14</td>\n",
       "      <td>6.4</td>\n",
       "      <td>2071.0</td>\n",
       "      <td>166</td>\n",
       "      <td>106</td>\n",
       "    </tr>\n",
       "    <tr>\n",
       "      <th>4</th>\n",
       "      <td>0</td>\n",
       "      <td>289</td>\n",
       "      <td>1913.0</td>\n",
       "      <td>85</td>\n",
       "      <td>29</td>\n",
       "      <td>4</td>\n",
       "      <td>876</td>\n",
       "      <td>0</td>\n",
       "      <td>1184</td>\n",
       "      <td>19</td>\n",
       "      <td>224</td>\n",
       "      <td>6.4</td>\n",
       "      <td>2071.0</td>\n",
       "      <td>166</td>\n",
       "      <td>106</td>\n",
       "    </tr>\n",
       "    <tr>\n",
       "      <th>...</th>\n",
       "      <td>...</td>\n",
       "      <td>...</td>\n",
       "      <td>...</td>\n",
       "      <td>...</td>\n",
       "      <td>...</td>\n",
       "      <td>...</td>\n",
       "      <td>...</td>\n",
       "      <td>...</td>\n",
       "      <td>...</td>\n",
       "      <td>...</td>\n",
       "      <td>...</td>\n",
       "      <td>...</td>\n",
       "      <td>...</td>\n",
       "      <td>...</td>\n",
       "      <td>...</td>\n",
       "    </tr>\n",
       "    <tr>\n",
       "      <th>3268</th>\n",
       "      <td>335</td>\n",
       "      <td>73</td>\n",
       "      <td>1916.0</td>\n",
       "      <td>360</td>\n",
       "      <td>53</td>\n",
       "      <td>5</td>\n",
       "      <td>1301</td>\n",
       "      <td>5</td>\n",
       "      <td>1727</td>\n",
       "      <td>192</td>\n",
       "      <td>2291</td>\n",
       "      <td>6.8</td>\n",
       "      <td>49.0</td>\n",
       "      <td>121</td>\n",
       "      <td>315</td>\n",
       "    </tr>\n",
       "    <tr>\n",
       "      <th>3269</th>\n",
       "      <td>335</td>\n",
       "      <td>73</td>\n",
       "      <td>1916.0</td>\n",
       "      <td>360</td>\n",
       "      <td>53</td>\n",
       "      <td>6</td>\n",
       "      <td>2254</td>\n",
       "      <td>9</td>\n",
       "      <td>1933</td>\n",
       "      <td>319</td>\n",
       "      <td>2161</td>\n",
       "      <td>6.8</td>\n",
       "      <td>49.0</td>\n",
       "      <td>121</td>\n",
       "      <td>315</td>\n",
       "    </tr>\n",
       "    <tr>\n",
       "      <th>3270</th>\n",
       "      <td>335</td>\n",
       "      <td>73</td>\n",
       "      <td>1916.0</td>\n",
       "      <td>360</td>\n",
       "      <td>53</td>\n",
       "      <td>7</td>\n",
       "      <td>1014</td>\n",
       "      <td>3</td>\n",
       "      <td>289</td>\n",
       "      <td>125</td>\n",
       "      <td>388</td>\n",
       "      <td>6.8</td>\n",
       "      <td>49.0</td>\n",
       "      <td>121</td>\n",
       "      <td>315</td>\n",
       "    </tr>\n",
       "    <tr>\n",
       "      <th>3271</th>\n",
       "      <td>335</td>\n",
       "      <td>73</td>\n",
       "      <td>1916.0</td>\n",
       "      <td>360</td>\n",
       "      <td>53</td>\n",
       "      <td>8</td>\n",
       "      <td>1784</td>\n",
       "      <td>0</td>\n",
       "      <td>1597</td>\n",
       "      <td>0</td>\n",
       "      <td>2203</td>\n",
       "      <td>6.8</td>\n",
       "      <td>49.0</td>\n",
       "      <td>121</td>\n",
       "      <td>315</td>\n",
       "    </tr>\n",
       "    <tr>\n",
       "      <th>3272</th>\n",
       "      <td>335</td>\n",
       "      <td>73</td>\n",
       "      <td>1916.0</td>\n",
       "      <td>360</td>\n",
       "      <td>53</td>\n",
       "      <td>9</td>\n",
       "      <td>374</td>\n",
       "      <td>1</td>\n",
       "      <td>1410</td>\n",
       "      <td>57</td>\n",
       "      <td>2293</td>\n",
       "      <td>6.8</td>\n",
       "      <td>49.0</td>\n",
       "      <td>121</td>\n",
       "      <td>315</td>\n",
       "    </tr>\n",
       "  </tbody>\n",
       "</table>\n",
       "<p>3273 rows × 15 columns</p>\n",
       "</div>"
      ],
      "text/plain": [
       "      tconst  primaryTitle  startYear  runtimeMinutes  genres  ordering  \\\n",
       "0          0           289     1913.0              85      29        10   \n",
       "1          0           289     1913.0              85      29         1   \n",
       "2          0           289     1913.0              85      29         2   \n",
       "3          0           289     1913.0              85      29         3   \n",
       "4          0           289     1913.0              85      29         4   \n",
       "...      ...           ...        ...             ...     ...       ...   \n",
       "3268     335            73     1916.0             360      53         5   \n",
       "3269     335            73     1916.0             360      53         6   \n",
       "3270     335            73     1916.0             360      53         7   \n",
       "3271     335            73     1916.0             360      53         8   \n",
       "3272     335            73     1916.0             360      53         9   \n",
       "\n",
       "      nconst  category  primaryName  primaryProfession  knownForTitles  \\\n",
       "0        639         8         1894                 94            1841   \n",
       "1       2107         0         1766                 19              13   \n",
       "2        323         1          840                 57             209   \n",
       "3       1803         1         1477                 57              14   \n",
       "4        876         0         1184                 19             224   \n",
       "...      ...       ...          ...                ...             ...   \n",
       "3268    1301         5         1727                192            2291   \n",
       "3269    2254         9         1933                319            2161   \n",
       "3270    1014         3          289                125             388   \n",
       "3271    1784         0         1597                  0            2203   \n",
       "3272     374         1         1410                 57            2293   \n",
       "\n",
       "      averageRating  numVotes  directors  writers  \n",
       "0               6.4    2071.0        166      106  \n",
       "1               6.4    2071.0        166      106  \n",
       "2               6.4    2071.0        166      106  \n",
       "3               6.4    2071.0        166      106  \n",
       "4               6.4    2071.0        166      106  \n",
       "...             ...       ...        ...      ...  \n",
       "3268            6.8      49.0        121      315  \n",
       "3269            6.8      49.0        121      315  \n",
       "3270            6.8      49.0        121      315  \n",
       "3271            6.8      49.0        121      315  \n",
       "3272            6.8      49.0        121      315  \n",
       "\n",
       "[3273 rows x 15 columns]"
      ]
     },
     "execution_count": 367,
     "metadata": {},
     "output_type": "execute_result"
    }
   ],
   "source": [
    "Label_enc = LabelEncoder()\n",
    "for i in to_encode:\n",
    "    data[i]=Label_enc.fit_transform(data[i])\n",
    "data"
   ]
  },
  {
   "cell_type": "code",
   "execution_count": 368,
   "id": "proud-queensland",
   "metadata": {},
   "outputs": [],
   "source": [
    "#  Normailze?\n",
    "## EDA: Feature Importance/Selection\n",
    "\n",
    "\n",
    "# Convariance: Strength of Linear Relationships\n",
    "## Visualization: Feature Relations\n",
    "## Data Wrangling\n",
    "## Modelling\n",
    "# #Split Data\n",
    "\n"
   ]
  },
  {
   "cell_type": "code",
   "execution_count": 370,
   "id": "fitting-carol",
   "metadata": {},
   "outputs": [],
   "source": [
    "from sklearn.preprocessing import StandardScaler\n",
    "\n",
    "scaler = StandardScaler()\n",
    "standardized_data = scaler.fit_transform(data)"
   ]
  },
  {
   "cell_type": "code",
   "execution_count": 379,
   "id": "macro-barrel",
   "metadata": {},
   "outputs": [
    {
     "data": {
      "text/plain": [
       "array([[-1.74586484,  1.38414099, -2.26247101, ..., -0.13848939,\n",
       "         0.77581647, -0.57211619],\n",
       "       [-1.74586484,  1.38414099, -2.26247101, ..., -0.13848939,\n",
       "         0.77581647, -0.57211619],\n",
       "       [-1.74586484,  1.38414099, -2.26247101, ..., -0.13848939,\n",
       "         0.77581647, -0.57211619],\n",
       "       ...,\n",
       "       [ 1.73982781, -0.95862617, -1.95383651, ..., -0.33392499,\n",
       "         0.11198025,  1.65109117],\n",
       "       [ 1.73982781, -0.95862617, -1.95383651, ..., -0.33392499,\n",
       "         0.11198025,  1.65109117],\n",
       "       [ 1.73982781, -0.95862617, -1.95383651, ..., -0.33392499,\n",
       "         0.11198025,  1.65109117]])"
      ]
     },
     "execution_count": 379,
     "metadata": {},
     "output_type": "execute_result"
    }
   ],
   "source": [
    "standardized_data"
   ]
  },
  {
   "cell_type": "code",
   "execution_count": 411,
   "id": "hourly-volleyball",
   "metadata": {},
   "outputs": [],
   "source": [
    "# #Fit/Train Model\n",
    "k = 3\n",
    "model = KMeans(init='k-means++', n_clusters=k)"
   ]
  },
  {
   "cell_type": "code",
   "execution_count": 412,
   "id": "conscious-marketplace",
   "metadata": {},
   "outputs": [
    {
     "data": {
      "text/plain": [
       "39309.764620912545"
      ]
     },
     "execution_count": 412,
     "metadata": {},
     "output_type": "execute_result"
    }
   ],
   "source": [
    "model.fit_transform(c)\n",
    "# Evaluate Model\n",
    "model.inertia_"
   ]
  },
  {
   "cell_type": "code",
   "execution_count": 415,
   "id": "interesting-training",
   "metadata": {},
   "outputs": [],
   "source": [
    "clusters = model.predict(standardized_data).tolist()"
   ]
  },
  {
   "cell_type": "code",
   "execution_count": 416,
   "id": "reliable-stewart",
   "metadata": {},
   "outputs": [],
   "source": [
    "data[\"Cluster\"] = clusters"
   ]
  },
  {
   "cell_type": "code",
   "execution_count": 435,
   "id": "olympic-brazil",
   "metadata": {},
   "outputs": [
    {
     "data": {
      "image/png": "[encoded data removed]",
      "text/plain": [
       "<Figure size 432x288 with 1 Axes>"
      ]
     },
     "metadata": {
      "needs_background": "light"
     },
     "output_type": "display_data"
    }
   ],
   "source": [
    "cs = []\n",
    "for i in range(1, 11):\n",
    "    kmeans = KMeans(n_clusters = i, init = 'k-means++', max_iter = 300, n_init = 10, random_state = 0)\n",
    "    kmeans.fit(standardized_data)\n",
    "    cs.append(kmeans.inertia_)\n",
    "plt.plot(range(1, 11), cs)\n",
    "plt.title('The Elbow Method')\n",
    "plt.xlabel('Number of clusters')\n",
    "plt.ylabel('CS')\n",
    "plt.show()"
   ]
  },
  {
   "cell_type": "code",
   "execution_count": 417,
   "id": "residential-premises",
   "metadata": {},
   "outputs": [
    {
     "data": {
      "text/plain": [
       "Index(['tconst', 'primaryTitle', 'startYear', 'runtimeMinutes', 'genres',\n",
       "       'ordering', 'nconst', 'category', 'primaryName', 'primaryProfession',\n",
       "       'knownForTitles', 'averageRating', 'numVotes', 'directors', 'writers',\n",
       "       'cluster', 'Cluster'],\n",
       "      dtype='object')"
      ]
     },
     "execution_count": 417,
     "metadata": {},
     "output_type": "execute_result"
    }
   ],
   "source": [
    "import seaborn as sns\n",
    "data.columns"
   ]
  },
  {
   "cell_type": "code",
   "execution_count": 429,
   "id": "conventional-stress",
   "metadata": {},
   "outputs": [
    {
     "data": {
      "image/png": "[encoded data removed]",
      "text/plain": [
       "<Figure size 475.5x432 with 1 Axes>"
      ]
     },
     "metadata": {
      "needs_background": "light"
     },
     "output_type": "display_data"
    }
   ],
   "source": [
    "sns.relplot(\n",
    "    x=\"category\", y=\"averageRating\", hue=\"Cluster\", data=data, height=6,\n",
    ");"
   ]
  },
  {
   "cell_type": "code",
   "execution_count": null,
   "id": "empty-student",
   "metadata": {},
   "outputs": [],
   "source": []
  },
  {
   "cell_type": "code",
   "execution_count": null,
   "id": "authorized-accuracy",
   "metadata": {},
   "outputs": [],
   "source": []
  },
  {
   "cell_type": "code",
   "execution_count": 436,
   "id": "medieval-legislature",
   "metadata": {},
   "outputs": [],
   "source": [
    "# Visualization: Communicating Findings\n"
   ]
  },
  {
   "cell_type": "code",
   "execution_count": null,
   "id": "successful-arlington",
   "metadata": {},
   "outputs": [],
   "source": []
  },
  {
   "cell_type": "code",
   "execution_count": null,
   "id": "charged-colon",
   "metadata": {},
   "outputs": [],
   "source": []
  },
  {
   "cell_type": "code",
   "execution_count": null,
   "id": "independent-diploma",
   "metadata": {},
   "outputs": [],
   "source": [
    "#TODO look at uniques again\n"
   ]
  },
  {
   "cell_type": "code",
   "execution_count": null,
   "id": "rocky-testament",
   "metadata": {},
   "outputs": [],
   "source": []
  },
  {
   "cell_type": "code",
   "execution_count": null,
   "id": "american-hunter",
   "metadata": {},
   "outputs": [],
   "source": []
  },
  {
   "cell_type": "code",
   "execution_count": null,
   "id": "worse-mortality",
   "metadata": {},
   "outputs": [],
   "source": []
  },
  {
   "cell_type": "code",
   "execution_count": null,
   "id": "military-stupid",
   "metadata": {},
   "outputs": [],
   "source": []
  },
  {
   "cell_type": "code",
   "execution_count": null,
   "id": "honey-jaguar",
   "metadata": {},
   "outputs": [],
   "source": []
  },
  {
   "cell_type": "code",
   "execution_count": null,
   "id": "canadian-intranet",
   "metadata": {},
   "outputs": [],
   "source": []
  },
  {
   "cell_type": "code",
   "execution_count": null,
   "id": "engaged-memory",
   "metadata": {},
   "outputs": [],
   "source": []
  },
  {
   "cell_type": "code",
   "execution_count": null,
   "id": "blessed-financing",
   "metadata": {},
   "outputs": [],
   "source": []
  },
  {
   "cell_type": "code",
   "execution_count": null,
   "id": "broad-spectacular",
   "metadata": {},
   "outputs": [],
   "source": []
  }
 ],
 "metadata": {
  "kernelspec": {
   "display_name": "Python [conda env:KMeans_Numbers]",
   "language": "python",
   "name": "conda-env-KMeans_Numbers-py"
  },
  "language_info": {
   "codemirror_mode": {
    "name": "ipython",
    "version": 3
   },
   "file_extension": ".py",
   "mimetype": "text/x-python",
   "name": "python",
   "nbconvert_exporter": "python",
   "pygments_lexer": "ipython3",
   "version": "3.8.5"
  }
 },
 "nbformat": 4,
 "nbformat_minor": 5
}
