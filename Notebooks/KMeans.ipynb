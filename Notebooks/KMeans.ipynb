{
 "cells": [
  {
   "cell_type": "code",
   "execution_count": 2,
   "id": "stopped-service",
   "metadata": {},
   "outputs": [
    {
     "name": "stdout",
     "output_type": "stream",
     "text": [
      "/home/kenji/Projects/BasicProjects/KMeans_Numbers\n"
     ]
    }
   ],
   "source": [
    "%cd /home/kenji/Projects/BasicProjects/KMeans_Numbers"
   ]
  },
  {
   "cell_type": "code",
   "execution_count": 3,
   "id": "linear-certificate",
   "metadata": {},
   "outputs": [],
   "source": [
    "import numpy as np\n",
    "import pandas as pd\n",
    "from scipy.stats import pearsonr\n",
    "from sklearn.cluster import KMeans\n",
    "from sklearn import metrics\n",
    "from sklearn.preprocessing import scale, LabelEncoder, OneHotEncoder, StandardScaler\n",
    "import matplotlib.pyplot as plt\n",
    "import seaborn as sns\n",
    "%matplotlib inline"
   ]
  },
  {
   "cell_type": "code",
   "execution_count": 160,
   "id": "julian-rolling",
   "metadata": {},
   "outputs": [
    {
     "ename": "KeyboardInterrupt",
     "evalue": "",
     "output_type": "error",
     "traceback": [
      "\u001b[0;31m---------------------------------------------------------------------------\u001b[0m",
      "\u001b[0;31mKeyboardInterrupt\u001b[0m                         Traceback (most recent call last)",
      "\u001b[0;32m<ipython-input-160-7b1ad06c75b4>\u001b[0m in \u001b[0;36m<module>\u001b[0;34m\u001b[0m\n\u001b[1;32m     11\u001b[0m \u001b[0mdatabase\u001b[0m \u001b[0;34m=\u001b[0m \u001b[0;34m{\u001b[0m\u001b[0;34m}\u001b[0m\u001b[0;34m\u001b[0m\u001b[0;34m\u001b[0m\u001b[0m\n\u001b[1;32m     12\u001b[0m \u001b[0;32mfor\u001b[0m \u001b[0mfile\u001b[0m \u001b[0;32min\u001b[0m \u001b[0mtsv_files\u001b[0m\u001b[0;34m:\u001b[0m\u001b[0;34m\u001b[0m\u001b[0;34m\u001b[0m\u001b[0m\n\u001b[0;32m---> 13\u001b[0;31m     \u001b[0mdata\u001b[0m \u001b[0;34m=\u001b[0m \u001b[0mpd\u001b[0m\u001b[0;34m.\u001b[0m\u001b[0mread_table\u001b[0m\u001b[0;34m(\u001b[0m\u001b[0mfile\u001b[0m\u001b[0;34m,\u001b[0m\u001b[0mlow_memory\u001b[0m\u001b[0;34m=\u001b[0m\u001b[0;32mFalse\u001b[0m\u001b[0;34m,\u001b[0m\u001b[0mna_values\u001b[0m\u001b[0;34m=\u001b[0m\u001b[0;34m[\u001b[0m\u001b[0;34m'\\\\N'\u001b[0m\u001b[0;34m,\u001b[0m\u001b[0;34m'nan'\u001b[0m\u001b[0;34m]\u001b[0m\u001b[0;34m)\u001b[0m\u001b[0;34m\u001b[0m\u001b[0;34m\u001b[0m\u001b[0m\n\u001b[0m\u001b[1;32m     14\u001b[0m     \u001b[0;31m#TODO use regex or something to clean up file name/key.\u001b[0m\u001b[0;34m\u001b[0m\u001b[0;34m\u001b[0m\u001b[0;34m\u001b[0m\u001b[0m\n\u001b[1;32m     15\u001b[0m     \u001b[0mdatabase\u001b[0m\u001b[0;34m[\u001b[0m\u001b[0mfile\u001b[0m\u001b[0;34m]\u001b[0m \u001b[0;34m=\u001b[0m \u001b[0mdata\u001b[0m\u001b[0;34m\u001b[0m\u001b[0;34m\u001b[0m\u001b[0m\n",
      "\u001b[0;32m~/miniconda3/envs/KMeans_Numbers/lib/python3.8/site-packages/pandas/io/parsers.py\u001b[0m in \u001b[0;36mread_table\u001b[0;34m(filepath_or_buffer, sep, delimiter, header, names, index_col, usecols, squeeze, prefix, mangle_dupe_cols, dtype, engine, converters, true_values, false_values, skipinitialspace, skiprows, skipfooter, nrows, na_values, keep_default_na, na_filter, verbose, skip_blank_lines, parse_dates, infer_datetime_format, keep_date_col, date_parser, dayfirst, cache_dates, iterator, chunksize, compression, thousands, decimal, lineterminator, quotechar, quoting, doublequote, escapechar, comment, encoding, dialect, error_bad_lines, warn_bad_lines, delim_whitespace, low_memory, memory_map, float_precision)\u001b[0m\n\u001b[1;32m    763\u001b[0m         \u001b[0;31m# default to avoid a ValueError\u001b[0m\u001b[0;34m\u001b[0m\u001b[0;34m\u001b[0m\u001b[0;34m\u001b[0m\u001b[0m\n\u001b[1;32m    764\u001b[0m         \u001b[0msep\u001b[0m \u001b[0;34m=\u001b[0m \u001b[0;34m\",\"\u001b[0m\u001b[0;34m\u001b[0m\u001b[0;34m\u001b[0m\u001b[0m\n\u001b[0;32m--> 765\u001b[0;31m     \u001b[0;32mreturn\u001b[0m \u001b[0mread_csv\u001b[0m\u001b[0;34m(\u001b[0m\u001b[0;34m**\u001b[0m\u001b[0mlocals\u001b[0m\u001b[0;34m(\u001b[0m\u001b[0;34m)\u001b[0m\u001b[0;34m)\u001b[0m\u001b[0;34m\u001b[0m\u001b[0;34m\u001b[0m\u001b[0m\n\u001b[0m\u001b[1;32m    766\u001b[0m \u001b[0;34m\u001b[0m\u001b[0m\n\u001b[1;32m    767\u001b[0m \u001b[0;34m\u001b[0m\u001b[0m\n",
      "\u001b[0;32m~/miniconda3/envs/KMeans_Numbers/lib/python3.8/site-packages/pandas/io/parsers.py\u001b[0m in \u001b[0;36mread_csv\u001b[0;34m(filepath_or_buffer, sep, delimiter, header, names, index_col, usecols, squeeze, prefix, mangle_dupe_cols, dtype, engine, converters, true_values, false_values, skipinitialspace, skiprows, skipfooter, nrows, na_values, keep_default_na, na_filter, verbose, skip_blank_lines, parse_dates, infer_datetime_format, keep_date_col, date_parser, dayfirst, cache_dates, iterator, chunksize, compression, thousands, decimal, lineterminator, quotechar, quoting, doublequote, escapechar, comment, encoding, dialect, error_bad_lines, warn_bad_lines, delim_whitespace, low_memory, memory_map, float_precision)\u001b[0m\n\u001b[1;32m    684\u001b[0m     )\n\u001b[1;32m    685\u001b[0m \u001b[0;34m\u001b[0m\u001b[0m\n\u001b[0;32m--> 686\u001b[0;31m     \u001b[0;32mreturn\u001b[0m \u001b[0m_read\u001b[0m\u001b[0;34m(\u001b[0m\u001b[0mfilepath_or_buffer\u001b[0m\u001b[0;34m,\u001b[0m \u001b[0mkwds\u001b[0m\u001b[0;34m)\u001b[0m\u001b[0;34m\u001b[0m\u001b[0;34m\u001b[0m\u001b[0m\n\u001b[0m\u001b[1;32m    687\u001b[0m \u001b[0;34m\u001b[0m\u001b[0m\n\u001b[1;32m    688\u001b[0m \u001b[0;34m\u001b[0m\u001b[0m\n",
      "\u001b[0;32m~/miniconda3/envs/KMeans_Numbers/lib/python3.8/site-packages/pandas/io/parsers.py\u001b[0m in \u001b[0;36m_read\u001b[0;34m(filepath_or_buffer, kwds)\u001b[0m\n\u001b[1;32m    456\u001b[0m \u001b[0;34m\u001b[0m\u001b[0m\n\u001b[1;32m    457\u001b[0m     \u001b[0;32mtry\u001b[0m\u001b[0;34m:\u001b[0m\u001b[0;34m\u001b[0m\u001b[0;34m\u001b[0m\u001b[0m\n\u001b[0;32m--> 458\u001b[0;31m         \u001b[0mdata\u001b[0m \u001b[0;34m=\u001b[0m \u001b[0mparser\u001b[0m\u001b[0;34m.\u001b[0m\u001b[0mread\u001b[0m\u001b[0;34m(\u001b[0m\u001b[0mnrows\u001b[0m\u001b[0;34m)\u001b[0m\u001b[0;34m\u001b[0m\u001b[0;34m\u001b[0m\u001b[0m\n\u001b[0m\u001b[1;32m    459\u001b[0m     \u001b[0;32mfinally\u001b[0m\u001b[0;34m:\u001b[0m\u001b[0;34m\u001b[0m\u001b[0;34m\u001b[0m\u001b[0m\n\u001b[1;32m    460\u001b[0m         \u001b[0mparser\u001b[0m\u001b[0;34m.\u001b[0m\u001b[0mclose\u001b[0m\u001b[0;34m(\u001b[0m\u001b[0;34m)\u001b[0m\u001b[0;34m\u001b[0m\u001b[0;34m\u001b[0m\u001b[0m\n",
      "\u001b[0;32m~/miniconda3/envs/KMeans_Numbers/lib/python3.8/site-packages/pandas/io/parsers.py\u001b[0m in \u001b[0;36mread\u001b[0;34m(self, nrows)\u001b[0m\n\u001b[1;32m   1194\u001b[0m     \u001b[0;32mdef\u001b[0m \u001b[0mread\u001b[0m\u001b[0;34m(\u001b[0m\u001b[0mself\u001b[0m\u001b[0;34m,\u001b[0m \u001b[0mnrows\u001b[0m\u001b[0;34m=\u001b[0m\u001b[0;32mNone\u001b[0m\u001b[0;34m)\u001b[0m\u001b[0;34m:\u001b[0m\u001b[0;34m\u001b[0m\u001b[0;34m\u001b[0m\u001b[0m\n\u001b[1;32m   1195\u001b[0m         \u001b[0mnrows\u001b[0m \u001b[0;34m=\u001b[0m \u001b[0m_validate_integer\u001b[0m\u001b[0;34m(\u001b[0m\u001b[0;34m\"nrows\"\u001b[0m\u001b[0;34m,\u001b[0m \u001b[0mnrows\u001b[0m\u001b[0;34m)\u001b[0m\u001b[0;34m\u001b[0m\u001b[0;34m\u001b[0m\u001b[0m\n\u001b[0;32m-> 1196\u001b[0;31m         \u001b[0mret\u001b[0m \u001b[0;34m=\u001b[0m \u001b[0mself\u001b[0m\u001b[0;34m.\u001b[0m\u001b[0m_engine\u001b[0m\u001b[0;34m.\u001b[0m\u001b[0mread\u001b[0m\u001b[0;34m(\u001b[0m\u001b[0mnrows\u001b[0m\u001b[0;34m)\u001b[0m\u001b[0;34m\u001b[0m\u001b[0;34m\u001b[0m\u001b[0m\n\u001b[0m\u001b[1;32m   1197\u001b[0m \u001b[0;34m\u001b[0m\u001b[0m\n\u001b[1;32m   1198\u001b[0m         \u001b[0;31m# May alter columns / col_dict\u001b[0m\u001b[0;34m\u001b[0m\u001b[0;34m\u001b[0m\u001b[0;34m\u001b[0m\u001b[0m\n",
      "\u001b[0;32m~/miniconda3/envs/KMeans_Numbers/lib/python3.8/site-packages/pandas/io/parsers.py\u001b[0m in \u001b[0;36mread\u001b[0;34m(self, nrows)\u001b[0m\n\u001b[1;32m   2153\u001b[0m     \u001b[0;32mdef\u001b[0m \u001b[0mread\u001b[0m\u001b[0;34m(\u001b[0m\u001b[0mself\u001b[0m\u001b[0;34m,\u001b[0m \u001b[0mnrows\u001b[0m\u001b[0;34m=\u001b[0m\u001b[0;32mNone\u001b[0m\u001b[0;34m)\u001b[0m\u001b[0;34m:\u001b[0m\u001b[0;34m\u001b[0m\u001b[0;34m\u001b[0m\u001b[0m\n\u001b[1;32m   2154\u001b[0m         \u001b[0;32mtry\u001b[0m\u001b[0;34m:\u001b[0m\u001b[0;34m\u001b[0m\u001b[0;34m\u001b[0m\u001b[0m\n\u001b[0;32m-> 2155\u001b[0;31m             \u001b[0mdata\u001b[0m \u001b[0;34m=\u001b[0m \u001b[0mself\u001b[0m\u001b[0;34m.\u001b[0m\u001b[0m_reader\u001b[0m\u001b[0;34m.\u001b[0m\u001b[0mread\u001b[0m\u001b[0;34m(\u001b[0m\u001b[0mnrows\u001b[0m\u001b[0;34m)\u001b[0m\u001b[0;34m\u001b[0m\u001b[0;34m\u001b[0m\u001b[0m\n\u001b[0m\u001b[1;32m   2156\u001b[0m         \u001b[0;32mexcept\u001b[0m \u001b[0mStopIteration\u001b[0m\u001b[0;34m:\u001b[0m\u001b[0;34m\u001b[0m\u001b[0;34m\u001b[0m\u001b[0m\n\u001b[1;32m   2157\u001b[0m             \u001b[0;32mif\u001b[0m \u001b[0mself\u001b[0m\u001b[0;34m.\u001b[0m\u001b[0m_first_chunk\u001b[0m\u001b[0;34m:\u001b[0m\u001b[0;34m\u001b[0m\u001b[0;34m\u001b[0m\u001b[0m\n",
      "\u001b[0;32mpandas/_libs/parsers.pyx\u001b[0m in \u001b[0;36mpandas._libs.parsers.TextReader.read\u001b[0;34m()\u001b[0m\n",
      "\u001b[0;32mpandas/_libs/parsers.pyx\u001b[0m in \u001b[0;36mpandas._libs.parsers.TextReader._read_rows\u001b[0;34m()\u001b[0m\n",
      "\u001b[0;32mpandas/_libs/parsers.pyx\u001b[0m in \u001b[0;36mpandas._libs.parsers.TextReader._convert_column_data\u001b[0;34m()\u001b[0m\n",
      "\u001b[0;32mpandas/_libs/parsers.pyx\u001b[0m in \u001b[0;36mpandas._libs.parsers.TextReader._convert_tokens\u001b[0;34m()\u001b[0m\n",
      "\u001b[0;32mpandas/_libs/parsers.pyx\u001b[0m in \u001b[0;36mpandas._libs.parsers.TextReader._convert_with_dtype\u001b[0;34m()\u001b[0m\n",
      "\u001b[0;32m~/miniconda3/envs/KMeans_Numbers/lib/python3.8/site-packages/pandas/core/dtypes/common.py\u001b[0m in \u001b[0;36mis_categorical_dtype\u001b[0;34m(arr_or_dtype)\u001b[0m\n\u001b[1;32m    528\u001b[0m \u001b[0;34m\u001b[0m\u001b[0m\n\u001b[1;32m    529\u001b[0m \u001b[0;34m\u001b[0m\u001b[0m\n\u001b[0;32m--> 530\u001b[0;31m \u001b[0;32mdef\u001b[0m \u001b[0mis_categorical_dtype\u001b[0m\u001b[0;34m(\u001b[0m\u001b[0marr_or_dtype\u001b[0m\u001b[0;34m)\u001b[0m \u001b[0;34m->\u001b[0m \u001b[0mbool\u001b[0m\u001b[0;34m:\u001b[0m\u001b[0;34m\u001b[0m\u001b[0;34m\u001b[0m\u001b[0m\n\u001b[0m\u001b[1;32m    531\u001b[0m     \"\"\"\n\u001b[1;32m    532\u001b[0m     \u001b[0mCheck\u001b[0m \u001b[0mwhether\u001b[0m \u001b[0man\u001b[0m \u001b[0marray\u001b[0m\u001b[0;34m-\u001b[0m\u001b[0mlike\u001b[0m \u001b[0;32mor\u001b[0m \u001b[0mdtype\u001b[0m \u001b[0;32mis\u001b[0m \u001b[0mof\u001b[0m \u001b[0mthe\u001b[0m \u001b[0mCategorical\u001b[0m \u001b[0mdtype\u001b[0m\u001b[0;34m.\u001b[0m\u001b[0;34m\u001b[0m\u001b[0;34m\u001b[0m\u001b[0m\n",
      "\u001b[0;31mKeyboardInterrupt\u001b[0m: "
     ]
    }
   ],
   "source": [
    "## 1. Data\n",
    "\n",
    "### 1.1 Load Data\n",
    "\n",
    "# source: https://archive-beta.ics.uci.edu/ml/datasets/clickstream+data+for+online+shopping\n",
    "\n",
    "\n",
    "import pickle\n",
    "import glob\n",
    "tsv_files = glob.glob(\"Data/tsv/*.tsv\")\n",
    "database = {}\n",
    "for file in tsv_files:\n",
    "    data = pd.read_table(file,low_memory=False,na_values=['\\\\N','nan'])\n",
    "    #TODO use regex or something to clean up file name/key.\n",
    "    database[file] = data\n",
    "    print(f'{file} has been added to our database.')\n",
    "    \n",
    "#keep for now, might be needed for deploymentfor possibly pickling for later storage.\n",
    "#"
   ]
  },
  {
   "cell_type": "code",
   "execution_count": null,
   "id": "american-cocktail",
   "metadata": {},
   "outputs": [],
   "source": [
    "### 1.1 Inspeact Data\n",
    "\n",
    "# print(data.describe(),'\\n')\n",
    "def get_multi_info(database):\n",
    "    for name,data in database.items():\n",
    "        print(name)\n",
    "        print(data.info(memory_usage='deep'),'\\n')\n",
    "\n",
    "get_multi_info(database)"
   ]
  },
  {
   "cell_type": "code",
   "execution_count": null,
   "id": "77991c16",
   "metadata": {},
   "outputs": [],
   "source": [
    "# At this point, the memory required by the data is way too high with some tables taking between 3 and 13 gigabytes of memory.\n",
    "# To start, for each table I'm going to select only the columns I'm interested in and then filter down to only the data I'm interested before merging all tables into a single DataFrame."
   ]
  },
  {
   "cell_type": "code",
   "execution_count": null,
   "id": "noble-variance",
   "metadata": {},
   "outputs": [],
   "source": [
    "# columns I'm keeping for each table.\n",
    "keep_basics = ['tconst','titleType','primaryTitle','startYear','runtimeMinutes','genres']\n",
    "keep_principals = ['tconst','ordering','nconst','category','job','characters']\n",
    "keep_ratings = ['tconst','averageRating','numVotes']\n",
    "keep_crew = ['tconst','directors','writers']\n",
    "keep_name = ['nconst','primaryName','birthYear','primaryProfession','knownForTitles']"
   ]
  },
  {
   "cell_type": "code",
   "execution_count": null,
   "id": "missing-christmas",
   "metadata": {},
   "outputs": [],
   "source": [
    "#TODO Get rid of all of this, just make the date_ off the bat. Expensive trial and error is done.\n",
    "data_basics = database['Data/tsv/basics.tsv'][keep_basics]\n",
    "data_principals = database['Data/tsv/principals.tsv'][keep_principals]\n",
    "data_ratings = database['Data/tsv/ratings.tsv'][keep_ratings]\n",
    "data_crew = database['Data/tsv/crew.tsv'][keep_crew]\n",
    "data_name = database['Data/tsv/name.tsv'][keep_name]"
   ]
  },
  {
   "cell_type": "code",
   "execution_count": null,
   "id": "73b17ed6",
   "metadata": {},
   "outputs": [],
   "source": [
    "# Let's check out the first table\n",
    "data_basics.head()"
   ]
  },
  {
   "cell_type": "code",
   "execution_count": null,
   "id": "22683925",
   "metadata": {},
   "outputs": [],
   "source": [
    "#### 1.2.2 Examine & Modify Dataset Columns\n",
    "print(f'Original Column Names: {data_basics.columns}')\n",
    "# getting rid of camel casing\n",
    "data_basics.columns = map(str.lower, data_basics.columns)\n",
    "print(f'Lowercased Column Names: {data_basics.columns}')"
   ]
  },
  {
   "cell_type": "code",
   "execution_count": null,
   "id": "af214a39",
   "metadata": {},
   "outputs": [],
   "source": [
    "'''data dictionary\n",
    "tconst  =   title id of the movie\n",
    "primarytitle    =   primary title the movie goes by\n",
    "startyear   =   year realease\n",
    "runtimeminutes  =   film duration\n",
    "genres  =   list of each genre the film represents\n",
    "ordering    =   order of precedence if co-directors/writers/producers\n",
    "nconst  =   name id or director, writer\n",
    "category    =   job category\n",
    "primaryname =   director/writer name gone by\n",
    "primaryprofession   =   primary postion of principal\n",
    "knownfortitles  =   previous works by principle\n",
    "averagerating   =   films average rating\n",
    "numvotes    =   number of votes film has received\n",
    "directors   =   list of directors\n",
    "writers =   list of writers'''"
   ]
  },
  {
   "cell_type": "code",
   "execution_count": null,
   "id": "c725809e",
   "metadata": {},
   "outputs": [],
   "source": [
    "# Repeating for all tables\n",
    "data_principals.columns = map(str.lower, data_principals.columns)\n",
    "data_ratings.columns = map(str.lower, data_ratings.columns)\n",
    "data_crew.columns = map(str.lower, data_crew.columns)\n",
    "data_name.columns = map(str.lower, data_name.columns)"
   ]
  },
  {
   "cell_type": "code",
   "execution_count": null,
   "id": "optical-shakespeare",
   "metadata": {},
   "outputs": [],
   "source": [
    "# I want classic horror for this project.\n",
    "data_basics = data_basics[data_basics.startyear.between(1900, 1949)]\n",
    "# collecting all the different genres and their combinations.\n",
    "genres = data_basics.genres.unique().tolist()\n",
    "# creating a set of all genre values that include horror.\n",
    "horrors = [genre for genre in genres if str(genre).find('Horror') !=-1 ]\n",
    "# filtering the data to only observations that have horror in their genre.\n",
    "data_basics = data_basics.loc[data_basics['genres'].isin(horrors)]\n",
    "# only interested in films.\n",
    "data_basics = data_basics[data_basics.titletype == 'movie']\n",
    "# don't need this.\n",
    "data_basics.drop('titletype', axis=1,inplace=True)\n",
    "# removing observations that don't have a runtime.\n",
    "data_basics.dropna(subset=['runtimeminutes'],inplace=True)\n",
    "# don't need\n",
    "data_principals.drop(['job','characters'], axis=1,inplace=True)"
   ]
  },
  {
   "cell_type": "code",
   "execution_count": null,
   "id": "agricultural-slovak",
   "metadata": {},
   "outputs": [],
   "source": [
    "# combining tables\n",
    "data = data_basics.merge(data_principals, how='left',on='tconst')\n",
    "data = data.merge(data_name, how='left',on='nconst')\n",
    "data = data.merge(data_ratings, how='left',on='tconst')\n",
    "data = data.merge(data_crew, how='left',on='tconst')\n",
    "data.drop('birthyear', axis=1,inplace=True)"
   ]
  },
  {
   "cell_type": "code",
   "execution_count": null,
   "id": "grave-termination",
   "metadata": {},
   "outputs": [],
   "source": [
    "# Missing Values?\n",
    "def missing_data(data):\n",
    "    total = 0\n",
    "    maxi = 0\n",
    "    for i in data.columns:\n",
    "        print(f'Checking {i}')\n",
    "        missing = data[i].isnull().sum()\n",
    "        if missing > 0:\n",
    "            total+=missing\n",
    "            if missing > maxi:\n",
    "                maxi = missing\n",
    "            print(f'Missing: {data[i].isnull().sum()}\\n')\n",
    "        else:\n",
    "            print(f'Nothing Missing in {i}\\n')\n",
    "    if total != 0:\n",
    "        print(f'Missing {total} out of {len(data)} records, {round(maxi/len(data)*100)}% to {round(total/len(data)*100)}%')\n",
    "    else:\n",
    "        print(f'Nothing Missing\\n')\n",
    "missing_data(data)"
   ]
  },
  {
   "cell_type": "code",
   "execution_count": null,
   "id": "authentic-confirmation",
   "metadata": {},
   "outputs": [],
   "source": [
    "def get_multi_cols_counts(data):\n",
    "    for i in data:\n",
    "        print(f\"Columns:\\n\")\n",
    "        for j in data.columns:\n",
    "            print(j)\n",
    "        #print(f'\\nChecking {name} Unique Values: \\n')\n",
    "        \n",
    "        #print(f'\\nChecking {i} Unique Values: \\n')\n",
    "        for k in data.columns:\n",
    "            if type(k) != int:\n",
    "                #print(f'\\nUnique Values:')\n",
    "                #print(data[k].unique(),'\\n')\n",
    "                print(f'\\nValue Counts for {k}:\\n')\n",
    "                print(data[k].value_counts(dropna=False),'\\n')\n",
    "\n",
    "get_multi_cols_counts(data)"
   ]
  },
  {
   "cell_type": "code",
   "execution_count": null,
   "id": "subject-rocket",
   "metadata": {},
   "outputs": [],
   "source": [
    "missing_data(data)"
   ]
  },
  {
   "cell_type": "code",
   "execution_count": null,
   "id": "designing-marshall",
   "metadata": {},
   "outputs": [],
   "source": [
    "data.dropna(axis=0, how='any', thresh=None, inplace=True)"
   ]
  },
  {
   "cell_type": "code",
   "execution_count": null,
   "id": "brown-medicaid",
   "metadata": {},
   "outputs": [],
   "source": [
    "missing_data(data)"
   ]
  },
  {
   "cell_type": "code",
   "execution_count": null,
   "id": "indonesian-colleague",
   "metadata": {},
   "outputs": [],
   "source": [
    "data.to_csv(f'Data/data.csv',index=False)"
   ]
  },
  {
   "cell_type": "code",
   "execution_count": 45,
   "id": "neither-violence",
   "metadata": {},
   "outputs": [],
   "source": [
    "data = pd.read_csv(f'Data/data.csv')"
   ]
  },
  {
   "cell_type": "code",
   "execution_count": 46,
   "id": "attractive-publicity",
   "metadata": {},
   "outputs": [
    {
     "data": {
      "text/html": [
       "<div>\n",
       "<style scoped>\n",
       "    .dataframe tbody tr th:only-of-type {\n",
       "        vertical-align: middle;\n",
       "    }\n",
       "\n",
       "    .dataframe tbody tr th {\n",
       "        vertical-align: top;\n",
       "    }\n",
       "\n",
       "    .dataframe thead th {\n",
       "        text-align: right;\n",
       "    }\n",
       "</style>\n",
       "<table border=\"1\" class=\"dataframe\">\n",
       "  <thead>\n",
       "    <tr style=\"text-align: right;\">\n",
       "      <th></th>\n",
       "      <th>tconst</th>\n",
       "      <th>primarytitle</th>\n",
       "      <th>startyear</th>\n",
       "      <th>runtimeminutes</th>\n",
       "      <th>genres</th>\n",
       "      <th>ordering</th>\n",
       "      <th>nconst</th>\n",
       "      <th>category</th>\n",
       "      <th>primaryname</th>\n",
       "      <th>primaryprofession</th>\n",
       "      <th>knownfortitles</th>\n",
       "      <th>averagerating</th>\n",
       "      <th>numvotes</th>\n",
       "      <th>directors</th>\n",
       "      <th>writers</th>\n",
       "    </tr>\n",
       "  </thead>\n",
       "  <tbody>\n",
       "    <tr>\n",
       "      <th>0</th>\n",
       "      <td>tt0003419</td>\n",
       "      <td>The Student of Prague</td>\n",
       "      <td>1913.0</td>\n",
       "      <td>85</td>\n",
       "      <td>Drama,Fantasy,Horror</td>\n",
       "      <td>10</td>\n",
       "      <td>nm0226278</td>\n",
       "      <td>production_designer</td>\n",
       "      <td>Robert A. Dietrich</td>\n",
       "      <td>art_director,production_designer,director</td>\n",
       "      <td>tt0133949,tt0006820,tt0444711,tt0489555</td>\n",
       "      <td>6.4</td>\n",
       "      <td>2071.0</td>\n",
       "      <td>nm0753233,nm0917467</td>\n",
       "      <td>nm0263912,nm0210503</td>\n",
       "    </tr>\n",
       "    <tr>\n",
       "      <th>1</th>\n",
       "      <td>tt0003419</td>\n",
       "      <td>The Student of Prague</td>\n",
       "      <td>1913.0</td>\n",
       "      <td>85</td>\n",
       "      <td>Drama,Fantasy,Horror</td>\n",
       "      <td>1</td>\n",
       "      <td>nm0917467</td>\n",
       "      <td>actor</td>\n",
       "      <td>Paul Wegener</td>\n",
       "      <td>actor,director,writer</td>\n",
       "      <td>tt0003419,tt0004026,tt0008431,tt0176776</td>\n",
       "      <td>6.4</td>\n",
       "      <td>2071.0</td>\n",
       "      <td>nm0753233,nm0917467</td>\n",
       "      <td>nm0263912,nm0210503</td>\n",
       "    </tr>\n",
       "    <tr>\n",
       "      <th>2</th>\n",
       "      <td>tt0003419</td>\n",
       "      <td>The Student of Prague</td>\n",
       "      <td>1913.0</td>\n",
       "      <td>85</td>\n",
       "      <td>Drama,Fantasy,Horror</td>\n",
       "      <td>2</td>\n",
       "      <td>nm0074186</td>\n",
       "      <td>actress</td>\n",
       "      <td>Grete Berger</td>\n",
       "      <td>actress</td>\n",
       "      <td>tt0013086,tt0012494,tt0003419,tt0003390</td>\n",
       "      <td>6.4</td>\n",
       "      <td>2071.0</td>\n",
       "      <td>nm0753233,nm0917467</td>\n",
       "      <td>nm0263912,nm0210503</td>\n",
       "    </tr>\n",
       "    <tr>\n",
       "      <th>3</th>\n",
       "      <td>tt0003419</td>\n",
       "      <td>The Student of Prague</td>\n",
       "      <td>1913.0</td>\n",
       "      <td>85</td>\n",
       "      <td>Drama,Fantasy,Horror</td>\n",
       "      <td>3</td>\n",
       "      <td>nm0758802</td>\n",
       "      <td>actress</td>\n",
       "      <td>Lyda Salmonova</td>\n",
       "      <td>actress</td>\n",
       "      <td>tt0003419,tt0004026,tt0014291,tt0002833</td>\n",
       "      <td>6.4</td>\n",
       "      <td>2071.0</td>\n",
       "      <td>nm0753233,nm0917467</td>\n",
       "      <td>nm0263912,nm0210503</td>\n",
       "    </tr>\n",
       "    <tr>\n",
       "      <th>4</th>\n",
       "      <td>tt0003419</td>\n",
       "      <td>The Student of Prague</td>\n",
       "      <td>1913.0</td>\n",
       "      <td>85</td>\n",
       "      <td>Drama,Fantasy,Horror</td>\n",
       "      <td>4</td>\n",
       "      <td>nm0332024</td>\n",
       "      <td>actor</td>\n",
       "      <td>John Gottowt</td>\n",
       "      <td>actor,director,writer</td>\n",
       "      <td>tt0013442,tt0009483,tt0339636,tt0003419</td>\n",
       "      <td>6.4</td>\n",
       "      <td>2071.0</td>\n",
       "      <td>nm0753233,nm0917467</td>\n",
       "      <td>nm0263912,nm0210503</td>\n",
       "    </tr>\n",
       "  </tbody>\n",
       "</table>\n",
       "</div>"
      ],
      "text/plain": [
       "      tconst           primarytitle  startyear  runtimeminutes  \\\n",
       "0  tt0003419  The Student of Prague     1913.0              85   \n",
       "1  tt0003419  The Student of Prague     1913.0              85   \n",
       "2  tt0003419  The Student of Prague     1913.0              85   \n",
       "3  tt0003419  The Student of Prague     1913.0              85   \n",
       "4  tt0003419  The Student of Prague     1913.0              85   \n",
       "\n",
       "                 genres  ordering     nconst             category  \\\n",
       "0  Drama,Fantasy,Horror        10  nm0226278  production_designer   \n",
       "1  Drama,Fantasy,Horror         1  nm0917467                actor   \n",
       "2  Drama,Fantasy,Horror         2  nm0074186              actress   \n",
       "3  Drama,Fantasy,Horror         3  nm0758802              actress   \n",
       "4  Drama,Fantasy,Horror         4  nm0332024                actor   \n",
       "\n",
       "          primaryname                          primaryprofession  \\\n",
       "0  Robert A. Dietrich  art_director,production_designer,director   \n",
       "1        Paul Wegener                      actor,director,writer   \n",
       "2        Grete Berger                                    actress   \n",
       "3      Lyda Salmonova                                    actress   \n",
       "4        John Gottowt                      actor,director,writer   \n",
       "\n",
       "                            knownfortitles  averagerating  numvotes  \\\n",
       "0  tt0133949,tt0006820,tt0444711,tt0489555            6.4    2071.0   \n",
       "1  tt0003419,tt0004026,tt0008431,tt0176776            6.4    2071.0   \n",
       "2  tt0013086,tt0012494,tt0003419,tt0003390            6.4    2071.0   \n",
       "3  tt0003419,tt0004026,tt0014291,tt0002833            6.4    2071.0   \n",
       "4  tt0013442,tt0009483,tt0339636,tt0003419            6.4    2071.0   \n",
       "\n",
       "             directors              writers  \n",
       "0  nm0753233,nm0917467  nm0263912,nm0210503  \n",
       "1  nm0753233,nm0917467  nm0263912,nm0210503  \n",
       "2  nm0753233,nm0917467  nm0263912,nm0210503  \n",
       "3  nm0753233,nm0917467  nm0263912,nm0210503  \n",
       "4  nm0753233,nm0917467  nm0263912,nm0210503  "
      ]
     },
     "execution_count": 46,
     "metadata": {},
     "output_type": "execute_result"
    }
   ],
   "source": [
    "### 1.2 Inspeact Data (again)\n",
    "data.head()"
   ]
  },
  {
   "cell_type": "code",
   "execution_count": 47,
   "id": "direct-albany",
   "metadata": {
    "tags": []
   },
   "outputs": [
    {
     "name": "stdout",
     "output_type": "stream",
     "text": [
      "<class 'pandas.core.frame.DataFrame'>\n",
      "RangeIndex: 3273 entries, 0 to 3272\n",
      "Data columns (total 15 columns):\n",
      " #   Column             Non-Null Count  Dtype  \n",
      "---  ------             --------------  -----  \n",
      " 0   tconst             3273 non-null   object \n",
      " 1   primarytitle       3273 non-null   object \n",
      " 2   startyear          3273 non-null   float64\n",
      " 3   runtimeminutes     3273 non-null   int64  \n",
      " 4   genres             3273 non-null   object \n",
      " 5   ordering           3273 non-null   int64  \n",
      " 6   nconst             3273 non-null   object \n",
      " 7   category           3273 non-null   object \n",
      " 8   primaryname        3273 non-null   object \n",
      " 9   primaryprofession  3273 non-null   object \n",
      " 10  knownfortitles     3273 non-null   object \n",
      " 11  averagerating      3273 non-null   float64\n",
      " 12  numvotes           3273 non-null   float64\n",
      " 13  directors          3273 non-null   object \n",
      " 14  writers            3273 non-null   object \n",
      "dtypes: float64(3), int64(2), object(10)\n",
      "memory usage: 2.4 MB\n"
     ]
    }
   ],
   "source": [
    "data.info(memory_usage='deep')"
   ]
  },
  {
   "cell_type": "code",
   "execution_count": 48,
   "id": "according-category",
   "metadata": {},
   "outputs": [
    {
     "data": {
      "text/plain": [
       "(3273, 15)"
      ]
     },
     "execution_count": 48,
     "metadata": {},
     "output_type": "execute_result"
    }
   ],
   "source": [
    "data.shape"
   ]
  },
  {
   "cell_type": "code",
   "execution_count": 49,
   "id": "7d144971",
   "metadata": {},
   "outputs": [],
   "source": [
    "# Amazing! The data has been reduced to only 2.4MB!"
   ]
  },
  {
   "cell_type": "markdown",
   "id": "0feccaa1",
   "metadata": {},
   "source": [
    "data dictionary\n",
    "\n",
    "tconst  =   title id of the movie\n",
    "\n",
    "primarytitle    =   primary title the movie goes by\n",
    "\n",
    "startyear   =   year realease\n",
    "\n",
    "runtimeminutes  =   film duration\n",
    "\n",
    "genres  =   list of each genre the film represents\n",
    "\n",
    "ordering    =   order of precedence if co-directors/writers/producers\n",
    "\n",
    "nconst  =   name id or director, writer\n",
    "\n",
    "category    =   job category\n",
    "\n",
    "primaryname =   director/writer name gone by\n",
    "\n",
    "primaryprofession   =   primary postion of principal\n",
    "\n",
    "knownfortitles  =   previous works by principle\n",
    "\n",
    "averagerating   =   films average rating\n",
    "\n",
    "numvotes    =   number of votes film has received\n",
    "\n",
    "directors   =   list of directors\n",
    "\n",
    "writers =   list of writers"
   ]
  },
  {
   "cell_type": "code",
   "execution_count": 50,
   "id": "2984be65",
   "metadata": {},
   "outputs": [
    {
     "data": {
      "text/html": [
       "<div>\n",
       "<style scoped>\n",
       "    .dataframe tbody tr th:only-of-type {\n",
       "        vertical-align: middle;\n",
       "    }\n",
       "\n",
       "    .dataframe tbody tr th {\n",
       "        vertical-align: top;\n",
       "    }\n",
       "\n",
       "    .dataframe thead th {\n",
       "        text-align: right;\n",
       "    }\n",
       "</style>\n",
       "<table border=\"1\" class=\"dataframe\">\n",
       "  <thead>\n",
       "    <tr style=\"text-align: right;\">\n",
       "      <th></th>\n",
       "      <th>tconst</th>\n",
       "      <th>primarytitle</th>\n",
       "      <th>startyear</th>\n",
       "      <th>runtimeminutes</th>\n",
       "      <th>genres</th>\n",
       "      <th>ordering</th>\n",
       "      <th>nconst</th>\n",
       "      <th>category</th>\n",
       "      <th>primaryname</th>\n",
       "      <th>primaryprofession</th>\n",
       "      <th>knownfortitles</th>\n",
       "      <th>averagerating</th>\n",
       "      <th>numvotes</th>\n",
       "      <th>directors</th>\n",
       "      <th>writers</th>\n",
       "    </tr>\n",
       "  </thead>\n",
       "  <tbody>\n",
       "  </tbody>\n",
       "</table>\n",
       "</div>"
      ],
      "text/plain": [
       "Empty DataFrame\n",
       "Columns: [tconst, primarytitle, startyear, runtimeminutes, genres, ordering, nconst, category, primaryname, primaryprofession, knownfortitles, averagerating, numvotes, directors, writers]\n",
       "Index: []"
      ]
     },
     "execution_count": 50,
     "metadata": {},
     "output_type": "execute_result"
    }
   ],
   "source": [
    "# check for duplcates.\n",
    "data[data.duplicated() == True]"
   ]
  },
  {
   "cell_type": "code",
   "execution_count": 51,
   "id": "2133737e",
   "metadata": {},
   "outputs": [
    {
     "data": {
      "text/html": [
       "<div>\n",
       "<style scoped>\n",
       "    .dataframe tbody tr th:only-of-type {\n",
       "        vertical-align: middle;\n",
       "    }\n",
       "\n",
       "    .dataframe tbody tr th {\n",
       "        vertical-align: top;\n",
       "    }\n",
       "\n",
       "    .dataframe thead th {\n",
       "        text-align: right;\n",
       "    }\n",
       "</style>\n",
       "<table border=\"1\" class=\"dataframe\">\n",
       "  <thead>\n",
       "    <tr style=\"text-align: right;\">\n",
       "      <th></th>\n",
       "      <th>tconst</th>\n",
       "      <th>primarytitle</th>\n",
       "      <th>startyear</th>\n",
       "      <th>runtimeminutes</th>\n",
       "      <th>genres</th>\n",
       "      <th>ordering</th>\n",
       "      <th>nconst</th>\n",
       "      <th>category</th>\n",
       "      <th>primaryname</th>\n",
       "      <th>primaryprofession</th>\n",
       "      <th>knownfortitles</th>\n",
       "      <th>averagerating</th>\n",
       "      <th>numvotes</th>\n",
       "      <th>directors</th>\n",
       "      <th>writers</th>\n",
       "    </tr>\n",
       "  </thead>\n",
       "  <tbody>\n",
       "  </tbody>\n",
       "</table>\n",
       "</div>"
      ],
      "text/plain": [
       "Empty DataFrame\n",
       "Columns: [tconst, primarytitle, startyear, runtimeminutes, genres, ordering, nconst, category, primaryname, primaryprofession, knownfortitles, averagerating, numvotes, directors, writers]\n",
       "Index: []"
      ]
     },
     "execution_count": 51,
     "metadata": {},
     "output_type": "execute_result"
    }
   ],
   "source": [
    "# check for null values\n",
    "data[data.isnull().any(axis=1)]"
   ]
  },
  {
   "cell_type": "code",
   "execution_count": 52,
   "id": "e1d6a29b",
   "metadata": {},
   "outputs": [
    {
     "data": {
      "text/plain": [
       "tconst               0\n",
       "primarytitle         0\n",
       "startyear            0\n",
       "runtimeminutes       0\n",
       "genres               0\n",
       "ordering             0\n",
       "nconst               0\n",
       "category             0\n",
       "primaryname          0\n",
       "primaryprofession    0\n",
       "knownfortitles       0\n",
       "averagerating        0\n",
       "numvotes             0\n",
       "directors            0\n",
       "writers              0\n",
       "dtype: int64"
      ]
     },
     "execution_count": 52,
     "metadata": {},
     "output_type": "execute_result"
    }
   ],
   "source": [
    "# just doublechecking.\n",
    "data.isna().sum()  "
   ]
  },
  {
   "cell_type": "code",
   "execution_count": 53,
   "id": "a8d4afa7",
   "metadata": {},
   "outputs": [
    {
     "data": {
      "text/plain": [
       "Index(['tconst', 'primarytitle', 'startyear', 'runtimeminutes', 'genres',\n",
       "       'ordering', 'nconst', 'category', 'primaryname', 'primaryprofession',\n",
       "       'knownfortitles', 'averagerating', 'numvotes', 'directors', 'writers'],\n",
       "      dtype='object')"
      ]
     },
     "execution_count": 53,
     "metadata": {},
     "output_type": "execute_result"
    }
   ],
   "source": [
    "# Inspect and Modify columns\n",
    "data.columns\n",
    "# The columns are already formatted to lowercase."
   ]
  },
  {
   "cell_type": "code",
   "execution_count": 54,
   "id": "adec4eb6",
   "metadata": {},
   "outputs": [
    {
     "data": {
      "text/plain": [
       "tconst                336\n",
       "primarytitle          321\n",
       "startyear              37\n",
       "runtimeminutes         71\n",
       "genres                 56\n",
       "ordering               10\n",
       "nconst               2343\n",
       "category               10\n",
       "primaryname          2340\n",
       "primaryprofession     361\n",
       "knownfortitles       2314\n",
       "averagerating          49\n",
       "numvotes              295\n",
       "directors             228\n",
       "writers               322\n",
       "dtype: int64"
      ]
     },
     "execution_count": 54,
     "metadata": {},
     "output_type": "execute_result"
    }
   ],
   "source": [
    "# check for number of unique values for each variable.\n",
    "data.nunique()"
   ]
  },
  {
   "cell_type": "code",
   "execution_count": 55,
   "id": "f49cb562",
   "metadata": {},
   "outputs": [
    {
     "data": {
      "text/plain": [
       "Horror                       341\n",
       "Drama,Horror,Mystery         249\n",
       "Drama,Horror                 229\n",
       "Drama,Fantasy,Horror         224\n",
       "Crime,Drama,Horror           219\n",
       "Horror,Sci-Fi                159\n",
       "Horror,Mystery               127\n",
       "Horror,Mystery,Thriller      120\n",
       "Drama,Horror,Sci-Fi          109\n",
       "Crime,Horror,Mystery         109\n",
       "Comedy,Horror                108\n",
       "Comedy,Horror,Mystery        107\n",
       "Horror,Thriller              107\n",
       "Fantasy,Horror                98\n",
       "Drama,Horror,Romance          85\n",
       "Adventure,Horror              50\n",
       "Horror,Mystery,Sci-Fi         48\n",
       "Horror,Mystery,Romance        40\n",
       "Fantasy,Horror,Mystery        40\n",
       "Drama,Horror,Thriller         40\n",
       "Fantasy,Horror,Sci-Fi         40\n",
       "Crime,Horror                  40\n",
       "Comedy,Drama,Horror           39\n",
       "Adventure,Drama,Horror        38\n",
       "Adventure,Horror,Romance      30\n",
       "Horror,Sci-Fi,Thriller        30\n",
       "Comedy,Fantasy,Horror         30\n",
       "Comedy,Crime,Horror           30\n",
       "Adventure,Crime,Horror        30\n",
       "Comedy,Horror,Sci-Fi          26\n",
       "Film-Noir,Horror,Mystery      20\n",
       "Adventure,Horror,Sci-Fi       20\n",
       "Action,Fantasy,Horror         20\n",
       "Action,Adventure,Horror       20\n",
       "Action,Drama,Horror           20\n",
       "Comedy,Horror,Musical         20\n",
       "Crime,Horror,Sci-Fi           20\n",
       "Film-Noir,Horror,Thriller     20\n",
       "Drama,Film-Noir,Horror        10\n",
       "Drama,Horror,War              10\n",
       "Comedy,Horror,Thriller        10\n",
       "Horror,Music,Thriller         10\n",
       "Adventure,Horror,Mystery      10\n",
       "Action,Family,Horror          10\n",
       "Drama,Horror,Music            10\n",
       "Horror,Romance                10\n",
       "Action,Crime,Horror           10\n",
       "Comedy,Family,Horror          10\n",
       "Horror,Romance,Sci-Fi         10\n",
       "Drama,History,Horror          10\n",
       "Adventure,Family,Horror       10\n",
       "Crime,Horror,Thriller         10\n",
       "Fantasy,Horror,Thriller       10\n",
       "Adventure,Fantasy,Horror      10\n",
       "Comedy,Horror,Romance          9\n",
       "Crime,Documentary,Horror       2\n",
       "Name: genres, dtype: int64"
      ]
     },
     "execution_count": 55,
     "metadata": {},
     "output_type": "execute_result"
    }
   ],
   "source": [
    "data.genres.value_counts()\n",
    "# Looking at these unique genre values it's apparent that there are several classes represented:\n",
    "# Pure horror, primarily horror with elements from other genres, and other genres with horrow elements.\n",
    "#TODO Tighten the scope of genres when coposing the dataframe from raw dat."
   ]
  },
  {
   "cell_type": "code",
   "execution_count": 56,
   "id": "1f733dd3",
   "metadata": {},
   "outputs": [
    {
     "data": {
      "text/plain": [
       "tconst                object\n",
       "primarytitle          object\n",
       "startyear            float64\n",
       "runtimeminutes         int64\n",
       "genres                object\n",
       "ordering               int64\n",
       "nconst                object\n",
       "category              object\n",
       "primaryname           object\n",
       "primaryprofession     object\n",
       "knownfortitles        object\n",
       "averagerating        float64\n",
       "numvotes             float64\n",
       "directors             object\n",
       "writers               object\n",
       "dtype: object"
      ]
     },
     "execution_count": 56,
     "metadata": {},
     "output_type": "execute_result"
    }
   ],
   "source": [
    "data.dtypes"
   ]
  },
  {
   "cell_type": "code",
   "execution_count": 57,
   "id": "0783defd",
   "metadata": {},
   "outputs": [
    {
     "data": {
      "text/html": [
       "<div>\n",
       "<style scoped>\n",
       "    .dataframe tbody tr th:only-of-type {\n",
       "        vertical-align: middle;\n",
       "    }\n",
       "\n",
       "    .dataframe tbody tr th {\n",
       "        vertical-align: top;\n",
       "    }\n",
       "\n",
       "    .dataframe thead th {\n",
       "        text-align: right;\n",
       "    }\n",
       "</style>\n",
       "<table border=\"1\" class=\"dataframe\">\n",
       "  <thead>\n",
       "    <tr style=\"text-align: right;\">\n",
       "      <th></th>\n",
       "      <th>tconst</th>\n",
       "      <th>primarytitle</th>\n",
       "      <th>startyear</th>\n",
       "      <th>runtimeminutes</th>\n",
       "      <th>genres</th>\n",
       "      <th>ordering</th>\n",
       "      <th>nconst</th>\n",
       "      <th>category</th>\n",
       "      <th>primaryname</th>\n",
       "      <th>primaryprofession</th>\n",
       "      <th>knownfortitles</th>\n",
       "      <th>averagerating</th>\n",
       "      <th>numvotes</th>\n",
       "      <th>directors</th>\n",
       "      <th>writers</th>\n",
       "    </tr>\n",
       "  </thead>\n",
       "  <tbody>\n",
       "    <tr>\n",
       "      <th>count</th>\n",
       "      <td>3273</td>\n",
       "      <td>3273</td>\n",
       "      <td>3273.000000</td>\n",
       "      <td>3273.000000</td>\n",
       "      <td>3273</td>\n",
       "      <td>3273.000000</td>\n",
       "      <td>3273</td>\n",
       "      <td>3273</td>\n",
       "      <td>3273</td>\n",
       "      <td>3273</td>\n",
       "      <td>3273</td>\n",
       "      <td>3273.000000</td>\n",
       "      <td>3273.000000</td>\n",
       "      <td>3273</td>\n",
       "      <td>3273</td>\n",
       "    </tr>\n",
       "    <tr>\n",
       "      <th>unique</th>\n",
       "      <td>336</td>\n",
       "      <td>321</td>\n",
       "      <td>NaN</td>\n",
       "      <td>NaN</td>\n",
       "      <td>56</td>\n",
       "      <td>NaN</td>\n",
       "      <td>2343</td>\n",
       "      <td>10</td>\n",
       "      <td>2340</td>\n",
       "      <td>361</td>\n",
       "      <td>2314</td>\n",
       "      <td>NaN</td>\n",
       "      <td>NaN</td>\n",
       "      <td>228</td>\n",
       "      <td>322</td>\n",
       "    </tr>\n",
       "    <tr>\n",
       "      <th>top</th>\n",
       "      <td>tt0024055</td>\n",
       "      <td>The Hound of the Baskervilles</td>\n",
       "      <td>NaN</td>\n",
       "      <td>NaN</td>\n",
       "      <td>Horror</td>\n",
       "      <td>NaN</td>\n",
       "      <td>nm0000509</td>\n",
       "      <td>actor</td>\n",
       "      <td>Bela Lugosi</td>\n",
       "      <td>actor</td>\n",
       "      <td>tt0021814,tt0045826,tt0024894,tt0024188</td>\n",
       "      <td>NaN</td>\n",
       "      <td>NaN</td>\n",
       "      <td>nm0946391</td>\n",
       "      <td>nm0108579,nm0044831</td>\n",
       "    </tr>\n",
       "    <tr>\n",
       "      <th>freq</th>\n",
       "      <td>10</td>\n",
       "      <td>30</td>\n",
       "      <td>NaN</td>\n",
       "      <td>NaN</td>\n",
       "      <td>341</td>\n",
       "      <td>NaN</td>\n",
       "      <td>29</td>\n",
       "      <td>975</td>\n",
       "      <td>29</td>\n",
       "      <td>379</td>\n",
       "      <td>29</td>\n",
       "      <td>NaN</td>\n",
       "      <td>NaN</td>\n",
       "      <td>60</td>\n",
       "      <td>30</td>\n",
       "    </tr>\n",
       "    <tr>\n",
       "      <th>mean</th>\n",
       "      <td>NaN</td>\n",
       "      <td>NaN</td>\n",
       "      <td>1934.991751</td>\n",
       "      <td>78.813321</td>\n",
       "      <td>NaN</td>\n",
       "      <td>5.410632</td>\n",
       "      <td>NaN</td>\n",
       "      <td>NaN</td>\n",
       "      <td>NaN</td>\n",
       "      <td>NaN</td>\n",
       "      <td>NaN</td>\n",
       "      <td>6.072197</td>\n",
       "      <td>3503.827681</td>\n",
       "      <td>NaN</td>\n",
       "      <td>NaN</td>\n",
       "    </tr>\n",
       "    <tr>\n",
       "      <th>std</th>\n",
       "      <td>NaN</td>\n",
       "      <td>NaN</td>\n",
       "      <td>9.721721</td>\n",
       "      <td>32.632160</td>\n",
       "      <td>NaN</td>\n",
       "      <td>2.839326</td>\n",
       "      <td>NaN</td>\n",
       "      <td>NaN</td>\n",
       "      <td>NaN</td>\n",
       "      <td>NaN</td>\n",
       "      <td>NaN</td>\n",
       "      <td>0.992966</td>\n",
       "      <td>10347.699812</td>\n",
       "      <td>NaN</td>\n",
       "      <td>NaN</td>\n",
       "    </tr>\n",
       "    <tr>\n",
       "      <th>min</th>\n",
       "      <td>NaN</td>\n",
       "      <td>NaN</td>\n",
       "      <td>1913.000000</td>\n",
       "      <td>49.000000</td>\n",
       "      <td>NaN</td>\n",
       "      <td>1.000000</td>\n",
       "      <td>NaN</td>\n",
       "      <td>NaN</td>\n",
       "      <td>NaN</td>\n",
       "      <td>NaN</td>\n",
       "      <td>NaN</td>\n",
       "      <td>2.000000</td>\n",
       "      <td>6.000000</td>\n",
       "      <td>NaN</td>\n",
       "      <td>NaN</td>\n",
       "    </tr>\n",
       "    <tr>\n",
       "      <th>25%</th>\n",
       "      <td>NaN</td>\n",
       "      <td>NaN</td>\n",
       "      <td>1928.000000</td>\n",
       "      <td>63.000000</td>\n",
       "      <td>NaN</td>\n",
       "      <td>3.000000</td>\n",
       "      <td>NaN</td>\n",
       "      <td>NaN</td>\n",
       "      <td>NaN</td>\n",
       "      <td>NaN</td>\n",
       "      <td>NaN</td>\n",
       "      <td>5.500000</td>\n",
       "      <td>116.000000</td>\n",
       "      <td>NaN</td>\n",
       "      <td>NaN</td>\n",
       "    </tr>\n",
       "    <tr>\n",
       "      <th>50%</th>\n",
       "      <td>NaN</td>\n",
       "      <td>NaN</td>\n",
       "      <td>1936.000000</td>\n",
       "      <td>72.000000</td>\n",
       "      <td>NaN</td>\n",
       "      <td>5.000000</td>\n",
       "      <td>NaN</td>\n",
       "      <td>NaN</td>\n",
       "      <td>NaN</td>\n",
       "      <td>NaN</td>\n",
       "      <td>NaN</td>\n",
       "      <td>6.200000</td>\n",
       "      <td>558.000000</td>\n",
       "      <td>NaN</td>\n",
       "      <td>NaN</td>\n",
       "    </tr>\n",
       "    <tr>\n",
       "      <th>75%</th>\n",
       "      <td>NaN</td>\n",
       "      <td>NaN</td>\n",
       "      <td>1943.000000</td>\n",
       "      <td>84.000000</td>\n",
       "      <td>NaN</td>\n",
       "      <td>8.000000</td>\n",
       "      <td>NaN</td>\n",
       "      <td>NaN</td>\n",
       "      <td>NaN</td>\n",
       "      <td>NaN</td>\n",
       "      <td>NaN</td>\n",
       "      <td>6.800000</td>\n",
       "      <td>2365.000000</td>\n",
       "      <td>NaN</td>\n",
       "      <td>NaN</td>\n",
       "    </tr>\n",
       "    <tr>\n",
       "      <th>max</th>\n",
       "      <td>NaN</td>\n",
       "      <td>NaN</td>\n",
       "      <td>1949.000000</td>\n",
       "      <td>360.000000</td>\n",
       "      <td>NaN</td>\n",
       "      <td>10.000000</td>\n",
       "      <td>NaN</td>\n",
       "      <td>NaN</td>\n",
       "      <td>NaN</td>\n",
       "      <td>NaN</td>\n",
       "      <td>NaN</td>\n",
       "      <td>8.100000</td>\n",
       "      <td>94860.000000</td>\n",
       "      <td>NaN</td>\n",
       "      <td>NaN</td>\n",
       "    </tr>\n",
       "  </tbody>\n",
       "</table>\n",
       "</div>"
      ],
      "text/plain": [
       "           tconst                   primarytitle    startyear  runtimeminutes  \\\n",
       "count        3273                           3273  3273.000000     3273.000000   \n",
       "unique        336                            321          NaN             NaN   \n",
       "top     tt0024055  The Hound of the Baskervilles          NaN             NaN   \n",
       "freq           10                             30          NaN             NaN   \n",
       "mean          NaN                            NaN  1934.991751       78.813321   \n",
       "std           NaN                            NaN     9.721721       32.632160   \n",
       "min           NaN                            NaN  1913.000000       49.000000   \n",
       "25%           NaN                            NaN  1928.000000       63.000000   \n",
       "50%           NaN                            NaN  1936.000000       72.000000   \n",
       "75%           NaN                            NaN  1943.000000       84.000000   \n",
       "max           NaN                            NaN  1949.000000      360.000000   \n",
       "\n",
       "        genres     ordering     nconst category  primaryname  \\\n",
       "count     3273  3273.000000       3273     3273         3273   \n",
       "unique      56          NaN       2343       10         2340   \n",
       "top     Horror          NaN  nm0000509    actor  Bela Lugosi   \n",
       "freq       341          NaN         29      975           29   \n",
       "mean       NaN     5.410632        NaN      NaN          NaN   \n",
       "std        NaN     2.839326        NaN      NaN          NaN   \n",
       "min        NaN     1.000000        NaN      NaN          NaN   \n",
       "25%        NaN     3.000000        NaN      NaN          NaN   \n",
       "50%        NaN     5.000000        NaN      NaN          NaN   \n",
       "75%        NaN     8.000000        NaN      NaN          NaN   \n",
       "max        NaN    10.000000        NaN      NaN          NaN   \n",
       "\n",
       "       primaryprofession                           knownfortitles  \\\n",
       "count               3273                                     3273   \n",
       "unique               361                                     2314   \n",
       "top                actor  tt0021814,tt0045826,tt0024894,tt0024188   \n",
       "freq                 379                                       29   \n",
       "mean                 NaN                                      NaN   \n",
       "std                  NaN                                      NaN   \n",
       "min                  NaN                                      NaN   \n",
       "25%                  NaN                                      NaN   \n",
       "50%                  NaN                                      NaN   \n",
       "75%                  NaN                                      NaN   \n",
       "max                  NaN                                      NaN   \n",
       "\n",
       "        averagerating      numvotes  directors              writers  \n",
       "count     3273.000000   3273.000000       3273                 3273  \n",
       "unique            NaN           NaN        228                  322  \n",
       "top               NaN           NaN  nm0946391  nm0108579,nm0044831  \n",
       "freq              NaN           NaN         60                   30  \n",
       "mean         6.072197   3503.827681        NaN                  NaN  \n",
       "std          0.992966  10347.699812        NaN                  NaN  \n",
       "min          2.000000      6.000000        NaN                  NaN  \n",
       "25%          5.500000    116.000000        NaN                  NaN  \n",
       "50%          6.200000    558.000000        NaN                  NaN  \n",
       "75%          6.800000   2365.000000        NaN                  NaN  \n",
       "max          8.100000  94860.000000        NaN                  NaN  "
      ]
     },
     "execution_count": 57,
     "metadata": {},
     "output_type": "execute_result"
    }
   ],
   "source": [
    "### 1.3 EDA: Initial Summary Stats\n",
    "data.describe(include='all')"
   ]
  },
  {
   "cell_type": "code",
   "execution_count": 58,
   "id": "2ac58ee1",
   "metadata": {},
   "outputs": [
    {
     "data": {
      "text/plain": [
       "\"startyear\\n    The average start year for the films in this selection is 1934 which is just off of the median.\\n    This distribution should be plotted with lines indicating centers.\\nruntimeminutes\\n    It's immediately apparent that there's at least one strong outlier with a max of SIX HOURS.\\n    Outliers like this should be examined through a box and whisker plot and then dropped if necessary.\\nordering\\n     really don't need this\\naveragerating\\n    This is likely to be some sort of target, linear regression would be great to take this project a step further.\\nnumvotes\\n    With a min of 6 and a standard deviation of 10347 this feature could definitely do with feature scaling and possibly outlier trimming.\""
      ]
     },
     "execution_count": 58,
     "metadata": {},
     "output_type": "execute_result"
    }
   ],
   "source": [
    "\"\"\"startyear\n",
    "    The average start year for the films in this selection is 1934 which is just off of the median.\n",
    "    This distribution should be plotted with lines indicating centers.\n",
    "runtimeminutes\n",
    "    It's immediately apparent that there's at least one strong outlier with a max of SIX HOURS.\n",
    "    Outliers like this should be examined through a box and whisker plot and then dropped if necessary.\n",
    "ordering\n",
    "     really don't need this\n",
    "averagerating\n",
    "    This is likely to be some sort of target, linear regression would be great to take this project a step further.\n",
    "numvotes\n",
    "    With a min of 6 and a standard deviation of 10347 this feature could definitely do with feature scaling and possibly outlier trimming.\"\"\""
   ]
  },
  {
   "cell_type": "code",
   "execution_count": 59,
   "id": "victorian-distinction",
   "metadata": {},
   "outputs": [
    {
     "data": {
      "text/plain": [
       "<AxesSubplot:xlabel='averagerating', ylabel='Count'>"
      ]
     },
     "execution_count": 59,
     "metadata": {},
     "output_type": "execute_result"
    },
    {
     "data": {
      "image/png": "[encoded data removed]",
      "text/plain": [
       "<Figure size 432x288 with 1 Axes>"
      ]
     },
     "metadata": {
      "needs_background": "light"
     },
     "output_type": "display_data"
    }
   ],
   "source": [
    "# Explore Likely Target\n",
    "# Despite some outlier values the target seems to be normally distributed.\n",
    "# Leaving it for now, I'd like to check later to see if removing this data, or modifying it's upstream processing, will have meaningful impact on model performance.\n",
    "sns.histplot(data.averagerating)"
   ]
  },
  {
   "cell_type": "code",
   "execution_count": 60,
   "id": "stone-problem",
   "metadata": {},
   "outputs": [
    {
     "data": {
      "text/plain": [
       "<AxesSubplot:xlabel='averagerating', ylabel='Density'>"
      ]
     },
     "execution_count": 60,
     "metadata": {},
     "output_type": "execute_result"
    },
    {
     "data": {
      "image/png": "[encoded data removed]",
      "text/plain": [
       "<Figure size 432x288 with 1 Axes>"
      ]
     },
     "metadata": {
      "needs_background": "light"
     },
     "output_type": "display_data"
    }
   ],
   "source": [
    "# further exploring the outlier impact.\n",
    "sns.kdeplot(data.averagerating, shade=True)"
   ]
  },
  {
   "cell_type": "code",
   "execution_count": 61,
   "id": "06574eef",
   "metadata": {},
   "outputs": [
    {
     "data": {
      "text/plain": [
       "<AxesSubplot:xlabel='runtimeminutes', ylabel='Count'>"
      ]
     },
     "execution_count": 61,
     "metadata": {},
     "output_type": "execute_result"
    },
    {
     "data": {
      "image/png": "[encoded data removed]",
      "text/plain": [
       "<Figure size 432x288 with 1 Axes>"
      ]
     },
     "metadata": {
      "needs_background": "light"
     },
     "output_type": "display_data"
    }
   ],
   "source": [
    "# Explore Interesting Independent Variables\n",
    "# Let's take a look at those runtimes\n",
    "sns.histplot(data.runtimeminutes)\n",
    "# Upn visual inspection it looks like most of our data has a runtime less than 125 minutes."
   ]
  },
  {
   "cell_type": "code",
   "execution_count": 62,
   "id": "76aeecfc",
   "metadata": {},
   "outputs": [
    {
     "data": {
      "image/png": "[encoded data removed]",
      "text/plain": [
       "<Figure size 432x288 with 1 Axes>"
      ]
     },
     "metadata": {
      "needs_background": "light"
     },
     "output_type": "display_data"
    }
   ],
   "source": [
    "# Let's use a boxplot to explore this distribution further using quartiles.\n",
    "sns.boxplot(data=data, x='runtimeminutes')\n",
    "plt.show()\n"
   ]
  },
  {
   "cell_type": "code",
   "execution_count": 63,
   "id": "10b8d20b",
   "metadata": {},
   "outputs": [
    {
     "data": {
      "image/png": "[encoded data removed]",
      "text/plain": [
       "<Figure size 360x360 with 1 Axes>"
      ]
     },
     "metadata": {
      "needs_background": "light"
     },
     "output_type": "display_data"
    }
   ],
   "source": [
    "# Using Numpy I'll first calculate the IQR, then use it to identify and remove outliers found in the runtimeminute variable.\n",
    "q1 = np.quantile(data.runtimeminutes, 0.25)\n",
    "q2 = np.quantile(data.runtimeminutes, 0.5)\n",
    "q3 = np.quantile(data.runtimeminutes, 0.75)\n",
    "\n",
    "# calc iqr\n",
    "iqr = (q3 - q1)\n",
    "# expand iqr to discern outliers\n",
    "iqr_x = iqr*1.5\n",
    "\n",
    "# setting the lower and upper limits\n",
    "iqr_lower = q1-iqr_x\n",
    "iqr_upper = q3+iqr_x\n",
    "\n",
    "\n",
    "sns.displot(data.runtimeminutes)\n",
    "plt.axvline(x=q1, label=\"Q1\", c = 'g')\n",
    "plt.axvline(x=q2, label=\"Q2\", c = '#fd4d3f')\n",
    "plt.axvline(x=q3, label=\"Q3\", c = 'r')\n",
    "\n",
    "plt.axvline(x=iqr_lower, label = 'IQR Lower', c = 'black')\n",
    "plt.axvline(x=iqr_upper, label = 'IQR Upper', c = 'black')\n",
    "plt.legend()\n",
    "plt.show()"
   ]
  },
  {
   "cell_type": "code",
   "execution_count": 64,
   "id": "6154826c",
   "metadata": {},
   "outputs": [],
   "source": [
    "# trimming off everything above and below the threshold.\n",
    "data2 = data[data.runtimeminutes > iqr_lower]\n",
    "data = data2[data2.runtimeminutes < iqr_upper]"
   ]
  },
  {
   "cell_type": "code",
   "execution_count": 65,
   "id": "60fccb98",
   "metadata": {},
   "outputs": [
    {
     "data": {
      "text/plain": [
       "(3155, 15)"
      ]
     },
     "execution_count": 65,
     "metadata": {},
     "output_type": "execute_result"
    }
   ],
   "source": [
    "data.shape\n",
    "# we've lost only a small number of rows.\n",
    "#TODO get the original number and show difference."
   ]
  },
  {
   "cell_type": "code",
   "execution_count": 66,
   "id": "d3a278ca",
   "metadata": {},
   "outputs": [
    {
     "data": {
      "image/png": "[encoded data removed]",
      "text/plain": [
       "<Figure size 360x360 with 1 Axes>"
      ]
     },
     "metadata": {
      "needs_background": "light"
     },
     "output_type": "display_data"
    }
   ],
   "source": [
    "# checking out the new distribution\n",
    "q1 = np.quantile(data.runtimeminutes, 0.25)\n",
    "q2 = np.quantile(data.runtimeminutes, 0.5)\n",
    "q3 = np.quantile(data.runtimeminutes, 0.75)\n",
    "\n",
    "sns.displot(data.runtimeminutes)\n",
    "plt.axvline(x=q1, label=\"Q1\", c = 'g')\n",
    "plt.axvline(x=q2, label=\"Q2\", c = '#fd4d3f')\n",
    "plt.axvline(x=q3, label=\"Q3\", c = 'r')\n",
    "\n",
    "plt.legend()\n",
    "plt.show()"
   ]
  },
  {
   "cell_type": "code",
   "execution_count": 67,
   "id": "3816b51e",
   "metadata": {},
   "outputs": [
    {
     "data": {
      "text/plain": [
       "<AxesSubplot:xlabel='runtimeminutes', ylabel='Density'>"
      ]
     },
     "execution_count": 67,
     "metadata": {},
     "output_type": "execute_result"
    },
    {
     "data": {
      "image/png": "[encoded data removed]",
      "text/plain": [
       "<Figure size 432x288 with 1 Axes>"
      ]
     },
     "metadata": {
      "needs_background": "light"
     },
     "output_type": "display_data"
    }
   ],
   "source": [
    "sns.kdeplot(data.runtimeminutes, shade=True, label='data')"
   ]
  },
  {
   "cell_type": "code",
   "execution_count": 72,
   "id": "c132ff7e",
   "metadata": {},
   "outputs": [
    {
     "data": {
      "text/plain": [
       "count    3155.000000\n",
       "mean       73.774960\n",
       "std        13.776136\n",
       "min        49.000000\n",
       "25%        63.000000\n",
       "50%        71.000000\n",
       "75%        82.000000\n",
       "max       113.000000\n",
       "Name: runtimeminutes, dtype: float64"
      ]
     },
     "execution_count": 72,
     "metadata": {},
     "output_type": "execute_result"
    }
   ],
   "source": [
    "# checking out these new summary stats\n",
    "# the max is a more realistic two hours or so while the mean remains about the same. The standard deviation has also been halved.\n",
    "data.runtimeminutes.describe(include = 'all')"
   ]
  },
  {
   "cell_type": "code",
   "execution_count": 74,
   "id": "acknowledged-proportion",
   "metadata": {},
   "outputs": [
    {
     "data": {
      "text/plain": [
       "count     3155.000000\n",
       "mean      3602.506498\n",
       "std      10522.922361\n",
       "min          6.000000\n",
       "25%        118.000000\n",
       "50%        593.000000\n",
       "75%       2523.000000\n",
       "max      94860.000000\n",
       "Name: numvotes, dtype: float64"
      ]
     },
     "execution_count": 74,
     "metadata": {},
     "output_type": "execute_result"
    }
   ],
   "source": [
    "# looking at another interesting variable\n",
    "data.numvotes.describe(include = 'all')"
   ]
  },
  {
   "cell_type": "code",
   "execution_count": 76,
   "id": "choice-purple",
   "metadata": {},
   "outputs": [
    {
     "data": {
      "text/plain": [
       "<AxesSubplot:xlabel='numvotes', ylabel='Count'>"
      ]
     },
     "execution_count": 76,
     "metadata": {},
     "output_type": "execute_result"
    },
    {
     "data": {
      "image/png": "[encoded data removed]",
      "text/plain": [
       "<Figure size 432x288 with 1 Axes>"
      ]
     },
     "metadata": {
      "needs_background": "light"
     },
     "output_type": "display_data"
    }
   ],
   "source": [
    "sns.histplot(data,x='numvotes')\n",
    "# wow, "
   ]
  },
  {
   "cell_type": "code",
   "execution_count": 79,
   "id": "falling-photography",
   "metadata": {},
   "outputs": [
    {
     "data": {
      "image/png": "[encoded data removed]",
      "text/plain": [
       "<Figure size 360x360 with 1 Axes>"
      ]
     },
     "metadata": {
      "needs_background": "light"
     },
     "output_type": "display_data"
    }
   ],
   "source": [
    "q1 = np.quantile(data.numvotes, 0.25)\n",
    "q2 = np.quantile(data.numvotes, 0.5)\n",
    "q3 = np.quantile(data.numvotes, 0.75)\n",
    "\n",
    "# calc iqr\n",
    "iqr = (q3 - q1)\n",
    "# expand iqr to discern outliers\n",
    "iqr_x = iqr*1.5\n",
    "\n",
    "# setting the lower and upper limits\n",
    "iqr_lower = q1-iqr_x\n",
    "iqr_upper = q3+iqr_x\n",
    "\n",
    "\n",
    "sns.displot(data.numvotes)\n",
    "plt.axvline(x=q1, label=\"Q1\", c = 'g')\n",
    "plt.axvline(x=q2, label=\"Q2\", c = '#fd4d3f')\n",
    "plt.axvline(x=q3, label=\"Q3\", c = 'r')\n",
    "\n",
    "plt.axvline(x=iqr_lower, label = 'IQR Lower', c = 'black')\n",
    "plt.axvline(x=iqr_upper, label = 'IQR Upper', c = 'black')\n",
    "plt.legend()\n",
    "plt.show()"
   ]
  },
  {
   "cell_type": "code",
   "execution_count": 80,
   "id": "superb-speed",
   "metadata": {},
   "outputs": [],
   "source": [
    "# trimming off everything above and below the threshold.\n",
    "data2 = data[data.numvotes > iqr_lower]\n",
    "data = data2[data2.numvotes < iqr_upper]"
   ]
  },
  {
   "cell_type": "code",
   "execution_count": 82,
   "id": "5740c33c",
   "metadata": {},
   "outputs": [
    {
     "data": {
      "image/png": "[encoded data removed]",
      "text/plain": [
       "<Figure size 360x360 with 1 Axes>"
      ]
     },
     "metadata": {
      "needs_background": "light"
     },
     "output_type": "display_data"
    }
   ],
   "source": [
    "q1 = np.quantile(data.numvotes, 0.25)\n",
    "q2 = np.quantile(data.numvotes, 0.5)\n",
    "q3 = np.quantile(data.numvotes, 0.75)\n",
    "\n",
    "\n",
    "\n",
    "sns.displot(data.numvotes)\n",
    "plt.axvline(x=q1, label=\"Q1\", c = 'g')\n",
    "plt.axvline(x=q2, label=\"Q2\", c = '#fd4d3f')\n",
    "plt.axvline(x=q3, label=\"Q3\", c = 'r')\n",
    "\n",
    "\n",
    "plt.legend()\n",
    "plt.show()"
   ]
  },
  {
   "cell_type": "code",
   "execution_count": 84,
   "id": "09356589",
   "metadata": {},
   "outputs": [
    {
     "data": {
      "text/plain": [
       "count    2777.000000\n",
       "mean     1039.512784\n",
       "std      1409.249160\n",
       "min         6.000000\n",
       "25%        87.000000\n",
       "50%       393.000000\n",
       "75%      1325.000000\n",
       "max      6103.000000\n",
       "Name: numvotes, dtype: float64"
      ]
     },
     "execution_count": 84,
     "metadata": {},
     "output_type": "execute_result"
    }
   ],
   "source": [
    "data.numvotes.describe(include = 'all')"
   ]
  },
  {
   "cell_type": "code",
   "execution_count": 85,
   "id": "52b8a44f",
   "metadata": {},
   "outputs": [
    {
     "data": {
      "text/plain": [
       "<AxesSubplot:xlabel='numvotes', ylabel='Count'>"
      ]
     },
     "execution_count": 85,
     "metadata": {},
     "output_type": "execute_result"
    },
    {
     "data": {
      "image/png": "[encoded data removed]",
      "text/plain": [
       "<Figure size 432x288 with 1 Axes>"
      ]
     },
     "metadata": {
      "needs_background": "light"
     },
     "output_type": "display_data"
    }
   ],
   "source": [
    "sns.histplot(data,x='numvotes')"
   ]
  },
  {
   "cell_type": "code",
   "execution_count": 88,
   "id": "2c5ef280",
   "metadata": {},
   "outputs": [
    {
     "data": {
      "text/plain": [
       "28.0      57\n",
       "32.0      36\n",
       "24.0      35\n",
       "49.0      30\n",
       "991.0     30\n",
       "          ..\n",
       "1160.0     7\n",
       "167.0      7\n",
       "245.0      7\n",
       "85.0       6\n",
       "11.0       2\n",
       "Name: numvotes, Length: 248, dtype: int64"
      ]
     },
     "execution_count": 88,
     "metadata": {},
     "output_type": "execute_result"
    }
   ],
   "source": [
    "data.numvotes.value_counts()"
   ]
  },
  {
   "cell_type": "code",
   "execution_count": 101,
   "id": "490a98a4",
   "metadata": {},
   "outputs": [
    {
     "data": {
      "text/plain": [
       "(7, 15)"
      ]
     },
     "execution_count": 101,
     "metadata": {},
     "output_type": "execute_result"
    }
   ],
   "source": [
    "data[data.numvotes == 6].shape\n",
    "# Although trimming off outliers "
   ]
  },
  {
   "cell_type": "code",
   "execution_count": null,
   "id": "66ec4d43",
   "metadata": {},
   "outputs": [],
   "source": [
    "### 3.1 Summary Stats: Visualization\n",
    "sns.histplot(data.averagerating) "
   ]
  },
  {
   "cell_type": "code",
   "execution_count": null,
   "id": "946f1dd9",
   "metadata": {},
   "outputs": [],
   "source": [
    "sns.histplot(data.numvotes)"
   ]
  },
  {
   "cell_type": "code",
   "execution_count": null,
   "id": "b307c5d3",
   "metadata": {},
   "outputs": [],
   "source": [
    "data.numvotes.unique()"
   ]
  },
  {
   "cell_type": "code",
   "execution_count": null,
   "id": "indoor-quarterly",
   "metadata": {},
   "outputs": [],
   "source": [
    "to_encode = ['tconst','nconst','primarytitle','genres','category','primaryname','primaryprofession','knownfortitles','directors','writers']\n",
    "#to_encode = ['genres']"
   ]
  },
  {
   "cell_type": "code",
   "execution_count": null,
   "id": "sustained-armor",
   "metadata": {},
   "outputs": [],
   "source": [
    "to_encode"
   ]
  },
  {
   "cell_type": "code",
   "execution_count": null,
   "id": "different-subscription",
   "metadata": {},
   "outputs": [],
   "source": [
    "## Visualization: Summary Statistics\n",
    "## Preprocess Data\n",
    "from sklearn.compose import ColumnTransformer,make_column_transformer"
   ]
  },
  {
   "cell_type": "code",
   "execution_count": null,
   "id": "cardiac-wilson",
   "metadata": {},
   "outputs": [],
   "source": [
    "Label_enc = LabelEncoder()\n",
    "for i in to_encode:\n",
    "    data[i]=Label_enc.fit_transform(data[i])\n",
    "data"
   ]
  },
  {
   "cell_type": "code",
   "execution_count": null,
   "id": "italic-discount",
   "metadata": {},
   "outputs": [],
   "source": [
    "data.describe()"
   ]
  },
  {
   "cell_type": "code",
   "execution_count": null,
   "id": "suburban-reservoir",
   "metadata": {},
   "outputs": [],
   "source": [
    "from sklearn.preprocessing import StandardScaler\n",
    "\n",
    "scaler = StandardScaler()\n",
    "standardized_data = scaler.fit_transform(data)"
   ]
  },
  {
   "cell_type": "code",
   "execution_count": null,
   "id": "sharing-drain",
   "metadata": {},
   "outputs": [],
   "source": [
    "x = pd.DataFrame(standardized_data, columns = data.columns)\n",
    "x"
   ]
  },
  {
   "cell_type": "code",
   "execution_count": null,
   "id": "39e5eb5e",
   "metadata": {},
   "outputs": [],
   "source": [
    "y = data['averagerating']"
   ]
  },
  {
   "cell_type": "code",
   "execution_count": null,
   "id": "premium-butterfly",
   "metadata": {},
   "outputs": [],
   "source": [
    "# #Fit/Train Model\n",
    "k = 3\n",
    "model = KMeans(init='k-means++', n_clusters=k)"
   ]
  },
  {
   "cell_type": "code",
   "execution_count": null,
   "id": "alleged-firewall",
   "metadata": {},
   "outputs": [],
   "source": [
    "model.fit_transform(standardized_data)\n",
    "# Evaluate Model\n",
    "model.inertia_"
   ]
  },
  {
   "cell_type": "code",
   "execution_count": null,
   "id": "plastic-discipline",
   "metadata": {},
   "outputs": [],
   "source": [
    "clusters = model.predict(standardized_data).tolist()"
   ]
  },
  {
   "cell_type": "code",
   "execution_count": null,
   "id": "celtic-developer",
   "metadata": {},
   "outputs": [],
   "source": [
    "data[\"Cluster\"] = clusters\n",
    "data.Cluster.value_counts()"
   ]
  },
  {
   "cell_type": "code",
   "execution_count": null,
   "id": "c4480029",
   "metadata": {},
   "outputs": [],
   "source": [
    "\n",
    "\n",
    "labels = model.labels_\n",
    "\n",
    "# check how many of the samples were correctly labeled\n",
    "correct_labels = sum(y == labels)\n",
    "\n",
    "print(\"Result: %d out of %d samples were correctly labeled.\" % (correct_labels, y.size))\n",
    "\n"
   ]
  },
  {
   "cell_type": "code",
   "execution_count": null,
   "id": "narrow-routine",
   "metadata": {},
   "outputs": [],
   "source": [
    "cs = []\n",
    "for i in range(1, 11):\n",
    "    kmeans = KMeans(n_clusters = i, init = 'k-means++', max_iter = 300, n_init = 10, random_state = 0)\n",
    "    kmeans.fit(standardized_data)\n",
    "    cs.append(kmeans.inertia_)\n",
    "plt.plot(range(1, 11), cs)\n",
    "plt.title('The Elbow Method')\n",
    "plt.xlabel('Number of clusters')\n",
    "plt.ylabel('CS')\n",
    "plt.show()"
   ]
  },
  {
   "cell_type": "code",
   "execution_count": null,
   "id": "handled-bloom",
   "metadata": {},
   "outputs": [],
   "source": [
    "import seaborn as sns\n",
    "data.columns"
   ]
  },
  {
   "cell_type": "code",
   "execution_count": null,
   "id": "detected-kidney",
   "metadata": {},
   "outputs": [],
   "source": [
    "sns.relplot(\n",
    "    x=\"category\", y=\"averagerating\", hue=\"Cluster\", data=data, height=6,\n",
    ");"
   ]
  },
  {
   "cell_type": "code",
   "execution_count": null,
   "id": "sought-corps",
   "metadata": {},
   "outputs": [],
   "source": []
  },
  {
   "cell_type": "code",
   "execution_count": null,
   "id": "embedded-portal",
   "metadata": {},
   "outputs": [],
   "source": []
  },
  {
   "cell_type": "code",
   "execution_count": null,
   "id": "drawn-mumbai",
   "metadata": {},
   "outputs": [],
   "source": [
    "# Visualization: Communicating Findings\n"
   ]
  },
  {
   "cell_type": "code",
   "execution_count": null,
   "id": "bored-rhythm",
   "metadata": {},
   "outputs": [],
   "source": []
  },
  {
   "cell_type": "code",
   "execution_count": null,
   "id": "nearby-planner",
   "metadata": {},
   "outputs": [],
   "source": []
  },
  {
   "cell_type": "code",
   "execution_count": null,
   "id": "universal-louis",
   "metadata": {},
   "outputs": [],
   "source": [
    "#TODO look at uniques again\n"
   ]
  },
  {
   "cell_type": "code",
   "execution_count": null,
   "id": "mature-opera",
   "metadata": {},
   "outputs": [],
   "source": []
  },
  {
   "cell_type": "code",
   "execution_count": null,
   "id": "known-policy",
   "metadata": {},
   "outputs": [],
   "source": []
  },
  {
   "cell_type": "code",
   "execution_count": null,
   "id": "downtown-ultimate",
   "metadata": {},
   "outputs": [],
   "source": []
  },
  {
   "cell_type": "code",
   "execution_count": null,
   "id": "joined-control",
   "metadata": {},
   "outputs": [],
   "source": []
  },
  {
   "cell_type": "code",
   "execution_count": null,
   "id": "honest-fisher",
   "metadata": {},
   "outputs": [],
   "source": []
  },
  {
   "cell_type": "code",
   "execution_count": null,
   "id": "spare-masters",
   "metadata": {},
   "outputs": [],
   "source": []
  },
  {
   "cell_type": "code",
   "execution_count": null,
   "id": "legendary-committee",
   "metadata": {},
   "outputs": [],
   "source": []
  },
  {
   "cell_type": "code",
   "execution_count": null,
   "id": "economic-macro",
   "metadata": {},
   "outputs": [],
   "source": []
  },
  {
   "cell_type": "code",
   "execution_count": null,
   "id": "ideal-region",
   "metadata": {},
   "outputs": [],
   "source": []
  }
 ],
 "metadata": {
  "interpreter": {
   "hash": "e2f5eeafb4738538680cc9389be83c7f54c751ee609fa97da0b7e381233777c0"
  },
  "kernelspec": {
   "display_name": "Python [conda env:KMeans_Numbers]",
   "language": "python",
   "name": "python3"
  },
  "language_info": {
   "codemirror_mode": {
    "name": "ipython",
    "version": 3
   },
   "file_extension": ".py",
   "mimetype": "text/x-python",
   "name": "python",
   "nbconvert_exporter": "python",
   "pygments_lexer": "ipython3",
   "version": "3.8.5"
  }
 },
 "nbformat": 4,
 "nbformat_minor": 5
}
