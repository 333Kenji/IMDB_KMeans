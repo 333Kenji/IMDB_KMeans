{
 "cells": [
  {
   "cell_type": "code",
   "execution_count": 1,
   "id": "continent-collaboration",
   "metadata": {},
   "outputs": [
    {
     "data": {
      "text/plain": [
       "'\\n    Summary:\\n        _\\n    Args:\\n        _ (type): _\\n\\n    Returns:\\n       _ (type): _\\n'"
      ]
     },
     "execution_count": 1,
     "metadata": {},
     "output_type": "execute_result"
    }
   ],
   "source": [
    "import numpy as np\n",
    "import pandas as pd\n",
    "\n",
    "from scipy.stats import pearsonr\n",
    "\n",
    "from sklearn.cluster import KMeans\n",
    "from sklearn.preprocessing import OneHotEncoder, StandardScaler, LabelEncoder, MinMaxScaler\n",
    "from sklearn.compose import ColumnTransformer\n",
    "from sklearn.decomposition import PCA\n",
    "\n",
    "import matplotlib.pyplot as plt\n",
    "import seaborn as sns\n",
    "import re\n",
    "\n",
    "%matplotlib inline\n",
    "\n",
    "\n",
    "colors = ['navy', 'turquoise', 'brown', 'red', 'black','green', 'orange', 'pink']\n",
    "\"\"\"\n",
    "    Summary:\n",
    "        _\n",
    "    Args:\n",
    "        _ (type): _\n",
    "\n",
    "    Returns:\n",
    "       _ (type): _\n",
    "\"\"\""
   ]
  },
  {
   "cell_type": "markdown",
   "id": "3d023687",
   "metadata": {},
   "source": [
    "## 1. Data\n",
    "The data for this project comes from https://www.imdb.com/interfaces/ as extremely large .tsv (tab-seperated) files, the biggest being over 2GB. In order to conduct train the KMeans++ model I will need to combine all of this data. But first, in order to load it without overloading my system I need to apply some data wranging and engineering. The need for each of these files is briefly explained below.\n",
    "\n",
    "- akas: I need region data so I can narrow the data to 'US' based films.\n",
    "- basics: contains movie specific info\n",
    "- name: contains names of cast and crew along with their reference code (nconst)\n",
    "- principals: contains order of precedence if more than one nconst (person) is referenced to the same role (i.e. lead vs co-directors)\n",
    "- ratings: holds IMDB user rating and vote counts\n",
    "\n",
    "I'm handling this huge memory load by using pandas to read load the data in chunk, and filtering out specific columns and values that are irrelevant to the project. The data is then saved to a .csv file to ensure stability (of my machine) that I load back in.\n",
    "\n",
    "As of right now, there's a bit of SQL at the bottom of this file that I'm tinkering with.\n",
    "Also, the data dictionary on imdb.com is incorrect. I'll provide one once the data has been trimmed down and consolidated.\n",
    "\n",
    "### 1.1 Load & Inspect Each Table\n",
    "'usecols' is a useful parameter for speeding up the reading in of large files because I can specify just the columns I need pandas to parse.\n",
    "\n",
    "In .read_csv iterator and chunksize let me specify how much data from each .tsv file will be preprocessed before being recomiled into a dataframe."
   ]
  },
  {
   "cell_type": "code",
   "execution_count": null,
   "id": "8f027a69",
   "metadata": {},
   "outputs": [],
   "source": [
    "def chunks(path,cols):\n",
    "    \"\"\"\n",
    "    Summary: loads .tsv files in chunks, selecting specific features and filtering unnecessary values.\n",
    "        _\n",
    "    Args:\n",
    "        path (string): local address\n",
    "        cols (list): features to keep\n",
    "    Returns:\n",
    "       df_result (pd.DataFrame): preprocessed dataframe\n",
    "    \"\"\"\n",
    "    PATH = path\n",
    "    my_chunk = 100000\n",
    "    # sets up the size and parameters of the file reader\n",
    "    iter_csv = pd.read_csv(\n",
    "        PATH,\n",
    "        na_values=['\\\\N','nan'],\n",
    "        delimiter='\\t',\n",
    "        iterator=True,\n",
    "        dtype='object',\n",
    "        chunksize=my_chunk,\n",
    "        usecols=cols)\n",
    "    \n",
    "    # the following logic follows that when the function is called, if the string arguement passed through as the path parameter matches the case string, a speciic data engineering process is executed for that specific data.\n",
    "    if 'rating' in PATH:\n",
    "        df_result = pd.concat([chunk for chunk in iter_csv])\n",
    "    elif 'name' in PATH:\n",
    "        df_result = pd.concat([chunk for chunk in iter_csv])\n",
    "    elif 'principals' in PATH:\n",
    "        # there's a number of roles that barely appear in the data.\n",
    "        #TODO roll these into an 'other'\n",
    "        principal_roles = ['actor', 'actress','director','writer','producer','composer']\n",
    "        df_result = pd.concat(\n",
    "            [chunk[(chunk['ordering'].astype('int') <= 1) & (chunk['category'].isin(principal_roles))]\n",
    "            for chunk in iter_csv])\n",
    "        \n",
    "    elif 'akas' in PATH:\n",
    "        df_result = pd.concat([chunk[chunk.region == 'US'] for chunk in iter_csv])\n",
    "        df_result.rename({'titleId': 'tconst'}, axis=1, inplace=True)\n",
    "    elif 'basics' in PATH:\n",
    "        # Many films have a list of genres which explodes in dimensionality when one hot encoding. So instead, I'm sticking with the films that're 'quisessentially' a specific genre.\n",
    "        principle_genres = ['Drama','Comedy','Adventure','Action', 'Horror', 'Thriller', 'Fantasy', 'Crime', 'Family', 'Sci-Fi', 'Mystery',\n",
    "            'Romance']\n",
    "        # I also observed a high skew to startYear values so I'm also limiting the scope of the data to just the past 2+ decades.\n",
    "        df_result = pd.concat([chunk[\n",
    "            (chunk.titleType == 'movie')\n",
    "            & (chunk.startYear.between('2000', '2022'))\n",
    "            & (chunk['genres'].isin(principle_genres))] for chunk in iter_csv])\n",
    "        \n",
    "        df_result.startYear = pd.to_numeric(df_result.startYear)\n",
    "        df_result.runtimeMinutes = pd.to_numeric(df_result.runtimeMinutes)\n",
    "        df_result = df_result[df_result.runtimeMinutes >= 70]\n",
    "        df_result.runtimeMinutes = pd.to_numeric(df_result.runtimeMinutes)\n",
    "        df_result = df_result.drop('titleType', axis=1)\n",
    "        \n",
    "    df_result.columns = map(str.lower, df_result.columns)\n",
    "\n",
    "    return pd.DataFrame(df_result)"
   ]
  },
  {
   "cell_type": "code",
   "execution_count": null,
   "id": "87ddc5fe",
   "metadata": {},
   "outputs": [],
   "source": [
    "\n",
    "# Each .tsv file is loaded by calling the chunks function using a list of its columns and the local address\n",
    "\n",
    "col_list = ['tconst','titleType','primaryTitle','startYear','genres','runtimeMinutes']\n",
    "basics_tsv = '../Data/tsv/basics.tsv'\n",
    "basics = pd.DataFrame(chunks(basics_tsv,col_list))\n",
    "\n",
    "\n",
    "col_list = ['titleId','region']\n",
    "akas_tsv = '../Data/tsv/akas.tsv'\n",
    "akas = pd.DataFrame(chunks(akas_tsv,col_list))\n",
    "\n",
    "\n",
    "col_list = ['tconst','ordering','nconst','category'\t]\n",
    "principals_tsv = '../Data/tsv/principals.tsv'\n",
    "principals = pd.DataFrame(chunks(principals_tsv,col_list))\n",
    "\n",
    "\n",
    "col_list = ['tconst','averageRating','numVotes']\n",
    "ratings_tsv = '../Data/tsv/ratings.tsv'\n",
    "ratings = pd.DataFrame(chunks(ratings_tsv,col_list))\n",
    "\n",
    "\n",
    "col_list = ['nconst', 'primaryName']\n",
    "names_tsv = '../Data/tsv/name.tsv'\n",
    "names = pd.DataFrame(chunks(names_tsv,col_list))\n"
   ]
  },
  {
   "cell_type": "markdown",
   "id": "01898a21",
   "metadata": {},
   "source": [
    "### 1.2 Merging Tables\n",
    "First, the basics table is filtered by a list of tconst (film specific) values for films that were identified in the akas table as being from the 'US'.\n",
    "Then the tconst and nconst (person specific) keys are used to merge each table.\n"
   ]
  },
  {
   "cell_type": "code",
   "execution_count": null,
   "id": "4dfb3c60",
   "metadata": {},
   "outputs": [],
   "source": [
    "\n",
    "# filtering basics down to only movies from the 'US' region. This'll greatly reduced everything being add from the other tables.\n",
    "tconst = list(set(akas.tconst.values))\n",
    "basics = basics[basics['tconst'].isin(tconst)]\n",
    "\n",
    "data = basics.merge(principals, how='left',on='tconst')\n",
    "data = data.merge(ratings, how='left',on='tconst')\n",
    "data = data.merge(names, how='left',on='nconst')\n",
    "\n",
    "data.drop(['nconst'],axis=1,inplace=True)\n",
    "data.dropna(inplace=True)\n",
    "data.to_csv('../Data/data.csv', index=False)\n",
    "print(len(data))\n",
    "print(data.info(memory_usage='deep'))\n",
    "data.head()"
   ]
  },
  {
   "cell_type": "markdown",
   "id": "f8f5e96d",
   "metadata": {},
   "source": [
    "### 1.3 Table Inspection"
   ]
  },
  {
   "cell_type": "code",
   "execution_count": 2,
   "id": "7cbee8e6",
   "metadata": {},
   "outputs": [
    {
     "name": "stdout",
     "output_type": "stream",
     "text": [
      "23124\n",
      "<class 'pandas.core.frame.DataFrame'>\n",
      "RangeIndex: 23124 entries, 0 to 23123\n",
      "Data columns (total 10 columns):\n",
      " #   Column          Non-Null Count  Dtype  \n",
      "---  ------          --------------  -----  \n",
      " 0   tconst          23124 non-null  object \n",
      " 1   primarytitle    23124 non-null  object \n",
      " 2   startyear       23124 non-null  int64  \n",
      " 3   runtimeminutes  23124 non-null  float64\n",
      " 4   genres          23124 non-null  object \n",
      " 5   ordering        23124 non-null  int64  \n",
      " 6   category        23124 non-null  object \n",
      " 7   averagerating   23124 non-null  float64\n",
      " 8   numvotes        23124 non-null  int64  \n",
      " 9   primaryname     23124 non-null  object \n",
      "dtypes: float64(2), int64(3), object(5)\n",
      "memory usage: 8.3 MB\n"
     ]
    },
    {
     "data": {
      "text/html": [
       "<div>\n",
       "<style scoped>\n",
       "    .dataframe tbody tr th:only-of-type {\n",
       "        vertical-align: middle;\n",
       "    }\n",
       "\n",
       "    .dataframe tbody tr th {\n",
       "        vertical-align: top;\n",
       "    }\n",
       "\n",
       "    .dataframe thead th {\n",
       "        text-align: right;\n",
       "    }\n",
       "</style>\n",
       "<table border=\"1\" class=\"dataframe\">\n",
       "  <thead>\n",
       "    <tr style=\"text-align: right;\">\n",
       "      <th></th>\n",
       "      <th>tconst</th>\n",
       "      <th>primarytitle</th>\n",
       "      <th>startyear</th>\n",
       "      <th>runtimeminutes</th>\n",
       "      <th>genres</th>\n",
       "      <th>ordering</th>\n",
       "      <th>category</th>\n",
       "      <th>averagerating</th>\n",
       "      <th>numvotes</th>\n",
       "      <th>primaryname</th>\n",
       "    </tr>\n",
       "  </thead>\n",
       "  <tbody>\n",
       "    <tr>\n",
       "      <th>0</th>\n",
       "      <td>tt0062336</td>\n",
       "      <td>The Tango of the Widower and Its Distorting Mi...</td>\n",
       "      <td>2020</td>\n",
       "      <td>70.0</td>\n",
       "      <td>Drama</td>\n",
       "      <td>1</td>\n",
       "      <td>actor</td>\n",
       "      <td>6.4</td>\n",
       "      <td>161</td>\n",
       "      <td>Rubén Sotoconil</td>\n",
       "    </tr>\n",
       "    <tr>\n",
       "      <th>1</th>\n",
       "      <td>tt0069049</td>\n",
       "      <td>The Other Side of the Wind</td>\n",
       "      <td>2018</td>\n",
       "      <td>122.0</td>\n",
       "      <td>Drama</td>\n",
       "      <td>1</td>\n",
       "      <td>actor</td>\n",
       "      <td>6.7</td>\n",
       "      <td>7160</td>\n",
       "      <td>John Huston</td>\n",
       "    </tr>\n",
       "    <tr>\n",
       "      <th>2</th>\n",
       "      <td>tt0094859</td>\n",
       "      <td>Chief Zabu</td>\n",
       "      <td>2016</td>\n",
       "      <td>74.0</td>\n",
       "      <td>Comedy</td>\n",
       "      <td>1</td>\n",
       "      <td>actor</td>\n",
       "      <td>7.9</td>\n",
       "      <td>82</td>\n",
       "      <td>Allen Garfield</td>\n",
       "    </tr>\n",
       "    <tr>\n",
       "      <th>3</th>\n",
       "      <td>tt0096056</td>\n",
       "      <td>Crime and Punishment</td>\n",
       "      <td>2002</td>\n",
       "      <td>126.0</td>\n",
       "      <td>Drama</td>\n",
       "      <td>1</td>\n",
       "      <td>actor</td>\n",
       "      <td>5.7</td>\n",
       "      <td>810</td>\n",
       "      <td>Crispin Glover</td>\n",
       "    </tr>\n",
       "    <tr>\n",
       "      <th>4</th>\n",
       "      <td>tt0114447</td>\n",
       "      <td>The Silent Force</td>\n",
       "      <td>2001</td>\n",
       "      <td>90.0</td>\n",
       "      <td>Action</td>\n",
       "      <td>1</td>\n",
       "      <td>actor</td>\n",
       "      <td>4.2</td>\n",
       "      <td>152</td>\n",
       "      <td>Loren Avedon</td>\n",
       "    </tr>\n",
       "  </tbody>\n",
       "</table>\n",
       "</div>"
      ],
      "text/plain": [
       "      tconst                                       primarytitle  startyear  \\\n",
       "0  tt0062336  The Tango of the Widower and Its Distorting Mi...       2020   \n",
       "1  tt0069049                         The Other Side of the Wind       2018   \n",
       "2  tt0094859                                         Chief Zabu       2016   \n",
       "3  tt0096056                               Crime and Punishment       2002   \n",
       "4  tt0114447                                   The Silent Force       2001   \n",
       "\n",
       "   runtimeminutes  genres  ordering category  averagerating  numvotes  \\\n",
       "0            70.0   Drama         1    actor            6.4       161   \n",
       "1           122.0   Drama         1    actor            6.7      7160   \n",
       "2            74.0  Comedy         1    actor            7.9        82   \n",
       "3           126.0   Drama         1    actor            5.7       810   \n",
       "4            90.0  Action         1    actor            4.2       152   \n",
       "\n",
       "       primaryname  \n",
       "0  Rubén Sotoconil  \n",
       "1      John Huston  \n",
       "2   Allen Garfield  \n",
       "3   Crispin Glover  \n",
       "4     Loren Avedon  "
      ]
     },
     "execution_count": 2,
     "metadata": {},
     "output_type": "execute_result"
    }
   ],
   "source": [
    "# note the change in memory usage.\n",
    "data = pd.read_csv('../Data/data.csv')\n",
    "print(len(data))\n",
    "data.info(memory_usage='deep')\n",
    "data.head()"
   ]
  },
  {
   "cell_type": "code",
   "execution_count": 3,
   "id": "important-bermuda",
   "metadata": {},
   "outputs": [
    {
     "data": {
      "text/plain": [
       "'data dictionary\\ntconst  =   title id of the movie\\nprimarytitle    =   primary title the movie goes by\\nstartyear   =   year realease\\nruntimeminutes  =   film duration\\ngenres  =   list of each genre the film represents\\nordering    =   order of precedence if co-directors/writers/producers\\nnconst  =   name id or director, writer\\ncategory    =   job category7\\nprimaryname =   director/writer name gone by\\nprimaryprofession   =   primary postion of principal\\nknownfortitles  =   previous works by principle\\naveragerating   =   films average rating\\nnumvotes    =   number of votes film has received\\ndirectors   =   list of directors\\nwriters =   list of writers'"
      ]
     },
     "execution_count": 3,
     "metadata": {},
     "output_type": "execute_result"
    }
   ],
   "source": [
    "'''data dictionary\n",
    "tconst  =   title id of the movie\n",
    "primarytitle    =   primary title the movie goes by\n",
    "startyear   =   year realease\n",
    "runtimeminutes  =   film duration\n",
    "genres  =   list of each genre the film represents\n",
    "ordering    =   order of precedence if co-directors/writers/producers\n",
    "nconst  =   name id or director, writer\n",
    "category    =   job category7\n",
    "primaryname =   director/writer name gone by\n",
    "primaryprofession   =   primary postion of principal\n",
    "knownfortitles  =   previous works by principle\n",
    "averagerating   =   films average rating\n",
    "numvotes    =   number of votes film has received\n",
    "directors   =   list of directors\n",
    "writers =   list of writers'''"
   ]
  },
  {
   "cell_type": "code",
   "execution_count": 4,
   "id": "intensive-printing",
   "metadata": {},
   "outputs": [
    {
     "name": "stdout",
     "output_type": "stream",
     "text": [
      "Number of dupes: 0\n"
     ]
    },
    {
     "data": {
      "text/html": [
       "<div>\n",
       "<style scoped>\n",
       "    .dataframe tbody tr th:only-of-type {\n",
       "        vertical-align: middle;\n",
       "    }\n",
       "\n",
       "    .dataframe tbody tr th {\n",
       "        vertical-align: top;\n",
       "    }\n",
       "\n",
       "    .dataframe thead th {\n",
       "        text-align: right;\n",
       "    }\n",
       "</style>\n",
       "<table border=\"1\" class=\"dataframe\">\n",
       "  <thead>\n",
       "    <tr style=\"text-align: right;\">\n",
       "      <th></th>\n",
       "      <th>tconst</th>\n",
       "      <th>primarytitle</th>\n",
       "      <th>startyear</th>\n",
       "      <th>runtimeminutes</th>\n",
       "      <th>genres</th>\n",
       "      <th>ordering</th>\n",
       "      <th>category</th>\n",
       "      <th>averagerating</th>\n",
       "      <th>numvotes</th>\n",
       "      <th>primaryname</th>\n",
       "    </tr>\n",
       "  </thead>\n",
       "  <tbody>\n",
       "  </tbody>\n",
       "</table>\n",
       "</div>"
      ],
      "text/plain": [
       "Empty DataFrame\n",
       "Columns: [tconst, primarytitle, startyear, runtimeminutes, genres, ordering, category, averagerating, numvotes, primaryname]\n",
       "Index: []"
      ]
     },
     "execution_count": 4,
     "metadata": {},
     "output_type": "execute_result"
    }
   ],
   "source": [
    "# check for duplcates.\n",
    "print(f'Number of dupes: {sum(data.duplicated())}')\n",
    "data[data.duplicated() == True]\n",
    "\n",
    "#data.drop_duplicates(inplace=True)\n",
    "#data[data.duplicated() == True]\n"
   ]
  },
  {
   "cell_type": "code",
   "execution_count": 5,
   "id": "criminal-cloud",
   "metadata": {},
   "outputs": [
    {
     "data": {
      "text/html": [
       "<div>\n",
       "<style scoped>\n",
       "    .dataframe tbody tr th:only-of-type {\n",
       "        vertical-align: middle;\n",
       "    }\n",
       "\n",
       "    .dataframe tbody tr th {\n",
       "        vertical-align: top;\n",
       "    }\n",
       "\n",
       "    .dataframe thead th {\n",
       "        text-align: right;\n",
       "    }\n",
       "</style>\n",
       "<table border=\"1\" class=\"dataframe\">\n",
       "  <thead>\n",
       "    <tr style=\"text-align: right;\">\n",
       "      <th></th>\n",
       "      <th>tconst</th>\n",
       "      <th>primarytitle</th>\n",
       "      <th>startyear</th>\n",
       "      <th>runtimeminutes</th>\n",
       "      <th>genres</th>\n",
       "      <th>ordering</th>\n",
       "      <th>category</th>\n",
       "      <th>averagerating</th>\n",
       "      <th>numvotes</th>\n",
       "      <th>primaryname</th>\n",
       "    </tr>\n",
       "  </thead>\n",
       "  <tbody>\n",
       "  </tbody>\n",
       "</table>\n",
       "</div>"
      ],
      "text/plain": [
       "Empty DataFrame\n",
       "Columns: [tconst, primarytitle, startyear, runtimeminutes, genres, ordering, category, averagerating, numvotes, primaryname]\n",
       "Index: []"
      ]
     },
     "execution_count": 5,
     "metadata": {},
     "output_type": "execute_result"
    }
   ],
   "source": [
    "# check for null values\n",
    "data[data.isnull().any(axis=1)]"
   ]
  },
  {
   "cell_type": "code",
   "execution_count": 6,
   "id": "unlike-symposium",
   "metadata": {},
   "outputs": [
    {
     "data": {
      "text/plain": [
       "tconst            0\n",
       "primarytitle      0\n",
       "startyear         0\n",
       "runtimeminutes    0\n",
       "genres            0\n",
       "ordering          0\n",
       "category          0\n",
       "averagerating     0\n",
       "numvotes          0\n",
       "primaryname       0\n",
       "dtype: int64"
      ]
     },
     "execution_count": 6,
     "metadata": {},
     "output_type": "execute_result"
    }
   ],
   "source": [
    "# just doublechecking.\n",
    "data.isna().sum()"
   ]
  },
  {
   "cell_type": "markdown",
   "id": "8bea7f31",
   "metadata": {},
   "source": [
    "## 2. Initial EDA: Feature Selection\n",
    "### 2.1 Data Diagnosis"
   ]
  },
  {
   "cell_type": "code",
   "execution_count": 7,
   "id": "8d8939df",
   "metadata": {},
   "outputs": [
    {
     "data": {
      "text/html": [
       "<div>\n",
       "<style scoped>\n",
       "    .dataframe tbody tr th:only-of-type {\n",
       "        vertical-align: middle;\n",
       "    }\n",
       "\n",
       "    .dataframe tbody tr th {\n",
       "        vertical-align: top;\n",
       "    }\n",
       "\n",
       "    .dataframe thead th {\n",
       "        text-align: right;\n",
       "    }\n",
       "</style>\n",
       "<table border=\"1\" class=\"dataframe\">\n",
       "  <thead>\n",
       "    <tr style=\"text-align: right;\">\n",
       "      <th></th>\n",
       "      <th>tconst</th>\n",
       "      <th>primarytitle</th>\n",
       "      <th>startyear</th>\n",
       "      <th>runtimeminutes</th>\n",
       "      <th>genres</th>\n",
       "      <th>ordering</th>\n",
       "      <th>category</th>\n",
       "      <th>averagerating</th>\n",
       "      <th>numvotes</th>\n",
       "      <th>primaryname</th>\n",
       "    </tr>\n",
       "  </thead>\n",
       "  <tbody>\n",
       "    <tr>\n",
       "      <th>count</th>\n",
       "      <td>23124</td>\n",
       "      <td>23124</td>\n",
       "      <td>23124.000000</td>\n",
       "      <td>23124.000000</td>\n",
       "      <td>23124</td>\n",
       "      <td>23124.0</td>\n",
       "      <td>23124</td>\n",
       "      <td>23124.000000</td>\n",
       "      <td>23124.000000</td>\n",
       "      <td>23124</td>\n",
       "    </tr>\n",
       "    <tr>\n",
       "      <th>unique</th>\n",
       "      <td>23124</td>\n",
       "      <td>22072</td>\n",
       "      <td>NaN</td>\n",
       "      <td>NaN</td>\n",
       "      <td>12</td>\n",
       "      <td>NaN</td>\n",
       "      <td>5</td>\n",
       "      <td>NaN</td>\n",
       "      <td>NaN</td>\n",
       "      <td>19128</td>\n",
       "    </tr>\n",
       "    <tr>\n",
       "      <th>top</th>\n",
       "      <td>tt1641410</td>\n",
       "      <td>Home</td>\n",
       "      <td>NaN</td>\n",
       "      <td>NaN</td>\n",
       "      <td>Drama</td>\n",
       "      <td>NaN</td>\n",
       "      <td>actor</td>\n",
       "      <td>NaN</td>\n",
       "      <td>NaN</td>\n",
       "      <td>Eric Roberts</td>\n",
       "    </tr>\n",
       "    <tr>\n",
       "      <th>freq</th>\n",
       "      <td>1</td>\n",
       "      <td>7</td>\n",
       "      <td>NaN</td>\n",
       "      <td>NaN</td>\n",
       "      <td>11711</td>\n",
       "      <td>NaN</td>\n",
       "      <td>14094</td>\n",
       "      <td>NaN</td>\n",
       "      <td>NaN</td>\n",
       "      <td>29</td>\n",
       "    </tr>\n",
       "    <tr>\n",
       "      <th>mean</th>\n",
       "      <td>NaN</td>\n",
       "      <td>NaN</td>\n",
       "      <td>2013.145866</td>\n",
       "      <td>96.218128</td>\n",
       "      <td>NaN</td>\n",
       "      <td>1.0</td>\n",
       "      <td>NaN</td>\n",
       "      <td>5.858783</td>\n",
       "      <td>1865.275428</td>\n",
       "      <td>NaN</td>\n",
       "    </tr>\n",
       "    <tr>\n",
       "      <th>std</th>\n",
       "      <td>NaN</td>\n",
       "      <td>NaN</td>\n",
       "      <td>5.728444</td>\n",
       "      <td>19.952159</td>\n",
       "      <td>NaN</td>\n",
       "      <td>0.0</td>\n",
       "      <td>NaN</td>\n",
       "      <td>1.424790</td>\n",
       "      <td>17739.390320</td>\n",
       "      <td>NaN</td>\n",
       "    </tr>\n",
       "    <tr>\n",
       "      <th>min</th>\n",
       "      <td>NaN</td>\n",
       "      <td>NaN</td>\n",
       "      <td>2000.000000</td>\n",
       "      <td>70.000000</td>\n",
       "      <td>NaN</td>\n",
       "      <td>1.0</td>\n",
       "      <td>NaN</td>\n",
       "      <td>1.000000</td>\n",
       "      <td>5.000000</td>\n",
       "      <td>NaN</td>\n",
       "    </tr>\n",
       "    <tr>\n",
       "      <th>25%</th>\n",
       "      <td>NaN</td>\n",
       "      <td>NaN</td>\n",
       "      <td>2009.000000</td>\n",
       "      <td>85.000000</td>\n",
       "      <td>NaN</td>\n",
       "      <td>1.0</td>\n",
       "      <td>NaN</td>\n",
       "      <td>5.000000</td>\n",
       "      <td>32.000000</td>\n",
       "      <td>NaN</td>\n",
       "    </tr>\n",
       "    <tr>\n",
       "      <th>50%</th>\n",
       "      <td>NaN</td>\n",
       "      <td>NaN</td>\n",
       "      <td>2014.000000</td>\n",
       "      <td>93.000000</td>\n",
       "      <td>NaN</td>\n",
       "      <td>1.0</td>\n",
       "      <td>NaN</td>\n",
       "      <td>6.000000</td>\n",
       "      <td>114.000000</td>\n",
       "      <td>NaN</td>\n",
       "    </tr>\n",
       "    <tr>\n",
       "      <th>75%</th>\n",
       "      <td>NaN</td>\n",
       "      <td>NaN</td>\n",
       "      <td>2018.000000</td>\n",
       "      <td>103.000000</td>\n",
       "      <td>NaN</td>\n",
       "      <td>1.0</td>\n",
       "      <td>NaN</td>\n",
       "      <td>6.800000</td>\n",
       "      <td>420.000000</td>\n",
       "      <td>NaN</td>\n",
       "    </tr>\n",
       "    <tr>\n",
       "      <th>max</th>\n",
       "      <td>NaN</td>\n",
       "      <td>NaN</td>\n",
       "      <td>2022.000000</td>\n",
       "      <td>1260.000000</td>\n",
       "      <td>NaN</td>\n",
       "      <td>1.0</td>\n",
       "      <td>NaN</td>\n",
       "      <td>10.000000</td>\n",
       "      <td>816849.000000</td>\n",
       "      <td>NaN</td>\n",
       "    </tr>\n",
       "  </tbody>\n",
       "</table>\n",
       "</div>"
      ],
      "text/plain": [
       "           tconst primarytitle     startyear  runtimeminutes genres  ordering  \\\n",
       "count       23124        23124  23124.000000    23124.000000  23124   23124.0   \n",
       "unique      23124        22072           NaN             NaN     12       NaN   \n",
       "top     tt1641410         Home           NaN             NaN  Drama       NaN   \n",
       "freq            1            7           NaN             NaN  11711       NaN   \n",
       "mean          NaN          NaN   2013.145866       96.218128    NaN       1.0   \n",
       "std           NaN          NaN      5.728444       19.952159    NaN       0.0   \n",
       "min           NaN          NaN   2000.000000       70.000000    NaN       1.0   \n",
       "25%           NaN          NaN   2009.000000       85.000000    NaN       1.0   \n",
       "50%           NaN          NaN   2014.000000       93.000000    NaN       1.0   \n",
       "75%           NaN          NaN   2018.000000      103.000000    NaN       1.0   \n",
       "max           NaN          NaN   2022.000000     1260.000000    NaN       1.0   \n",
       "\n",
       "       category  averagerating       numvotes   primaryname  \n",
       "count     23124   23124.000000   23124.000000         23124  \n",
       "unique        5            NaN            NaN         19128  \n",
       "top       actor            NaN            NaN  Eric Roberts  \n",
       "freq      14094            NaN            NaN            29  \n",
       "mean        NaN       5.858783    1865.275428           NaN  \n",
       "std         NaN       1.424790   17739.390320           NaN  \n",
       "min         NaN       1.000000       5.000000           NaN  \n",
       "25%         NaN       5.000000      32.000000           NaN  \n",
       "50%         NaN       6.000000     114.000000           NaN  \n",
       "75%         NaN       6.800000     420.000000           NaN  \n",
       "max         NaN      10.000000  816849.000000           NaN  "
      ]
     },
     "execution_count": 7,
     "metadata": {},
     "output_type": "execute_result"
    }
   ],
   "source": [
    "data.describe(include='all')"
   ]
  },
  {
   "cell_type": "markdown",
   "id": "5f9ad815",
   "metadata": {},
   "source": [
    "### 2.2 Categorical Features\n",
    "I have to pay special attention here. Note that 'primarytitle' and 'primaryname' would dramatically insrease the dimensionality of the data."
   ]
  },
  {
   "cell_type": "code",
   "execution_count": 8,
   "id": "0f2353b5",
   "metadata": {},
   "outputs": [
    {
     "data": {
      "text/plain": [
       "tconst          23124\n",
       "primarytitle    22072\n",
       "genres             12\n",
       "category            5\n",
       "primaryname     19128\n",
       "dtype: int64"
      ]
     },
     "execution_count": 8,
     "metadata": {},
     "output_type": "execute_result"
    }
   ],
   "source": [
    "data.select_dtypes('object').nunique()"
   ]
  },
  {
   "cell_type": "code",
   "execution_count": 9,
   "id": "814da602",
   "metadata": {},
   "outputs": [
    {
     "data": {
      "text/html": [
       "<div>\n",
       "<style scoped>\n",
       "    .dataframe tbody tr th:only-of-type {\n",
       "        vertical-align: middle;\n",
       "    }\n",
       "\n",
       "    .dataframe tbody tr th {\n",
       "        vertical-align: top;\n",
       "    }\n",
       "\n",
       "    .dataframe thead th {\n",
       "        text-align: right;\n",
       "    }\n",
       "</style>\n",
       "<table border=\"1\" class=\"dataframe\">\n",
       "  <thead>\n",
       "    <tr style=\"text-align: right;\">\n",
       "      <th></th>\n",
       "      <th>tconst</th>\n",
       "      <th>primarytitle</th>\n",
       "      <th>genres</th>\n",
       "      <th>category</th>\n",
       "      <th>primaryname</th>\n",
       "    </tr>\n",
       "  </thead>\n",
       "  <tbody>\n",
       "    <tr>\n",
       "      <th>0</th>\n",
       "      <td>tt0062336</td>\n",
       "      <td>The Tango of the Widower and Its Distorting Mi...</td>\n",
       "      <td>Drama</td>\n",
       "      <td>actor</td>\n",
       "      <td>Rubén Sotoconil</td>\n",
       "    </tr>\n",
       "    <tr>\n",
       "      <th>1</th>\n",
       "      <td>tt0069049</td>\n",
       "      <td>The Other Side of the Wind</td>\n",
       "      <td>Drama</td>\n",
       "      <td>actor</td>\n",
       "      <td>John Huston</td>\n",
       "    </tr>\n",
       "    <tr>\n",
       "      <th>2</th>\n",
       "      <td>tt0094859</td>\n",
       "      <td>Chief Zabu</td>\n",
       "      <td>Comedy</td>\n",
       "      <td>actor</td>\n",
       "      <td>Allen Garfield</td>\n",
       "    </tr>\n",
       "    <tr>\n",
       "      <th>3</th>\n",
       "      <td>tt0096056</td>\n",
       "      <td>Crime and Punishment</td>\n",
       "      <td>Drama</td>\n",
       "      <td>actor</td>\n",
       "      <td>Crispin Glover</td>\n",
       "    </tr>\n",
       "    <tr>\n",
       "      <th>4</th>\n",
       "      <td>tt0114447</td>\n",
       "      <td>The Silent Force</td>\n",
       "      <td>Action</td>\n",
       "      <td>actor</td>\n",
       "      <td>Loren Avedon</td>\n",
       "    </tr>\n",
       "    <tr>\n",
       "      <th>...</th>\n",
       "      <td>...</td>\n",
       "      <td>...</td>\n",
       "      <td>...</td>\n",
       "      <td>...</td>\n",
       "      <td>...</td>\n",
       "    </tr>\n",
       "    <tr>\n",
       "      <th>23119</th>\n",
       "      <td>tt9904552</td>\n",
       "      <td>All for the Money</td>\n",
       "      <td>Comedy</td>\n",
       "      <td>actor</td>\n",
       "      <td>Eugene Bush</td>\n",
       "    </tr>\n",
       "    <tr>\n",
       "      <th>23120</th>\n",
       "      <td>tt9904648</td>\n",
       "      <td>The Contrast</td>\n",
       "      <td>Comedy</td>\n",
       "      <td>actor</td>\n",
       "      <td>Lance E. Nichols</td>\n",
       "    </tr>\n",
       "    <tr>\n",
       "      <th>23121</th>\n",
       "      <td>tt9904820</td>\n",
       "      <td>American Terror Story</td>\n",
       "      <td>Horror</td>\n",
       "      <td>actress</td>\n",
       "      <td>Rim Basma</td>\n",
       "    </tr>\n",
       "    <tr>\n",
       "      <th>23122</th>\n",
       "      <td>tt9913660</td>\n",
       "      <td>No Apology</td>\n",
       "      <td>Drama</td>\n",
       "      <td>actress</td>\n",
       "      <td>Lydia Adair</td>\n",
       "    </tr>\n",
       "    <tr>\n",
       "      <th>23123</th>\n",
       "      <td>tt9914942</td>\n",
       "      <td>Life Without Sara Amat</td>\n",
       "      <td>Drama</td>\n",
       "      <td>actress</td>\n",
       "      <td>Maria Morera</td>\n",
       "    </tr>\n",
       "  </tbody>\n",
       "</table>\n",
       "<p>23124 rows × 5 columns</p>\n",
       "</div>"
      ],
      "text/plain": [
       "          tconst                                       primarytitle  genres  \\\n",
       "0      tt0062336  The Tango of the Widower and Its Distorting Mi...   Drama   \n",
       "1      tt0069049                         The Other Side of the Wind   Drama   \n",
       "2      tt0094859                                         Chief Zabu  Comedy   \n",
       "3      tt0096056                               Crime and Punishment   Drama   \n",
       "4      tt0114447                                   The Silent Force  Action   \n",
       "...          ...                                                ...     ...   \n",
       "23119  tt9904552                                  All for the Money  Comedy   \n",
       "23120  tt9904648                                       The Contrast  Comedy   \n",
       "23121  tt9904820                              American Terror Story  Horror   \n",
       "23122  tt9913660                                         No Apology   Drama   \n",
       "23123  tt9914942                             Life Without Sara Amat   Drama   \n",
       "\n",
       "      category       primaryname  \n",
       "0        actor   Rubén Sotoconil  \n",
       "1        actor       John Huston  \n",
       "2        actor    Allen Garfield  \n",
       "3        actor    Crispin Glover  \n",
       "4        actor      Loren Avedon  \n",
       "...        ...               ...  \n",
       "23119    actor       Eugene Bush  \n",
       "23120    actor  Lance E. Nichols  \n",
       "23121  actress         Rim Basma  \n",
       "23122  actress       Lydia Adair  \n",
       "23123  actress      Maria Morera  \n",
       "\n",
       "[23124 rows x 5 columns]"
      ]
     },
     "execution_count": 9,
     "metadata": {},
     "output_type": "execute_result"
    }
   ],
   "source": [
    "data.select_dtypes('object')"
   ]
  },
  {
   "cell_type": "markdown",
   "id": "de4d221c",
   "metadata": {},
   "source": [
    "##### 2.2.a - primarytitle"
   ]
  },
  {
   "cell_type": "code",
   "execution_count": 10,
   "id": "7a136208",
   "metadata": {},
   "outputs": [
    {
     "data": {
      "text/plain": [
       "Home                      7\n",
       "Blackbird                 6\n",
       "Ritual                    5\n",
       "Brothers                  5\n",
       "Hunting Season            5\n",
       "                         ..\n",
       "Order of Rights           1\n",
       "Doubt                     1\n",
       "My Best Day               1\n",
       "Sweet Whip                1\n",
       "Undocumented Executive    1\n",
       "Name: primarytitle, Length: 22072, dtype: int64"
      ]
     },
     "execution_count": 10,
     "metadata": {},
     "output_type": "execute_result"
    }
   ],
   "source": [
    "data.primarytitle.value_counts()"
   ]
  },
  {
   "cell_type": "markdown",
   "id": "e2b9e55d",
   "metadata": {},
   "source": [
    "##### 2.2.b - genres"
   ]
  },
  {
   "cell_type": "code",
   "execution_count": 11,
   "id": "2b049fb4",
   "metadata": {},
   "outputs": [
    {
     "data": {
      "text/plain": [
       "Drama        11711\n",
       "Comedy        4665\n",
       "Horror        2734\n",
       "Thriller      1675\n",
       "Action         663\n",
       "Romance        496\n",
       "Family         331\n",
       "Sci-Fi         263\n",
       "Crime          207\n",
       "Mystery        140\n",
       "Adventure      132\n",
       "Fantasy        107\n",
       "Name: genres, dtype: int64"
      ]
     },
     "execution_count": 11,
     "metadata": {},
     "output_type": "execute_result"
    }
   ],
   "source": [
    "data.genres.value_counts()\n"
   ]
  },
  {
   "cell_type": "markdown",
   "id": "609941a5",
   "metadata": {},
   "source": [
    "##### 2.2.c - category"
   ]
  },
  {
   "cell_type": "code",
   "execution_count": 12,
   "id": "e88e7a1d",
   "metadata": {},
   "outputs": [
    {
     "data": {
      "text/plain": [
       "actor       14094\n",
       "actress      8943\n",
       "director       83\n",
       "writer          2\n",
       "producer        2\n",
       "Name: category, dtype: int64"
      ]
     },
     "execution_count": 12,
     "metadata": {},
     "output_type": "execute_result"
    }
   ],
   "source": [
    "data.category.value_counts()"
   ]
  },
  {
   "cell_type": "code",
   "execution_count": 13,
   "id": "17f279d6",
   "metadata": {},
   "outputs": [],
   "source": [
    "# further reducing the number of possible categorical values.\n",
    "keeps = ['actor', 'actress', 'director']\n",
    "data = data[data.category.isin(keeps)]"
   ]
  },
  {
   "cell_type": "markdown",
   "id": "3439ee41",
   "metadata": {},
   "source": [
    "##### 2.2.d - primaryname\n",
    "This is a huge source of dimensionality. For now I'm simply going to drop anyone who appears only once. This is hand during the .tsv file conversion process further up but I may fine tune here in the the future."
   ]
  },
  {
   "cell_type": "code",
   "execution_count": 14,
   "id": "9f978713",
   "metadata": {},
   "outputs": [
    {
     "name": "stdout",
     "output_type": "stream",
     "text": [
      "Eric Roberts            29\n",
      "Michael Madsen          16\n",
      "Isabelle Huppert        15\n",
      "Kevin Sorbo             12\n",
      "John Schneider          12\n",
      "                        ..\n",
      "Ezel Akay                1\n",
      "Mark Stewart Iverson     1\n",
      "Jeris Adomanis           1\n",
      "Taylor Gerard Hart       1\n",
      "Dominick Brascia         1\n",
      "Name: primaryname, Length: 19124, dtype: int64\n"
     ]
    },
    {
     "data": {
      "text/html": [
       "<div>\n",
       "<style scoped>\n",
       "    .dataframe tbody tr th:only-of-type {\n",
       "        vertical-align: middle;\n",
       "    }\n",
       "\n",
       "    .dataframe tbody tr th {\n",
       "        vertical-align: top;\n",
       "    }\n",
       "\n",
       "    .dataframe thead th {\n",
       "        text-align: right;\n",
       "    }\n",
       "</style>\n",
       "<table border=\"1\" class=\"dataframe\">\n",
       "  <thead>\n",
       "    <tr style=\"text-align: right;\">\n",
       "      <th></th>\n",
       "      <th>tconst</th>\n",
       "      <th>primarytitle</th>\n",
       "      <th>startyear</th>\n",
       "      <th>runtimeminutes</th>\n",
       "      <th>genres</th>\n",
       "      <th>ordering</th>\n",
       "      <th>category</th>\n",
       "      <th>averagerating</th>\n",
       "      <th>numvotes</th>\n",
       "      <th>primaryname</th>\n",
       "    </tr>\n",
       "  </thead>\n",
       "  <tbody>\n",
       "    <tr>\n",
       "      <th>3</th>\n",
       "      <td>tt0096056</td>\n",
       "      <td>Crime and Punishment</td>\n",
       "      <td>2002</td>\n",
       "      <td>126.0</td>\n",
       "      <td>Drama</td>\n",
       "      <td>1</td>\n",
       "      <td>actor</td>\n",
       "      <td>5.7</td>\n",
       "      <td>810</td>\n",
       "      <td>Crispin Glover</td>\n",
       "    </tr>\n",
       "    <tr>\n",
       "      <th>9</th>\n",
       "      <td>tt0118852</td>\n",
       "      <td>Chinese Coffee</td>\n",
       "      <td>2000</td>\n",
       "      <td>99.0</td>\n",
       "      <td>Drama</td>\n",
       "      <td>1</td>\n",
       "      <td>actor</td>\n",
       "      <td>7.1</td>\n",
       "      <td>4254</td>\n",
       "      <td>Al Pacino</td>\n",
       "    </tr>\n",
       "    <tr>\n",
       "      <th>10</th>\n",
       "      <td>tt0119231</td>\n",
       "      <td>The Junior Defenders</td>\n",
       "      <td>2007</td>\n",
       "      <td>83.0</td>\n",
       "      <td>Comedy</td>\n",
       "      <td>1</td>\n",
       "      <td>actress</td>\n",
       "      <td>4.6</td>\n",
       "      <td>184</td>\n",
       "      <td>Ally Sheedy</td>\n",
       "    </tr>\n",
       "    <tr>\n",
       "      <th>14</th>\n",
       "      <td>tt0120824</td>\n",
       "      <td>The Shipping News</td>\n",
       "      <td>2001</td>\n",
       "      <td>111.0</td>\n",
       "      <td>Drama</td>\n",
       "      <td>1</td>\n",
       "      <td>actor</td>\n",
       "      <td>6.7</td>\n",
       "      <td>32853</td>\n",
       "      <td>Kevin Spacey</td>\n",
       "    </tr>\n",
       "    <tr>\n",
       "      <th>15</th>\n",
       "      <td>tt0123581</td>\n",
       "      <td>Burning Down the House</td>\n",
       "      <td>2001</td>\n",
       "      <td>84.0</td>\n",
       "      <td>Comedy</td>\n",
       "      <td>1</td>\n",
       "      <td>actor</td>\n",
       "      <td>4.9</td>\n",
       "      <td>71</td>\n",
       "      <td>John Savage</td>\n",
       "    </tr>\n",
       "    <tr>\n",
       "      <th>...</th>\n",
       "      <td>...</td>\n",
       "      <td>...</td>\n",
       "      <td>...</td>\n",
       "      <td>...</td>\n",
       "      <td>...</td>\n",
       "      <td>...</td>\n",
       "      <td>...</td>\n",
       "      <td>...</td>\n",
       "      <td>...</td>\n",
       "      <td>...</td>\n",
       "    </tr>\n",
       "    <tr>\n",
       "      <th>23104</th>\n",
       "      <td>tt9892094</td>\n",
       "      <td>Mogul Mowgli</td>\n",
       "      <td>2020</td>\n",
       "      <td>89.0</td>\n",
       "      <td>Drama</td>\n",
       "      <td>1</td>\n",
       "      <td>actor</td>\n",
       "      <td>6.6</td>\n",
       "      <td>2449</td>\n",
       "      <td>Riz Ahmed</td>\n",
       "    </tr>\n",
       "    <tr>\n",
       "      <th>23105</th>\n",
       "      <td>tt9893084</td>\n",
       "      <td>Italian Studies</td>\n",
       "      <td>2021</td>\n",
       "      <td>81.0</td>\n",
       "      <td>Drama</td>\n",
       "      <td>1</td>\n",
       "      <td>actress</td>\n",
       "      <td>4.8</td>\n",
       "      <td>424</td>\n",
       "      <td>Vanessa Kirby</td>\n",
       "    </tr>\n",
       "    <tr>\n",
       "      <th>23110</th>\n",
       "      <td>tt9898086</td>\n",
       "      <td>Carol of the Bells</td>\n",
       "      <td>2019</td>\n",
       "      <td>100.0</td>\n",
       "      <td>Drama</td>\n",
       "      <td>1</td>\n",
       "      <td>actor</td>\n",
       "      <td>7.2</td>\n",
       "      <td>90</td>\n",
       "      <td>RJ Mitte</td>\n",
       "    </tr>\n",
       "    <tr>\n",
       "      <th>23115</th>\n",
       "      <td>tt9900688</td>\n",
       "      <td>Big Three Dragons</td>\n",
       "      <td>2019</td>\n",
       "      <td>111.0</td>\n",
       "      <td>Comedy</td>\n",
       "      <td>1</td>\n",
       "      <td>actress</td>\n",
       "      <td>4.5</td>\n",
       "      <td>29</td>\n",
       "      <td>Ella Chen</td>\n",
       "    </tr>\n",
       "    <tr>\n",
       "      <th>23120</th>\n",
       "      <td>tt9904648</td>\n",
       "      <td>The Contrast</td>\n",
       "      <td>2022</td>\n",
       "      <td>82.0</td>\n",
       "      <td>Comedy</td>\n",
       "      <td>1</td>\n",
       "      <td>actor</td>\n",
       "      <td>4.2</td>\n",
       "      <td>18</td>\n",
       "      <td>Lance E. Nichols</td>\n",
       "    </tr>\n",
       "  </tbody>\n",
       "</table>\n",
       "<p>6587 rows × 10 columns</p>\n",
       "</div>"
      ],
      "text/plain": [
       "          tconst            primarytitle  startyear  runtimeminutes  genres  \\\n",
       "3      tt0096056    Crime and Punishment       2002           126.0   Drama   \n",
       "9      tt0118852          Chinese Coffee       2000            99.0   Drama   \n",
       "10     tt0119231    The Junior Defenders       2007            83.0  Comedy   \n",
       "14     tt0120824       The Shipping News       2001           111.0   Drama   \n",
       "15     tt0123581  Burning Down the House       2001            84.0  Comedy   \n",
       "...          ...                     ...        ...             ...     ...   \n",
       "23104  tt9892094            Mogul Mowgli       2020            89.0   Drama   \n",
       "23105  tt9893084         Italian Studies       2021            81.0   Drama   \n",
       "23110  tt9898086      Carol of the Bells       2019           100.0   Drama   \n",
       "23115  tt9900688       Big Three Dragons       2019           111.0  Comedy   \n",
       "23120  tt9904648            The Contrast       2022            82.0  Comedy   \n",
       "\n",
       "       ordering category  averagerating  numvotes       primaryname  \n",
       "3             1    actor            5.7       810    Crispin Glover  \n",
       "9             1    actor            7.1      4254         Al Pacino  \n",
       "10            1  actress            4.6       184       Ally Sheedy  \n",
       "14            1    actor            6.7     32853      Kevin Spacey  \n",
       "15            1    actor            4.9        71       John Savage  \n",
       "...         ...      ...            ...       ...               ...  \n",
       "23104         1    actor            6.6      2449         Riz Ahmed  \n",
       "23105         1  actress            4.8       424     Vanessa Kirby  \n",
       "23110         1    actor            7.2        90          RJ Mitte  \n",
       "23115         1  actress            4.5        29         Ella Chen  \n",
       "23120         1    actor            4.2        18  Lance E. Nichols  \n",
       "\n",
       "[6587 rows x 10 columns]"
      ]
     },
     "execution_count": 14,
     "metadata": {},
     "output_type": "execute_result"
    }
   ],
   "source": [
    "#data = data[data.groupby(\"primaryname\")['primaryname'].transform('size') > 5]\n",
    "print(data.primaryname.value_counts())\n",
    "data = data[data.groupby(\"primaryname\")['primaryname'].transform('size') > 1]\n",
    "data"
   ]
  },
  {
   "cell_type": "code",
   "execution_count": 15,
   "id": "d8a60aa1",
   "metadata": {},
   "outputs": [
    {
     "name": "stdout",
     "output_type": "stream",
     "text": [
      "Eric Roberts        29\n",
      "Michael Madsen      16\n",
      "Isabelle Huppert    15\n",
      "Kevin Sorbo         12\n",
      "John Schneider      12\n",
      "                    ..\n",
      "Adam LeClair         2\n",
      "Adil Abdolrahman     2\n",
      "Adriana Barraza      2\n",
      "Agnes Bruckner       2\n",
      "Ryôhei Abe           2\n",
      "Name: primaryname, Length: 2591, dtype: int64\n"
     ]
    }
   ],
   "source": [
    "print(data.primaryname.value_counts())"
   ]
  },
  {
   "cell_type": "code",
   "execution_count": 16,
   "id": "ed3d1375",
   "metadata": {},
   "outputs": [
    {
     "data": {
      "text/html": [
       "<div>\n",
       "<style scoped>\n",
       "    .dataframe tbody tr th:only-of-type {\n",
       "        vertical-align: middle;\n",
       "    }\n",
       "\n",
       "    .dataframe tbody tr th {\n",
       "        vertical-align: top;\n",
       "    }\n",
       "\n",
       "    .dataframe thead th {\n",
       "        text-align: right;\n",
       "    }\n",
       "</style>\n",
       "<table border=\"1\" class=\"dataframe\">\n",
       "  <thead>\n",
       "    <tr style=\"text-align: right;\">\n",
       "      <th></th>\n",
       "      <th>tconst</th>\n",
       "      <th>primarytitle</th>\n",
       "      <th>genres</th>\n",
       "      <th>category</th>\n",
       "      <th>primaryname</th>\n",
       "    </tr>\n",
       "  </thead>\n",
       "  <tbody>\n",
       "    <tr>\n",
       "      <th>3</th>\n",
       "      <td>tt0096056</td>\n",
       "      <td>Crime and Punishment</td>\n",
       "      <td>Drama</td>\n",
       "      <td>actor</td>\n",
       "      <td>Crispin Glover</td>\n",
       "    </tr>\n",
       "    <tr>\n",
       "      <th>9</th>\n",
       "      <td>tt0118852</td>\n",
       "      <td>Chinese Coffee</td>\n",
       "      <td>Drama</td>\n",
       "      <td>actor</td>\n",
       "      <td>Al Pacino</td>\n",
       "    </tr>\n",
       "    <tr>\n",
       "      <th>10</th>\n",
       "      <td>tt0119231</td>\n",
       "      <td>The Junior Defenders</td>\n",
       "      <td>Comedy</td>\n",
       "      <td>actress</td>\n",
       "      <td>Ally Sheedy</td>\n",
       "    </tr>\n",
       "    <tr>\n",
       "      <th>14</th>\n",
       "      <td>tt0120824</td>\n",
       "      <td>The Shipping News</td>\n",
       "      <td>Drama</td>\n",
       "      <td>actor</td>\n",
       "      <td>Kevin Spacey</td>\n",
       "    </tr>\n",
       "    <tr>\n",
       "      <th>15</th>\n",
       "      <td>tt0123581</td>\n",
       "      <td>Burning Down the House</td>\n",
       "      <td>Comedy</td>\n",
       "      <td>actor</td>\n",
       "      <td>John Savage</td>\n",
       "    </tr>\n",
       "    <tr>\n",
       "      <th>...</th>\n",
       "      <td>...</td>\n",
       "      <td>...</td>\n",
       "      <td>...</td>\n",
       "      <td>...</td>\n",
       "      <td>...</td>\n",
       "    </tr>\n",
       "    <tr>\n",
       "      <th>23104</th>\n",
       "      <td>tt9892094</td>\n",
       "      <td>Mogul Mowgli</td>\n",
       "      <td>Drama</td>\n",
       "      <td>actor</td>\n",
       "      <td>Riz Ahmed</td>\n",
       "    </tr>\n",
       "    <tr>\n",
       "      <th>23105</th>\n",
       "      <td>tt9893084</td>\n",
       "      <td>Italian Studies</td>\n",
       "      <td>Drama</td>\n",
       "      <td>actress</td>\n",
       "      <td>Vanessa Kirby</td>\n",
       "    </tr>\n",
       "    <tr>\n",
       "      <th>23110</th>\n",
       "      <td>tt9898086</td>\n",
       "      <td>Carol of the Bells</td>\n",
       "      <td>Drama</td>\n",
       "      <td>actor</td>\n",
       "      <td>RJ Mitte</td>\n",
       "    </tr>\n",
       "    <tr>\n",
       "      <th>23115</th>\n",
       "      <td>tt9900688</td>\n",
       "      <td>Big Three Dragons</td>\n",
       "      <td>Comedy</td>\n",
       "      <td>actress</td>\n",
       "      <td>Ella Chen</td>\n",
       "    </tr>\n",
       "    <tr>\n",
       "      <th>23120</th>\n",
       "      <td>tt9904648</td>\n",
       "      <td>The Contrast</td>\n",
       "      <td>Comedy</td>\n",
       "      <td>actor</td>\n",
       "      <td>Lance E. Nichols</td>\n",
       "    </tr>\n",
       "  </tbody>\n",
       "</table>\n",
       "<p>6587 rows × 5 columns</p>\n",
       "</div>"
      ],
      "text/plain": [
       "          tconst            primarytitle  genres category       primaryname\n",
       "3      tt0096056    Crime and Punishment   Drama    actor    Crispin Glover\n",
       "9      tt0118852          Chinese Coffee   Drama    actor         Al Pacino\n",
       "10     tt0119231    The Junior Defenders  Comedy  actress       Ally Sheedy\n",
       "14     tt0120824       The Shipping News   Drama    actor      Kevin Spacey\n",
       "15     tt0123581  Burning Down the House  Comedy    actor       John Savage\n",
       "...          ...                     ...     ...      ...               ...\n",
       "23104  tt9892094            Mogul Mowgli   Drama    actor         Riz Ahmed\n",
       "23105  tt9893084         Italian Studies   Drama  actress     Vanessa Kirby\n",
       "23110  tt9898086      Carol of the Bells   Drama    actor          RJ Mitte\n",
       "23115  tt9900688       Big Three Dragons  Comedy  actress         Ella Chen\n",
       "23120  tt9904648            The Contrast  Comedy    actor  Lance E. Nichols\n",
       "\n",
       "[6587 rows x 5 columns]"
      ]
     },
     "execution_count": 16,
     "metadata": {},
     "output_type": "execute_result"
    }
   ],
   "source": [
    "data.select_dtypes('object')"
   ]
  },
  {
   "cell_type": "code",
   "execution_count": 17,
   "id": "73158427",
   "metadata": {},
   "outputs": [
    {
     "data": {
      "image/png": "[encoded data removed]",
      "text/plain": [
       "<Figure size 432x288 with 1 Axes>"
      ]
     },
     "metadata": {
      "needs_background": "light"
     },
     "output_type": "display_data"
    },
    {
     "data": {
      "image/png": "[encoded data removed]",
      "text/plain": [
       "<Figure size 432x288 with 1 Axes>"
      ]
     },
     "metadata": {
      "needs_background": "light"
     },
     "output_type": "display_data"
    }
   ],
   "source": [
    "# so much drama...\n",
    "for f in data[['genres','category']]:\n",
    "    sns.countplot(x = f, data = data, palette = 'Set3') # hue = '')\n",
    "    plt.xticks(rotation=30)\n",
    "    plt.show()"
   ]
  },
  {
   "cell_type": "markdown",
   "id": "ac73d51a",
   "metadata": {},
   "source": [
    "### 2.3 Numeric Features"
   ]
  },
  {
   "cell_type": "code",
   "execution_count": 18,
   "id": "9fea7985",
   "metadata": {},
   "outputs": [
    {
     "data": {
      "text/plain": [
       "startyear           23\n",
       "runtimeminutes     125\n",
       "ordering             1\n",
       "averagerating       83\n",
       "numvotes          2060\n",
       "dtype: int64"
      ]
     },
     "execution_count": 18,
     "metadata": {},
     "output_type": "execute_result"
    }
   ],
   "source": [
    "old = data.describe()\n",
    "data.select_dtypes('number').nunique()"
   ]
  },
  {
   "cell_type": "code",
   "execution_count": 19,
   "id": "242cf02c",
   "metadata": {},
   "outputs": [
    {
     "data": {
      "text/html": [
       "<div>\n",
       "<style scoped>\n",
       "    .dataframe tbody tr th:only-of-type {\n",
       "        vertical-align: middle;\n",
       "    }\n",
       "\n",
       "    .dataframe tbody tr th {\n",
       "        vertical-align: top;\n",
       "    }\n",
       "\n",
       "    .dataframe thead th {\n",
       "        text-align: right;\n",
       "    }\n",
       "</style>\n",
       "<table border=\"1\" class=\"dataframe\">\n",
       "  <thead>\n",
       "    <tr style=\"text-align: right;\">\n",
       "      <th></th>\n",
       "      <th>startyear</th>\n",
       "      <th>runtimeminutes</th>\n",
       "      <th>ordering</th>\n",
       "      <th>averagerating</th>\n",
       "      <th>numvotes</th>\n",
       "    </tr>\n",
       "  </thead>\n",
       "  <tbody>\n",
       "    <tr>\n",
       "      <th>3</th>\n",
       "      <td>2002</td>\n",
       "      <td>126.0</td>\n",
       "      <td>1</td>\n",
       "      <td>5.7</td>\n",
       "      <td>810</td>\n",
       "    </tr>\n",
       "    <tr>\n",
       "      <th>9</th>\n",
       "      <td>2000</td>\n",
       "      <td>99.0</td>\n",
       "      <td>1</td>\n",
       "      <td>7.1</td>\n",
       "      <td>4254</td>\n",
       "    </tr>\n",
       "    <tr>\n",
       "      <th>10</th>\n",
       "      <td>2007</td>\n",
       "      <td>83.0</td>\n",
       "      <td>1</td>\n",
       "      <td>4.6</td>\n",
       "      <td>184</td>\n",
       "    </tr>\n",
       "    <tr>\n",
       "      <th>14</th>\n",
       "      <td>2001</td>\n",
       "      <td>111.0</td>\n",
       "      <td>1</td>\n",
       "      <td>6.7</td>\n",
       "      <td>32853</td>\n",
       "    </tr>\n",
       "    <tr>\n",
       "      <th>15</th>\n",
       "      <td>2001</td>\n",
       "      <td>84.0</td>\n",
       "      <td>1</td>\n",
       "      <td>4.9</td>\n",
       "      <td>71</td>\n",
       "    </tr>\n",
       "    <tr>\n",
       "      <th>...</th>\n",
       "      <td>...</td>\n",
       "      <td>...</td>\n",
       "      <td>...</td>\n",
       "      <td>...</td>\n",
       "      <td>...</td>\n",
       "    </tr>\n",
       "    <tr>\n",
       "      <th>23104</th>\n",
       "      <td>2020</td>\n",
       "      <td>89.0</td>\n",
       "      <td>1</td>\n",
       "      <td>6.6</td>\n",
       "      <td>2449</td>\n",
       "    </tr>\n",
       "    <tr>\n",
       "      <th>23105</th>\n",
       "      <td>2021</td>\n",
       "      <td>81.0</td>\n",
       "      <td>1</td>\n",
       "      <td>4.8</td>\n",
       "      <td>424</td>\n",
       "    </tr>\n",
       "    <tr>\n",
       "      <th>23110</th>\n",
       "      <td>2019</td>\n",
       "      <td>100.0</td>\n",
       "      <td>1</td>\n",
       "      <td>7.2</td>\n",
       "      <td>90</td>\n",
       "    </tr>\n",
       "    <tr>\n",
       "      <th>23115</th>\n",
       "      <td>2019</td>\n",
       "      <td>111.0</td>\n",
       "      <td>1</td>\n",
       "      <td>4.5</td>\n",
       "      <td>29</td>\n",
       "    </tr>\n",
       "    <tr>\n",
       "      <th>23120</th>\n",
       "      <td>2022</td>\n",
       "      <td>82.0</td>\n",
       "      <td>1</td>\n",
       "      <td>4.2</td>\n",
       "      <td>18</td>\n",
       "    </tr>\n",
       "  </tbody>\n",
       "</table>\n",
       "<p>6587 rows × 5 columns</p>\n",
       "</div>"
      ],
      "text/plain": [
       "       startyear  runtimeminutes  ordering  averagerating  numvotes\n",
       "3           2002           126.0         1            5.7       810\n",
       "9           2000            99.0         1            7.1      4254\n",
       "10          2007            83.0         1            4.6       184\n",
       "14          2001           111.0         1            6.7     32853\n",
       "15          2001            84.0         1            4.9        71\n",
       "...          ...             ...       ...            ...       ...\n",
       "23104       2020            89.0         1            6.6      2449\n",
       "23105       2021            81.0         1            4.8       424\n",
       "23110       2019           100.0         1            7.2        90\n",
       "23115       2019           111.0         1            4.5        29\n",
       "23120       2022            82.0         1            4.2        18\n",
       "\n",
       "[6587 rows x 5 columns]"
      ]
     },
     "execution_count": 19,
     "metadata": {},
     "output_type": "execute_result"
    }
   ],
   "source": [
    "data.select_dtypes('number')"
   ]
  },
  {
   "cell_type": "markdown",
   "id": "63e3c6a8",
   "metadata": {},
   "source": [
    "##### 2.3.a - startyear\n",
    "- The average start year for the films in this selection is 2009.\n",
    "- This distribution should be plotted with lines indicating centers."
   ]
  },
  {
   "cell_type": "code",
   "execution_count": 20,
   "id": "15081921",
   "metadata": {},
   "outputs": [
    {
     "data": {
      "image/png": "[encoded data removed]",
      "text/plain": [
       "<Figure size 432x288 with 1 Axes>"
      ]
     },
     "metadata": {
      "needs_background": "light"
     },
     "output_type": "display_data"
    },
    {
     "data": {
      "image/png": "[encoded data removed]",
      "text/plain": [
       "<Figure size 432x288 with 1 Axes>"
      ]
     },
     "metadata": {
      "needs_background": "light"
     },
     "output_type": "display_data"
    }
   ],
   "source": [
    "sns.histplot(data.startyear)\n",
    "plt.show()\n",
    "sns.kdeplot(data.startyear, shade=True, label='data')\n",
    "plt.show()"
   ]
  },
  {
   "cell_type": "markdown",
   "id": "c18df307",
   "metadata": {},
   "source": [
    "##### 2.3.b - averagerating\n",
    "- This is likely to be some sort of target in the future, linear regression would be great to take this project a step further."
   ]
  },
  {
   "cell_type": "code",
   "execution_count": 21,
   "id": "c2a1d86e",
   "metadata": {},
   "outputs": [
    {
     "data": {
      "image/png": "[encoded data removed]",
      "text/plain": [
       "<Figure size 432x288 with 1 Axes>"
      ]
     },
     "metadata": {
      "needs_background": "light"
     },
     "output_type": "display_data"
    },
    {
     "data": {
      "image/png": "[encoded data removed]",
      "text/plain": [
       "<Figure size 432x288 with 1 Axes>"
      ]
     },
     "metadata": {
      "needs_background": "light"
     },
     "output_type": "display_data"
    }
   ],
   "source": [
    "sns.histplot(data.averagerating)\n",
    "plt.show()\n",
    "sns.kdeplot(data.averagerating, shade=True, label='data')\n",
    "plt.show()\n"
   ]
  },
  {
   "cell_type": "code",
   "execution_count": 22,
   "id": "amino-conversation",
   "metadata": {},
   "outputs": [
    {
     "data": {
      "image/png": "[encoded data removed]",
      "text/plain": [
       "<Figure size 360x360 with 1 Axes>"
      ]
     },
     "metadata": {
      "needs_background": "light"
     },
     "output_type": "display_data"
    }
   ],
   "source": [
    "# Using Numpy I'll first calculate the IQR, then use it to identify and remove outliers found in the averagerating feature.\n",
    "q1 = np.quantile(data.averagerating, 0.25)\n",
    "q2 = np.quantile(data.averagerating, 0.5)\n",
    "q3 = np.quantile(data.averagerating, 0.75)\n",
    "\n",
    "# calc iqr\n",
    "iqr = (q3 - q1)\n",
    "# expand iqr to discern outliers\n",
    "iqr_x = iqr*1.5\n",
    "\n",
    "# setting the lower and upper limits\n",
    "iqr_lower = q1-iqr_x\n",
    "iqr_upper = q3+iqr_x\n",
    "\n",
    "\n",
    "sns.displot(data.averagerating)\n",
    "plt.axvline(x=q1, label=\"Q1\", c = 'g')\n",
    "plt.axvline(x=q2, label=\"Q2\", c = '#fd4d3f')\n",
    "plt.axvline(x=q3, label=\"Q3\", c = 'r')\n",
    "\n",
    "plt.axvline(x=iqr_lower, label = 'IQR Lower', c = 'black')\n",
    "plt.axvline(x=iqr_upper, label = 'IQR Upper', c = 'black')\n",
    "plt.legend()\n",
    "plt.show()\n",
    "#TODO come back and trim this"
   ]
  },
  {
   "cell_type": "code",
   "execution_count": 23,
   "id": "computational-therapy",
   "metadata": {},
   "outputs": [],
   "source": [
    "# trimming off everything above and below the threshold.\n",
    "# Intuition on this dictates that we want data that extreme outliers can lead to groupings - ansd their centroids, being dragged out due to these skewed data.\n",
    "data = data[data.averagerating >= iqr_lower]\n",
    "data = data[data.averagerating <= iqr_upper]"
   ]
  },
  {
   "cell_type": "code",
   "execution_count": 24,
   "id": "brutal-factor",
   "metadata": {},
   "outputs": [
    {
     "data": {
      "text/plain": [
       "(6473, 10)"
      ]
     },
     "execution_count": 24,
     "metadata": {},
     "output_type": "execute_result"
    }
   ],
   "source": [
    "data.shape\n",
    "# we've lost only a small number of rows.\n",
    "#TODO get the original number and show difference."
   ]
  },
  {
   "cell_type": "code",
   "execution_count": 25,
   "id": "f0866173",
   "metadata": {},
   "outputs": [
    {
     "data": {
      "image/png": "[encoded data removed]",
      "text/plain": [
       "<Figure size 360x360 with 1 Axes>"
      ]
     },
     "metadata": {
      "needs_background": "light"
     },
     "output_type": "display_data"
    }
   ],
   "source": [
    "\n",
    "# checking out the new distribution using the new IQR.\n",
    "q1 = np.quantile(data.averagerating, 0.25)\n",
    "q2 = np.quantile(data.averagerating, 0.5)\n",
    "q3 = np.quantile(data.averagerating, 0.75)\n",
    "\n",
    "# calc iqr\n",
    "iqr = (q3 - q1)\n",
    "# expand iqr to discern outliers\n",
    "iqr_x = iqr*1.5\n",
    "\n",
    "# setting the lower and upper limits\n",
    "iqr_lower = q1-iqr_x\n",
    "iqr_upper = q3+iqr_x\n",
    "\n",
    "\n",
    "sns.displot(data.averagerating)\n",
    "plt.axvline(x=q1, label=\"Q1\", c = 'g')\n",
    "plt.axvline(x=q2, label=\"Q2\", c = '#fd4d3f')\n",
    "plt.axvline(x=q3, label=\"Q3\", c = 'r')\n",
    "\n",
    "plt.axvline(x=iqr_lower, label = 'IQR Lower', c = 'black')\n",
    "plt.axvline(x=iqr_upper, label = 'IQR Upper', c = 'black')\n",
    "\n",
    "plt.legend()\n",
    "plt.show()\n",
    "\n"
   ]
  },
  {
   "cell_type": "code",
   "execution_count": 26,
   "id": "3df1ca46",
   "metadata": {},
   "outputs": [
    {
     "data": {
      "text/plain": [
       "(6473, 10)"
      ]
     },
     "execution_count": 26,
     "metadata": {},
     "output_type": "execute_result"
    }
   ],
   "source": [
    "data = data[data.averagerating > iqr_lower]\n",
    "data = data[data.averagerating < iqr_upper]\n",
    "data.shape"
   ]
  },
  {
   "cell_type": "code",
   "execution_count": 27,
   "id": "statutory-company",
   "metadata": {},
   "outputs": [
    {
     "data": {
      "image/png": "[encoded data removed]",
      "text/plain": [
       "<Figure size 432x288 with 1 Axes>"
      ]
     },
     "metadata": {
      "needs_background": "light"
     },
     "output_type": "display_data"
    }
   ],
   "source": [
    "sns.kdeplot(data.averagerating, shade=True, label='data')\n",
    "plt.show()"
   ]
  },
  {
   "cell_type": "code",
   "execution_count": 28,
   "id": "gorgeous-actress",
   "metadata": {},
   "outputs": [
    {
     "data": {
      "text/plain": [
       "count    6473.000000\n",
       "mean        5.804094\n",
       "std         1.230320\n",
       "min         2.700000\n",
       "25%         5.000000\n",
       "50%         6.000000\n",
       "75%         6.700000\n",
       "max         9.000000\n",
       "Name: averagerating, dtype: float64"
      ]
     },
     "execution_count": 28,
     "metadata": {},
     "output_type": "execute_result"
    }
   ],
   "source": [
    "# checking out these new summary stats\n",
    "# the max is a more realistic two hours or so while the mean remains about the same. The standard deviation has also been halved.\n",
    "data.averagerating.describe(include = 'all')"
   ]
  },
  {
   "cell_type": "markdown",
   "id": "southeast-sunrise",
   "metadata": {},
   "source": [
    "### 2.4 Feature Associations"
   ]
  },
  {
   "cell_type": "code",
   "execution_count": 29,
   "id": "vulnerable-gazette",
   "metadata": {},
   "outputs": [
    {
     "data": {
      "image/png": "[encoded data removed]",
      "text/plain": [
       "<Figure size 432x288 with 1 Axes>"
      ]
     },
     "metadata": {
      "needs_background": "light"
     },
     "output_type": "display_data"
    }
   ],
   "source": [
    "ax = sns.barplot(data=data,x=data.category,y=data.averagerating)\n",
    "ax.set_xticklabels(ax.get_xticklabels(),rotation = 30)\n",
    "plt.show()"
   ]
  },
  {
   "cell_type": "code",
   "execution_count": 30,
   "id": "coupled-boston",
   "metadata": {},
   "outputs": [
    {
     "data": {
      "image/png": "[encoded data removed]",
      "text/plain": [
       "<Figure size 432x288 with 1 Axes>"
      ]
     },
     "metadata": {
      "needs_background": "light"
     },
     "output_type": "display_data"
    }
   ],
   "source": [
    "ax = sns.barplot(data=data,x=data.genres,y=data.averagerating)\n",
    "ax.set_xticklabels(ax.get_xticklabels(),rotation = 30)\n",
    "plt.show()\n",
    "#TODO sort this and amke wider for x labels"
   ]
  },
  {
   "cell_type": "code",
   "execution_count": 31,
   "id": "488cfd6a",
   "metadata": {},
   "outputs": [
    {
     "data": {
      "text/plain": [
       "actor       4084\n",
       "actress     2375\n",
       "director      14\n",
       "Name: category, dtype: int64"
      ]
     },
     "execution_count": 31,
     "metadata": {},
     "output_type": "execute_result"
    }
   ],
   "source": [
    "data.category.value_counts()"
   ]
  },
  {
   "cell_type": "code",
   "execution_count": 32,
   "metadata": {},
   "outputs": [
    {
     "data": {
      "text/plain": [
       "Home               4\n",
       "Sisters            3\n",
       "High Society       3\n",
       "Homeland           3\n",
       "Alice              3\n",
       "                  ..\n",
       "Love on a Wkend    1\n",
       "Die Präsenz        1\n",
       "Smuggler           1\n",
       "The Binge          1\n",
       "Fly Away           1\n",
       "Name: primarytitle, Length: 6365, dtype: int64"
      ]
     },
     "execution_count": 32,
     "metadata": {},
     "output_type": "execute_result"
    }
   ],
   "source": [
    "data.primarytitle.value_counts()"
   ]
  },
  {
   "cell_type": "markdown",
   "id": "biological-links",
   "metadata": {},
   "source": [
    "## 3. Feature Selection & Hyperparameter Tuning\n",
    "After checking a range of cluster quantities I'm going to use principal component analysis from Sklearn to to reduce the dimensionality of the data. In fact, one hot encoding is used in the next cell \n"
   ]
  },
  {
   "cell_type": "markdown",
   "id": "275ed8e9",
   "metadata": {},
   "source": [
    "\n",
    "#### 3.1 Feature Selection\n",
    "\n",
    "A key concept with PCA is that the first features considered matter the most - I'd originally struggled to get good metrics because of how I was feeding data in via the pipeline.\n",
    "primaryname explodes when one hot encoded, primarytitle follows. Since i'd reduced genres down to a list of quintessential genres (i.e. not a list of genres. \"Drama\" vs \"['Drama', 'Horror']\").\n",
    "In the cell below I'm setting up to run summary analysis on numeric features. Noting the difference in quantirty between the appearance of unique values, I'm arranging the pipelie  of their unique value"
   ]
  },
  {
   "cell_type": "code",
   "execution_count": 35,
   "id": "087ccbad",
   "metadata": {},
   "outputs": [
    {
     "name": "stdout",
     "output_type": "stream",
     "text": [
      "category 3\n",
      "genres 12\n",
      "tconst 6473\n",
      "primaryname 2588\n"
     ]
    }
   ],
   "source": [
    "ohe = ['category','genres','tconst','primaryname']\n",
    "for i in ohe:\n",
    "    print(f'{i} {data[i].nunique()}')\n",
    "\n",
    "from sklearn.preprocessing import OrdinalEncoder"
   ]
  },
  {
   "cell_type": "code",
   "execution_count": 40,
   "id": "0c83181b",
   "metadata": {},
   "outputs": [],
   "source": [
    "X = data\n",
    "ordi = OrdinalEncoder()\n",
    "X['title'] = ordi.fit_transform(pd.DataFrame(X.primarytitle))\n",
    "X['name'] = ordi.fit_transform(pd.DataFrame(X.primaryname))\n",
    "X['const'] = ordi.fit_transform(pd.DataFrame(X.tconst))\n",
    "ohe = ['category','genres']\n",
    "scal_cols = ['startyear','averagerating','numvotes','runtimeminutes','title','name','const']\n"
   ]
  },
  {
   "cell_type": "markdown",
   "id": "cd21ab7d",
   "metadata": {},
   "source": [
    "### 3.2 Feature Encoding\n",
    "I'm using a column transformer to encode the data, x_train, that I can use for both finding the optimal k and also conducting PCA."
   ]
  },
  {
   "cell_type": "code",
   "execution_count": 85,
   "id": "81d0c74a",
   "metadata": {},
   "outputs": [],
   "source": [
    "from sklearn.preprocessing import OrdinalEncoder\n",
    "\n",
    "\n",
    "preprocessor = ColumnTransformer(\n",
    "    transformers=[\n",
    "        #('ordi', OrdinalEncoder(), ordi),\n",
    "        ('scaler', StandardScaler(), scal_cols),\n",
    "        ('ohe', OneHotEncoder(handle_unknown ='ignore'), ohe)\n",
    "        \n",
    "        ],remainder='drop')\n",
    "\n",
    "\n",
    "x_train = preprocessor.fit_transform(X)\n"
   ]
  },
  {
   "cell_type": "code",
   "execution_count": 86,
   "id": "a1806c32",
   "metadata": {},
   "outputs": [
    {
     "data": {
      "text/html": [
       "<div>\n",
       "<style scoped>\n",
       "    .dataframe tbody tr th:only-of-type {\n",
       "        vertical-align: middle;\n",
       "    }\n",
       "\n",
       "    .dataframe tbody tr th {\n",
       "        vertical-align: top;\n",
       "    }\n",
       "\n",
       "    .dataframe thead th {\n",
       "        text-align: right;\n",
       "    }\n",
       "</style>\n",
       "<table border=\"1\" class=\"dataframe\">\n",
       "  <thead>\n",
       "    <tr style=\"text-align: right;\">\n",
       "      <th></th>\n",
       "      <th>0</th>\n",
       "      <th>1</th>\n",
       "      <th>2</th>\n",
       "      <th>3</th>\n",
       "      <th>4</th>\n",
       "      <th>5</th>\n",
       "      <th>6</th>\n",
       "      <th>7</th>\n",
       "      <th>8</th>\n",
       "      <th>9</th>\n",
       "      <th>...</th>\n",
       "      <th>12</th>\n",
       "      <th>13</th>\n",
       "      <th>14</th>\n",
       "      <th>15</th>\n",
       "      <th>16</th>\n",
       "      <th>17</th>\n",
       "      <th>18</th>\n",
       "      <th>19</th>\n",
       "      <th>20</th>\n",
       "      <th>21</th>\n",
       "    </tr>\n",
       "  </thead>\n",
       "  <tbody>\n",
       "    <tr>\n",
       "      <th>0</th>\n",
       "      <td>-1.946376</td>\n",
       "      <td>-0.084614</td>\n",
       "      <td>-0.107592</td>\n",
       "      <td>1.440747</td>\n",
       "      <td>-1.034493</td>\n",
       "      <td>-1.058667</td>\n",
       "      <td>-1.731783</td>\n",
       "      <td>1.0</td>\n",
       "      <td>0.0</td>\n",
       "      <td>0.0</td>\n",
       "      <td>...</td>\n",
       "      <td>0.0</td>\n",
       "      <td>0.0</td>\n",
       "      <td>1.0</td>\n",
       "      <td>0.0</td>\n",
       "      <td>0.0</td>\n",
       "      <td>0.0</td>\n",
       "      <td>0.0</td>\n",
       "      <td>0.0</td>\n",
       "      <td>0.0</td>\n",
       "      <td>0.0</td>\n",
       "    </tr>\n",
       "    <tr>\n",
       "      <th>1</th>\n",
       "      <td>-2.298852</td>\n",
       "      <td>1.053390</td>\n",
       "      <td>0.017052</td>\n",
       "      <td>0.013952</td>\n",
       "      <td>-1.117202</td>\n",
       "      <td>-1.665329</td>\n",
       "      <td>-1.731248</td>\n",
       "      <td>1.0</td>\n",
       "      <td>0.0</td>\n",
       "      <td>0.0</td>\n",
       "      <td>...</td>\n",
       "      <td>0.0</td>\n",
       "      <td>0.0</td>\n",
       "      <td>1.0</td>\n",
       "      <td>0.0</td>\n",
       "      <td>0.0</td>\n",
       "      <td>0.0</td>\n",
       "      <td>0.0</td>\n",
       "      <td>0.0</td>\n",
       "      <td>0.0</td>\n",
       "      <td>0.0</td>\n",
       "    </tr>\n",
       "    <tr>\n",
       "      <th>2</th>\n",
       "      <td>-1.065187</td>\n",
       "      <td>-0.978759</td>\n",
       "      <td>-0.130248</td>\n",
       "      <td>-0.831557</td>\n",
       "      <td>1.089288</td>\n",
       "      <td>-1.594351</td>\n",
       "      <td>-1.730713</td>\n",
       "      <td>0.0</td>\n",
       "      <td>1.0</td>\n",
       "      <td>0.0</td>\n",
       "      <td>...</td>\n",
       "      <td>1.0</td>\n",
       "      <td>0.0</td>\n",
       "      <td>0.0</td>\n",
       "      <td>0.0</td>\n",
       "      <td>0.0</td>\n",
       "      <td>0.0</td>\n",
       "      <td>0.0</td>\n",
       "      <td>0.0</td>\n",
       "      <td>0.0</td>\n",
       "      <td>0.0</td>\n",
       "    </tr>\n",
       "    <tr>\n",
       "      <th>3</th>\n",
       "      <td>-2.122614</td>\n",
       "      <td>0.728246</td>\n",
       "      <td>1.052093</td>\n",
       "      <td>0.648083</td>\n",
       "      <td>1.281369</td>\n",
       "      <td>0.030110</td>\n",
       "      <td>-1.730178</td>\n",
       "      <td>1.0</td>\n",
       "      <td>0.0</td>\n",
       "      <td>0.0</td>\n",
       "      <td>...</td>\n",
       "      <td>0.0</td>\n",
       "      <td>0.0</td>\n",
       "      <td>1.0</td>\n",
       "      <td>0.0</td>\n",
       "      <td>0.0</td>\n",
       "      <td>0.0</td>\n",
       "      <td>0.0</td>\n",
       "      <td>0.0</td>\n",
       "      <td>0.0</td>\n",
       "      <td>0.0</td>\n",
       "    </tr>\n",
       "    <tr>\n",
       "      <th>4</th>\n",
       "      <td>-2.122614</td>\n",
       "      <td>-0.734901</td>\n",
       "      <td>-0.134338</td>\n",
       "      <td>-0.778712</td>\n",
       "      <td>-1.181955</td>\n",
       "      <td>-0.216304</td>\n",
       "      <td>-1.729643</td>\n",
       "      <td>1.0</td>\n",
       "      <td>0.0</td>\n",
       "      <td>0.0</td>\n",
       "      <td>...</td>\n",
       "      <td>1.0</td>\n",
       "      <td>0.0</td>\n",
       "      <td>0.0</td>\n",
       "      <td>0.0</td>\n",
       "      <td>0.0</td>\n",
       "      <td>0.0</td>\n",
       "      <td>0.0</td>\n",
       "      <td>0.0</td>\n",
       "      <td>0.0</td>\n",
       "      <td>0.0</td>\n",
       "    </tr>\n",
       "    <tr>\n",
       "      <th>...</th>\n",
       "      <td>...</td>\n",
       "      <td>...</td>\n",
       "      <td>...</td>\n",
       "      <td>...</td>\n",
       "      <td>...</td>\n",
       "      <td>...</td>\n",
       "      <td>...</td>\n",
       "      <td>...</td>\n",
       "      <td>...</td>\n",
       "      <td>...</td>\n",
       "      <td>...</td>\n",
       "      <td>...</td>\n",
       "      <td>...</td>\n",
       "      <td>...</td>\n",
       "      <td>...</td>\n",
       "      <td>...</td>\n",
       "      <td>...</td>\n",
       "      <td>...</td>\n",
       "      <td>...</td>\n",
       "      <td>...</td>\n",
       "      <td>...</td>\n",
       "    </tr>\n",
       "    <tr>\n",
       "      <th>6468</th>\n",
       "      <td>1.225906</td>\n",
       "      <td>0.646960</td>\n",
       "      <td>-0.048274</td>\n",
       "      <td>-0.514491</td>\n",
       "      <td>0.065215</td>\n",
       "      <td>0.942111</td>\n",
       "      <td>1.729643</td>\n",
       "      <td>1.0</td>\n",
       "      <td>0.0</td>\n",
       "      <td>0.0</td>\n",
       "      <td>...</td>\n",
       "      <td>0.0</td>\n",
       "      <td>0.0</td>\n",
       "      <td>1.0</td>\n",
       "      <td>0.0</td>\n",
       "      <td>0.0</td>\n",
       "      <td>0.0</td>\n",
       "      <td>0.0</td>\n",
       "      <td>0.0</td>\n",
       "      <td>0.0</td>\n",
       "      <td>0.0</td>\n",
       "    </tr>\n",
       "    <tr>\n",
       "      <th>6469</th>\n",
       "      <td>1.402144</td>\n",
       "      <td>-0.816187</td>\n",
       "      <td>-0.121562</td>\n",
       "      <td>-0.937245</td>\n",
       "      <td>-0.298271</td>\n",
       "      <td>1.547434</td>\n",
       "      <td>1.730178</td>\n",
       "      <td>0.0</td>\n",
       "      <td>1.0</td>\n",
       "      <td>0.0</td>\n",
       "      <td>...</td>\n",
       "      <td>0.0</td>\n",
       "      <td>0.0</td>\n",
       "      <td>1.0</td>\n",
       "      <td>0.0</td>\n",
       "      <td>0.0</td>\n",
       "      <td>0.0</td>\n",
       "      <td>0.0</td>\n",
       "      <td>0.0</td>\n",
       "      <td>0.0</td>\n",
       "      <td>0.0</td>\n",
       "    </tr>\n",
       "    <tr>\n",
       "      <th>6470</th>\n",
       "      <td>1.049668</td>\n",
       "      <td>1.134676</td>\n",
       "      <td>-0.133650</td>\n",
       "      <td>0.066796</td>\n",
       "      <td>-1.149851</td>\n",
       "      <td>0.840331</td>\n",
       "      <td>1.730713</td>\n",
       "      <td>1.0</td>\n",
       "      <td>0.0</td>\n",
       "      <td>0.0</td>\n",
       "      <td>...</td>\n",
       "      <td>0.0</td>\n",
       "      <td>0.0</td>\n",
       "      <td>1.0</td>\n",
       "      <td>0.0</td>\n",
       "      <td>0.0</td>\n",
       "      <td>0.0</td>\n",
       "      <td>0.0</td>\n",
       "      <td>0.0</td>\n",
       "      <td>0.0</td>\n",
       "      <td>0.0</td>\n",
       "    </tr>\n",
       "    <tr>\n",
       "      <th>6471</th>\n",
       "      <td>1.049668</td>\n",
       "      <td>-1.060045</td>\n",
       "      <td>-0.135858</td>\n",
       "      <td>0.648083</td>\n",
       "      <td>-1.294592</td>\n",
       "      <td>-0.818949</td>\n",
       "      <td>1.731248</td>\n",
       "      <td>0.0</td>\n",
       "      <td>1.0</td>\n",
       "      <td>0.0</td>\n",
       "      <td>...</td>\n",
       "      <td>1.0</td>\n",
       "      <td>0.0</td>\n",
       "      <td>0.0</td>\n",
       "      <td>0.0</td>\n",
       "      <td>0.0</td>\n",
       "      <td>0.0</td>\n",
       "      <td>0.0</td>\n",
       "      <td>0.0</td>\n",
       "      <td>0.0</td>\n",
       "      <td>0.0</td>\n",
       "    </tr>\n",
       "    <tr>\n",
       "      <th>6472</th>\n",
       "      <td>1.578382</td>\n",
       "      <td>-1.303903</td>\n",
       "      <td>-0.136256</td>\n",
       "      <td>-0.884401</td>\n",
       "      <td>0.929310</td>\n",
       "      <td>0.098410</td>\n",
       "      <td>1.731783</td>\n",
       "      <td>1.0</td>\n",
       "      <td>0.0</td>\n",
       "      <td>0.0</td>\n",
       "      <td>...</td>\n",
       "      <td>1.0</td>\n",
       "      <td>0.0</td>\n",
       "      <td>0.0</td>\n",
       "      <td>0.0</td>\n",
       "      <td>0.0</td>\n",
       "      <td>0.0</td>\n",
       "      <td>0.0</td>\n",
       "      <td>0.0</td>\n",
       "      <td>0.0</td>\n",
       "      <td>0.0</td>\n",
       "    </tr>\n",
       "  </tbody>\n",
       "</table>\n",
       "<p>6473 rows × 22 columns</p>\n",
       "</div>"
      ],
      "text/plain": [
       "            0         1         2         3         4         5         6   \\\n",
       "0    -1.946376 -0.084614 -0.107592  1.440747 -1.034493 -1.058667 -1.731783   \n",
       "1    -2.298852  1.053390  0.017052  0.013952 -1.117202 -1.665329 -1.731248   \n",
       "2    -1.065187 -0.978759 -0.130248 -0.831557  1.089288 -1.594351 -1.730713   \n",
       "3    -2.122614  0.728246  1.052093  0.648083  1.281369  0.030110 -1.730178   \n",
       "4    -2.122614 -0.734901 -0.134338 -0.778712 -1.181955 -0.216304 -1.729643   \n",
       "...        ...       ...       ...       ...       ...       ...       ...   \n",
       "6468  1.225906  0.646960 -0.048274 -0.514491  0.065215  0.942111  1.729643   \n",
       "6469  1.402144 -0.816187 -0.121562 -0.937245 -0.298271  1.547434  1.730178   \n",
       "6470  1.049668  1.134676 -0.133650  0.066796 -1.149851  0.840331  1.730713   \n",
       "6471  1.049668 -1.060045 -0.135858  0.648083 -1.294592 -0.818949  1.731248   \n",
       "6472  1.578382 -1.303903 -0.136256 -0.884401  0.929310  0.098410  1.731783   \n",
       "\n",
       "       7    8    9   ...   12   13   14   15   16   17   18   19   20   21  \n",
       "0     1.0  0.0  0.0  ...  0.0  0.0  1.0  0.0  0.0  0.0  0.0  0.0  0.0  0.0  \n",
       "1     1.0  0.0  0.0  ...  0.0  0.0  1.0  0.0  0.0  0.0  0.0  0.0  0.0  0.0  \n",
       "2     0.0  1.0  0.0  ...  1.0  0.0  0.0  0.0  0.0  0.0  0.0  0.0  0.0  0.0  \n",
       "3     1.0  0.0  0.0  ...  0.0  0.0  1.0  0.0  0.0  0.0  0.0  0.0  0.0  0.0  \n",
       "4     1.0  0.0  0.0  ...  1.0  0.0  0.0  0.0  0.0  0.0  0.0  0.0  0.0  0.0  \n",
       "...   ...  ...  ...  ...  ...  ...  ...  ...  ...  ...  ...  ...  ...  ...  \n",
       "6468  1.0  0.0  0.0  ...  0.0  0.0  1.0  0.0  0.0  0.0  0.0  0.0  0.0  0.0  \n",
       "6469  0.0  1.0  0.0  ...  0.0  0.0  1.0  0.0  0.0  0.0  0.0  0.0  0.0  0.0  \n",
       "6470  1.0  0.0  0.0  ...  0.0  0.0  1.0  0.0  0.0  0.0  0.0  0.0  0.0  0.0  \n",
       "6471  0.0  1.0  0.0  ...  1.0  0.0  0.0  0.0  0.0  0.0  0.0  0.0  0.0  0.0  \n",
       "6472  1.0  0.0  0.0  ...  1.0  0.0  0.0  0.0  0.0  0.0  0.0  0.0  0.0  0.0  \n",
       "\n",
       "[6473 rows x 22 columns]"
      ]
     },
     "execution_count": 86,
     "metadata": {},
     "output_type": "execute_result"
    }
   ],
   "source": [
    "# just looking to see what the training data looks like. So ohe columns..\n",
    "pd.DataFrame(x_train)"
   ]
  },
  {
   "cell_type": "markdown",
   "id": "55e7ffa8",
   "metadata": {},
   "source": [
    "### 3.3 Optimal K: Elbow Method"
   ]
  },
  {
   "cell_type": "code",
   "execution_count": 87,
   "id": "7edc98e3",
   "metadata": {},
   "outputs": [
    {
     "name": "stdout",
     "output_type": "stream",
     "text": [
      "The inertia for : 1 Clusters is: 52677.60435655781\n",
      "The inertia for : 2 Clusters is: 44643.46757487224\n",
      "The inertia for : 3 Clusters is: 40333.43623383216\n",
      "The inertia for : 4 Clusters is: 36429.10319571969\n",
      "The inertia for : 5 Clusters is: 34089.71225319142\n",
      "The inertia for : 6 Clusters is: 32123.321860858417\n",
      "The inertia for : 7 Clusters is: 30209.597042038302\n",
      "The inertia for : 8 Clusters is: 29074.784582115284\n",
      "The inertia for : 9 Clusters is: 28008.392325047622\n",
      "The inertia for : 10 Clusters is: 27150.20023879509\n",
      "The inertia for : 11 Clusters is: 26128.00105100268\n",
      "The inertia for : 12 Clusters is: 25427.722547500045\n",
      "The inertia for : 13 Clusters is: 24761.613826949582\n",
      "The inertia for : 14 Clusters is: 23989.973668401915\n"
     ]
    },
    {
     "data": {
      "image/png": "[encoded data removed]",
      "text/plain": [
       "<Figure size 432x288 with 1 Axes>"
      ]
     },
     "metadata": {
      "needs_background": "light"
     },
     "output_type": "display_data"
    }
   ],
   "source": [
    "cs = []\n",
    "c_dict = {}\n",
    "n_clusters = [range(1, 15)]\n",
    "for k in range(1, 15):\n",
    "    kmeans = KMeans(n_clusters = k, init = 'k-means++', max_iter = 30, n_init = 4, random_state = 42)\n",
    "    kmeans.fit(x_train)\n",
    "    cs.append(kmeans.inertia_)\n",
    "    if k not in c_dict.keys():\n",
    "        c_dict[k] = kmeans.inertia_\n",
    "\n",
    "    print(\"The inertia for :\", k, \"Clusters is:\", kmeans.inertia_)\n",
    "plt.plot(range(1, 15), cs)\n",
    "plt.title('The Elbow Method')\n",
    "plt.xlabel('Number of clusters')\n",
    "plt.ylabel('Sum of squared distance (Inertia)')\n",
    "plt.title(\"Inertia Plot for k\")\n",
    "plt.show()\n"
   ]
  },
  {
   "cell_type": "code",
   "execution_count": 88,
   "id": "96408d8e",
   "metadata": {},
   "outputs": [
    {
     "name": "stdout",
     "output_type": "stream",
     "text": [
      "Model Inertia: 30243.625284539292\n",
      "Model Label: {0, 1, 2, 3, 4, 5, 6}\n"
     ]
    }
   ],
   "source": [
    "# Using the best k shown by the elbow method to train a new model.\n",
    "kmeans = KMeans(n_clusters = 7, init = 'k-means++', max_iter = 20, n_init = 8, random_state = 42)\n",
    "kmeans.fit(x_train)\n",
    "\n",
    "# saving for PCA\n",
    "labels = set(kmeans.labels_)\n",
    "# saving for PCA\n",
    "y_pred = kmeans.predict(x_train)\n",
    "# saving this to compare with final model\n",
    "old_inertia = kmeans.inertia_\n",
    "# labels for plot legend\n",
    "target_labels = [f'Cluster {1+x}' for x in labels]\n",
    "print(f'Model Inertia: {kmeans.inertia_}')\n",
    "print(f'Model Label: {labels}')"
   ]
  },
  {
   "cell_type": "markdown",
   "id": "dcbe4bce",
   "metadata": {},
   "source": [
    "### 3.3 Principal Component Analysis\n"
   ]
  },
  {
   "cell_type": "code",
   "execution_count": 89,
   "id": "24d98415",
   "metadata": {},
   "outputs": [],
   "source": [
    "n_components = 2\n",
    "pca = PCA(n_components=n_components, random_state = 42)\n",
    "X_r = pca.fit_transform(x_train)"
   ]
  },
  {
   "cell_type": "code",
   "execution_count": 90,
   "id": "c013e95c",
   "metadata": {},
   "outputs": [
    {
     "data": {
      "image/png": "[encoded data removed]",
      "text/plain": [
       "<Figure size 1008x576 with 1 Axes>"
      ]
     },
     "metadata": {
      "needs_background": "light"
     },
     "output_type": "display_data"
    }
   ],
   "source": [
    "\n",
    "\n",
    "\n",
    "plt.figure(1, figsize=(14, 8))\n",
    "for color, i, target_name in zip(colors[:len(target_labels)], list(range(len(target_labels))), target_labels):\n",
    "    plt.scatter(X_r[y_pred == i, 0], X_r[y_pred == i, 1], color=color, alpha=.8, lw=2,label=target_name)\n",
    "\n",
    "plt.legend(loc='best', shadow=False, scatterpoints=1)\n",
    "plt.legend(bbox_to_anchor=(1.05, 1), loc=2, borderaxespad=0.6)   \n",
    "plt.title(f'PCA of {n_components} Items')\n",
    "plt.show()"
   ]
  },
  {
   "cell_type": "code",
   "execution_count": 91,
   "id": "7e2c397a",
   "metadata": {},
   "outputs": [
    {
     "name": "stdout",
     "output_type": "stream",
     "text": [
      "Explained variance ratio (first two components): [0.21366436 0.16416341]\n"
     ]
    }
   ],
   "source": [
    "print('Explained variance ratio (first two components): %s' % str(pca.explained_variance_ratio_))\n"
   ]
  },
  {
   "cell_type": "code",
   "execution_count": 92,
   "id": "3ef4ee70",
   "metadata": {},
   "outputs": [
    {
     "data": {
      "text/plain": [
       "22"
      ]
     },
     "execution_count": 92,
     "metadata": {},
     "output_type": "execute_result"
    }
   ],
   "source": [
    "x_train.shape[1]"
   ]
  },
  {
   "cell_type": "markdown",
   "id": "3d335465",
   "metadata": {},
   "source": [
    "#### 3.4.1 Finding Optimal N-Components Using Optimal K\n",
    "In order to find the optimal number of components to abstract the feature set into I need to analyze the entire table to find both the total variance and its 95% percentile. The number of components that can reduce variance by 5% is what we'll go with."
   ]
  },
  {
   "cell_type": "code",
   "execution_count": 93,
   "id": "6fcfba99",
   "metadata": {},
   "outputs": [],
   "source": [
    "n_components = x_train.shape[1]\n",
    "pca = PCA(n_components=n_components, random_state = 42)\n",
    "X_r = pca.fit_transform(x_train)"
   ]
  },
  {
   "cell_type": "code",
   "execution_count": 94,
   "id": "aa86d26c",
   "metadata": {},
   "outputs": [
    {
     "name": "stdout",
     "output_type": "stream",
     "text": [
      "Total Variance in our dataset is:  8.139308460531216\n",
      "The 95% variance we want to have is:  7.732343037504656\n",
      "\n",
      "Variance explained with 5 compononets:  6.024868035980395\n",
      "Variance explained with 10 compononets:  7.9419407495405085\n",
      "Variance explained with 15 compononets:  8.115530055048172\n",
      "Variance explained with 20 compononets:  8.139308460531216\n"
     ]
    },
    {
     "data": {
      "image/png": "[encoded data removed]",
      "text/plain": [
       "<Figure size 1008x576 with 1 Axes>"
      ]
     },
     "metadata": {
      "needs_background": "light"
     },
     "output_type": "display_data"
    },
    {
     "name": "stdout",
     "output_type": "stream",
     "text": [
      "The best is 10 components which yields 7.9419407495405085\n"
     ]
    }
   ],
   "source": [
    "\n",
    "total_variance = sum(pca.explained_variance_)\n",
    "print('Total Variance in our dataset is: ', total_variance)\n",
    "var_95 = total_variance * 0.95\n",
    "print('The 95% variance we want to have is: ', var_95)\n",
    "print('')\n",
    "# Creating a df with the components and explained variance\n",
    "a = zip(range(0,n_components), pca.explained_variance_)\n",
    "a = pd.DataFrame(a, columns=['PCA Comp', 'Explained Variance'])\n",
    "\n",
    "# Trying to hit 95%\n",
    "\n",
    "d = 1\n",
    "v = []\n",
    "best = []\n",
    "\n",
    "for i in range(len(a)):\n",
    "    if len(v) > a.shape[0]*.9:\n",
    "        if sum(v[-5:])/5 == v[:-1]:\n",
    "            break\n",
    "    else:\n",
    "        v.append(sum(a['Explained Variance'][0:d]))\n",
    "        if d%5 == 0:\n",
    "            print(f'Variance explained with {d} compononets: ', sum(a['Explained Variance'][0:d]))\n",
    "            if sum(a['Explained Variance'][0:d]) >= var_95:\n",
    "                best.append((d,sum(a['Explained Variance'][0:d])))\n",
    "        d += 1\n",
    "\n",
    "\n",
    "best_c = best[0][0]\n",
    "best_v = best[0][1]\n",
    "\n",
    "\n",
    "# Plotting the Data\n",
    "plt.figure(1, figsize=(14, 8))\n",
    "plt.plot(pca.explained_variance_ratio_, linewidth=2, c='r')\n",
    "plt.xlabel('n_components')\n",
    "plt.ylabel('explained_ratio_')\n",
    "\n",
    "# Plotting line with 95% e.v.\n",
    "plt.axvline(best_c,linestyle=':', label='n_components - 95% explained', c ='blue')\n",
    "plt.legend(prop=dict(size=12))\n",
    "\n",
    "# adding arrow\n",
    "plt.annotate(f'{best_c} eigenvectors used to explain 95% variance', xy=(best_c, pca.explained_variance_ratio_[best_c]), \n",
    "             xytext=(best_c+10, pca.explained_variance_ratio_[5]),\n",
    "            arrowprops=dict(facecolor='blue', shrink=0.05))\n",
    "\n",
    "plt.show()\n",
    "\n",
    "print(f'The best is {best_c} components which yields {best_v}')"
   ]
  },
  {
   "cell_type": "markdown",
   "id": "12b464e6",
   "metadata": {},
   "source": [
    "#### 3.4.2 Rechecking Optimal K Using Optimal N-Components\n",
    "Using PCA with this optimal number of components to add a preprocessing layer to the data before applying KMeans."
   ]
  },
  {
   "cell_type": "code",
   "execution_count": 95,
   "id": "23ff6aea",
   "metadata": {},
   "outputs": [],
   "source": [
    "pca = PCA(n_components=best_c)\n",
    "X_r = pca.fit_transform(x_train)"
   ]
  },
  {
   "cell_type": "code",
   "execution_count": 96,
   "id": "47db8fca",
   "metadata": {},
   "outputs": [
    {
     "name": "stdout",
     "output_type": "stream",
     "text": [
      "The inertia for : 1 Clusters is: 51400.24053102614\n",
      "The inertia for : 2 Clusters is: 43366.1826209774\n",
      "The inertia for : 3 Clusters is: 39455.01905869727\n",
      "The inertia for : 4 Clusters is: 35152.49023229194\n",
      "The inertia for : 5 Clusters is: 33864.13108189321\n",
      "The inertia for : 6 Clusters is: 30738.40503241582\n",
      "The inertia for : 7 Clusters is: 28936.65694055236\n",
      "The inertia for : 8 Clusters is: 27786.77112120177\n",
      "The inertia for : 9 Clusters is: 26833.418437282675\n",
      "The inertia for : 10 Clusters is: 25737.477627646433\n"
     ]
    },
    {
     "data": {
      "image/png": "[encoded data removed]",
      "text/plain": [
       "<Figure size 432x288 with 1 Axes>"
      ]
     },
     "metadata": {
      "needs_background": "light"
     },
     "output_type": "display_data"
    }
   ],
   "source": [
    "inertia = []\n",
    "cs = []\n",
    "n_clusters = [range(1, 11)]\n",
    "for k in range(1, 11):\n",
    "    kmeans = KMeans(n_clusters = k, init = 'k-means++', max_iter = 20, n_init = 4, random_state = 42)\n",
    "    kmeans.fit(X_r)\n",
    "    cs.append(kmeans.inertia_)\n",
    "    if k not in c_dict.keys():\n",
    "        c_dict[k] = kmeans.inertia_\n",
    "\n",
    "    print(\"The inertia for :\", k, \"Clusters is:\", kmeans.inertia_)\n",
    "plt.plot(range(1, 11), cs)\n",
    "plt.title('The Elbow Method')\n",
    "plt.xlabel('Number of clusters')\n",
    "plt.ylabel('Sum of squared distance (Inertia)')\n",
    "plt.title(\"Inertia Plot for k\")\n",
    "plt.show()"
   ]
  },
  {
   "cell_type": "code",
   "execution_count": 97,
   "id": "426c3d7a",
   "metadata": {},
   "outputs": [
    {
     "data": {
      "text/plain": [
       "KMeans(max_iter=20, n_clusters=7, n_init=4, random_state=42)"
      ]
     },
     "execution_count": 97,
     "metadata": {},
     "output_type": "execute_result"
    }
   ],
   "source": [
    "kmeans = KMeans(n_clusters = 7, init = 'k-means++', max_iter = 20, n_init = 4, random_state = 42)\n",
    "kmeans.fit(X_r)"
   ]
  },
  {
   "cell_type": "code",
   "execution_count": 98,
   "metadata": {},
   "outputs": [
    {
     "data": {
      "text/plain": [
       "array([4, 4, 4, ..., 0, 5, 5], dtype=int32)"
      ]
     },
     "execution_count": 98,
     "metadata": {},
     "output_type": "execute_result"
    }
   ],
   "source": [
    "y_pred = kmeans.predict(X_r)\n",
    "y_pred\n"
   ]
  },
  {
   "cell_type": "code",
   "execution_count": 99,
   "id": "88ac03ab",
   "metadata": {},
   "outputs": [
    {
     "data": {
      "text/html": [
       "<div>\n",
       "<style scoped>\n",
       "    .dataframe tbody tr th:only-of-type {\n",
       "        vertical-align: middle;\n",
       "    }\n",
       "\n",
       "    .dataframe tbody tr th {\n",
       "        vertical-align: top;\n",
       "    }\n",
       "\n",
       "    .dataframe thead th {\n",
       "        text-align: right;\n",
       "    }\n",
       "</style>\n",
       "<table border=\"1\" class=\"dataframe\">\n",
       "  <thead>\n",
       "    <tr style=\"text-align: right;\">\n",
       "      <th></th>\n",
       "      <th>tconst</th>\n",
       "      <th>primarytitle</th>\n",
       "      <th>startyear</th>\n",
       "      <th>runtimeminutes</th>\n",
       "      <th>genres</th>\n",
       "      <th>ordering</th>\n",
       "      <th>category</th>\n",
       "      <th>averagerating</th>\n",
       "      <th>numvotes</th>\n",
       "      <th>primaryname</th>\n",
       "      <th>title</th>\n",
       "      <th>name</th>\n",
       "      <th>const</th>\n",
       "      <th>y_pred</th>\n",
       "      <th>cluster</th>\n",
       "    </tr>\n",
       "  </thead>\n",
       "  <tbody>\n",
       "    <tr>\n",
       "      <th>3</th>\n",
       "      <td>tt0096056</td>\n",
       "      <td>Crime and Punishment</td>\n",
       "      <td>2002</td>\n",
       "      <td>126.0</td>\n",
       "      <td>Drama</td>\n",
       "      <td>1</td>\n",
       "      <td>actor</td>\n",
       "      <td>5.7</td>\n",
       "      <td>810</td>\n",
       "      <td>Crispin Glover</td>\n",
       "      <td>1277.0</td>\n",
       "      <td>501.0</td>\n",
       "      <td>0.0</td>\n",
       "      <td>4</td>\n",
       "      <td>4</td>\n",
       "    </tr>\n",
       "    <tr>\n",
       "      <th>9</th>\n",
       "      <td>tt0118852</td>\n",
       "      <td>Chinese Coffee</td>\n",
       "      <td>2000</td>\n",
       "      <td>99.0</td>\n",
       "      <td>Drama</td>\n",
       "      <td>1</td>\n",
       "      <td>actor</td>\n",
       "      <td>7.1</td>\n",
       "      <td>4254</td>\n",
       "      <td>Al Pacino</td>\n",
       "      <td>1125.0</td>\n",
       "      <td>48.0</td>\n",
       "      <td>1.0</td>\n",
       "      <td>4</td>\n",
       "      <td>4</td>\n",
       "    </tr>\n",
       "    <tr>\n",
       "      <th>10</th>\n",
       "      <td>tt0119231</td>\n",
       "      <td>The Junior Defenders</td>\n",
       "      <td>2007</td>\n",
       "      <td>83.0</td>\n",
       "      <td>Comedy</td>\n",
       "      <td>1</td>\n",
       "      <td>actress</td>\n",
       "      <td>4.6</td>\n",
       "      <td>184</td>\n",
       "      <td>Ally Sheedy</td>\n",
       "      <td>5180.0</td>\n",
       "      <td>101.0</td>\n",
       "      <td>2.0</td>\n",
       "      <td>4</td>\n",
       "      <td>4</td>\n",
       "    </tr>\n",
       "    <tr>\n",
       "      <th>14</th>\n",
       "      <td>tt0120824</td>\n",
       "      <td>The Shipping News</td>\n",
       "      <td>2001</td>\n",
       "      <td>111.0</td>\n",
       "      <td>Drama</td>\n",
       "      <td>1</td>\n",
       "      <td>actor</td>\n",
       "      <td>6.7</td>\n",
       "      <td>32853</td>\n",
       "      <td>Kevin Spacey</td>\n",
       "      <td>5533.0</td>\n",
       "      <td>1314.0</td>\n",
       "      <td>3.0</td>\n",
       "      <td>4</td>\n",
       "      <td>4</td>\n",
       "    </tr>\n",
       "    <tr>\n",
       "      <th>15</th>\n",
       "      <td>tt0123581</td>\n",
       "      <td>Burning Down the House</td>\n",
       "      <td>2001</td>\n",
       "      <td>84.0</td>\n",
       "      <td>Comedy</td>\n",
       "      <td>1</td>\n",
       "      <td>actor</td>\n",
       "      <td>4.9</td>\n",
       "      <td>71</td>\n",
       "      <td>John Savage</td>\n",
       "      <td>1006.0</td>\n",
       "      <td>1130.0</td>\n",
       "      <td>4.0</td>\n",
       "      <td>4</td>\n",
       "      <td>4</td>\n",
       "    </tr>\n",
       "    <tr>\n",
       "      <th>...</th>\n",
       "      <td>...</td>\n",
       "      <td>...</td>\n",
       "      <td>...</td>\n",
       "      <td>...</td>\n",
       "      <td>...</td>\n",
       "      <td>...</td>\n",
       "      <td>...</td>\n",
       "      <td>...</td>\n",
       "      <td>...</td>\n",
       "      <td>...</td>\n",
       "      <td>...</td>\n",
       "      <td>...</td>\n",
       "      <td>...</td>\n",
       "      <td>...</td>\n",
       "      <td>...</td>\n",
       "    </tr>\n",
       "    <tr>\n",
       "      <th>23104</th>\n",
       "      <td>tt9892094</td>\n",
       "      <td>Mogul Mowgli</td>\n",
       "      <td>2020</td>\n",
       "      <td>89.0</td>\n",
       "      <td>Drama</td>\n",
       "      <td>1</td>\n",
       "      <td>actor</td>\n",
       "      <td>6.6</td>\n",
       "      <td>2449</td>\n",
       "      <td>Riz Ahmed</td>\n",
       "      <td>3298.0</td>\n",
       "      <td>1995.0</td>\n",
       "      <td>6468.0</td>\n",
       "      <td>2</td>\n",
       "      <td>2</td>\n",
       "    </tr>\n",
       "    <tr>\n",
       "      <th>23105</th>\n",
       "      <td>tt9893084</td>\n",
       "      <td>Italian Studies</td>\n",
       "      <td>2021</td>\n",
       "      <td>81.0</td>\n",
       "      <td>Drama</td>\n",
       "      <td>1</td>\n",
       "      <td>actress</td>\n",
       "      <td>4.8</td>\n",
       "      <td>424</td>\n",
       "      <td>Vanessa Kirby</td>\n",
       "      <td>2630.0</td>\n",
       "      <td>2447.0</td>\n",
       "      <td>6469.0</td>\n",
       "      <td>2</td>\n",
       "      <td>2</td>\n",
       "    </tr>\n",
       "    <tr>\n",
       "      <th>23110</th>\n",
       "      <td>tt9898086</td>\n",
       "      <td>Carol of the Bells</td>\n",
       "      <td>2019</td>\n",
       "      <td>100.0</td>\n",
       "      <td>Drama</td>\n",
       "      <td>1</td>\n",
       "      <td>actor</td>\n",
       "      <td>7.2</td>\n",
       "      <td>90</td>\n",
       "      <td>RJ Mitte</td>\n",
       "      <td>1065.0</td>\n",
       "      <td>1919.0</td>\n",
       "      <td>6470.0</td>\n",
       "      <td>0</td>\n",
       "      <td>0</td>\n",
       "    </tr>\n",
       "    <tr>\n",
       "      <th>23115</th>\n",
       "      <td>tt9900688</td>\n",
       "      <td>Big Three Dragons</td>\n",
       "      <td>2019</td>\n",
       "      <td>111.0</td>\n",
       "      <td>Comedy</td>\n",
       "      <td>1</td>\n",
       "      <td>actress</td>\n",
       "      <td>4.5</td>\n",
       "      <td>29</td>\n",
       "      <td>Ella Chen</td>\n",
       "      <td>799.0</td>\n",
       "      <td>680.0</td>\n",
       "      <td>6471.0</td>\n",
       "      <td>5</td>\n",
       "      <td>5</td>\n",
       "    </tr>\n",
       "    <tr>\n",
       "      <th>23120</th>\n",
       "      <td>tt9904648</td>\n",
       "      <td>The Contrast</td>\n",
       "      <td>2022</td>\n",
       "      <td>82.0</td>\n",
       "      <td>Comedy</td>\n",
       "      <td>1</td>\n",
       "      <td>actor</td>\n",
       "      <td>4.2</td>\n",
       "      <td>18</td>\n",
       "      <td>Lance E. Nichols</td>\n",
       "      <td>4886.0</td>\n",
       "      <td>1365.0</td>\n",
       "      <td>6472.0</td>\n",
       "      <td>5</td>\n",
       "      <td>5</td>\n",
       "    </tr>\n",
       "  </tbody>\n",
       "</table>\n",
       "<p>6473 rows × 15 columns</p>\n",
       "</div>"
      ],
      "text/plain": [
       "          tconst            primarytitle  startyear  runtimeminutes  genres  \\\n",
       "3      tt0096056    Crime and Punishment       2002           126.0   Drama   \n",
       "9      tt0118852          Chinese Coffee       2000            99.0   Drama   \n",
       "10     tt0119231    The Junior Defenders       2007            83.0  Comedy   \n",
       "14     tt0120824       The Shipping News       2001           111.0   Drama   \n",
       "15     tt0123581  Burning Down the House       2001            84.0  Comedy   \n",
       "...          ...                     ...        ...             ...     ...   \n",
       "23104  tt9892094            Mogul Mowgli       2020            89.0   Drama   \n",
       "23105  tt9893084         Italian Studies       2021            81.0   Drama   \n",
       "23110  tt9898086      Carol of the Bells       2019           100.0   Drama   \n",
       "23115  tt9900688       Big Three Dragons       2019           111.0  Comedy   \n",
       "23120  tt9904648            The Contrast       2022            82.0  Comedy   \n",
       "\n",
       "       ordering category  averagerating  numvotes       primaryname   title  \\\n",
       "3             1    actor            5.7       810    Crispin Glover  1277.0   \n",
       "9             1    actor            7.1      4254         Al Pacino  1125.0   \n",
       "10            1  actress            4.6       184       Ally Sheedy  5180.0   \n",
       "14            1    actor            6.7     32853      Kevin Spacey  5533.0   \n",
       "15            1    actor            4.9        71       John Savage  1006.0   \n",
       "...         ...      ...            ...       ...               ...     ...   \n",
       "23104         1    actor            6.6      2449         Riz Ahmed  3298.0   \n",
       "23105         1  actress            4.8       424     Vanessa Kirby  2630.0   \n",
       "23110         1    actor            7.2        90          RJ Mitte  1065.0   \n",
       "23115         1  actress            4.5        29         Ella Chen   799.0   \n",
       "23120         1    actor            4.2        18  Lance E. Nichols  4886.0   \n",
       "\n",
       "         name   const  y_pred  cluster  \n",
       "3       501.0     0.0       4        4  \n",
       "9        48.0     1.0       4        4  \n",
       "10      101.0     2.0       4        4  \n",
       "14     1314.0     3.0       4        4  \n",
       "15     1130.0     4.0       4        4  \n",
       "...       ...     ...     ...      ...  \n",
       "23104  1995.0  6468.0       2        2  \n",
       "23105  2447.0  6469.0       2        2  \n",
       "23110  1919.0  6470.0       0        0  \n",
       "23115   680.0  6471.0       5        5  \n",
       "23120  1365.0  6472.0       5        5  \n",
       "\n",
       "[6473 rows x 15 columns]"
      ]
     },
     "execution_count": 99,
     "metadata": {},
     "output_type": "execute_result"
    }
   ],
   "source": [
    "data['y_pred'] = y_pred\n",
    "data"
   ]
  },
  {
   "cell_type": "code",
   "execution_count": 100,
   "id": "ff4c270c",
   "metadata": {},
   "outputs": [
    {
     "name": "stdout",
     "output_type": "stream",
     "text": [
      "old inertia: 30243.625284539292\n",
      "new inertia: 28936.656940552355\n",
      "change:     1306.9683439869368\n"
     ]
    }
   ],
   "source": [
    "print(f'old inertia: {old_inertia}')\n",
    "print(f'new inertia: {kmeans.inertia_}')\n",
    "print(f'change:     {old_inertia-kmeans.inertia_}')"
   ]
  },
  {
   "cell_type": "code",
   "execution_count": 101,
   "id": "a96b4d3e",
   "metadata": {},
   "outputs": [
    {
     "data": {
      "image/png": "[encoded data removed]",
      "text/plain": [
       "<Figure size 1008x576 with 1 Axes>"
      ]
     },
     "metadata": {
      "needs_background": "light"
     },
     "output_type": "display_data"
    }
   ],
   "source": [
    "labels = set(kmeans.labels_)\n",
    "target_labels = [f'Cluster {x}' for x in labels]\n",
    "target_labels\n",
    "\n",
    "\n",
    "plt.figure(1, figsize=(14, 8))\n",
    "\n",
    "colors = ['navy', 'turquoise', 'darkorange', 'red', 'black','green', 'orange','pink']\n",
    "for color, i, target_name in zip(colors[:len(target_labels)], list(range(len(target_labels))), target_labels):\n",
    "    plt.scatter(X_r[y_pred == i, 0], X_r[y_pred == i, 1], color=color, alpha=.8, lw=2,label=target_name)\n",
    "\n",
    "\n",
    "\n",
    "plt.legend(loc='best', shadow=False, scatterpoints=1)\n",
    "plt.legend(bbox_to_anchor=(1.05, 1), loc=2, borderaxespad=0.6)   \n",
    "plt.title(f'PCA of {best_c} Items')\n",
    "plt.show()\n",
    "\n"
   ]
  },
  {
   "cell_type": "code",
   "execution_count": 102,
   "id": "e282e75a",
   "metadata": {},
   "outputs": [
    {
     "data": {
      "text/plain": [
       "Index(['tconst', 'primarytitle', 'startyear', 'runtimeminutes', 'genres',\n",
       "       'ordering', 'category', 'averagerating', 'numvotes', 'primaryname',\n",
       "       'title', 'name', 'const', 'y_pred', 'cluster'],\n",
       "      dtype='object')"
      ]
     },
     "execution_count": 102,
     "metadata": {},
     "output_type": "execute_result"
    }
   ],
   "source": [
    "data['cluster'] = y_pred\n",
    "cluster_1 = data[data.cluster == 0]\n",
    "cluster_2 = data[data.cluster == 1]\n",
    "cluster_3 = data[data.cluster == 2]\n",
    "cluster_4 = data[data.cluster == 3]\n",
    "cluster_5 = data[data.cluster == 4]\n",
    "data.columns"
   ]
  },
  {
   "cell_type": "code",
   "execution_count": 103,
   "id": "503697f6",
   "metadata": {},
   "outputs": [
    {
     "data": {
      "text/plain": [
       "Drama        670\n",
       "Comedy       232\n",
       "Thriller      71\n",
       "Horror        48\n",
       "Action        24\n",
       "Romance       23\n",
       "Family        16\n",
       "Crime         11\n",
       "Mystery        6\n",
       "Fantasy        6\n",
       "Sci-Fi         5\n",
       "Adventure      3\n",
       "Name: genres, dtype: int64"
      ]
     },
     "execution_count": 103,
     "metadata": {},
     "output_type": "execute_result"
    }
   ],
   "source": [
    "cluster_4.genres.value_counts()"
   ]
  },
  {
   "cell_type": "code",
   "execution_count": null,
   "id": "a674eddb",
   "metadata": {},
   "outputs": [],
   "source": [
    "cluster_5.genres.value_counts()"
   ]
  },
  {
   "cell_type": "code",
   "execution_count": null,
   "id": "9a047732",
   "metadata": {},
   "outputs": [],
   "source": [
    "data.genres.value_counts()"
   ]
  },
  {
   "cell_type": "code",
   "execution_count": null,
   "id": "b7cef1bb",
   "metadata": {},
   "outputs": [],
   "source": [
    "ohe = OneHotEncoder()\n",
    "z = ohe.fit_transform(pd.DataFrame(data.category))\n",
    "pd.DataFrame(z.toarray())\n"
   ]
  },
  {
   "cell_type": "code",
   "execution_count": null,
   "id": "3f7cdf6a",
   "metadata": {},
   "outputs": [],
   "source": []
  }
 ],
 "metadata": {
  "interpreter": {
   "hash": "e2f5eeafb4738538680cc9389be83c7f54c751ee609fa97da0b7e381233777c0"
  },
  "kernelspec": {
   "display_name": "Python 3",
   "language": "python",
   "name": "python3"
  },
  "language_info": {
   "codemirror_mode": {
    "name": "ipython",
    "version": 3
   },
   "file_extension": ".py",
   "mimetype": "text/x-python",
   "name": "python",
   "nbconvert_exporter": "python",
   "pygments_lexer": "ipython3",
   "version": "3.8.5"
  }
 },
 "nbformat": 4,
 "nbformat_minor": 5
}
